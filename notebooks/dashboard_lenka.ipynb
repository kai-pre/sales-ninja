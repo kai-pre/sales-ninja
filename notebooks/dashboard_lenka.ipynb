{
 "cells": [
  {
   "cell_type": "code",
   "execution_count": 2,
   "id": "b0de0eff-de2d-4a27-b744-b1c8f9436e25",
   "metadata": {
    "execution": {
     "iopub.execute_input": "2025-06-03T11:44:40.173937Z",
     "iopub.status.busy": "2025-06-03T11:44:40.173306Z",
     "iopub.status.idle": "2025-06-03T11:44:43.121650Z",
     "shell.execute_reply": "2025-06-03T11:44:43.120242Z",
     "shell.execute_reply.started": "2025-06-03T11:44:40.173902Z"
    }
   },
   "outputs": [],
   "source": [
    "#import libraries\n",
    "import pandas as pd\n",
    "import numpy as np\n",
    "\n",
    "import matplotlib.pyplot as plt\n",
    "import seaborn as sns\n",
    "import plotly.express as px\n",
    "\n",
    "import glob\n",
    "import os"
   ]
  },
  {
   "cell_type": "code",
   "execution_count": 3,
   "id": "a8d36a10-eb54-4149-8ec8-f2b1de110a4e",
   "metadata": {
    "execution": {
     "iopub.execute_input": "2025-06-03T11:44:43.323071Z",
     "iopub.status.busy": "2025-06-03T11:44:43.322009Z",
     "iopub.status.idle": "2025-06-03T11:45:16.259209Z",
     "shell.execute_reply": "2025-06-03T11:45:16.257204Z",
     "shell.execute_reply.started": "2025-06-03T11:44:43.323039Z"
    }
   },
   "outputs": [],
   "source": [
    "data_path = \"/home/lenka/code/kai-pre/sales-ninja/raw_data\"\n",
    "csv_files = glob.glob(os.path.join(data_path, \"*.csv\"))\n",
    "datasets = {}\n",
    "for file in csv_files:\n",
    "    name = os.path.splitext(os.path.basename(file))[0]  \n",
    "    datasets[name] = pd.read_csv(file)"
   ]
  },
  {
   "cell_type": "code",
   "execution_count": 4,
   "id": "61a63403-564c-48da-8f25-3dfcf6bd3f64",
   "metadata": {
    "execution": {
     "iopub.execute_input": "2025-06-03T11:45:16.263120Z",
     "iopub.status.busy": "2025-06-03T11:45:16.262169Z",
     "iopub.status.idle": "2025-06-03T11:45:16.270136Z",
     "shell.execute_reply": "2025-06-03T11:45:16.269070Z",
     "shell.execute_reply.started": "2025-06-03T11:45:16.263093Z"
    }
   },
   "outputs": [],
   "source": [
    "fact_sales = datasets[\"FactSales\"]\n",
    "dim_date = datasets[\"DimDate\"]\n",
    "dim_product = datasets[\"DimProduct\"]\n",
    "fact_online_sales = datasets[\"FactOnlineSales\"]\n",
    "dim_geo = datasets[\"DimGeography\"]\n",
    "dim_promotion = datasets[\"DimPromotion\"]\n",
    "dim_sub_cat = datasets[\"DimProductSubcategory\"]\n",
    "dim_product_cat = datasets[\"DimProductCategory\"]\n",
    "dim_channel =  datasets[\"DimChannel\"]\n",
    "dim_store =  datasets[\"DimStore\"]"
   ]
  },
  {
   "cell_type": "code",
   "execution_count": 6,
   "id": "4b65b547-5578-4ce1-81e7-24f2e27a3ad7",
   "metadata": {
    "execution": {
     "iopub.execute_input": "2025-06-03T11:45:16.311779Z",
     "iopub.status.busy": "2025-06-03T11:45:16.311226Z",
     "iopub.status.idle": "2025-06-03T11:45:16.336425Z",
     "shell.execute_reply": "2025-06-03T11:45:16.335010Z",
     "shell.execute_reply.started": "2025-06-03T11:45:16.311756Z"
    }
   },
   "outputs": [
    {
     "data": {
      "text/html": [
       "<div>\n",
       "<style scoped>\n",
       "    .dataframe tbody tr th:only-of-type {\n",
       "        vertical-align: middle;\n",
       "    }\n",
       "\n",
       "    .dataframe tbody tr th {\n",
       "        vertical-align: top;\n",
       "    }\n",
       "\n",
       "    .dataframe thead th {\n",
       "        text-align: right;\n",
       "    }\n",
       "</style>\n",
       "<table border=\"1\" class=\"dataframe\">\n",
       "  <thead>\n",
       "    <tr style=\"text-align: right;\">\n",
       "      <th></th>\n",
       "      <th>SalesKey</th>\n",
       "      <th>DateKey</th>\n",
       "      <th>channelKey</th>\n",
       "      <th>StoreKey</th>\n",
       "      <th>ProductKey</th>\n",
       "      <th>PromotionKey</th>\n",
       "      <th>CurrencyKey</th>\n",
       "      <th>UnitCost</th>\n",
       "      <th>UnitPrice</th>\n",
       "      <th>SalesQuantity</th>\n",
       "      <th>ReturnQuantity</th>\n",
       "      <th>ReturnAmount</th>\n",
       "      <th>DiscountQuantity</th>\n",
       "      <th>DiscountAmount</th>\n",
       "      <th>TotalCost</th>\n",
       "      <th>SalesAmount</th>\n",
       "    </tr>\n",
       "  </thead>\n",
       "  <tbody>\n",
       "    <tr>\n",
       "      <th>0</th>\n",
       "      <td>1</td>\n",
       "      <td>2007-01-02</td>\n",
       "      <td>1</td>\n",
       "      <td>209</td>\n",
       "      <td>956</td>\n",
       "      <td>10</td>\n",
       "      <td>1</td>\n",
       "      <td>91.05</td>\n",
       "      <td>198.0</td>\n",
       "      <td>8</td>\n",
       "      <td>0</td>\n",
       "      <td>0.0</td>\n",
       "      <td>1</td>\n",
       "      <td>39.600</td>\n",
       "      <td>728.40</td>\n",
       "      <td>1544.400</td>\n",
       "    </tr>\n",
       "    <tr>\n",
       "      <th>1</th>\n",
       "      <td>2</td>\n",
       "      <td>2007-02-12</td>\n",
       "      <td>4</td>\n",
       "      <td>308</td>\n",
       "      <td>766</td>\n",
       "      <td>2</td>\n",
       "      <td>1</td>\n",
       "      <td>10.15</td>\n",
       "      <td>19.9</td>\n",
       "      <td>4</td>\n",
       "      <td>0</td>\n",
       "      <td>0.0</td>\n",
       "      <td>1</td>\n",
       "      <td>0.995</td>\n",
       "      <td>40.60</td>\n",
       "      <td>78.605</td>\n",
       "    </tr>\n",
       "    <tr>\n",
       "      <th>2</th>\n",
       "      <td>3</td>\n",
       "      <td>2008-01-24</td>\n",
       "      <td>1</td>\n",
       "      <td>156</td>\n",
       "      <td>1175</td>\n",
       "      <td>11</td>\n",
       "      <td>1</td>\n",
       "      <td>209.03</td>\n",
       "      <td>410.0</td>\n",
       "      <td>9</td>\n",
       "      <td>0</td>\n",
       "      <td>0.0</td>\n",
       "      <td>3</td>\n",
       "      <td>61.500</td>\n",
       "      <td>1881.27</td>\n",
       "      <td>3628.500</td>\n",
       "    </tr>\n",
       "    <tr>\n",
       "      <th>3</th>\n",
       "      <td>4</td>\n",
       "      <td>2008-01-13</td>\n",
       "      <td>2</td>\n",
       "      <td>306</td>\n",
       "      <td>1429</td>\n",
       "      <td>10</td>\n",
       "      <td>1</td>\n",
       "      <td>132.90</td>\n",
       "      <td>289.0</td>\n",
       "      <td>8</td>\n",
       "      <td>0</td>\n",
       "      <td>0.0</td>\n",
       "      <td>1</td>\n",
       "      <td>57.800</td>\n",
       "      <td>1063.20</td>\n",
       "      <td>2254.200</td>\n",
       "    </tr>\n",
       "    <tr>\n",
       "      <th>4</th>\n",
       "      <td>5</td>\n",
       "      <td>2008-01-22</td>\n",
       "      <td>2</td>\n",
       "      <td>306</td>\n",
       "      <td>1133</td>\n",
       "      <td>10</td>\n",
       "      <td>1</td>\n",
       "      <td>144.52</td>\n",
       "      <td>436.2</td>\n",
       "      <td>24</td>\n",
       "      <td>0</td>\n",
       "      <td>0.0</td>\n",
       "      <td>3</td>\n",
       "      <td>261.720</td>\n",
       "      <td>3468.48</td>\n",
       "      <td>10207.080</td>\n",
       "    </tr>\n",
       "  </tbody>\n",
       "</table>\n",
       "</div>"
      ],
      "text/plain": [
       "   SalesKey     DateKey  channelKey  StoreKey  ProductKey  PromotionKey  \\\n",
       "0         1  2007-01-02           1       209         956            10   \n",
       "1         2  2007-02-12           4       308         766             2   \n",
       "2         3  2008-01-24           1       156        1175            11   \n",
       "3         4  2008-01-13           2       306        1429            10   \n",
       "4         5  2008-01-22           2       306        1133            10   \n",
       "\n",
       "   CurrencyKey  UnitCost  UnitPrice  SalesQuantity  ReturnQuantity  \\\n",
       "0            1     91.05      198.0              8               0   \n",
       "1            1     10.15       19.9              4               0   \n",
       "2            1    209.03      410.0              9               0   \n",
       "3            1    132.90      289.0              8               0   \n",
       "4            1    144.52      436.2             24               0   \n",
       "\n",
       "   ReturnAmount  DiscountQuantity  DiscountAmount  TotalCost  SalesAmount  \n",
       "0           0.0                 1          39.600     728.40     1544.400  \n",
       "1           0.0                 1           0.995      40.60       78.605  \n",
       "2           0.0                 3          61.500    1881.27     3628.500  \n",
       "3           0.0                 1          57.800    1063.20     2254.200  \n",
       "4           0.0                 3         261.720    3468.48    10207.080  "
      ]
     },
     "execution_count": 6,
     "metadata": {},
     "output_type": "execute_result"
    }
   ],
   "source": [
    "fact_sales.head()"
   ]
  },
  {
   "cell_type": "code",
   "execution_count": 7,
   "id": "bd75a7db-8448-4a15-8aeb-67a2eb796fda",
   "metadata": {
    "execution": {
     "iopub.execute_input": "2025-06-03T11:45:20.602654Z",
     "iopub.status.busy": "2025-06-03T11:45:20.601326Z",
     "iopub.status.idle": "2025-06-03T11:45:21.219118Z",
     "shell.execute_reply": "2025-06-03T11:45:21.217518Z",
     "shell.execute_reply.started": "2025-06-03T11:45:20.602600Z"
    }
   },
   "outputs": [],
   "source": [
    "fact_sales = datasets[\"FactSales\"]\n",
    "fact_sales[\"DateKey\"] = pd.to_datetime(fact_sales[\"DateKey\"])\n",
    "datasets[\"DimDate\"][\"DateKey\"] = pd.to_datetime(datasets[\"DimDate\"][\"DateKey\"])\n",
    "fact_sales.rename(columns={\"channelKey\": \"ChannelKey\"}, inplace=True)"
   ]
  },
  {
   "cell_type": "code",
   "execution_count": 8,
   "id": "6d8beffa-5af0-429f-886a-212132e14721",
   "metadata": {
    "execution": {
     "iopub.execute_input": "2025-06-03T11:45:35.301933Z",
     "iopub.status.busy": "2025-06-03T11:45:35.300643Z",
     "iopub.status.idle": "2025-06-03T11:46:04.707458Z",
     "shell.execute_reply": "2025-06-03T11:46:04.706051Z",
     "shell.execute_reply.started": "2025-06-03T11:45:35.301889Z"
    }
   },
   "outputs": [],
   "source": [
    "merged_data = fact_sales.merge(datasets[\"DimDate\"], on=\"DateKey\", how=\"left\")\n",
    "merged_data = merged_data.merge(datasets[\"DimProduct\"], on=\"ProductKey\", how=\"left\")\n",
    "merged_data = merged_data.merge(datasets[\"DimStore\"], on=\"StoreKey\", how=\"left\")\n",
    "merged_data = merged_data.merge(datasets[\"DimProductSubcategory\"], on=\"ProductSubcategoryKey\", how=\"left\")\n",
    "merged_data = merged_data.merge(datasets[\"DimProductCategory\"], on=\"ProductCategoryKey\", how=\"left\")\n",
    "merged_data = merged_data.merge(datasets[\"DimPromotion\"], on=\"PromotionKey\", how=\"left\")\n",
    "merged_data = merged_data.merge(datasets[\"DimChannel\"], on=\"ChannelKey\", how=\"left\")\n",
    "merged_data = merged_data.merge(datasets[\"DimGeography\"], on=\"GeographyKey\", how=\"left\")"
   ]
  },
  {
   "cell_type": "code",
   "execution_count": 10,
   "id": "c064048f-f121-48ce-b221-6536f2c6e245",
   "metadata": {
    "execution": {
     "iopub.execute_input": "2025-06-03T11:46:39.435436Z",
     "iopub.status.busy": "2025-06-03T11:46:39.434311Z",
     "iopub.status.idle": "2025-06-03T11:46:39.447982Z",
     "shell.execute_reply": "2025-06-03T11:46:39.445914Z",
     "shell.execute_reply.started": "2025-06-03T11:46:39.435391Z"
    }
   },
   "outputs": [
    {
     "data": {
      "text/plain": [
       "Index(['SalesKey', 'DateKey', 'ChannelKey', 'StoreKey', 'ProductKey',\n",
       "       'PromotionKey', 'CurrencyKey', 'UnitCost_x', 'UnitPrice_x',\n",
       "       'SalesQuantity', 'ReturnQuantity', 'ReturnAmount', 'DiscountQuantity',\n",
       "       'DiscountAmount', 'TotalCost', 'SalesAmount', 'CalendarYear',\n",
       "       'CalendarYearLabel', 'CalendarHalfYearLabel', 'CalendarQuarterLabel',\n",
       "       'CalendarMonthLabel', 'CalendarWeekLabel', 'CalendarDayOfWeekLabel',\n",
       "       'FiscalYear', 'FiscalYearLabel', 'FiscalHalfYearLabel',\n",
       "       'FiscalQuarterLabel', 'FiscalMonthLabel', 'IsWorkDay', 'IsHoliday',\n",
       "       'EuropeSeason', 'NorthAmericaSeason', 'AsiaSeason', 'MonthNumber',\n",
       "       'CalendarDayOfWeekNumber', 'ProductName', 'ProductDescription',\n",
       "       'ProductSubcategoryKey', 'Manufacturer', 'BrandName', 'ClassID',\n",
       "       'ClassName', 'StyleID', 'StyleName', 'ColorID', 'ColorName', 'Weight',\n",
       "       'WeightUnitMeasureID', 'UnitOfMeasureID', 'UnitOfMeasureName',\n",
       "       'StockTypeID', 'StockTypeName', 'UnitCost_y', 'UnitPrice_y',\n",
       "       'AvailableForSaleDate', 'Status_x', 'GeographyKey', 'StoreManager',\n",
       "       'StoreType', 'StoreName', 'Status_y', 'OpenDate', 'CloseDate',\n",
       "       'EntityKey', 'StorePhone', 'StoreFax', 'CloseReason', 'EmployeeCount',\n",
       "       'SellingAreaSize', 'LastRemodelDate', 'EmployeeKey',\n",
       "       'ProductSubcategoryName', 'ProductCategoryKey', 'ProductCategoryName',\n",
       "       'PromotionName', 'DiscountPercent', 'PromotionType',\n",
       "       'PromotionCategory', 'ChannelName', 'ChannelDescription',\n",
       "       'GeographyType', 'ContinentName', 'CityName', 'StateProvinceName',\n",
       "       'RegionCountryName'],\n",
       "      dtype='object')"
      ]
     },
     "execution_count": 10,
     "metadata": {},
     "output_type": "execute_result"
    }
   ],
   "source": [
    "merged_data.columns"
   ]
  },
  {
   "cell_type": "code",
   "execution_count": 11,
   "id": "9bf8afcf-d551-43b7-bc9f-31e80157af5d",
   "metadata": {
    "execution": {
     "iopub.execute_input": "2025-06-03T11:51:57.269373Z",
     "iopub.status.busy": "2025-06-03T11:51:57.267501Z",
     "iopub.status.idle": "2025-06-03T11:52:00.614341Z",
     "shell.execute_reply": "2025-06-03T11:52:00.612977Z",
     "shell.execute_reply.started": "2025-06-03T11:51:57.269292Z"
    }
   },
   "outputs": [],
   "source": [
    "#get rid of duplicates\n",
    "merged_data = merged_data.loc[:, ~merged_data.columns.str.endswith('_y')]\n",
    "merged_data.columns = [col.replace('_x', '') if col.endswith('_x') else col for col in merged_data.columns]"
   ]
  },
  {
   "cell_type": "code",
   "execution_count": 12,
   "id": "fc5b5ae8-e5bb-441c-9857-a023626243e3",
   "metadata": {
    "execution": {
     "iopub.execute_input": "2025-06-03T11:52:25.451241Z",
     "iopub.status.busy": "2025-06-03T11:52:25.449661Z",
     "iopub.status.idle": "2025-06-03T11:52:25.462067Z",
     "shell.execute_reply": "2025-06-03T11:52:25.460322Z",
     "shell.execute_reply.started": "2025-06-03T11:52:25.451184Z"
    }
   },
   "outputs": [
    {
     "data": {
      "text/plain": [
       "Index(['SalesKey', 'DateKey', 'ChannelKey', 'StoreKey', 'ProductKey',\n",
       "       'PromotionKey', 'CurrencyKey', 'UnitCost', 'UnitPrice', 'SalesQuantity',\n",
       "       'ReturnQuantity', 'ReturnAmount', 'DiscountQuantity', 'DiscountAmount',\n",
       "       'TotalCost', 'SalesAmount', 'CalendarYear', 'CalendarYearLabel',\n",
       "       'CalendarHalfYearLabel', 'CalendarQuarterLabel', 'CalendarMonthLabel',\n",
       "       'CalendarWeekLabel', 'CalendarDayOfWeekLabel', 'FiscalYear',\n",
       "       'FiscalYearLabel', 'FiscalHalfYearLabel', 'FiscalQuarterLabel',\n",
       "       'FiscalMonthLabel', 'IsWorkDay', 'IsHoliday', 'EuropeSeason',\n",
       "       'NorthAmericaSeason', 'AsiaSeason', 'MonthNumber',\n",
       "       'CalendarDayOfWeekNumber', 'ProductName', 'ProductDescription',\n",
       "       'ProductSubcategoryKey', 'Manufacturer', 'BrandName', 'ClassID',\n",
       "       'ClassName', 'StyleID', 'StyleName', 'ColorID', 'ColorName', 'Weight',\n",
       "       'WeightUnitMeasureID', 'UnitOfMeasureID', 'UnitOfMeasureName',\n",
       "       'StockTypeID', 'StockTypeName', 'AvailableForSaleDate', 'Status',\n",
       "       'GeographyKey', 'StoreManager', 'StoreType', 'StoreName', 'OpenDate',\n",
       "       'CloseDate', 'EntityKey', 'StorePhone', 'StoreFax', 'CloseReason',\n",
       "       'EmployeeCount', 'SellingAreaSize', 'LastRemodelDate', 'EmployeeKey',\n",
       "       'ProductSubcategoryName', 'ProductCategoryKey', 'ProductCategoryName',\n",
       "       'PromotionName', 'DiscountPercent', 'PromotionType',\n",
       "       'PromotionCategory', 'ChannelName', 'ChannelDescription',\n",
       "       'GeographyType', 'ContinentName', 'CityName', 'StateProvinceName',\n",
       "       'RegionCountryName'],\n",
       "      dtype='object')"
      ]
     },
     "execution_count": 12,
     "metadata": {},
     "output_type": "execute_result"
    }
   ],
   "source": [
    "merged_data.columns\n"
   ]
  },
  {
   "cell_type": "code",
   "execution_count": 13,
   "id": "4d4d43a2-eaef-41ab-88e6-ae6440826a69",
   "metadata": {
    "execution": {
     "iopub.execute_input": "2025-06-03T12:09:04.516305Z",
     "iopub.status.busy": "2025-06-03T12:09:04.515185Z",
     "iopub.status.idle": "2025-06-03T12:09:05.148373Z",
     "shell.execute_reply": "2025-06-03T12:09:05.146298Z",
     "shell.execute_reply.started": "2025-06-03T12:09:04.516262Z"
    }
   },
   "outputs": [],
   "source": [
    "#KPI Revenue\n",
    "quarterly_revenue = merged_data.groupby(\"CalendarQuarterLabel\")[\"SalesAmount\"].sum().reset_index()\n",
    "quarterly_revenue.columns = [\"Quarter\", \"TotalRevenue\"]"
   ]
  },
  {
   "cell_type": "code",
   "execution_count": 15,
   "id": "8a98d1c0-29fb-4deb-a479-aa4b8d489481",
   "metadata": {
    "execution": {
     "iopub.execute_input": "2025-06-03T12:11:45.280764Z",
     "iopub.status.busy": "2025-06-03T12:11:45.279641Z",
     "iopub.status.idle": "2025-06-03T12:11:46.063647Z",
     "shell.execute_reply": "2025-06-03T12:11:46.062013Z",
     "shell.execute_reply.started": "2025-06-03T12:11:45.280725Z"
    }
   },
   "outputs": [],
   "source": [
    "#KPI Revenue\n",
    "monthly_revenue = merged_data.groupby([\"MonthNumber\", \"CalendarMonthLabel\"])[\"SalesAmount\"].sum().reset_index()\n",
    "monthly_revenue = monthly_revenue.sort_values(\"MonthNumber\")\n",
    "monthly_revenue.columns = [\"MonthNumber\", \"Month\", \"TotalRevenue\"]"
   ]
  },
  {
   "cell_type": "code",
   "execution_count": 16,
   "id": "aa70d648-975b-4f81-ab4a-13eea74f18d5",
   "metadata": {
    "execution": {
     "iopub.execute_input": "2025-06-03T12:13:28.419079Z",
     "iopub.status.busy": "2025-06-03T12:13:28.417844Z",
     "iopub.status.idle": "2025-06-03T12:13:28.564984Z",
     "shell.execute_reply": "2025-06-03T12:13:28.561470Z",
     "shell.execute_reply.started": "2025-06-03T12:13:28.419024Z"
    }
   },
   "outputs": [],
   "source": [
    "#KPI Revenue\n",
    "daily_revenue = merged_data.groupby(\"DateKey\")[\"SalesAmount\"].sum().reset_index()\n",
    "daily_revenue.columns = [\"Date\", \"TotalRevenue\"]"
   ]
  },
  {
   "cell_type": "code",
   "execution_count": 18,
   "id": "8a919423-8fa6-48d9-aec5-8a854bc0aec0",
   "metadata": {
    "execution": {
     "iopub.execute_input": "2025-06-03T12:22:19.849110Z",
     "iopub.status.busy": "2025-06-03T12:22:19.847392Z",
     "iopub.status.idle": "2025-06-03T12:22:20.606735Z",
     "shell.execute_reply": "2025-06-03T12:22:20.604796Z",
     "shell.execute_reply.started": "2025-06-03T12:22:19.849060Z"
    }
   },
   "outputs": [],
   "source": [
    "#KPI Net Sales\n",
    "merged_data[\"NetSales\"] = (\n",
    "    merged_data[\"SalesAmount\"]\n",
    "    - merged_data[\"ReturnAmount\"]\n",
    "    - merged_data[\"DiscountAmount\"]\n",
    ")\n",
    "#daily \n",
    "daily_net_sales = (\n",
    "    merged_data.groupby(\"DateKey\")[\"NetSales\"]\n",
    "    .sum()\n",
    "    .reset_index()\n",
    "    .rename(columns={\"DateKey\": \"Date\"})\n",
    ")\n",
    "#monthly\n",
    "monthly_net_sales = (\n",
    "    merged_data.groupby([\"CalendarYear\", \"MonthNumber\", \"CalendarMonthLabel\"])[\"NetSales\"]\n",
    "    .sum()\n",
    "    .reset_index()\n",
    "    .sort_values([\"CalendarYear\", \"MonthNumber\"])\n",
    ")\n",
    "#quarterly\n",
    "quarterly_net_sales = (\n",
    "    merged_data.groupby([\"CalendarYear\", \"CalendarQuarterLabel\"])[\"NetSales\"]\n",
    "    .sum()\n",
    "    .reset_index()\n",
    "    .sort_values([\"CalendarYear\", \"CalendarQuarterLabel\"])\n",
    ")"
   ]
  },
  {
   "cell_type": "code",
   "execution_count": 20,
   "id": "b6963432-3a46-482c-8169-8824bcc93d4f",
   "metadata": {
    "execution": {
     "iopub.execute_input": "2025-06-03T12:26:09.683462Z",
     "iopub.status.busy": "2025-06-03T12:26:09.682295Z",
     "iopub.status.idle": "2025-06-03T12:26:10.620729Z",
     "shell.execute_reply": "2025-06-03T12:26:10.617960Z",
     "shell.execute_reply.started": "2025-06-03T12:26:09.683425Z"
    }
   },
   "outputs": [],
   "source": [
    "#KPI Total Cost daily\n",
    "daily_costs = (\n",
    "    merged_data.groupby(\"DateKey\")[\"TotalCost\"]\n",
    "    .sum()\n",
    "    .reset_index()\n",
    "    .rename(columns={\"DateKey\": \"Date\"})\n",
    ")\n",
    "#KPI Total Cost monthly\n",
    "monthly_costs = (\n",
    "    merged_data.groupby([\"CalendarYear\", \"MonthNumber\", \"CalendarMonthLabel\"])[\"TotalCost\"]\n",
    "    .sum()\n",
    "    .reset_index()\n",
    "    .sort_values([\"CalendarYear\", \"MonthNumber\"])\n",
    ")\n",
    "#KPI Total Cost quarterly\n",
    "quarterly_costs = (\n",
    "    merged_data.groupby([\"CalendarYear\", \"CalendarQuarterLabel\"])[\"TotalCost\"]\n",
    "    .sum()\n",
    "    .reset_index()\n",
    "    .sort_values([\"CalendarYear\", \"CalendarQuarterLabel\"])\n",
    ")"
   ]
  },
  {
   "cell_type": "code",
   "execution_count": null,
   "id": "c882f7b6-d2e1-4417-9dcf-38afcb20a259",
   "metadata": {},
   "outputs": [],
   "source": []
  }
 ],
 "metadata": {
  "kernelspec": {
   "display_name": "Python 3 (ipykernel)",
   "language": "python",
   "name": "python3"
  },
  "language_info": {
   "codemirror_mode": {
    "name": "ipython",
    "version": 3
   },
   "file_extension": ".py",
   "mimetype": "text/x-python",
   "name": "python",
   "nbconvert_exporter": "python",
   "pygments_lexer": "ipython3",
   "version": "3.10.6"
  }
 },
 "nbformat": 4,
 "nbformat_minor": 5
}
