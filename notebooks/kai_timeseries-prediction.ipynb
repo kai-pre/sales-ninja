{
 "cells": [
  {
   "cell_type": "markdown",
   "id": "040b326d-0952-4c4f-9fed-24ef2d4b3069",
   "metadata": {},
   "source": [
    "Sketch for prediction of SalesAmount\n",
    "==="
   ]
  },
  {
   "cell_type": "markdown",
   "id": "6b5e1070-fb25-4cca-aff0-1b45f0c2d0cd",
   "metadata": {
    "execution": {
     "iopub.execute_input": "2025-06-03T12:42:11.959680Z",
     "iopub.status.busy": "2025-06-03T12:42:11.959277Z",
     "iopub.status.idle": "2025-06-03T12:42:11.966982Z",
     "shell.execute_reply": "2025-06-03T12:42:11.965488Z",
     "shell.execute_reply.started": "2025-06-03T12:42:11.959644Z"
    }
   },
   "source": [
    "# Setup"
   ]
  },
  {
   "cell_type": "code",
   "execution_count": 1,
   "id": "3e5533cc-55a8-496f-9dc4-5c05f49e0e3f",
   "metadata": {
    "execution": {
     "iopub.execute_input": "2025-06-07T19:26:17.715116Z",
     "iopub.status.busy": "2025-06-07T19:26:17.714253Z",
     "iopub.status.idle": "2025-06-07T19:26:22.051362Z",
     "shell.execute_reply": "2025-06-07T19:26:22.049721Z",
     "shell.execute_reply.started": "2025-06-07T19:26:17.715077Z"
    }
   },
   "outputs": [],
   "source": [
    "##### loads a GPU-accelerated version of pandas, disable if this makes any problems!!\n",
    "\n",
    "%load_ext cudf.pandas"
   ]
  },
  {
   "cell_type": "code",
   "execution_count": 50,
   "id": "30f0cf45-3378-4326-bd87-5d1a6431794d",
   "metadata": {
    "execution": {
     "iopub.execute_input": "2025-06-07T19:46:56.951320Z",
     "iopub.status.busy": "2025-06-07T19:46:56.949943Z",
     "iopub.status.idle": "2025-06-07T19:46:56.961442Z",
     "shell.execute_reply": "2025-06-07T19:46:56.958071Z",
     "shell.execute_reply.started": "2025-06-07T19:46:56.951205Z"
    }
   },
   "outputs": [],
   "source": [
    "import pandas as pd\n",
    "import numpy as np\n",
    "import seaborn as sns\n",
    "import matplotlib.pyplot as plt\n",
    "\n",
    "from sklearn.model_selection import cross_validate, cross_val_score, train_test_split, GridSearchCV, learning_curve, LearningCurveDisplay\n",
    "from sklearn.ensemble import RandomForestRegressor, BaggingClassifier, BaggingRegressor\n",
    "from sklearn.neighbors import KNeighborsRegressor\n",
    "from sklearn.compose import ColumnTransformer, make_column_transformer, make_column_selector\n",
    "from sklearn.pipeline import Pipeline\n",
    "from sklearn.preprocessing import StandardScaler, RobustScaler, MinMaxScaler\n",
    "from sklearn.tree import DecisionTreeRegressor\n",
    "from sklearn.metrics import mean_squared_error, mean_absolute_error\n",
    "\n",
    "from xgboost import XGBRegressor\n",
    "\n",
    "from os import path"
   ]
  },
  {
   "cell_type": "markdown",
   "id": "149d73fb-6545-4687-b7fc-8994580a6d6b",
   "metadata": {},
   "source": [
    "# Loading Data"
   ]
  },
  {
   "cell_type": "code",
   "execution_count": 3,
   "id": "b77d9e8d-9c36-4022-9b15-563aad70643f",
   "metadata": {
    "execution": {
     "iopub.execute_input": "2025-06-07T19:26:23.610116Z",
     "iopub.status.busy": "2025-06-07T19:26:23.607090Z",
     "iopub.status.idle": "2025-06-07T19:26:23.953202Z",
     "shell.execute_reply": "2025-06-07T19:26:23.951740Z",
     "shell.execute_reply.started": "2025-06-07T19:26:23.610016Z"
    }
   },
   "outputs": [
    {
     "data": {
      "text/plain": [
       "array([2652441, 2865114,  591637, ..., 3303443,  848129, 1362939])"
      ]
     },
     "execution_count": 3,
     "metadata": {},
     "output_type": "execute_result"
    }
   ],
   "source": [
    "### Load less data for now to try and avoid crashes\n",
    "skipratio = 0.8 # elements to skip\n",
    "\n",
    "skipsize = int(3406088 * skipratio)\n",
    "skipindices = np.random.choice(np.arange(1,3406088), (skipsize), replace = False)\n",
    "skipindices"
   ]
  },
  {
   "cell_type": "code",
   "execution_count": 17,
   "id": "2b467b51-2f42-4635-a15d-17292005b885",
   "metadata": {
    "execution": {
     "iopub.execute_input": "2025-06-07T19:29:26.235851Z",
     "iopub.status.busy": "2025-06-07T19:29:26.234994Z",
     "iopub.status.idle": "2025-06-07T19:29:42.071746Z",
     "shell.execute_reply": "2025-06-07T19:29:42.070359Z",
     "shell.execute_reply.started": "2025-06-07T19:29:26.235810Z"
    }
   },
   "outputs": [
    {
     "name": "stdout",
     "output_type": "stream",
     "text": [
      "(681219, 40)\n"
     ]
    },
    {
     "data": {
      "text/html": [
       "<div>\n",
       "<style scoped>\n",
       "    .dataframe tbody tr th:only-of-type {\n",
       "        vertical-align: middle;\n",
       "    }\n",
       "\n",
       "    .dataframe tbody tr th {\n",
       "        vertical-align: top;\n",
       "    }\n",
       "\n",
       "    .dataframe thead th {\n",
       "        text-align: right;\n",
       "    }\n",
       "</style>\n",
       "<table border=\"1\" class=\"dataframe\">\n",
       "  <thead>\n",
       "    <tr style=\"text-align: right;\">\n",
       "      <th></th>\n",
       "      <th>DateKey</th>\n",
       "      <th>channelKey</th>\n",
       "      <th>StoreKey</th>\n",
       "      <th>ProductKey</th>\n",
       "      <th>PromotionKey</th>\n",
       "      <th>UnitCost</th>\n",
       "      <th>UnitPrice</th>\n",
       "      <th>SalesQuantity</th>\n",
       "      <th>ReturnQuantity</th>\n",
       "      <th>ReturnAmount</th>\n",
       "      <th>...</th>\n",
       "      <th>ProductCategoryKey</th>\n",
       "      <th>GeographyKey</th>\n",
       "      <th>StoreType</th>\n",
       "      <th>EmployeeCount</th>\n",
       "      <th>SellingAreaSize</th>\n",
       "      <th>GeographyType</th>\n",
       "      <th>ContinentName</th>\n",
       "      <th>CityName</th>\n",
       "      <th>StateProvinceName</th>\n",
       "      <th>RegionCountryName</th>\n",
       "    </tr>\n",
       "    <tr>\n",
       "      <th>SalesKey</th>\n",
       "      <th></th>\n",
       "      <th></th>\n",
       "      <th></th>\n",
       "      <th></th>\n",
       "      <th></th>\n",
       "      <th></th>\n",
       "      <th></th>\n",
       "      <th></th>\n",
       "      <th></th>\n",
       "      <th></th>\n",
       "      <th></th>\n",
       "      <th></th>\n",
       "      <th></th>\n",
       "      <th></th>\n",
       "      <th></th>\n",
       "      <th></th>\n",
       "      <th></th>\n",
       "      <th></th>\n",
       "      <th></th>\n",
       "      <th></th>\n",
       "      <th></th>\n",
       "    </tr>\n",
       "  </thead>\n",
       "  <tbody>\n",
       "    <tr>\n",
       "      <th>8</th>\n",
       "      <td>2008-04-10</td>\n",
       "      <td>2</td>\n",
       "      <td>307</td>\n",
       "      <td>138</td>\n",
       "      <td>15</td>\n",
       "      <td>229.93</td>\n",
       "      <td>499.99</td>\n",
       "      <td>9</td>\n",
       "      <td>0</td>\n",
       "      <td>0.0</td>\n",
       "      <td>...</td>\n",
       "      <td>2.0</td>\n",
       "      <td>710</td>\n",
       "      <td>Online</td>\n",
       "      <td>8</td>\n",
       "      <td>93800</td>\n",
       "      <td>City</td>\n",
       "      <td>Asia</td>\n",
       "      <td>Beijing</td>\n",
       "      <td>Beijing</td>\n",
       "      <td>China</td>\n",
       "    </tr>\n",
       "    <tr>\n",
       "      <th>13</th>\n",
       "      <td>2007-07-25</td>\n",
       "      <td>1</td>\n",
       "      <td>171</td>\n",
       "      <td>739</td>\n",
       "      <td>3</td>\n",
       "      <td>78.19</td>\n",
       "      <td>236.00</td>\n",
       "      <td>12</td>\n",
       "      <td>0</td>\n",
       "      <td>0.0</td>\n",
       "      <td>...</td>\n",
       "      <td>3.0</td>\n",
       "      <td>932</td>\n",
       "      <td>Store</td>\n",
       "      <td>25</td>\n",
       "      <td>700</td>\n",
       "      <td>City</td>\n",
       "      <td>North America</td>\n",
       "      <td>South Portland</td>\n",
       "      <td>Maine</td>\n",
       "      <td>United States</td>\n",
       "    </tr>\n",
       "    <tr>\n",
       "      <th>14</th>\n",
       "      <td>2008-12-16</td>\n",
       "      <td>1</td>\n",
       "      <td>16</td>\n",
       "      <td>1269</td>\n",
       "      <td>13</td>\n",
       "      <td>25.47</td>\n",
       "      <td>49.96</td>\n",
       "      <td>13</td>\n",
       "      <td>0</td>\n",
       "      <td>0.0</td>\n",
       "      <td>...</td>\n",
       "      <td>4.0</td>\n",
       "      <td>627</td>\n",
       "      <td>Store</td>\n",
       "      <td>17</td>\n",
       "      <td>462</td>\n",
       "      <td>City</td>\n",
       "      <td>North America</td>\n",
       "      <td>Everett</td>\n",
       "      <td>Washington</td>\n",
       "      <td>United States</td>\n",
       "    </tr>\n",
       "    <tr>\n",
       "      <th>22</th>\n",
       "      <td>2008-02-29</td>\n",
       "      <td>1</td>\n",
       "      <td>155</td>\n",
       "      <td>189</td>\n",
       "      <td>11</td>\n",
       "      <td>58.36</td>\n",
       "      <td>126.90</td>\n",
       "      <td>9</td>\n",
       "      <td>0</td>\n",
       "      <td>0.0</td>\n",
       "      <td>...</td>\n",
       "      <td>2.0</td>\n",
       "      <td>832</td>\n",
       "      <td>Store</td>\n",
       "      <td>25</td>\n",
       "      <td>700</td>\n",
       "      <td>City</td>\n",
       "      <td>North America</td>\n",
       "      <td>Framingham</td>\n",
       "      <td>Massachusetts</td>\n",
       "      <td>United States</td>\n",
       "    </tr>\n",
       "    <tr>\n",
       "      <th>33</th>\n",
       "      <td>2009-01-25</td>\n",
       "      <td>1</td>\n",
       "      <td>178</td>\n",
       "      <td>824</td>\n",
       "      <td>20</td>\n",
       "      <td>6.07</td>\n",
       "      <td>11.90</td>\n",
       "      <td>18</td>\n",
       "      <td>0</td>\n",
       "      <td>0.0</td>\n",
       "      <td>...</td>\n",
       "      <td>3.0</td>\n",
       "      <td>864</td>\n",
       "      <td>Store</td>\n",
       "      <td>25</td>\n",
       "      <td>700</td>\n",
       "      <td>City</td>\n",
       "      <td>North America</td>\n",
       "      <td>Litchfield County</td>\n",
       "      <td>Connecticut</td>\n",
       "      <td>United States</td>\n",
       "    </tr>\n",
       "  </tbody>\n",
       "</table>\n",
       "<p>5 rows × 40 columns</p>\n",
       "</div>"
      ],
      "text/plain": [
       "            DateKey  channelKey  StoreKey  ProductKey  PromotionKey  UnitCost  \\\n",
       "SalesKey                                                                        \n",
       "8        2008-04-10           2       307         138            15    229.93   \n",
       "13       2007-07-25           1       171         739             3     78.19   \n",
       "14       2008-12-16           1        16        1269            13     25.47   \n",
       "22       2008-02-29           1       155         189            11     58.36   \n",
       "33       2009-01-25           1       178         824            20      6.07   \n",
       "\n",
       "          UnitPrice  SalesQuantity  ReturnQuantity  ReturnAmount  ...  \\\n",
       "SalesKey                                                          ...   \n",
       "8            499.99              9               0           0.0  ...   \n",
       "13           236.00             12               0           0.0  ...   \n",
       "14            49.96             13               0           0.0  ...   \n",
       "22           126.90              9               0           0.0  ...   \n",
       "33            11.90             18               0           0.0  ...   \n",
       "\n",
       "          ProductCategoryKey  GeographyKey  StoreType EmployeeCount  \\\n",
       "SalesKey                                                              \n",
       "8                        2.0           710     Online             8   \n",
       "13                       3.0           932      Store            25   \n",
       "14                       4.0           627      Store            17   \n",
       "22                       2.0           832      Store            25   \n",
       "33                       3.0           864      Store            25   \n",
       "\n",
       "          SellingAreaSize  GeographyType  ContinentName           CityName  \\\n",
       "SalesKey                                                                     \n",
       "8                   93800           City           Asia            Beijing   \n",
       "13                    700           City  North America     South Portland   \n",
       "14                    462           City  North America            Everett   \n",
       "22                    700           City  North America         Framingham   \n",
       "33                    700           City  North America  Litchfield County   \n",
       "\n",
       "         StateProvinceName RegionCountryName  \n",
       "SalesKey                                      \n",
       "8                  Beijing             China  \n",
       "13                   Maine     United States  \n",
       "14              Washington     United States  \n",
       "22           Massachusetts     United States  \n",
       "33             Connecticut     United States  \n",
       "\n",
       "[5 rows x 40 columns]"
      ]
     },
     "execution_count": 17,
     "metadata": {},
     "output_type": "execute_result"
    }
   ],
   "source": [
    "### For now, let's work with the dataset prepared by Nishi\n",
    "data = pd.read_csv(\"../merged_data/data_ml_merged.csv\", header = 0, skiprows = skipindices)\n",
    "\n",
    "data.set_index(['SalesKey'], inplace=True)\n",
    "data['DateKey'] = pd.to_datetime(data['DateKey'], infer_datetime_format=True)\n",
    "\n",
    "\n",
    "print(data.shape)\n",
    "data.head()"
   ]
  },
  {
   "cell_type": "code",
   "execution_count": 5,
   "id": "841bb9eb-90e1-4dc9-ba68-aeeba29e67fc",
   "metadata": {
    "execution": {
     "iopub.execute_input": "2025-06-07T18:06:11.741026Z",
     "iopub.status.busy": "2025-06-07T18:06:11.740085Z",
     "iopub.status.idle": "2025-06-07T18:06:13.172000Z",
     "shell.execute_reply": "2025-06-07T18:06:13.170463Z",
     "shell.execute_reply.started": "2025-06-07T18:06:11.740986Z"
    }
   },
   "outputs": [
    {
     "data": {
      "text/plain": [
       "array(['Q1', 'Q4', 'Q2', 'Q3'], dtype=object)"
      ]
     },
     "execution_count": 5,
     "metadata": {},
     "output_type": "execute_result"
    }
   ],
   "source": [
    "data.CalendarQuarterLabel.unique()"
   ]
  },
  {
   "cell_type": "code",
   "execution_count": 6,
   "id": "0b508303-7d46-444a-93bc-92bdfec03274",
   "metadata": {
    "execution": {
     "iopub.execute_input": "2025-06-07T18:06:13.175649Z",
     "iopub.status.busy": "2025-06-07T18:06:13.174934Z",
     "iopub.status.idle": "2025-06-07T18:06:14.267300Z",
     "shell.execute_reply": "2025-06-07T18:06:14.265865Z",
     "shell.execute_reply.started": "2025-06-07T18:06:13.175611Z"
    }
   },
   "outputs": [
    {
     "data": {
      "text/plain": [
       "<bound method Series.min of SalesKey\n",
       "2         2007-02-12\n",
       "14        2008-12-16\n",
       "17        2008-02-19\n",
       "25        2007-06-06\n",
       "26        2007-12-10\n",
       "             ...    \n",
       "3406074   2009-09-29\n",
       "3406079   2007-04-15\n",
       "3406080   2008-01-29\n",
       "3406088   2007-02-04\n",
       "3406089   2009-08-05\n",
       "Name: DateKey, Length: 681219, dtype: datetime64[ns]>"
      ]
     },
     "execution_count": 6,
     "metadata": {},
     "output_type": "execute_result"
    }
   ],
   "source": [
    "data.DateKey.min"
   ]
  },
  {
   "cell_type": "code",
   "execution_count": 7,
   "id": "a36d7560-8461-428a-82d7-a37b4f996f35",
   "metadata": {
    "execution": {
     "iopub.execute_input": "2025-06-07T18:06:14.269795Z",
     "iopub.status.busy": "2025-06-07T18:06:14.268701Z",
     "iopub.status.idle": "2025-06-07T18:06:15.343741Z",
     "shell.execute_reply": "2025-06-07T18:06:15.342303Z",
     "shell.execute_reply.started": "2025-06-07T18:06:14.269755Z"
    }
   },
   "outputs": [
    {
     "data": {
      "text/plain": [
       "Index(['DateKey', 'channelKey', 'StoreKey', 'ProductKey', 'PromotionKey',\n",
       "       'UnitCost', 'UnitPrice', 'SalesQuantity', 'ReturnQuantity',\n",
       "       'ReturnAmount', 'DiscountQuantity', 'DiscountAmount', 'TotalCost',\n",
       "       'SalesAmount', 'DiscountPercent', 'CalendarYear',\n",
       "       'CalendarQuarterLabel', 'CalendarWeekLabel', 'IsWorkDay', 'IsHoliday',\n",
       "       'MonthNumber', 'CalendarDayOfWeekNumber', 'ProductSubcategoryKey',\n",
       "       'BrandName', 'ClassID', 'StyleID', 'ColorID', 'Weight',\n",
       "       'WeightUnitMeasureID', 'StockTypeID', 'ProductCategoryKey',\n",
       "       'GeographyKey', 'StoreType', 'EmployeeCount', 'SellingAreaSize',\n",
       "       'GeographyType', 'ContinentName', 'CityName', 'StateProvinceName',\n",
       "       'RegionCountryName'],\n",
       "      dtype='object')"
      ]
     },
     "execution_count": 7,
     "metadata": {},
     "output_type": "execute_result"
    }
   ],
   "source": [
    "data.columns"
   ]
  },
  {
   "cell_type": "markdown",
   "id": "0de646ee-0b7a-4631-a59e-2d0169f156b5",
   "metadata": {},
   "source": [
    "# Pre-processing"
   ]
  },
  {
   "cell_type": "markdown",
   "id": "d5be343a-51a8-4161-b429-b852b5253dc3",
   "metadata": {},
   "source": [
    "## Transform select features (i.e., unify weight feature with WeightUnitMeasureID information)"
   ]
  },
  {
   "cell_type": "markdown",
   "id": "d86ffe39-ee7e-42f6-a09a-b2d1a3d67ccb",
   "metadata": {},
   "source": [
    "## Scaling and Encoding of select scales"
   ]
  },
  {
   "cell_type": "code",
   "execution_count": 10,
   "id": "7db2e81c-1bd2-4d7c-950a-e88e70ac2077",
   "metadata": {
    "execution": {
     "iopub.execute_input": "2025-06-07T19:27:52.822584Z",
     "iopub.status.busy": "2025-06-07T19:27:52.821829Z",
     "iopub.status.idle": "2025-06-07T19:28:12.396083Z",
     "shell.execute_reply": "2025-06-07T19:28:12.394577Z",
     "shell.execute_reply.started": "2025-06-07T19:27:52.822548Z"
    }
   },
   "outputs": [
    {
     "name": "stdout",
     "output_type": "stream",
     "text": [
      "(300518, 26) (128794, 26) (183992, 26) (300518,) (128794,) (183992,)\n"
     ]
    },
    {
     "name": "stderr",
     "output_type": "stream",
     "text": [
      "/home/kai/.pyenv/versions/3.10.6/envs/sales-ninja/lib/python3.10/site-packages/sklearn/base.py:458: UserWarning: X has feature names, but RobustScaler was fitted without feature names\n",
      "  warnings.warn(\n",
      "/home/kai/.pyenv/versions/3.10.6/envs/sales-ninja/lib/python3.10/site-packages/sklearn/base.py:458: UserWarning: X has feature names, but RobustScaler was fitted without feature names\n",
      "  warnings.warn(\n"
     ]
    }
   ],
   "source": [
    "##### Dummy preprocessing\n",
    "preprocessor = make_column_transformer([RobustScaler(), make_column_selector(dtype_include = \"number\")])\n",
    "\n",
    "# Only focus on numeric columns for now\n",
    "data = data.dropna()\n",
    "data = data.select_dtypes(include='number')\n",
    "\n",
    "#####\n",
    "\n",
    "X = data.drop(columns = [\"SalesAmount\"])\n",
    "y = data[\"SalesAmount\"]\n",
    "\n",
    "X_train, X_test, y_train, y_test = train_test_split(X, y, test_size = 0.3, shuffle = False)\n",
    "X_train, X_val, y_train, y_val = train_test_split(X_train, y_train, test_size = 0.3, shuffle = False)\n",
    "\n",
    "print(X_train.shape, X_val.shape, X_test.shape, y_train.shape, y_val.shape, y_test.shape)\n",
    "\n",
    "X_train_proc = preprocessor.fit_transform(X_train)\n",
    "X_val_proc = preprocessor.transform(X_val)\n",
    "X_test_proc = preprocessor.transform(X_test)\n",
    "\n",
    "X_proc = preprocessor.fit_transform(X)"
   ]
  },
  {
   "cell_type": "markdown",
   "id": "6dcfca24-bd57-47ec-b080-fc7bda542b09",
   "metadata": {
    "execution": {
     "iopub.status.busy": "2025-06-03T15:40:46.865132Z",
     "iopub.status.idle": "2025-06-03T15:40:46.866514Z",
     "shell.execute_reply": "2025-06-03T15:40:46.865884Z",
     "shell.execute_reply.started": "2025-06-03T15:40:46.865828Z"
    }
   },
   "source": [
    "## *(moved to timeseries_mvp)* Seasonal data - aggregating by DateKey"
   ]
  },
  {
   "cell_type": "markdown",
   "id": "ad2ccb8f-3af0-4165-9190-5ac400c362a8",
   "metadata": {},
   "source": [
    "# Models"
   ]
  },
  {
   "cell_type": "markdown",
   "id": "e4b32e7b-57ae-4e84-bfe4-7fac9350b837",
   "metadata": {},
   "source": [
    "## Ensemble methods: Decision Tree, XGBoost"
   ]
  },
  {
   "cell_type": "markdown",
   "id": "aa87bfa1-3917-458b-8503-66f43df5c846",
   "metadata": {},
   "source": [
    "### Decision Tree"
   ]
  },
  {
   "cell_type": "code",
   "execution_count": 32,
   "id": "33b2895b-942d-400c-84ad-ec1a46712c89",
   "metadata": {
    "execution": {
     "iopub.execute_input": "2025-06-06T07:53:29.008797Z",
     "iopub.status.busy": "2025-06-06T07:53:29.008109Z",
     "iopub.status.idle": "2025-06-06T07:53:38.964208Z",
     "shell.execute_reply": "2025-06-06T07:53:38.960366Z",
     "shell.execute_reply.started": "2025-06-06T07:53:29.008756Z"
    }
   },
   "outputs": [
    {
     "ename": "AttributeError",
     "evalue": "'Series' object has no attribute '_mgr'",
     "output_type": "error",
     "traceback": [
      "\u001b[0;31m---------------------------------------------------------------------------\u001b[0m",
      "\u001b[0;31m_RemoteTraceback\u001b[0m                          Traceback (most recent call last)",
      "\u001b[0;31m_RemoteTraceback\u001b[0m: \n\"\"\"\nTraceback (most recent call last):\n  File \"/home/kai/.pyenv/versions/3.10.6/envs/sales-ninja/lib/python3.10/site-packages/joblib/externals/loky/process_executor.py\", line 490, in _process_worker\n    r = call_item()\n  File \"/home/kai/.pyenv/versions/3.10.6/envs/sales-ninja/lib/python3.10/site-packages/joblib/externals/loky/process_executor.py\", line 291, in __call__\n    return self.fn(*self.args, **self.kwargs)\n  File \"/home/kai/.pyenv/versions/3.10.6/envs/sales-ninja/lib/python3.10/site-packages/joblib/parallel.py\", line 607, in __call__\n    return [func(*args, **kwargs) for func, args, kwargs in self.items]\n  File \"/home/kai/.pyenv/versions/3.10.6/envs/sales-ninja/lib/python3.10/site-packages/joblib/parallel.py\", line 607, in <listcomp>\n    return [func(*args, **kwargs) for func, args, kwargs in self.items]\n  File \"/home/kai/.pyenv/versions/3.10.6/envs/sales-ninja/lib/python3.10/site-packages/sklearn/utils/parallel.py\", line 139, in __call__\n    return self.function(*args, **kwargs)\n  File \"/home/kai/.pyenv/versions/3.10.6/envs/sales-ninja/lib/python3.10/site-packages/sklearn/model_selection/_validation.py\", line 858, in _fit_and_score\n    X_train, y_train = _safe_split(estimator, X, y, train)\n  File \"/home/kai/.pyenv/versions/3.10.6/envs/sales-ninja/lib/python3.10/site-packages/sklearn/utils/metaestimators.py\", line 159, in _safe_split\n    y_subset = _safe_indexing(y, indices)\n  File \"/home/kai/.pyenv/versions/3.10.6/envs/sales-ninja/lib/python3.10/site-packages/sklearn/utils/_indexing.py\", line 266, in _safe_indexing\n    return _pandas_indexing(X, indices, indices_dtype, axis=axis)\n  File \"/home/kai/.pyenv/versions/3.10.6/envs/sales-ninja/lib/python3.10/site-packages/sklearn/utils/_indexing.py\", line 47, in _pandas_indexing\n    return X.take(key, axis=axis)\n  File \"/home/kai/.pyenv/versions/3.10.6/envs/sales-ninja/lib/python3.10/site-packages/pandas/core/generic.py\", line 4133, in take\n    new_data = self._mgr.take(\n  File \"/home/kai/.pyenv/versions/3.10.6/envs/sales-ninja/lib/python3.10/site-packages/pandas/core/generic.py\", line 6299, in __getattr__\n    return object.__getattribute__(self, name)\nAttributeError: 'Series' object has no attribute '_mgr'\n\"\"\"",
      "\nThe above exception was the direct cause of the following exception:\n",
      "\u001b[0;31mAttributeError\u001b[0m                            Traceback (most recent call last)",
      "Cell \u001b[0;32mIn[32], line 3\u001b[0m\n\u001b[1;32m      1\u001b[0m tree \u001b[38;5;241m=\u001b[39m DecisionTreeRegressor()\n\u001b[0;32m----> 3\u001b[0m cv_score \u001b[38;5;241m=\u001b[39m \u001b[43mcross_val_score\u001b[49m\u001b[43m(\u001b[49m\u001b[43mtree\u001b[49m\u001b[43m,\u001b[49m\u001b[43m \u001b[49m\u001b[43mX_train_proc\u001b[49m\u001b[43m,\u001b[49m\u001b[43m \u001b[49m\u001b[43my_train\u001b[49m\u001b[43m,\u001b[49m\u001b[43m \u001b[49m\u001b[43mscoring\u001b[49m\u001b[43m \u001b[49m\u001b[38;5;241;43m=\u001b[39;49m\u001b[43m \u001b[49m\u001b[38;5;124;43m\"\u001b[39;49m\u001b[38;5;124;43mr2\u001b[39;49m\u001b[38;5;124;43m\"\u001b[39;49m\u001b[43m,\u001b[49m\u001b[43m \u001b[49m\u001b[43mcv\u001b[49m\u001b[38;5;241;43m=\u001b[39;49m\u001b[38;5;241;43m5\u001b[39;49m\u001b[43m,\u001b[49m\u001b[43m \u001b[49m\u001b[43mn_jobs\u001b[49m\u001b[43m \u001b[49m\u001b[38;5;241;43m=\u001b[39;49m\u001b[43m \u001b[49m\u001b[38;5;241;43m-\u001b[39;49m\u001b[38;5;241;43m1\u001b[39;49m\u001b[43m)\u001b[49m\n\u001b[1;32m      4\u001b[0m \u001b[38;5;28mprint\u001b[39m(cv_score)\n\u001b[1;32m      6\u001b[0m LearningCurveDisplay\u001b[38;5;241m.\u001b[39mfrom_estimator(tree, X_proc, y, train_sizes \u001b[38;5;241m=\u001b[39m [\u001b[38;5;241m0.1\u001b[39m, \u001b[38;5;241m0.3\u001b[39m, \u001b[38;5;241m0.5\u001b[39m], scoring \u001b[38;5;241m=\u001b[39m \u001b[38;5;124m\"\u001b[39m\u001b[38;5;124mr2\u001b[39m\u001b[38;5;124m\"\u001b[39m, cv\u001b[38;5;241m=\u001b[39m\u001b[38;5;241m5\u001b[39m, n_jobs \u001b[38;5;241m=\u001b[39m \u001b[38;5;241m-\u001b[39m\u001b[38;5;241m1\u001b[39m) \n",
      "File \u001b[0;32m~/.pyenv/versions/3.10.6/envs/sales-ninja/lib/python3.10/site-packages/sklearn/utils/_param_validation.py:216\u001b[0m, in \u001b[0;36mvalidate_params.<locals>.decorator.<locals>.wrapper\u001b[0;34m(*args, **kwargs)\u001b[0m\n\u001b[1;32m    210\u001b[0m \u001b[38;5;28;01mtry\u001b[39;00m:\n\u001b[1;32m    211\u001b[0m     \u001b[38;5;28;01mwith\u001b[39;00m config_context(\n\u001b[1;32m    212\u001b[0m         skip_parameter_validation\u001b[38;5;241m=\u001b[39m(\n\u001b[1;32m    213\u001b[0m             prefer_skip_nested_validation \u001b[38;5;129;01mor\u001b[39;00m global_skip_validation\n\u001b[1;32m    214\u001b[0m         )\n\u001b[1;32m    215\u001b[0m     ):\n\u001b[0;32m--> 216\u001b[0m         \u001b[38;5;28;01mreturn\u001b[39;00m \u001b[43mfunc\u001b[49m\u001b[43m(\u001b[49m\u001b[38;5;241;43m*\u001b[39;49m\u001b[43margs\u001b[49m\u001b[43m,\u001b[49m\u001b[43m \u001b[49m\u001b[38;5;241;43m*\u001b[39;49m\u001b[38;5;241;43m*\u001b[39;49m\u001b[43mkwargs\u001b[49m\u001b[43m)\u001b[49m\n\u001b[1;32m    217\u001b[0m \u001b[38;5;28;01mexcept\u001b[39;00m InvalidParameterError \u001b[38;5;28;01mas\u001b[39;00m e:\n\u001b[1;32m    218\u001b[0m     \u001b[38;5;66;03m# When the function is just a wrapper around an estimator, we allow\u001b[39;00m\n\u001b[1;32m    219\u001b[0m     \u001b[38;5;66;03m# the function to delegate validation to the estimator, but we replace\u001b[39;00m\n\u001b[1;32m    220\u001b[0m     \u001b[38;5;66;03m# the name of the estimator by the name of the function in the error\u001b[39;00m\n\u001b[1;32m    221\u001b[0m     \u001b[38;5;66;03m# message to avoid confusion.\u001b[39;00m\n\u001b[1;32m    222\u001b[0m     msg \u001b[38;5;241m=\u001b[39m re\u001b[38;5;241m.\u001b[39msub(\n\u001b[1;32m    223\u001b[0m         \u001b[38;5;124mr\u001b[39m\u001b[38;5;124m\"\u001b[39m\u001b[38;5;124mparameter of \u001b[39m\u001b[38;5;124m\\\u001b[39m\u001b[38;5;124mw+ must be\u001b[39m\u001b[38;5;124m\"\u001b[39m,\n\u001b[1;32m    224\u001b[0m         \u001b[38;5;124mf\u001b[39m\u001b[38;5;124m\"\u001b[39m\u001b[38;5;124mparameter of \u001b[39m\u001b[38;5;132;01m{\u001b[39;00mfunc\u001b[38;5;241m.\u001b[39m\u001b[38;5;18m__qualname__\u001b[39m\u001b[38;5;132;01m}\u001b[39;00m\u001b[38;5;124m must be\u001b[39m\u001b[38;5;124m\"\u001b[39m,\n\u001b[1;32m    225\u001b[0m         \u001b[38;5;28mstr\u001b[39m(e),\n\u001b[1;32m    226\u001b[0m     )\n",
      "File \u001b[0;32m~/.pyenv/versions/3.10.6/envs/sales-ninja/lib/python3.10/site-packages/sklearn/model_selection/_validation.py:684\u001b[0m, in \u001b[0;36mcross_val_score\u001b[0;34m(estimator, X, y, groups, scoring, cv, n_jobs, verbose, params, pre_dispatch, error_score)\u001b[0m\n\u001b[1;32m    681\u001b[0m \u001b[38;5;66;03m# To ensure multimetric format is not supported\u001b[39;00m\n\u001b[1;32m    682\u001b[0m scorer \u001b[38;5;241m=\u001b[39m check_scoring(estimator, scoring\u001b[38;5;241m=\u001b[39mscoring)\n\u001b[0;32m--> 684\u001b[0m cv_results \u001b[38;5;241m=\u001b[39m \u001b[43mcross_validate\u001b[49m\u001b[43m(\u001b[49m\n\u001b[1;32m    685\u001b[0m \u001b[43m    \u001b[49m\u001b[43mestimator\u001b[49m\u001b[38;5;241;43m=\u001b[39;49m\u001b[43mestimator\u001b[49m\u001b[43m,\u001b[49m\n\u001b[1;32m    686\u001b[0m \u001b[43m    \u001b[49m\u001b[43mX\u001b[49m\u001b[38;5;241;43m=\u001b[39;49m\u001b[43mX\u001b[49m\u001b[43m,\u001b[49m\n\u001b[1;32m    687\u001b[0m \u001b[43m    \u001b[49m\u001b[43my\u001b[49m\u001b[38;5;241;43m=\u001b[39;49m\u001b[43my\u001b[49m\u001b[43m,\u001b[49m\n\u001b[1;32m    688\u001b[0m \u001b[43m    \u001b[49m\u001b[43mgroups\u001b[49m\u001b[38;5;241;43m=\u001b[39;49m\u001b[43mgroups\u001b[49m\u001b[43m,\u001b[49m\n\u001b[1;32m    689\u001b[0m \u001b[43m    \u001b[49m\u001b[43mscoring\u001b[49m\u001b[38;5;241;43m=\u001b[39;49m\u001b[43m{\u001b[49m\u001b[38;5;124;43m\"\u001b[39;49m\u001b[38;5;124;43mscore\u001b[39;49m\u001b[38;5;124;43m\"\u001b[39;49m\u001b[43m:\u001b[49m\u001b[43m \u001b[49m\u001b[43mscorer\u001b[49m\u001b[43m}\u001b[49m\u001b[43m,\u001b[49m\n\u001b[1;32m    690\u001b[0m \u001b[43m    \u001b[49m\u001b[43mcv\u001b[49m\u001b[38;5;241;43m=\u001b[39;49m\u001b[43mcv\u001b[49m\u001b[43m,\u001b[49m\n\u001b[1;32m    691\u001b[0m \u001b[43m    \u001b[49m\u001b[43mn_jobs\u001b[49m\u001b[38;5;241;43m=\u001b[39;49m\u001b[43mn_jobs\u001b[49m\u001b[43m,\u001b[49m\n\u001b[1;32m    692\u001b[0m \u001b[43m    \u001b[49m\u001b[43mverbose\u001b[49m\u001b[38;5;241;43m=\u001b[39;49m\u001b[43mverbose\u001b[49m\u001b[43m,\u001b[49m\n\u001b[1;32m    693\u001b[0m \u001b[43m    \u001b[49m\u001b[43mparams\u001b[49m\u001b[38;5;241;43m=\u001b[39;49m\u001b[43mparams\u001b[49m\u001b[43m,\u001b[49m\n\u001b[1;32m    694\u001b[0m \u001b[43m    \u001b[49m\u001b[43mpre_dispatch\u001b[49m\u001b[38;5;241;43m=\u001b[39;49m\u001b[43mpre_dispatch\u001b[49m\u001b[43m,\u001b[49m\n\u001b[1;32m    695\u001b[0m \u001b[43m    \u001b[49m\u001b[43merror_score\u001b[49m\u001b[38;5;241;43m=\u001b[39;49m\u001b[43merror_score\u001b[49m\u001b[43m,\u001b[49m\n\u001b[1;32m    696\u001b[0m \u001b[43m\u001b[49m\u001b[43m)\u001b[49m\n\u001b[1;32m    697\u001b[0m \u001b[38;5;28;01mreturn\u001b[39;00m cv_results[\u001b[38;5;124m\"\u001b[39m\u001b[38;5;124mtest_score\u001b[39m\u001b[38;5;124m\"\u001b[39m]\n",
      "File \u001b[0;32m~/.pyenv/versions/3.10.6/envs/sales-ninja/lib/python3.10/site-packages/sklearn/utils/_param_validation.py:216\u001b[0m, in \u001b[0;36mvalidate_params.<locals>.decorator.<locals>.wrapper\u001b[0;34m(*args, **kwargs)\u001b[0m\n\u001b[1;32m    210\u001b[0m \u001b[38;5;28;01mtry\u001b[39;00m:\n\u001b[1;32m    211\u001b[0m     \u001b[38;5;28;01mwith\u001b[39;00m config_context(\n\u001b[1;32m    212\u001b[0m         skip_parameter_validation\u001b[38;5;241m=\u001b[39m(\n\u001b[1;32m    213\u001b[0m             prefer_skip_nested_validation \u001b[38;5;129;01mor\u001b[39;00m global_skip_validation\n\u001b[1;32m    214\u001b[0m         )\n\u001b[1;32m    215\u001b[0m     ):\n\u001b[0;32m--> 216\u001b[0m         \u001b[38;5;28;01mreturn\u001b[39;00m \u001b[43mfunc\u001b[49m\u001b[43m(\u001b[49m\u001b[38;5;241;43m*\u001b[39;49m\u001b[43margs\u001b[49m\u001b[43m,\u001b[49m\u001b[43m \u001b[49m\u001b[38;5;241;43m*\u001b[39;49m\u001b[38;5;241;43m*\u001b[39;49m\u001b[43mkwargs\u001b[49m\u001b[43m)\u001b[49m\n\u001b[1;32m    217\u001b[0m \u001b[38;5;28;01mexcept\u001b[39;00m InvalidParameterError \u001b[38;5;28;01mas\u001b[39;00m e:\n\u001b[1;32m    218\u001b[0m     \u001b[38;5;66;03m# When the function is just a wrapper around an estimator, we allow\u001b[39;00m\n\u001b[1;32m    219\u001b[0m     \u001b[38;5;66;03m# the function to delegate validation to the estimator, but we replace\u001b[39;00m\n\u001b[1;32m    220\u001b[0m     \u001b[38;5;66;03m# the name of the estimator by the name of the function in the error\u001b[39;00m\n\u001b[1;32m    221\u001b[0m     \u001b[38;5;66;03m# message to avoid confusion.\u001b[39;00m\n\u001b[1;32m    222\u001b[0m     msg \u001b[38;5;241m=\u001b[39m re\u001b[38;5;241m.\u001b[39msub(\n\u001b[1;32m    223\u001b[0m         \u001b[38;5;124mr\u001b[39m\u001b[38;5;124m\"\u001b[39m\u001b[38;5;124mparameter of \u001b[39m\u001b[38;5;124m\\\u001b[39m\u001b[38;5;124mw+ must be\u001b[39m\u001b[38;5;124m\"\u001b[39m,\n\u001b[1;32m    224\u001b[0m         \u001b[38;5;124mf\u001b[39m\u001b[38;5;124m\"\u001b[39m\u001b[38;5;124mparameter of \u001b[39m\u001b[38;5;132;01m{\u001b[39;00mfunc\u001b[38;5;241m.\u001b[39m\u001b[38;5;18m__qualname__\u001b[39m\u001b[38;5;132;01m}\u001b[39;00m\u001b[38;5;124m must be\u001b[39m\u001b[38;5;124m\"\u001b[39m,\n\u001b[1;32m    225\u001b[0m         \u001b[38;5;28mstr\u001b[39m(e),\n\u001b[1;32m    226\u001b[0m     )\n",
      "File \u001b[0;32m~/.pyenv/versions/3.10.6/envs/sales-ninja/lib/python3.10/site-packages/sklearn/model_selection/_validation.py:411\u001b[0m, in \u001b[0;36mcross_validate\u001b[0;34m(estimator, X, y, groups, scoring, cv, n_jobs, verbose, params, pre_dispatch, return_train_score, return_estimator, return_indices, error_score)\u001b[0m\n\u001b[1;32m    408\u001b[0m \u001b[38;5;66;03m# We clone the estimator to make sure that all the folds are\u001b[39;00m\n\u001b[1;32m    409\u001b[0m \u001b[38;5;66;03m# independent, and that it is pickle-able.\u001b[39;00m\n\u001b[1;32m    410\u001b[0m parallel \u001b[38;5;241m=\u001b[39m Parallel(n_jobs\u001b[38;5;241m=\u001b[39mn_jobs, verbose\u001b[38;5;241m=\u001b[39mverbose, pre_dispatch\u001b[38;5;241m=\u001b[39mpre_dispatch)\n\u001b[0;32m--> 411\u001b[0m results \u001b[38;5;241m=\u001b[39m \u001b[43mparallel\u001b[49m\u001b[43m(\u001b[49m\n\u001b[1;32m    412\u001b[0m \u001b[43m    \u001b[49m\u001b[43mdelayed\u001b[49m\u001b[43m(\u001b[49m\u001b[43m_fit_and_score\u001b[49m\u001b[43m)\u001b[49m\u001b[43m(\u001b[49m\n\u001b[1;32m    413\u001b[0m \u001b[43m        \u001b[49m\u001b[43mclone\u001b[49m\u001b[43m(\u001b[49m\u001b[43mestimator\u001b[49m\u001b[43m)\u001b[49m\u001b[43m,\u001b[49m\n\u001b[1;32m    414\u001b[0m \u001b[43m        \u001b[49m\u001b[43mX\u001b[49m\u001b[43m,\u001b[49m\n\u001b[1;32m    415\u001b[0m \u001b[43m        \u001b[49m\u001b[43my\u001b[49m\u001b[43m,\u001b[49m\n\u001b[1;32m    416\u001b[0m \u001b[43m        \u001b[49m\u001b[43mscorer\u001b[49m\u001b[38;5;241;43m=\u001b[39;49m\u001b[43mscorers\u001b[49m\u001b[43m,\u001b[49m\n\u001b[1;32m    417\u001b[0m \u001b[43m        \u001b[49m\u001b[43mtrain\u001b[49m\u001b[38;5;241;43m=\u001b[39;49m\u001b[43mtrain\u001b[49m\u001b[43m,\u001b[49m\n\u001b[1;32m    418\u001b[0m \u001b[43m        \u001b[49m\u001b[43mtest\u001b[49m\u001b[38;5;241;43m=\u001b[39;49m\u001b[43mtest\u001b[49m\u001b[43m,\u001b[49m\n\u001b[1;32m    419\u001b[0m \u001b[43m        \u001b[49m\u001b[43mverbose\u001b[49m\u001b[38;5;241;43m=\u001b[39;49m\u001b[43mverbose\u001b[49m\u001b[43m,\u001b[49m\n\u001b[1;32m    420\u001b[0m \u001b[43m        \u001b[49m\u001b[43mparameters\u001b[49m\u001b[38;5;241;43m=\u001b[39;49m\u001b[38;5;28;43;01mNone\u001b[39;49;00m\u001b[43m,\u001b[49m\n\u001b[1;32m    421\u001b[0m \u001b[43m        \u001b[49m\u001b[43mfit_params\u001b[49m\u001b[38;5;241;43m=\u001b[39;49m\u001b[43mrouted_params\u001b[49m\u001b[38;5;241;43m.\u001b[39;49m\u001b[43mestimator\u001b[49m\u001b[38;5;241;43m.\u001b[39;49m\u001b[43mfit\u001b[49m\u001b[43m,\u001b[49m\n\u001b[1;32m    422\u001b[0m \u001b[43m        \u001b[49m\u001b[43mscore_params\u001b[49m\u001b[38;5;241;43m=\u001b[39;49m\u001b[43mrouted_params\u001b[49m\u001b[38;5;241;43m.\u001b[39;49m\u001b[43mscorer\u001b[49m\u001b[38;5;241;43m.\u001b[39;49m\u001b[43mscore\u001b[49m\u001b[43m,\u001b[49m\n\u001b[1;32m    423\u001b[0m \u001b[43m        \u001b[49m\u001b[43mreturn_train_score\u001b[49m\u001b[38;5;241;43m=\u001b[39;49m\u001b[43mreturn_train_score\u001b[49m\u001b[43m,\u001b[49m\n\u001b[1;32m    424\u001b[0m \u001b[43m        \u001b[49m\u001b[43mreturn_times\u001b[49m\u001b[38;5;241;43m=\u001b[39;49m\u001b[38;5;28;43;01mTrue\u001b[39;49;00m\u001b[43m,\u001b[49m\n\u001b[1;32m    425\u001b[0m \u001b[43m        \u001b[49m\u001b[43mreturn_estimator\u001b[49m\u001b[38;5;241;43m=\u001b[39;49m\u001b[43mreturn_estimator\u001b[49m\u001b[43m,\u001b[49m\n\u001b[1;32m    426\u001b[0m \u001b[43m        \u001b[49m\u001b[43merror_score\u001b[49m\u001b[38;5;241;43m=\u001b[39;49m\u001b[43merror_score\u001b[49m\u001b[43m,\u001b[49m\n\u001b[1;32m    427\u001b[0m \u001b[43m    \u001b[49m\u001b[43m)\u001b[49m\n\u001b[1;32m    428\u001b[0m \u001b[43m    \u001b[49m\u001b[38;5;28;43;01mfor\u001b[39;49;00m\u001b[43m \u001b[49m\u001b[43mtrain\u001b[49m\u001b[43m,\u001b[49m\u001b[43m \u001b[49m\u001b[43mtest\u001b[49m\u001b[43m \u001b[49m\u001b[38;5;129;43;01min\u001b[39;49;00m\u001b[43m \u001b[49m\u001b[43mindices\u001b[49m\n\u001b[1;32m    429\u001b[0m \u001b[43m\u001b[49m\u001b[43m)\u001b[49m\n\u001b[1;32m    431\u001b[0m _warn_or_raise_about_fit_failures(results, error_score)\n\u001b[1;32m    433\u001b[0m \u001b[38;5;66;03m# For callable scoring, the return type is only know after calling. If the\u001b[39;00m\n\u001b[1;32m    434\u001b[0m \u001b[38;5;66;03m# return type is a dictionary, the error scores can now be inserted with\u001b[39;00m\n\u001b[1;32m    435\u001b[0m \u001b[38;5;66;03m# the correct key.\u001b[39;00m\n",
      "File \u001b[0;32m~/.pyenv/versions/3.10.6/envs/sales-ninja/lib/python3.10/site-packages/sklearn/utils/parallel.py:77\u001b[0m, in \u001b[0;36mParallel.__call__\u001b[0;34m(self, iterable)\u001b[0m\n\u001b[1;32m     72\u001b[0m config \u001b[38;5;241m=\u001b[39m get_config()\n\u001b[1;32m     73\u001b[0m iterable_with_config \u001b[38;5;241m=\u001b[39m (\n\u001b[1;32m     74\u001b[0m     (_with_config(delayed_func, config), args, kwargs)\n\u001b[1;32m     75\u001b[0m     \u001b[38;5;28;01mfor\u001b[39;00m delayed_func, args, kwargs \u001b[38;5;129;01min\u001b[39;00m iterable\n\u001b[1;32m     76\u001b[0m )\n\u001b[0;32m---> 77\u001b[0m \u001b[38;5;28;01mreturn\u001b[39;00m \u001b[38;5;28;43msuper\u001b[39;49m\u001b[43m(\u001b[49m\u001b[43m)\u001b[49m\u001b[38;5;241;43m.\u001b[39;49m\u001b[38;5;21;43m__call__\u001b[39;49m\u001b[43m(\u001b[49m\u001b[43miterable_with_config\u001b[49m\u001b[43m)\u001b[49m\n",
      "File \u001b[0;32m~/.pyenv/versions/3.10.6/envs/sales-ninja/lib/python3.10/site-packages/joblib/parallel.py:2072\u001b[0m, in \u001b[0;36mParallel.__call__\u001b[0;34m(self, iterable)\u001b[0m\n\u001b[1;32m   2066\u001b[0m \u001b[38;5;66;03m# The first item from the output is blank, but it makes the interpreter\u001b[39;00m\n\u001b[1;32m   2067\u001b[0m \u001b[38;5;66;03m# progress until it enters the Try/Except block of the generator and\u001b[39;00m\n\u001b[1;32m   2068\u001b[0m \u001b[38;5;66;03m# reaches the first `yield` statement. This starts the asynchronous\u001b[39;00m\n\u001b[1;32m   2069\u001b[0m \u001b[38;5;66;03m# dispatch of the tasks to the workers.\u001b[39;00m\n\u001b[1;32m   2070\u001b[0m \u001b[38;5;28mnext\u001b[39m(output)\n\u001b[0;32m-> 2072\u001b[0m \u001b[38;5;28;01mreturn\u001b[39;00m output \u001b[38;5;28;01mif\u001b[39;00m \u001b[38;5;28mself\u001b[39m\u001b[38;5;241m.\u001b[39mreturn_generator \u001b[38;5;28;01melse\u001b[39;00m \u001b[38;5;28;43mlist\u001b[39;49m\u001b[43m(\u001b[49m\u001b[43moutput\u001b[49m\u001b[43m)\u001b[49m\n",
      "File \u001b[0;32m~/.pyenv/versions/3.10.6/envs/sales-ninja/lib/python3.10/site-packages/joblib/parallel.py:1682\u001b[0m, in \u001b[0;36mParallel._get_outputs\u001b[0;34m(self, iterator, pre_dispatch)\u001b[0m\n\u001b[1;32m   1679\u001b[0m     \u001b[38;5;28;01myield\u001b[39;00m\n\u001b[1;32m   1681\u001b[0m     \u001b[38;5;28;01mwith\u001b[39;00m \u001b[38;5;28mself\u001b[39m\u001b[38;5;241m.\u001b[39m_backend\u001b[38;5;241m.\u001b[39mretrieval_context():\n\u001b[0;32m-> 1682\u001b[0m         \u001b[38;5;28;01myield from\u001b[39;00m \u001b[38;5;28mself\u001b[39m\u001b[38;5;241m.\u001b[39m_retrieve()\n\u001b[1;32m   1684\u001b[0m \u001b[38;5;28;01mexcept\u001b[39;00m \u001b[38;5;167;01mGeneratorExit\u001b[39;00m:\n\u001b[1;32m   1685\u001b[0m     \u001b[38;5;66;03m# The generator has been garbage collected before being fully\u001b[39;00m\n\u001b[1;32m   1686\u001b[0m     \u001b[38;5;66;03m# consumed. This aborts the remaining tasks if possible and warn\u001b[39;00m\n\u001b[1;32m   1687\u001b[0m     \u001b[38;5;66;03m# the user if necessary.\u001b[39;00m\n\u001b[1;32m   1688\u001b[0m     \u001b[38;5;28mself\u001b[39m\u001b[38;5;241m.\u001b[39m_exception \u001b[38;5;241m=\u001b[39m \u001b[38;5;28;01mTrue\u001b[39;00m\n",
      "File \u001b[0;32m~/.pyenv/versions/3.10.6/envs/sales-ninja/lib/python3.10/site-packages/joblib/parallel.py:1784\u001b[0m, in \u001b[0;36mParallel._retrieve\u001b[0;34m(self)\u001b[0m\n\u001b[1;32m   1778\u001b[0m \u001b[38;5;28;01mwhile\u001b[39;00m \u001b[38;5;28mself\u001b[39m\u001b[38;5;241m.\u001b[39m_wait_retrieval():\n\u001b[1;32m   1779\u001b[0m     \u001b[38;5;66;03m# If the callback thread of a worker has signaled that its task\u001b[39;00m\n\u001b[1;32m   1780\u001b[0m     \u001b[38;5;66;03m# triggered an exception, or if the retrieval loop has raised an\u001b[39;00m\n\u001b[1;32m   1781\u001b[0m     \u001b[38;5;66;03m# exception (e.g. `GeneratorExit`), exit the loop and surface the\u001b[39;00m\n\u001b[1;32m   1782\u001b[0m     \u001b[38;5;66;03m# worker traceback.\u001b[39;00m\n\u001b[1;32m   1783\u001b[0m     \u001b[38;5;28;01mif\u001b[39;00m \u001b[38;5;28mself\u001b[39m\u001b[38;5;241m.\u001b[39m_aborting:\n\u001b[0;32m-> 1784\u001b[0m         \u001b[38;5;28;43mself\u001b[39;49m\u001b[38;5;241;43m.\u001b[39;49m\u001b[43m_raise_error_fast\u001b[49m\u001b[43m(\u001b[49m\u001b[43m)\u001b[49m\n\u001b[1;32m   1785\u001b[0m         \u001b[38;5;28;01mbreak\u001b[39;00m\n\u001b[1;32m   1787\u001b[0m     nb_jobs \u001b[38;5;241m=\u001b[39m \u001b[38;5;28mlen\u001b[39m(\u001b[38;5;28mself\u001b[39m\u001b[38;5;241m.\u001b[39m_jobs)\n",
      "File \u001b[0;32m~/.pyenv/versions/3.10.6/envs/sales-ninja/lib/python3.10/site-packages/joblib/parallel.py:1859\u001b[0m, in \u001b[0;36mParallel._raise_error_fast\u001b[0;34m(self)\u001b[0m\n\u001b[1;32m   1855\u001b[0m \u001b[38;5;66;03m# If this error job exists, immediately raise the error by\u001b[39;00m\n\u001b[1;32m   1856\u001b[0m \u001b[38;5;66;03m# calling get_result. This job might not exists if abort has been\u001b[39;00m\n\u001b[1;32m   1857\u001b[0m \u001b[38;5;66;03m# called directly or if the generator is gc'ed.\u001b[39;00m\n\u001b[1;32m   1858\u001b[0m \u001b[38;5;28;01mif\u001b[39;00m error_job \u001b[38;5;129;01mis\u001b[39;00m \u001b[38;5;129;01mnot\u001b[39;00m \u001b[38;5;28;01mNone\u001b[39;00m:\n\u001b[0;32m-> 1859\u001b[0m     \u001b[43merror_job\u001b[49m\u001b[38;5;241;43m.\u001b[39;49m\u001b[43mget_result\u001b[49m\u001b[43m(\u001b[49m\u001b[38;5;28;43mself\u001b[39;49m\u001b[38;5;241;43m.\u001b[39;49m\u001b[43mtimeout\u001b[49m\u001b[43m)\u001b[49m\n",
      "File \u001b[0;32m~/.pyenv/versions/3.10.6/envs/sales-ninja/lib/python3.10/site-packages/joblib/parallel.py:758\u001b[0m, in \u001b[0;36mBatchCompletionCallBack.get_result\u001b[0;34m(self, timeout)\u001b[0m\n\u001b[1;32m    752\u001b[0m backend \u001b[38;5;241m=\u001b[39m \u001b[38;5;28mself\u001b[39m\u001b[38;5;241m.\u001b[39mparallel\u001b[38;5;241m.\u001b[39m_backend\n\u001b[1;32m    754\u001b[0m \u001b[38;5;28;01mif\u001b[39;00m backend\u001b[38;5;241m.\u001b[39msupports_retrieve_callback:\n\u001b[1;32m    755\u001b[0m     \u001b[38;5;66;03m# We assume that the result has already been retrieved by the\u001b[39;00m\n\u001b[1;32m    756\u001b[0m     \u001b[38;5;66;03m# callback thread, and is stored internally. It's just waiting to\u001b[39;00m\n\u001b[1;32m    757\u001b[0m     \u001b[38;5;66;03m# be returned.\u001b[39;00m\n\u001b[0;32m--> 758\u001b[0m     \u001b[38;5;28;01mreturn\u001b[39;00m \u001b[38;5;28;43mself\u001b[39;49m\u001b[38;5;241;43m.\u001b[39;49m\u001b[43m_return_or_raise\u001b[49m\u001b[43m(\u001b[49m\u001b[43m)\u001b[49m\n\u001b[1;32m    760\u001b[0m \u001b[38;5;66;03m# For other backends, the main thread needs to run the retrieval step.\u001b[39;00m\n\u001b[1;32m    761\u001b[0m \u001b[38;5;28;01mtry\u001b[39;00m:\n",
      "File \u001b[0;32m~/.pyenv/versions/3.10.6/envs/sales-ninja/lib/python3.10/site-packages/joblib/parallel.py:773\u001b[0m, in \u001b[0;36mBatchCompletionCallBack._return_or_raise\u001b[0;34m(self)\u001b[0m\n\u001b[1;32m    771\u001b[0m \u001b[38;5;28;01mtry\u001b[39;00m:\n\u001b[1;32m    772\u001b[0m     \u001b[38;5;28;01mif\u001b[39;00m \u001b[38;5;28mself\u001b[39m\u001b[38;5;241m.\u001b[39mstatus \u001b[38;5;241m==\u001b[39m TASK_ERROR:\n\u001b[0;32m--> 773\u001b[0m         \u001b[38;5;28;01mraise\u001b[39;00m \u001b[38;5;28mself\u001b[39m\u001b[38;5;241m.\u001b[39m_result\n\u001b[1;32m    774\u001b[0m     \u001b[38;5;28;01mreturn\u001b[39;00m \u001b[38;5;28mself\u001b[39m\u001b[38;5;241m.\u001b[39m_result\n\u001b[1;32m    775\u001b[0m \u001b[38;5;28;01mfinally\u001b[39;00m:\n",
      "\u001b[0;31mAttributeError\u001b[0m: 'Series' object has no attribute '_mgr'"
     ]
    }
   ],
   "source": [
    "tree = DecisionTreeRegressor()\n",
    "\n",
    "cv_score = cross_val_score(tree, X_train_proc, y_train, scoring = \"r2\", cv=5, n_jobs = -1)\n",
    "print(cv_score)\n",
    "\n",
    "LearningCurveDisplay.from_estimator(tree, X_proc, y, train_sizes = [0.1, 0.3, 0.5], scoring = \"r2\", cv=5, n_jobs = -1) "
   ]
  },
  {
   "cell_type": "markdown",
   "id": "6043eaac-76d6-4d4b-b094-b330b40ad761",
   "metadata": {},
   "source": [
    "### Random Forest"
   ]
  },
  {
   "cell_type": "code",
   "execution_count": 31,
   "id": "fdf06c97-0a3e-4869-afc8-79ead855415d",
   "metadata": {
    "execution": {
     "iopub.execute_input": "2025-06-05T08:51:27.415998Z",
     "iopub.status.busy": "2025-06-05T08:51:27.414476Z",
     "iopub.status.idle": "2025-06-05T08:52:39.840770Z",
     "shell.execute_reply": "2025-06-05T08:52:39.835517Z",
     "shell.execute_reply.started": "2025-06-05T08:51:27.415957Z"
    }
   },
   "outputs": [
    {
     "data": {
      "text/plain": [
       "array([0.99833576, 0.99081077, 0.99842768, 0.99843371, 0.99896083])"
      ]
     },
     "execution_count": 31,
     "metadata": {},
     "output_type": "execute_result"
    }
   ],
   "source": [
    "forest = RandomForestRegressor(n_estimators=10)\n",
    "\n",
    "cv_score = cross_val_score(forest, X_train_proc, y_train, scoring = \"r2\", cv=5, n_jobs = -1)\n",
    "cv_score"
   ]
  },
  {
   "cell_type": "markdown",
   "id": "056ffd09-2a85-4bc3-a172-fe8355456ba9",
   "metadata": {},
   "source": [
    "### Bagging Regressor"
   ]
  },
  {
   "cell_type": "code",
   "execution_count": 14,
   "id": "eb974429-5e17-46df-b3df-bbbfdc54053d",
   "metadata": {
    "execution": {
     "iopub.execute_input": "2025-06-05T09:31:32.945790Z",
     "iopub.status.busy": "2025-06-05T09:31:32.944535Z",
     "iopub.status.idle": "2025-06-05T09:46:00.291810Z",
     "shell.execute_reply": "2025-06-05T09:46:00.290247Z",
     "shell.execute_reply.started": "2025-06-05T09:31:32.945685Z"
    }
   },
   "outputs": [
    {
     "data": {
      "text/plain": [
       "<sklearn.model_selection._plot.LearningCurveDisplay at 0x7d6a871151b0>"
      ]
     },
     "execution_count": 14,
     "metadata": {},
     "output_type": "execute_result"
    },
    {
     "data": {
      "image/png": "[encoded data removed]",
      "text/plain": [
       "<Figure size 640x480 with 1 Axes>"
      ]
     },
     "metadata": {},
     "output_type": "display_data"
    }
   ],
   "source": [
    "kneighbors = KNeighborsRegressor(n_neighbors = 5)\n",
    "bagged_kn = BaggingRegressor(kneighbors, n_estimators = 3)\n",
    "\n",
    "# cv_score = cross_val_score(bagged_kn, X_train_proc, y_train, scoring = \"r2\", cv=5, n_jobs = -1)\n",
    "# cv_score\n",
    "\n",
    "LearningCurveDisplay.from_estimator(bagged_kn, X_proc, y, train_sizes = [0.1, 0.3], scoring = \"r2\", cv=5, n_jobs = -1) "
   ]
  },
  {
   "cell_type": "markdown",
   "id": "0d707b82-3e09-4b2e-8c3b-b024800ad1b6",
   "metadata": {},
   "source": [
    "### XGBoost"
   ]
  },
  {
   "cell_type": "code",
   "execution_count": 9,
   "id": "9c9a7946-0b0b-4c5a-9343-593f9ebf133e",
   "metadata": {
    "execution": {
     "iopub.execute_input": "2025-06-06T07:34:56.811133Z",
     "iopub.status.busy": "2025-06-06T07:34:56.810247Z",
     "iopub.status.idle": "2025-06-06T07:34:56.817328Z",
     "shell.execute_reply": "2025-06-06T07:34:56.815381Z",
     "shell.execute_reply.started": "2025-06-06T07:34:56.811096Z"
    }
   },
   "outputs": [],
   "source": [
    "# xgb_cpu = XGBRegressor(max_depth=10, n_estimators=100, learning_rate=0.1)"
   ]
  },
  {
   "cell_type": "code",
   "execution_count": 9,
   "id": "9f88f419-ab5d-42b2-b6c4-6a58d62ff3f4",
   "metadata": {
    "execution": {
     "iopub.execute_input": "2025-06-07T18:07:03.766634Z",
     "iopub.status.busy": "2025-06-07T18:07:03.765190Z",
     "iopub.status.idle": "2025-06-07T18:07:03.773053Z",
     "shell.execute_reply": "2025-06-07T18:07:03.771417Z",
     "shell.execute_reply.started": "2025-06-07T18:07:03.766595Z"
    }
   },
   "outputs": [],
   "source": [
    "xgb = XGBRegressor(max_depth=10, n_estimators=200, learning_rate=0.1, device = \"cuda\")"
   ]
  },
  {
   "cell_type": "code",
   "execution_count": 10,
   "id": "f4853e0f-8cf2-4725-9dd0-6276b588479a",
   "metadata": {
    "execution": {
     "iopub.execute_input": "2025-06-07T18:07:04.132418Z",
     "iopub.status.busy": "2025-06-07T18:07:04.131452Z",
     "iopub.status.idle": "2025-06-07T18:07:04.137756Z",
     "shell.execute_reply": "2025-06-07T18:07:04.136291Z",
     "shell.execute_reply.started": "2025-06-07T18:07:04.132380Z"
    }
   },
   "outputs": [],
   "source": [
    "# cv_score = cross_val_score(bagged_kn, X_train_proc, y_train, scoring = \"r2\", cv=5, n_jobs = -1)\n",
    "# cv_score"
   ]
  },
  {
   "cell_type": "code",
   "execution_count": 11,
   "id": "5748bc91-7a01-4f5d-b6bd-1910b84ab0bf",
   "metadata": {
    "execution": {
     "iopub.execute_input": "2025-06-07T18:07:04.466019Z",
     "iopub.status.busy": "2025-06-07T18:07:04.465084Z",
     "iopub.status.idle": "2025-06-07T18:07:04.472779Z",
     "shell.execute_reply": "2025-06-07T18:07:04.470794Z",
     "shell.execute_reply.started": "2025-06-07T18:07:04.465982Z"
    },
    "scrolled": true
   },
   "outputs": [],
   "source": [
    "# xgb_cpu.fit(X_train, y_train,\n",
    "#     # evaluate loss at each iteration\n",
    "#     eval_set=[(X_train, y_train), (X_val, y_val)]#,  \n",
    "#     # stop iterating when eval loss increases 5 times in a row\n",
    "#     # early_stopping_rounds=5\n",
    "# )"
   ]
  },
  {
   "cell_type": "code",
   "execution_count": 12,
   "id": "1e34e401-86e0-46d0-87d3-0b987bcff838",
   "metadata": {
    "execution": {
     "iopub.execute_input": "2025-06-07T18:07:04.718811Z",
     "iopub.status.busy": "2025-06-07T18:07:04.717640Z",
     "iopub.status.idle": "2025-06-07T18:07:17.608465Z",
     "shell.execute_reply": "2025-06-07T18:07:17.606910Z",
     "shell.execute_reply.started": "2025-06-07T18:07:04.718773Z"
    },
    "scrolled": true
   },
   "outputs": [
    {
     "name": "stdout",
     "output_type": "stream",
     "text": [
      "[0]\tvalidation_0-rmse:4905.67634\tvalidation_1-rmse:5022.51947\n",
      "[1]\tvalidation_0-rmse:4429.04706\tvalidation_1-rmse:4542.44618\n",
      "[2]\tvalidation_0-rmse:3998.49912\tvalidation_1-rmse:4108.94862\n",
      "[3]\tvalidation_0-rmse:3611.37586\tvalidation_1-rmse:3719.03575\n",
      "[4]\tvalidation_0-rmse:3262.10997\tvalidation_1-rmse:3368.20220\n",
      "[5]\tvalidation_0-rmse:2947.61851\tvalidation_1-rmse:3052.43932\n",
      "[6]\tvalidation_0-rmse:2664.18915\tvalidation_1-rmse:2768.36153\n",
      "[7]\tvalidation_0-rmse:2408.73412\tvalidation_1-rmse:2512.18105\n",
      "[8]\tvalidation_0-rmse:2178.53833\tvalidation_1-rmse:2281.09707\n",
      "[9]\tvalidation_0-rmse:1971.14969\tvalidation_1-rmse:2073.96224\n",
      "[10]\tvalidation_0-rmse:1784.27358\tvalidation_1-rmse:1887.41975\n",
      "[11]\tvalidation_0-rmse:1615.83893\tvalidation_1-rmse:1721.24979\n",
      "[12]\tvalidation_0-rmse:1463.54879\tvalidation_1-rmse:1576.00368\n",
      "[13]\tvalidation_0-rmse:1326.60466\tvalidation_1-rmse:1441.69446\n",
      "[14]\tvalidation_0-rmse:1202.87522\tvalidation_1-rmse:1322.33315\n",
      "[15]\tvalidation_0-rmse:1090.38603\tvalidation_1-rmse:1215.94825\n",
      "[16]\tvalidation_0-rmse:989.26618\tvalidation_1-rmse:1121.44979\n",
      "[17]\tvalidation_0-rmse:898.20939\tvalidation_1-rmse:1037.87346\n",
      "[18]\tvalidation_0-rmse:816.15666\tvalidation_1-rmse:960.91347\n",
      "[19]\tvalidation_0-rmse:742.25625\tvalidation_1-rmse:893.48037\n",
      "[20]\tvalidation_0-rmse:675.48997\tvalidation_1-rmse:833.66879\n",
      "[21]\tvalidation_0-rmse:615.54213\tvalidation_1-rmse:780.72585\n",
      "[22]\tvalidation_0-rmse:561.46429\tvalidation_1-rmse:734.60620\n",
      "[23]\tvalidation_0-rmse:512.73077\tvalidation_1-rmse:693.68972\n",
      "[24]\tvalidation_0-rmse:468.73041\tvalidation_1-rmse:657.17104\n",
      "[25]\tvalidation_0-rmse:428.95550\tvalidation_1-rmse:629.68136\n",
      "[26]\tvalidation_0-rmse:392.99205\tvalidation_1-rmse:602.24623\n",
      "[27]\tvalidation_0-rmse:360.51999\tvalidation_1-rmse:577.25327\n",
      "[28]\tvalidation_0-rmse:331.31621\tvalidation_1-rmse:555.86957\n",
      "[29]\tvalidation_0-rmse:304.77647\tvalidation_1-rmse:537.28761\n",
      "[30]\tvalidation_0-rmse:281.05041\tvalidation_1-rmse:521.01623\n",
      "[31]\tvalidation_0-rmse:259.54268\tvalidation_1-rmse:506.59409\n",
      "[32]\tvalidation_0-rmse:240.25149\tvalidation_1-rmse:493.97670\n",
      "[33]\tvalidation_0-rmse:222.40138\tvalidation_1-rmse:483.70616\n",
      "[34]\tvalidation_0-rmse:206.65949\tvalidation_1-rmse:474.13250\n",
      "[35]\tvalidation_0-rmse:192.64312\tvalidation_1-rmse:466.03442\n",
      "[36]\tvalidation_0-rmse:179.69302\tvalidation_1-rmse:458.74032\n",
      "[37]\tvalidation_0-rmse:167.76659\tvalidation_1-rmse:452.23445\n",
      "[38]\tvalidation_0-rmse:157.49528\tvalidation_1-rmse:446.68104\n",
      "[39]\tvalidation_0-rmse:148.18923\tvalidation_1-rmse:441.60149\n",
      "[40]\tvalidation_0-rmse:139.52746\tvalidation_1-rmse:437.20466\n",
      "[41]\tvalidation_0-rmse:131.75847\tvalidation_1-rmse:433.38844\n",
      "[42]\tvalidation_0-rmse:124.87567\tvalidation_1-rmse:430.04251\n",
      "[43]\tvalidation_0-rmse:118.64912\tvalidation_1-rmse:426.87672\n",
      "[44]\tvalidation_0-rmse:113.01787\tvalidation_1-rmse:424.18114\n",
      "[45]\tvalidation_0-rmse:107.77592\tvalidation_1-rmse:421.68150\n",
      "[46]\tvalidation_0-rmse:102.86210\tvalidation_1-rmse:419.24499\n",
      "[47]\tvalidation_0-rmse:98.32597\tvalidation_1-rmse:417.02127\n",
      "[48]\tvalidation_0-rmse:94.18534\tvalidation_1-rmse:415.20341\n",
      "[49]\tvalidation_0-rmse:90.77388\tvalidation_1-rmse:413.63500\n",
      "[50]\tvalidation_0-rmse:87.36369\tvalidation_1-rmse:412.15758\n",
      "[51]\tvalidation_0-rmse:84.42485\tvalidation_1-rmse:410.70998\n",
      "[52]\tvalidation_0-rmse:81.58488\tvalidation_1-rmse:409.41582\n",
      "[53]\tvalidation_0-rmse:79.08537\tvalidation_1-rmse:408.28698\n",
      "[54]\tvalidation_0-rmse:76.60007\tvalidation_1-rmse:407.16208\n",
      "[55]\tvalidation_0-rmse:73.92776\tvalidation_1-rmse:406.15977\n",
      "[56]\tvalidation_0-rmse:71.37796\tvalidation_1-rmse:405.06293\n",
      "[57]\tvalidation_0-rmse:69.20624\tvalidation_1-rmse:404.27809\n",
      "[58]\tvalidation_0-rmse:67.07750\tvalidation_1-rmse:403.19971\n",
      "[59]\tvalidation_0-rmse:64.90007\tvalidation_1-rmse:402.39626\n",
      "[60]\tvalidation_0-rmse:63.00853\tvalidation_1-rmse:401.61782\n",
      "[61]\tvalidation_0-rmse:61.30870\tvalidation_1-rmse:400.91594\n",
      "[62]\tvalidation_0-rmse:59.81078\tvalidation_1-rmse:400.25675\n",
      "[63]\tvalidation_0-rmse:58.36804\tvalidation_1-rmse:399.75730\n",
      "[64]\tvalidation_0-rmse:57.13261\tvalidation_1-rmse:399.23762\n",
      "[65]\tvalidation_0-rmse:55.93200\tvalidation_1-rmse:398.63955\n",
      "[66]\tvalidation_0-rmse:54.82095\tvalidation_1-rmse:398.10417\n",
      "[67]\tvalidation_0-rmse:53.80100\tvalidation_1-rmse:397.70207\n",
      "[68]\tvalidation_0-rmse:52.92888\tvalidation_1-rmse:397.26100\n",
      "[69]\tvalidation_0-rmse:52.16410\tvalidation_1-rmse:396.97918\n",
      "[70]\tvalidation_0-rmse:51.30628\tvalidation_1-rmse:396.47161\n",
      "[71]\tvalidation_0-rmse:50.53069\tvalidation_1-rmse:396.15355\n",
      "[72]\tvalidation_0-rmse:49.73219\tvalidation_1-rmse:395.85151\n",
      "[73]\tvalidation_0-rmse:48.97483\tvalidation_1-rmse:395.33340\n",
      "[74]\tvalidation_0-rmse:48.40710\tvalidation_1-rmse:394.92589\n",
      "[75]\tvalidation_0-rmse:47.88097\tvalidation_1-rmse:394.48026\n",
      "[76]\tvalidation_0-rmse:47.39026\tvalidation_1-rmse:394.04477\n",
      "[77]\tvalidation_0-rmse:46.87410\tvalidation_1-rmse:393.66530\n",
      "[78]\tvalidation_0-rmse:46.11484\tvalidation_1-rmse:393.26438\n",
      "[79]\tvalidation_0-rmse:45.61068\tvalidation_1-rmse:392.91386\n",
      "[80]\tvalidation_0-rmse:45.20988\tvalidation_1-rmse:392.60437\n",
      "[81]\tvalidation_0-rmse:44.81059\tvalidation_1-rmse:392.27803\n",
      "[82]\tvalidation_0-rmse:44.29979\tvalidation_1-rmse:391.93488\n",
      "[83]\tvalidation_0-rmse:43.99418\tvalidation_1-rmse:391.63952\n",
      "[84]\tvalidation_0-rmse:43.60610\tvalidation_1-rmse:391.39851\n",
      "[85]\tvalidation_0-rmse:43.19053\tvalidation_1-rmse:391.16747\n",
      "[86]\tvalidation_0-rmse:42.70658\tvalidation_1-rmse:390.96951\n",
      "[87]\tvalidation_0-rmse:42.21674\tvalidation_1-rmse:390.74522\n",
      "[88]\tvalidation_0-rmse:41.83425\tvalidation_1-rmse:390.56462\n",
      "[89]\tvalidation_0-rmse:41.36661\tvalidation_1-rmse:390.33253\n",
      "[90]\tvalidation_0-rmse:41.04987\tvalidation_1-rmse:390.18848\n",
      "[91]\tvalidation_0-rmse:40.57035\tvalidation_1-rmse:390.10179\n",
      "[92]\tvalidation_0-rmse:40.20461\tvalidation_1-rmse:389.97406\n",
      "[93]\tvalidation_0-rmse:39.87860\tvalidation_1-rmse:389.84090\n",
      "[94]\tvalidation_0-rmse:39.58709\tvalidation_1-rmse:389.70684\n",
      "[95]\tvalidation_0-rmse:39.26099\tvalidation_1-rmse:389.57561\n",
      "[96]\tvalidation_0-rmse:38.95562\tvalidation_1-rmse:389.49122\n",
      "[97]\tvalidation_0-rmse:38.64471\tvalidation_1-rmse:389.37723\n",
      "[98]\tvalidation_0-rmse:38.30314\tvalidation_1-rmse:389.32590\n",
      "[99]\tvalidation_0-rmse:37.98871\tvalidation_1-rmse:389.21805\n",
      "[100]\tvalidation_0-rmse:37.76830\tvalidation_1-rmse:389.11863\n",
      "[101]\tvalidation_0-rmse:37.54403\tvalidation_1-rmse:389.01951\n",
      "[102]\tvalidation_0-rmse:37.22556\tvalidation_1-rmse:388.91349\n",
      "[103]\tvalidation_0-rmse:36.86131\tvalidation_1-rmse:388.86907\n",
      "[104]\tvalidation_0-rmse:36.65736\tvalidation_1-rmse:388.76958\n",
      "[105]\tvalidation_0-rmse:36.34588\tvalidation_1-rmse:388.76187\n",
      "[106]\tvalidation_0-rmse:36.09962\tvalidation_1-rmse:388.72429\n",
      "[107]\tvalidation_0-rmse:35.81765\tvalidation_1-rmse:388.68339\n",
      "[108]\tvalidation_0-rmse:35.59425\tvalidation_1-rmse:388.57725\n",
      "[109]\tvalidation_0-rmse:35.48382\tvalidation_1-rmse:388.49096\n",
      "[110]\tvalidation_0-rmse:35.34942\tvalidation_1-rmse:388.47235\n",
      "[111]\tvalidation_0-rmse:35.11226\tvalidation_1-rmse:388.40038\n",
      "[112]\tvalidation_0-rmse:34.77935\tvalidation_1-rmse:388.39472\n",
      "[113]\tvalidation_0-rmse:34.61705\tvalidation_1-rmse:388.38028\n",
      "[114]\tvalidation_0-rmse:34.50899\tvalidation_1-rmse:388.30297\n",
      "[115]\tvalidation_0-rmse:34.27904\tvalidation_1-rmse:388.20784\n",
      "[116]\tvalidation_0-rmse:34.00070\tvalidation_1-rmse:388.20632\n",
      "[117]\tvalidation_0-rmse:33.68122\tvalidation_1-rmse:388.13412\n",
      "[118]\tvalidation_0-rmse:33.46837\tvalidation_1-rmse:388.10360\n",
      "[119]\tvalidation_0-rmse:33.15612\tvalidation_1-rmse:388.08763\n",
      "[120]\tvalidation_0-rmse:32.78994\tvalidation_1-rmse:388.01799\n",
      "[121]\tvalidation_0-rmse:32.49872\tvalidation_1-rmse:387.99274\n",
      "[122]\tvalidation_0-rmse:32.22815\tvalidation_1-rmse:387.97437\n",
      "[123]\tvalidation_0-rmse:31.96188\tvalidation_1-rmse:387.90620\n",
      "[124]\tvalidation_0-rmse:31.74804\tvalidation_1-rmse:387.89475\n",
      "[125]\tvalidation_0-rmse:31.58254\tvalidation_1-rmse:387.88724\n",
      "[126]\tvalidation_0-rmse:31.34423\tvalidation_1-rmse:387.88881\n",
      "[127]\tvalidation_0-rmse:31.22831\tvalidation_1-rmse:387.86346\n",
      "[128]\tvalidation_0-rmse:31.09162\tvalidation_1-rmse:387.84277\n",
      "[129]\tvalidation_0-rmse:30.80113\tvalidation_1-rmse:387.78270\n",
      "[130]\tvalidation_0-rmse:30.55437\tvalidation_1-rmse:387.75510\n",
      "[131]\tvalidation_0-rmse:30.48557\tvalidation_1-rmse:387.75215\n",
      "[132]\tvalidation_0-rmse:30.27771\tvalidation_1-rmse:387.75117\n",
      "[133]\tvalidation_0-rmse:30.05679\tvalidation_1-rmse:387.72302\n",
      "[134]\tvalidation_0-rmse:29.88022\tvalidation_1-rmse:387.70698\n",
      "[135]\tvalidation_0-rmse:29.64998\tvalidation_1-rmse:387.69277\n",
      "[136]\tvalidation_0-rmse:29.52126\tvalidation_1-rmse:387.65682\n",
      "[137]\tvalidation_0-rmse:29.26922\tvalidation_1-rmse:387.64240\n",
      "[138]\tvalidation_0-rmse:29.04211\tvalidation_1-rmse:387.61104\n",
      "[139]\tvalidation_0-rmse:28.96949\tvalidation_1-rmse:387.59181\n",
      "[140]\tvalidation_0-rmse:28.78871\tvalidation_1-rmse:387.54594\n",
      "[141]\tvalidation_0-rmse:28.72315\tvalidation_1-rmse:387.53913\n",
      "[142]\tvalidation_0-rmse:28.53456\tvalidation_1-rmse:387.51882\n",
      "[143]\tvalidation_0-rmse:28.38578\tvalidation_1-rmse:387.51076\n",
      "[144]\tvalidation_0-rmse:28.19625\tvalidation_1-rmse:387.49047\n",
      "[145]\tvalidation_0-rmse:28.13711\tvalidation_1-rmse:387.46293\n",
      "[146]\tvalidation_0-rmse:27.95558\tvalidation_1-rmse:387.42455\n",
      "[147]\tvalidation_0-rmse:27.76422\tvalidation_1-rmse:387.40759\n",
      "[148]\tvalidation_0-rmse:27.58053\tvalidation_1-rmse:387.39553\n",
      "[149]\tvalidation_0-rmse:27.41585\tvalidation_1-rmse:387.38216\n",
      "[150]\tvalidation_0-rmse:27.20257\tvalidation_1-rmse:387.36700\n",
      "[151]\tvalidation_0-rmse:27.04308\tvalidation_1-rmse:387.34874\n",
      "[152]\tvalidation_0-rmse:26.88204\tvalidation_1-rmse:387.33818\n",
      "[153]\tvalidation_0-rmse:26.70122\tvalidation_1-rmse:387.31971\n",
      "[154]\tvalidation_0-rmse:26.50478\tvalidation_1-rmse:387.30307\n",
      "[155]\tvalidation_0-rmse:26.34922\tvalidation_1-rmse:387.29407\n",
      "[156]\tvalidation_0-rmse:26.21872\tvalidation_1-rmse:387.27632\n",
      "[157]\tvalidation_0-rmse:26.01528\tvalidation_1-rmse:387.26070\n",
      "[158]\tvalidation_0-rmse:25.86340\tvalidation_1-rmse:387.24659\n",
      "[159]\tvalidation_0-rmse:25.72171\tvalidation_1-rmse:387.21109\n",
      "[160]\tvalidation_0-rmse:25.45586\tvalidation_1-rmse:387.19971\n",
      "[161]\tvalidation_0-rmse:25.32818\tvalidation_1-rmse:387.19165\n",
      "[162]\tvalidation_0-rmse:25.27786\tvalidation_1-rmse:387.18416\n",
      "[163]\tvalidation_0-rmse:25.08226\tvalidation_1-rmse:387.16701\n",
      "[164]\tvalidation_0-rmse:24.97009\tvalidation_1-rmse:387.15651\n",
      "[165]\tvalidation_0-rmse:24.77879\tvalidation_1-rmse:387.13926\n",
      "[166]\tvalidation_0-rmse:24.64173\tvalidation_1-rmse:387.14089\n",
      "[167]\tvalidation_0-rmse:24.48572\tvalidation_1-rmse:387.12509\n",
      "[168]\tvalidation_0-rmse:24.28254\tvalidation_1-rmse:387.10494\n",
      "[169]\tvalidation_0-rmse:24.11235\tvalidation_1-rmse:387.10464\n",
      "[170]\tvalidation_0-rmse:23.90412\tvalidation_1-rmse:387.08874\n",
      "[171]\tvalidation_0-rmse:23.80683\tvalidation_1-rmse:387.07389\n",
      "[172]\tvalidation_0-rmse:23.62101\tvalidation_1-rmse:387.05282\n",
      "[173]\tvalidation_0-rmse:23.47312\tvalidation_1-rmse:387.04289\n",
      "[174]\tvalidation_0-rmse:23.30794\tvalidation_1-rmse:387.03152\n",
      "[175]\tvalidation_0-rmse:23.19700\tvalidation_1-rmse:387.02306\n",
      "[176]\tvalidation_0-rmse:23.12874\tvalidation_1-rmse:387.01926\n",
      "[177]\tvalidation_0-rmse:23.03648\tvalidation_1-rmse:386.99353\n",
      "[178]\tvalidation_0-rmse:22.99867\tvalidation_1-rmse:386.98613\n",
      "[179]\tvalidation_0-rmse:22.83571\tvalidation_1-rmse:386.97573\n",
      "[180]\tvalidation_0-rmse:22.72215\tvalidation_1-rmse:386.96734\n",
      "[181]\tvalidation_0-rmse:22.62437\tvalidation_1-rmse:386.95298\n",
      "[182]\tvalidation_0-rmse:22.48463\tvalidation_1-rmse:386.93523\n",
      "[183]\tvalidation_0-rmse:22.37552\tvalidation_1-rmse:386.92995\n",
      "[184]\tvalidation_0-rmse:22.31270\tvalidation_1-rmse:386.92392\n",
      "[185]\tvalidation_0-rmse:22.18423\tvalidation_1-rmse:386.89981\n",
      "[186]\tvalidation_0-rmse:22.10152\tvalidation_1-rmse:386.88822\n",
      "[187]\tvalidation_0-rmse:21.97335\tvalidation_1-rmse:386.87775\n",
      "[188]\tvalidation_0-rmse:21.86546\tvalidation_1-rmse:386.87230\n",
      "[189]\tvalidation_0-rmse:21.83724\tvalidation_1-rmse:386.86076\n",
      "[190]\tvalidation_0-rmse:21.72521\tvalidation_1-rmse:386.85283\n",
      "[191]\tvalidation_0-rmse:21.64243\tvalidation_1-rmse:386.84583\n",
      "[192]\tvalidation_0-rmse:21.60975\tvalidation_1-rmse:386.84281\n",
      "[193]\tvalidation_0-rmse:21.50286\tvalidation_1-rmse:386.83470\n",
      "[194]\tvalidation_0-rmse:21.42189\tvalidation_1-rmse:386.82935\n",
      "[195]\tvalidation_0-rmse:21.33252\tvalidation_1-rmse:386.81687\n",
      "[196]\tvalidation_0-rmse:21.20354\tvalidation_1-rmse:386.78577\n",
      "[197]\tvalidation_0-rmse:21.09917\tvalidation_1-rmse:386.77883\n",
      "[198]\tvalidation_0-rmse:20.96136\tvalidation_1-rmse:386.76908\n",
      "[199]\tvalidation_0-rmse:20.93945\tvalidation_1-rmse:386.76575\n"
     ]
    },
    {
     "data": {
      "text/html": [
       "<style>#sk-container-id-1 {\n",
       "  /* Definition of color scheme common for light and dark mode */\n",
       "  --sklearn-color-text: #000;\n",
       "  --sklearn-color-text-muted: #666;\n",
       "  --sklearn-color-line: gray;\n",
       "  /* Definition of color scheme for unfitted estimators */\n",
       "  --sklearn-color-unfitted-level-0: #fff5e6;\n",
       "  --sklearn-color-unfitted-level-1: #f6e4d2;\n",
       "  --sklearn-color-unfitted-level-2: #ffe0b3;\n",
       "  --sklearn-color-unfitted-level-3: chocolate;\n",
       "  /* Definition of color scheme for fitted estimators */\n",
       "  --sklearn-color-fitted-level-0: #f0f8ff;\n",
       "  --sklearn-color-fitted-level-1: #d4ebff;\n",
       "  --sklearn-color-fitted-level-2: #b3dbfd;\n",
       "  --sklearn-color-fitted-level-3: cornflowerblue;\n",
       "\n",
       "  /* Specific color for light theme */\n",
       "  --sklearn-color-text-on-default-background: var(--sg-text-color, var(--theme-code-foreground, var(--jp-content-font-color1, black)));\n",
       "  --sklearn-color-background: var(--sg-background-color, var(--theme-background, var(--jp-layout-color0, white)));\n",
       "  --sklearn-color-border-box: var(--sg-text-color, var(--theme-code-foreground, var(--jp-content-font-color1, black)));\n",
       "  --sklearn-color-icon: #696969;\n",
       "\n",
       "  @media (prefers-color-scheme: dark) {\n",
       "    /* Redefinition of color scheme for dark theme */\n",
       "    --sklearn-color-text-on-default-background: var(--sg-text-color, var(--theme-code-foreground, var(--jp-content-font-color1, white)));\n",
       "    --sklearn-color-background: var(--sg-background-color, var(--theme-background, var(--jp-layout-color0, #111)));\n",
       "    --sklearn-color-border-box: var(--sg-text-color, var(--theme-code-foreground, var(--jp-content-font-color1, white)));\n",
       "    --sklearn-color-icon: #878787;\n",
       "  }\n",
       "}\n",
       "\n",
       "#sk-container-id-1 {\n",
       "  color: var(--sklearn-color-text);\n",
       "}\n",
       "\n",
       "#sk-container-id-1 pre {\n",
       "  padding: 0;\n",
       "}\n",
       "\n",
       "#sk-container-id-1 input.sk-hidden--visually {\n",
       "  border: 0;\n",
       "  clip: rect(1px 1px 1px 1px);\n",
       "  clip: rect(1px, 1px, 1px, 1px);\n",
       "  height: 1px;\n",
       "  margin: -1px;\n",
       "  overflow: hidden;\n",
       "  padding: 0;\n",
       "  position: absolute;\n",
       "  width: 1px;\n",
       "}\n",
       "\n",
       "#sk-container-id-1 div.sk-dashed-wrapped {\n",
       "  border: 1px dashed var(--sklearn-color-line);\n",
       "  margin: 0 0.4em 0.5em 0.4em;\n",
       "  box-sizing: border-box;\n",
       "  padding-bottom: 0.4em;\n",
       "  background-color: var(--sklearn-color-background);\n",
       "}\n",
       "\n",
       "#sk-container-id-1 div.sk-container {\n",
       "  /* jupyter's `normalize.less` sets `[hidden] { display: none; }`\n",
       "     but bootstrap.min.css set `[hidden] { display: none !important; }`\n",
       "     so we also need the `!important` here to be able to override the\n",
       "     default hidden behavior on the sphinx rendered scikit-learn.org.\n",
       "     See: https://github.com/scikit-learn/scikit-learn/issues/21755 */\n",
       "  display: inline-block !important;\n",
       "  position: relative;\n",
       "}\n",
       "\n",
       "#sk-container-id-1 div.sk-text-repr-fallback {\n",
       "  display: none;\n",
       "}\n",
       "\n",
       "div.sk-parallel-item,\n",
       "div.sk-serial,\n",
       "div.sk-item {\n",
       "  /* draw centered vertical line to link estimators */\n",
       "  background-image: linear-gradient(var(--sklearn-color-text-on-default-background), var(--sklearn-color-text-on-default-background));\n",
       "  background-size: 2px 100%;\n",
       "  background-repeat: no-repeat;\n",
       "  background-position: center center;\n",
       "}\n",
       "\n",
       "/* Parallel-specific style estimator block */\n",
       "\n",
       "#sk-container-id-1 div.sk-parallel-item::after {\n",
       "  content: \"\";\n",
       "  width: 100%;\n",
       "  border-bottom: 2px solid var(--sklearn-color-text-on-default-background);\n",
       "  flex-grow: 1;\n",
       "}\n",
       "\n",
       "#sk-container-id-1 div.sk-parallel {\n",
       "  display: flex;\n",
       "  align-items: stretch;\n",
       "  justify-content: center;\n",
       "  background-color: var(--sklearn-color-background);\n",
       "  position: relative;\n",
       "}\n",
       "\n",
       "#sk-container-id-1 div.sk-parallel-item {\n",
       "  display: flex;\n",
       "  flex-direction: column;\n",
       "}\n",
       "\n",
       "#sk-container-id-1 div.sk-parallel-item:first-child::after {\n",
       "  align-self: flex-end;\n",
       "  width: 50%;\n",
       "}\n",
       "\n",
       "#sk-container-id-1 div.sk-parallel-item:last-child::after {\n",
       "  align-self: flex-start;\n",
       "  width: 50%;\n",
       "}\n",
       "\n",
       "#sk-container-id-1 div.sk-parallel-item:only-child::after {\n",
       "  width: 0;\n",
       "}\n",
       "\n",
       "/* Serial-specific style estimator block */\n",
       "\n",
       "#sk-container-id-1 div.sk-serial {\n",
       "  display: flex;\n",
       "  flex-direction: column;\n",
       "  align-items: center;\n",
       "  background-color: var(--sklearn-color-background);\n",
       "  padding-right: 1em;\n",
       "  padding-left: 1em;\n",
       "}\n",
       "\n",
       "\n",
       "/* Toggleable style: style used for estimator/Pipeline/ColumnTransformer box that is\n",
       "clickable and can be expanded/collapsed.\n",
       "- Pipeline and ColumnTransformer use this feature and define the default style\n",
       "- Estimators will overwrite some part of the style using the `sk-estimator` class\n",
       "*/\n",
       "\n",
       "/* Pipeline and ColumnTransformer style (default) */\n",
       "\n",
       "#sk-container-id-1 div.sk-toggleable {\n",
       "  /* Default theme specific background. It is overwritten whether we have a\n",
       "  specific estimator or a Pipeline/ColumnTransformer */\n",
       "  background-color: var(--sklearn-color-background);\n",
       "}\n",
       "\n",
       "/* Toggleable label */\n",
       "#sk-container-id-1 label.sk-toggleable__label {\n",
       "  cursor: pointer;\n",
       "  display: flex;\n",
       "  width: 100%;\n",
       "  margin-bottom: 0;\n",
       "  padding: 0.5em;\n",
       "  box-sizing: border-box;\n",
       "  text-align: center;\n",
       "  align-items: start;\n",
       "  justify-content: space-between;\n",
       "  gap: 0.5em;\n",
       "}\n",
       "\n",
       "#sk-container-id-1 label.sk-toggleable__label .caption {\n",
       "  font-size: 0.6rem;\n",
       "  font-weight: lighter;\n",
       "  color: var(--sklearn-color-text-muted);\n",
       "}\n",
       "\n",
       "#sk-container-id-1 label.sk-toggleable__label-arrow:before {\n",
       "  /* Arrow on the left of the label */\n",
       "  content: \"▸\";\n",
       "  float: left;\n",
       "  margin-right: 0.25em;\n",
       "  color: var(--sklearn-color-icon);\n",
       "}\n",
       "\n",
       "#sk-container-id-1 label.sk-toggleable__label-arrow:hover:before {\n",
       "  color: var(--sklearn-color-text);\n",
       "}\n",
       "\n",
       "/* Toggleable content - dropdown */\n",
       "\n",
       "#sk-container-id-1 div.sk-toggleable__content {\n",
       "  max-height: 0;\n",
       "  max-width: 0;\n",
       "  overflow: hidden;\n",
       "  text-align: left;\n",
       "  /* unfitted */\n",
       "  background-color: var(--sklearn-color-unfitted-level-0);\n",
       "}\n",
       "\n",
       "#sk-container-id-1 div.sk-toggleable__content.fitted {\n",
       "  /* fitted */\n",
       "  background-color: var(--sklearn-color-fitted-level-0);\n",
       "}\n",
       "\n",
       "#sk-container-id-1 div.sk-toggleable__content pre {\n",
       "  margin: 0.2em;\n",
       "  border-radius: 0.25em;\n",
       "  color: var(--sklearn-color-text);\n",
       "  /* unfitted */\n",
       "  background-color: var(--sklearn-color-unfitted-level-0);\n",
       "}\n",
       "\n",
       "#sk-container-id-1 div.sk-toggleable__content.fitted pre {\n",
       "  /* unfitted */\n",
       "  background-color: var(--sklearn-color-fitted-level-0);\n",
       "}\n",
       "\n",
       "#sk-container-id-1 input.sk-toggleable__control:checked~div.sk-toggleable__content {\n",
       "  /* Expand drop-down */\n",
       "  max-height: 200px;\n",
       "  max-width: 100%;\n",
       "  overflow: auto;\n",
       "}\n",
       "\n",
       "#sk-container-id-1 input.sk-toggleable__control:checked~label.sk-toggleable__label-arrow:before {\n",
       "  content: \"▾\";\n",
       "}\n",
       "\n",
       "/* Pipeline/ColumnTransformer-specific style */\n",
       "\n",
       "#sk-container-id-1 div.sk-label input.sk-toggleable__control:checked~label.sk-toggleable__label {\n",
       "  color: var(--sklearn-color-text);\n",
       "  background-color: var(--sklearn-color-unfitted-level-2);\n",
       "}\n",
       "\n",
       "#sk-container-id-1 div.sk-label.fitted input.sk-toggleable__control:checked~label.sk-toggleable__label {\n",
       "  background-color: var(--sklearn-color-fitted-level-2);\n",
       "}\n",
       "\n",
       "/* Estimator-specific style */\n",
       "\n",
       "/* Colorize estimator box */\n",
       "#sk-container-id-1 div.sk-estimator input.sk-toggleable__control:checked~label.sk-toggleable__label {\n",
       "  /* unfitted */\n",
       "  background-color: var(--sklearn-color-unfitted-level-2);\n",
       "}\n",
       "\n",
       "#sk-container-id-1 div.sk-estimator.fitted input.sk-toggleable__control:checked~label.sk-toggleable__label {\n",
       "  /* fitted */\n",
       "  background-color: var(--sklearn-color-fitted-level-2);\n",
       "}\n",
       "\n",
       "#sk-container-id-1 div.sk-label label.sk-toggleable__label,\n",
       "#sk-container-id-1 div.sk-label label {\n",
       "  /* The background is the default theme color */\n",
       "  color: var(--sklearn-color-text-on-default-background);\n",
       "}\n",
       "\n",
       "/* On hover, darken the color of the background */\n",
       "#sk-container-id-1 div.sk-label:hover label.sk-toggleable__label {\n",
       "  color: var(--sklearn-color-text);\n",
       "  background-color: var(--sklearn-color-unfitted-level-2);\n",
       "}\n",
       "\n",
       "/* Label box, darken color on hover, fitted */\n",
       "#sk-container-id-1 div.sk-label.fitted:hover label.sk-toggleable__label.fitted {\n",
       "  color: var(--sklearn-color-text);\n",
       "  background-color: var(--sklearn-color-fitted-level-2);\n",
       "}\n",
       "\n",
       "/* Estimator label */\n",
       "\n",
       "#sk-container-id-1 div.sk-label label {\n",
       "  font-family: monospace;\n",
       "  font-weight: bold;\n",
       "  display: inline-block;\n",
       "  line-height: 1.2em;\n",
       "}\n",
       "\n",
       "#sk-container-id-1 div.sk-label-container {\n",
       "  text-align: center;\n",
       "}\n",
       "\n",
       "/* Estimator-specific */\n",
       "#sk-container-id-1 div.sk-estimator {\n",
       "  font-family: monospace;\n",
       "  border: 1px dotted var(--sklearn-color-border-box);\n",
       "  border-radius: 0.25em;\n",
       "  box-sizing: border-box;\n",
       "  margin-bottom: 0.5em;\n",
       "  /* unfitted */\n",
       "  background-color: var(--sklearn-color-unfitted-level-0);\n",
       "}\n",
       "\n",
       "#sk-container-id-1 div.sk-estimator.fitted {\n",
       "  /* fitted */\n",
       "  background-color: var(--sklearn-color-fitted-level-0);\n",
       "}\n",
       "\n",
       "/* on hover */\n",
       "#sk-container-id-1 div.sk-estimator:hover {\n",
       "  /* unfitted */\n",
       "  background-color: var(--sklearn-color-unfitted-level-2);\n",
       "}\n",
       "\n",
       "#sk-container-id-1 div.sk-estimator.fitted:hover {\n",
       "  /* fitted */\n",
       "  background-color: var(--sklearn-color-fitted-level-2);\n",
       "}\n",
       "\n",
       "/* Specification for estimator info (e.g. \"i\" and \"?\") */\n",
       "\n",
       "/* Common style for \"i\" and \"?\" */\n",
       "\n",
       ".sk-estimator-doc-link,\n",
       "a:link.sk-estimator-doc-link,\n",
       "a:visited.sk-estimator-doc-link {\n",
       "  float: right;\n",
       "  font-size: smaller;\n",
       "  line-height: 1em;\n",
       "  font-family: monospace;\n",
       "  background-color: var(--sklearn-color-background);\n",
       "  border-radius: 1em;\n",
       "  height: 1em;\n",
       "  width: 1em;\n",
       "  text-decoration: none !important;\n",
       "  margin-left: 0.5em;\n",
       "  text-align: center;\n",
       "  /* unfitted */\n",
       "  border: var(--sklearn-color-unfitted-level-1) 1pt solid;\n",
       "  color: var(--sklearn-color-unfitted-level-1);\n",
       "}\n",
       "\n",
       ".sk-estimator-doc-link.fitted,\n",
       "a:link.sk-estimator-doc-link.fitted,\n",
       "a:visited.sk-estimator-doc-link.fitted {\n",
       "  /* fitted */\n",
       "  border: var(--sklearn-color-fitted-level-1) 1pt solid;\n",
       "  color: var(--sklearn-color-fitted-level-1);\n",
       "}\n",
       "\n",
       "/* On hover */\n",
       "div.sk-estimator:hover .sk-estimator-doc-link:hover,\n",
       ".sk-estimator-doc-link:hover,\n",
       "div.sk-label-container:hover .sk-estimator-doc-link:hover,\n",
       ".sk-estimator-doc-link:hover {\n",
       "  /* unfitted */\n",
       "  background-color: var(--sklearn-color-unfitted-level-3);\n",
       "  color: var(--sklearn-color-background);\n",
       "  text-decoration: none;\n",
       "}\n",
       "\n",
       "div.sk-estimator.fitted:hover .sk-estimator-doc-link.fitted:hover,\n",
       ".sk-estimator-doc-link.fitted:hover,\n",
       "div.sk-label-container:hover .sk-estimator-doc-link.fitted:hover,\n",
       ".sk-estimator-doc-link.fitted:hover {\n",
       "  /* fitted */\n",
       "  background-color: var(--sklearn-color-fitted-level-3);\n",
       "  color: var(--sklearn-color-background);\n",
       "  text-decoration: none;\n",
       "}\n",
       "\n",
       "/* Span, style for the box shown on hovering the info icon */\n",
       ".sk-estimator-doc-link span {\n",
       "  display: none;\n",
       "  z-index: 9999;\n",
       "  position: relative;\n",
       "  font-weight: normal;\n",
       "  right: .2ex;\n",
       "  padding: .5ex;\n",
       "  margin: .5ex;\n",
       "  width: min-content;\n",
       "  min-width: 20ex;\n",
       "  max-width: 50ex;\n",
       "  color: var(--sklearn-color-text);\n",
       "  box-shadow: 2pt 2pt 4pt #999;\n",
       "  /* unfitted */\n",
       "  background: var(--sklearn-color-unfitted-level-0);\n",
       "  border: .5pt solid var(--sklearn-color-unfitted-level-3);\n",
       "}\n",
       "\n",
       ".sk-estimator-doc-link.fitted span {\n",
       "  /* fitted */\n",
       "  background: var(--sklearn-color-fitted-level-0);\n",
       "  border: var(--sklearn-color-fitted-level-3);\n",
       "}\n",
       "\n",
       ".sk-estimator-doc-link:hover span {\n",
       "  display: block;\n",
       "}\n",
       "\n",
       "/* \"?\"-specific style due to the `<a>` HTML tag */\n",
       "\n",
       "#sk-container-id-1 a.estimator_doc_link {\n",
       "  float: right;\n",
       "  font-size: 1rem;\n",
       "  line-height: 1em;\n",
       "  font-family: monospace;\n",
       "  background-color: var(--sklearn-color-background);\n",
       "  border-radius: 1rem;\n",
       "  height: 1rem;\n",
       "  width: 1rem;\n",
       "  text-decoration: none;\n",
       "  /* unfitted */\n",
       "  color: var(--sklearn-color-unfitted-level-1);\n",
       "  border: var(--sklearn-color-unfitted-level-1) 1pt solid;\n",
       "}\n",
       "\n",
       "#sk-container-id-1 a.estimator_doc_link.fitted {\n",
       "  /* fitted */\n",
       "  border: var(--sklearn-color-fitted-level-1) 1pt solid;\n",
       "  color: var(--sklearn-color-fitted-level-1);\n",
       "}\n",
       "\n",
       "/* On hover */\n",
       "#sk-container-id-1 a.estimator_doc_link:hover {\n",
       "  /* unfitted */\n",
       "  background-color: var(--sklearn-color-unfitted-level-3);\n",
       "  color: var(--sklearn-color-background);\n",
       "  text-decoration: none;\n",
       "}\n",
       "\n",
       "#sk-container-id-1 a.estimator_doc_link.fitted:hover {\n",
       "  /* fitted */\n",
       "  background-color: var(--sklearn-color-fitted-level-3);\n",
       "}\n",
       "</style><div id=\"sk-container-id-1\" class=\"sk-top-container\"><div class=\"sk-text-repr-fallback\"><pre>XGBRegressor(base_score=None, booster=None, callbacks=None,\n",
       "             colsample_bylevel=None, colsample_bynode=None,\n",
       "             colsample_bytree=None, device=&#x27;cuda&#x27;, early_stopping_rounds=None,\n",
       "             enable_categorical=False, eval_metric=None, feature_types=None,\n",
       "             feature_weights=None, gamma=None, grow_policy=None,\n",
       "             importance_type=None, interaction_constraints=None,\n",
       "             learning_rate=0.1, max_bin=None, max_cat_threshold=None,\n",
       "             max_cat_to_onehot=None, max_delta_step=None, max_depth=10,\n",
       "             max_leaves=None, min_child_weight=None, missing=nan,\n",
       "             monotone_constraints=None, multi_strategy=None, n_estimators=200,\n",
       "             n_jobs=None, num_parallel_tree=None, ...)</pre><b>In a Jupyter environment, please rerun this cell to show the HTML representation or trust the notebook. <br />On GitHub, the HTML representation is unable to render, please try loading this page with nbviewer.org.</b></div><div class=\"sk-container\" hidden><div class=\"sk-item\"><div class=\"sk-estimator fitted sk-toggleable\"><input class=\"sk-toggleable__control sk-hidden--visually\" id=\"sk-estimator-id-1\" type=\"checkbox\" checked><label for=\"sk-estimator-id-1\" class=\"sk-toggleable__label fitted sk-toggleable__label-arrow\"><div><div>XGBRegressor</div></div><div><a class=\"sk-estimator-doc-link fitted\" rel=\"noreferrer\" target=\"_blank\" href=\"https://xgboost.readthedocs.io/en/release_3.0.0/python/python_api.html#xgboost.XGBRegressor\">?<span>Documentation for XGBRegressor</span></a><span class=\"sk-estimator-doc-link fitted\">i<span>Fitted</span></span></div></label><div class=\"sk-toggleable__content fitted\"><pre>XGBRegressor(base_score=None, booster=None, callbacks=None,\n",
       "             colsample_bylevel=None, colsample_bynode=None,\n",
       "             colsample_bytree=None, device=&#x27;cuda&#x27;, early_stopping_rounds=None,\n",
       "             enable_categorical=False, eval_metric=None, feature_types=None,\n",
       "             feature_weights=None, gamma=None, grow_policy=None,\n",
       "             importance_type=None, interaction_constraints=None,\n",
       "             learning_rate=0.1, max_bin=None, max_cat_threshold=None,\n",
       "             max_cat_to_onehot=None, max_delta_step=None, max_depth=10,\n",
       "             max_leaves=None, min_child_weight=None, missing=nan,\n",
       "             monotone_constraints=None, multi_strategy=None, n_estimators=200,\n",
       "             n_jobs=None, num_parallel_tree=None, ...)</pre></div> </div></div></div></div>"
      ],
      "text/plain": [
       "XGBRegressor(base_score=None, booster=None, callbacks=None,\n",
       "             colsample_bylevel=None, colsample_bynode=None,\n",
       "             colsample_bytree=None, device='cuda', early_stopping_rounds=None,\n",
       "             enable_categorical=False, eval_metric=None, feature_types=None,\n",
       "             feature_weights=None, gamma=None, grow_policy=None,\n",
       "             importance_type=None, interaction_constraints=None,\n",
       "             learning_rate=0.1, max_bin=None, max_cat_threshold=None,\n",
       "             max_cat_to_onehot=None, max_delta_step=None, max_depth=10,\n",
       "             max_leaves=None, min_child_weight=None, missing=nan,\n",
       "             monotone_constraints=None, multi_strategy=None, n_estimators=200,\n",
       "             n_jobs=None, num_parallel_tree=None, ...)"
      ]
     },
     "execution_count": 12,
     "metadata": {},
     "output_type": "execute_result"
    }
   ],
   "source": [
    "xgb.fit(X_train, y_train,\n",
    "    # evaluate loss at each iteration\n",
    "    eval_set=[(X_train, y_train), (X_val, y_val)]#,  \n",
    "    # stop iterating when eval loss increases 5 times in a row\n",
    "    # early_stopping_rounds=5\n",
    ")"
   ]
  },
  {
   "cell_type": "markdown",
   "id": "aec0c429-b089-453c-b4d1-af4f434e8178",
   "metadata": {},
   "source": [
    "#### Scoring the XGBoost model"
   ]
  },
  {
   "cell_type": "code",
   "execution_count": 13,
   "id": "a11a612f-be18-4ed5-81ff-262c91b0f827",
   "metadata": {
    "execution": {
     "iopub.execute_input": "2025-06-07T18:07:22.579004Z",
     "iopub.status.busy": "2025-06-07T18:07:22.578035Z",
     "iopub.status.idle": "2025-06-07T18:07:23.084865Z",
     "shell.execute_reply": "2025-06-07T18:07:23.083300Z",
     "shell.execute_reply.started": "2025-06-07T18:07:22.578966Z"
    }
   },
   "outputs": [
    {
     "data": {
      "text/plain": [
       "array([5932.9927 ,  716.10913,  544.55396, ..., 1054.9717 , 2301.71   ,\n",
       "       2213.8052 ], dtype=float32)"
      ]
     },
     "execution_count": 13,
     "metadata": {},
     "output_type": "execute_result"
    }
   ],
   "source": [
    "y_pred_val = xgb.predict(X_val)\n",
    "y_pred_val"
   ]
  },
  {
   "cell_type": "code",
   "execution_count": 14,
   "id": "90c99979-72d8-4442-afb1-a3ec33f10875",
   "metadata": {
    "execution": {
     "iopub.execute_input": "2025-06-07T18:07:23.923433Z",
     "iopub.status.busy": "2025-06-07T18:07:23.922426Z",
     "iopub.status.idle": "2025-06-07T18:07:24.164119Z",
     "shell.execute_reply": "2025-06-07T18:07:24.162704Z",
     "shell.execute_reply.started": "2025-06-07T18:07:23.923395Z"
    }
   },
   "outputs": [
    {
     "data": {
      "text/plain": [
       "array([ 3176.1284,  6101.3447,  5684.684 , ...,  4049.8054, 20323.334 ,\n",
       "        1230.94  ], dtype=float32)"
      ]
     },
     "execution_count": 14,
     "metadata": {},
     "output_type": "execute_result"
    }
   ],
   "source": [
    "y_pred_test = xgb.predict(X_test)\n",
    "y_pred_test"
   ]
  },
  {
   "cell_type": "code",
   "execution_count": 15,
   "id": "20699004-f211-4f3d-89eb-20fec84ae7e9",
   "metadata": {
    "execution": {
     "iopub.execute_input": "2025-06-07T18:07:25.092931Z",
     "iopub.status.busy": "2025-06-07T18:07:25.091578Z",
     "iopub.status.idle": "2025-06-07T18:07:25.098098Z",
     "shell.execute_reply": "2025-06-07T18:07:25.096644Z",
     "shell.execute_reply.started": "2025-06-07T18:07:25.092893Z"
    }
   },
   "outputs": [],
   "source": [
    "# xgb_cpu.predict(X_val)"
   ]
  },
  {
   "cell_type": "code",
   "execution_count": 16,
   "id": "94c5135a-65f8-413e-a59b-714c1e6dc81c",
   "metadata": {
    "execution": {
     "iopub.execute_input": "2025-06-07T18:07:25.466394Z",
     "iopub.status.busy": "2025-06-07T18:07:25.465436Z",
     "iopub.status.idle": "2025-06-07T18:07:25.664534Z",
     "shell.execute_reply": "2025-06-07T18:07:25.662970Z",
     "shell.execute_reply.started": "2025-06-07T18:07:25.466358Z"
    }
   },
   "outputs": [
    {
     "data": {
      "text/plain": [
       "0.9951525185381551"
      ]
     },
     "execution_count": 16,
     "metadata": {},
     "output_type": "execute_result"
    }
   ],
   "source": [
    "xgb.score(X_val, y_val)"
   ]
  },
  {
   "cell_type": "code",
   "execution_count": 17,
   "id": "ea300718-d8b3-4aa4-b705-72fc38ba3c97",
   "metadata": {
    "execution": {
     "iopub.execute_input": "2025-06-07T18:07:26.258087Z",
     "iopub.status.busy": "2025-06-07T18:07:26.257161Z",
     "iopub.status.idle": "2025-06-07T18:07:26.462245Z",
     "shell.execute_reply": "2025-06-07T18:07:26.460830Z",
     "shell.execute_reply.started": "2025-06-07T18:07:26.258050Z"
    }
   },
   "outputs": [
    {
     "data": {
      "text/plain": [
       "0.9973310511999025"
      ]
     },
     "execution_count": 17,
     "metadata": {},
     "output_type": "execute_result"
    }
   ],
   "source": [
    "xgb.score(X_test, y_test)"
   ]
  },
  {
   "cell_type": "code",
   "execution_count": 18,
   "id": "056dde03-f485-42ba-8b65-6ad8f959e9b8",
   "metadata": {
    "execution": {
     "iopub.execute_input": "2025-06-07T18:07:27.243963Z",
     "iopub.status.busy": "2025-06-07T18:07:27.242999Z",
     "iopub.status.idle": "2025-06-07T18:07:27.285561Z",
     "shell.execute_reply": "2025-06-07T18:07:27.282801Z",
     "shell.execute_reply.started": "2025-06-07T18:07:27.243927Z"
    }
   },
   "outputs": [
    {
     "data": {
      "text/plain": [
       "149587.7272109732"
      ]
     },
     "execution_count": 18,
     "metadata": {},
     "output_type": "execute_result"
    }
   ],
   "source": [
    "mean_squared_error(y_val, y_pred_val)"
   ]
  },
  {
   "cell_type": "code",
   "execution_count": 19,
   "id": "52daa463-1043-4227-a85f-739889ca0b49",
   "metadata": {
    "execution": {
     "iopub.execute_input": "2025-06-07T18:07:31.014012Z",
     "iopub.status.busy": "2025-06-07T18:07:31.012828Z",
     "iopub.status.idle": "2025-06-07T18:07:31.060983Z",
     "shell.execute_reply": "2025-06-07T18:07:31.059321Z",
     "shell.execute_reply.started": "2025-06-07T18:07:31.013974Z"
    }
   },
   "outputs": [
    {
     "data": {
      "text/plain": [
       "386.7657265205556"
      ]
     },
     "execution_count": 19,
     "metadata": {},
     "output_type": "execute_result"
    }
   ],
   "source": [
    "np.sqrt(mean_squared_error(y_val, y_pred_val))"
   ]
  },
  {
   "cell_type": "code",
   "execution_count": 20,
   "id": "61ce1b4c-80ad-4a97-8dbe-9cf9fa9bf14f",
   "metadata": {
    "execution": {
     "iopub.execute_input": "2025-06-07T18:07:31.754219Z",
     "iopub.status.busy": "2025-06-07T18:07:31.752877Z",
     "iopub.status.idle": "2025-06-07T18:07:31.796497Z",
     "shell.execute_reply": "2025-06-07T18:07:31.795004Z",
     "shell.execute_reply.started": "2025-06-07T18:07:31.754181Z"
    }
   },
   "outputs": [
    {
     "data": {
      "text/plain": [
       "22.68072459831771"
      ]
     },
     "execution_count": 20,
     "metadata": {},
     "output_type": "execute_result"
    }
   ],
   "source": [
    "mean_absolute_error(y_val, y_pred_val)"
   ]
  },
  {
   "cell_type": "code",
   "execution_count": 45,
   "id": "ade2b9e3-82b9-40e0-b97b-b81b8f360337",
   "metadata": {
    "execution": {
     "iopub.execute_input": "2025-06-06T07:54:35.436371Z",
     "iopub.status.busy": "2025-06-06T07:54:35.433655Z",
     "iopub.status.idle": "2025-06-06T07:54:35.564873Z",
     "shell.execute_reply": "2025-06-06T07:54:35.563316Z",
     "shell.execute_reply.started": "2025-06-06T07:54:35.436262Z"
    }
   },
   "outputs": [
    {
     "data": {
      "text/plain": [
       "SalesKey\n",
       "2384552     5880.0000\n",
       "2384557    13278.6220\n",
       "2384565      115.4615\n",
       "2384572    10887.2000\n",
       "2384585      359.8800\n",
       "Name: SalesAmount, dtype: float64"
      ]
     },
     "execution_count": 45,
     "metadata": {},
     "output_type": "execute_result"
    }
   ],
   "source": [
    "y_test.head()"
   ]
  },
  {
   "cell_type": "markdown",
   "id": "c02120a0-459f-476f-9b22-72ed0000e81c",
   "metadata": {},
   "source": [
    "#### Looks pretty good! The model's SalesAmount predictions are on average off by only 20-30 $ !"
   ]
  },
  {
   "cell_type": "markdown",
   "id": "f34b0293-f061-40b8-bbcd-9b8c6c5114fd",
   "metadata": {},
   "source": [
    "#### TO DO: Plot observed and predicted data"
   ]
  },
  {
   "cell_type": "code",
   "execution_count": 46,
   "id": "5189d7cd-8144-4805-841d-ebb1019f246f",
   "metadata": {
    "execution": {
     "iopub.execute_input": "2025-06-06T07:54:36.596342Z",
     "iopub.status.busy": "2025-06-06T07:54:36.594210Z",
     "iopub.status.idle": "2025-06-06T07:54:36.622607Z",
     "shell.execute_reply": "2025-06-06T07:54:36.617930Z",
     "shell.execute_reply.started": "2025-06-06T07:54:36.596231Z"
    }
   },
   "outputs": [
    {
     "data": {
      "text/plain": [
       "array([ 5888.641  , 13447.425  ,   115.00366, ...,  3864.3281 ,\n",
       "       20310.965  ,  1241.8059 ], dtype=float32)"
      ]
     },
     "execution_count": 46,
     "metadata": {},
     "output_type": "execute_result"
    }
   ],
   "source": [
    "y_pred_test"
   ]
  },
  {
   "cell_type": "code",
   "execution_count": 47,
   "id": "1fc8ffb2-1aa2-457b-8a00-d7ee487f9e5e",
   "metadata": {
    "execution": {
     "iopub.execute_input": "2025-06-06T07:54:37.105163Z",
     "iopub.status.busy": "2025-06-06T07:54:37.103056Z",
     "iopub.status.idle": "2025-06-06T07:54:37.327067Z",
     "shell.execute_reply": "2025-06-06T07:54:37.325348Z",
     "shell.execute_reply.started": "2025-06-06T07:54:37.105055Z"
    }
   },
   "outputs": [
    {
     "data": {
      "text/plain": [
       "SalesKey\n",
       "2384552     5880.0000\n",
       "2384557    13278.6220\n",
       "2384565      115.4615\n",
       "2384572    10887.2000\n",
       "2384585      359.8800\n",
       "              ...    \n",
       "3406074     5235.5240\n",
       "3406075      140.3000\n",
       "3406083     3854.8715\n",
       "3406088    20310.7500\n",
       "3406089     1226.4000\n",
       "Name: SalesAmount, Length: 184025, dtype: float64"
      ]
     },
     "execution_count": 47,
     "metadata": {},
     "output_type": "execute_result"
    }
   ],
   "source": [
    "y_test"
   ]
  },
  {
   "cell_type": "code",
   "execution_count": 35,
   "id": "472d91de-3b5a-4cc7-841a-8991e68873ba",
   "metadata": {
    "execution": {
     "iopub.execute_input": "2025-06-07T18:56:12.160208Z",
     "iopub.status.busy": "2025-06-07T18:56:12.158925Z",
     "iopub.status.idle": "2025-06-07T18:56:12.172886Z",
     "shell.execute_reply": "2025-06-07T18:56:12.171289Z",
     "shell.execute_reply.started": "2025-06-07T18:56:12.160169Z"
    }
   },
   "outputs": [],
   "source": [
    "def plot_prediction_with_val(y_pred_val, y_pred_test, y_train, y_val, y_test, upper=None, lower=None):\n",
    "        is_confidence_int = isinstance(upper, np.ndarray) and isinstance(lower, np.ndarray)\n",
    "        # Prepare plot series\n",
    "        y_pred_val_series = pd.Series(y_pred_val, index = y_val.index)\n",
    "        y_pred_test_series = pd.Series(y_pred_test, index = y_test.index)\n",
    "        lower_val_series = pd.Series(upper, index = y_val.index) if is_confidence_int else None\n",
    "        upper_val_series = pd.Series(lower, index = y_val.index) if is_confidence_int else None\n",
    "        lower_test_series = pd.Series(upper, index = y_test.index) if is_confidence_int else None\n",
    "        upper_test_series = pd.Series(lower, index = y_test.index) if is_confidence_int else None\n",
    "\n",
    "        # Plot\n",
    "        plt.figure(figsize=(10,4), dpi=100)\n",
    "        plt.plot(y_train[::5000], label='training', color='black')\n",
    "        plt.plot(y_val[::5000], label='validation data', color='black', ls='--')\n",
    "        plt.plot(y_test[::5000], label='test data', color='black', ls=':')\n",
    "        if is_confidence_int:\n",
    "            plt.fill_between(lower_series.index, lower_series, upper_series, color='k', alpha=.15)\n",
    "        plt.title('Prediction vs Actual Validation and Test Values')\n",
    "        plt.plot(y_pred_val_series[::5000], label='val prediction', color='blue')\n",
    "        plt.plot(y_pred_test_series[::5000], label='test prediction', color='lightblue')\n",
    "        plt.legend(loc='upper left', fontsize=8);"
   ]
  },
  {
   "cell_type": "code",
   "execution_count": 36,
   "id": "56e442c9-267f-4478-b107-813d422ee5bc",
   "metadata": {
    "execution": {
     "iopub.execute_input": "2025-06-07T18:56:12.509913Z",
     "iopub.status.busy": "2025-06-07T18:56:12.508691Z",
     "iopub.status.idle": "2025-06-07T18:56:12.893329Z",
     "shell.execute_reply": "2025-06-07T18:56:12.891838Z",
     "shell.execute_reply.started": "2025-06-07T18:56:12.509875Z"
    }
   },
   "outputs": [
    {
     "data": {
      "image/png": "[encoded data removed]",
      "text/plain": [
       "<Figure size 1000x400 with 1 Axes>"
      ]
     },
     "metadata": {},
     "output_type": "display_data"
    }
   ],
   "source": [
    "plot_prediction_with_val(y_pred_val, y_pred_test, y_train, y_val, y_test)"
   ]
  },
  {
   "cell_type": "markdown",
   "id": "962e523b-e8d5-4841-9800-a727050f385a",
   "metadata": {},
   "source": [
    "# Testing out predictions with knowable facts only"
   ]
  },
  {
   "cell_type": "code",
   "execution_count": 14,
   "id": "8f6fa9d8-6195-4d54-9f99-5ad8fa79d4ff",
   "metadata": {
    "execution": {
     "iopub.execute_input": "2025-06-07T19:28:51.692201Z",
     "iopub.status.busy": "2025-06-07T19:28:51.690850Z",
     "iopub.status.idle": "2025-06-07T19:28:51.698351Z",
     "shell.execute_reply": "2025-06-07T19:28:51.696671Z",
     "shell.execute_reply.started": "2025-06-07T19:28:51.692163Z"
    }
   },
   "outputs": [],
   "source": [
    "import salesninja.ml as ml"
   ]
  },
  {
   "cell_type": "code",
   "execution_count": 22,
   "id": "193a0422-3013-4b6c-863a-493c10bcdfed",
   "metadata": {
    "execution": {
     "iopub.execute_input": "2025-06-07T19:34:16.268141Z",
     "iopub.status.busy": "2025-06-07T19:34:16.266780Z",
     "iopub.status.idle": "2025-06-07T19:34:31.061505Z",
     "shell.execute_reply": "2025-06-07T19:34:31.060060Z",
     "shell.execute_reply.started": "2025-06-07T19:34:16.268105Z"
    }
   },
   "outputs": [
    {
     "name": "stdout",
     "output_type": "stream",
     "text": [
      "(681219, 40)\n"
     ]
    },
    {
     "data": {
      "text/html": [
       "<div>\n",
       "<style scoped>\n",
       "    .dataframe tbody tr th:only-of-type {\n",
       "        vertical-align: middle;\n",
       "    }\n",
       "\n",
       "    .dataframe tbody tr th {\n",
       "        vertical-align: top;\n",
       "    }\n",
       "\n",
       "    .dataframe thead th {\n",
       "        text-align: right;\n",
       "    }\n",
       "</style>\n",
       "<table border=\"1\" class=\"dataframe\">\n",
       "  <thead>\n",
       "    <tr style=\"text-align: right;\">\n",
       "      <th></th>\n",
       "      <th>DateKey</th>\n",
       "      <th>channelKey</th>\n",
       "      <th>StoreKey</th>\n",
       "      <th>ProductKey</th>\n",
       "      <th>PromotionKey</th>\n",
       "      <th>UnitCost</th>\n",
       "      <th>UnitPrice</th>\n",
       "      <th>SalesQuantity</th>\n",
       "      <th>ReturnQuantity</th>\n",
       "      <th>ReturnAmount</th>\n",
       "      <th>...</th>\n",
       "      <th>ProductCategoryKey</th>\n",
       "      <th>GeographyKey</th>\n",
       "      <th>StoreType</th>\n",
       "      <th>EmployeeCount</th>\n",
       "      <th>SellingAreaSize</th>\n",
       "      <th>GeographyType</th>\n",
       "      <th>ContinentName</th>\n",
       "      <th>CityName</th>\n",
       "      <th>StateProvinceName</th>\n",
       "      <th>RegionCountryName</th>\n",
       "    </tr>\n",
       "    <tr>\n",
       "      <th>SalesKey</th>\n",
       "      <th></th>\n",
       "      <th></th>\n",
       "      <th></th>\n",
       "      <th></th>\n",
       "      <th></th>\n",
       "      <th></th>\n",
       "      <th></th>\n",
       "      <th></th>\n",
       "      <th></th>\n",
       "      <th></th>\n",
       "      <th></th>\n",
       "      <th></th>\n",
       "      <th></th>\n",
       "      <th></th>\n",
       "      <th></th>\n",
       "      <th></th>\n",
       "      <th></th>\n",
       "      <th></th>\n",
       "      <th></th>\n",
       "      <th></th>\n",
       "      <th></th>\n",
       "    </tr>\n",
       "  </thead>\n",
       "  <tbody>\n",
       "    <tr>\n",
       "      <th>8</th>\n",
       "      <td>2008-04-10</td>\n",
       "      <td>2</td>\n",
       "      <td>307</td>\n",
       "      <td>138</td>\n",
       "      <td>15</td>\n",
       "      <td>229.93</td>\n",
       "      <td>499.99</td>\n",
       "      <td>9</td>\n",
       "      <td>0</td>\n",
       "      <td>0.0</td>\n",
       "      <td>...</td>\n",
       "      <td>2.0</td>\n",
       "      <td>710</td>\n",
       "      <td>Online</td>\n",
       "      <td>8</td>\n",
       "      <td>93800</td>\n",
       "      <td>City</td>\n",
       "      <td>Asia</td>\n",
       "      <td>Beijing</td>\n",
       "      <td>Beijing</td>\n",
       "      <td>China</td>\n",
       "    </tr>\n",
       "    <tr>\n",
       "      <th>13</th>\n",
       "      <td>2007-07-25</td>\n",
       "      <td>1</td>\n",
       "      <td>171</td>\n",
       "      <td>739</td>\n",
       "      <td>3</td>\n",
       "      <td>78.19</td>\n",
       "      <td>236.00</td>\n",
       "      <td>12</td>\n",
       "      <td>0</td>\n",
       "      <td>0.0</td>\n",
       "      <td>...</td>\n",
       "      <td>3.0</td>\n",
       "      <td>932</td>\n",
       "      <td>Store</td>\n",
       "      <td>25</td>\n",
       "      <td>700</td>\n",
       "      <td>City</td>\n",
       "      <td>North America</td>\n",
       "      <td>South Portland</td>\n",
       "      <td>Maine</td>\n",
       "      <td>United States</td>\n",
       "    </tr>\n",
       "    <tr>\n",
       "      <th>14</th>\n",
       "      <td>2008-12-16</td>\n",
       "      <td>1</td>\n",
       "      <td>16</td>\n",
       "      <td>1269</td>\n",
       "      <td>13</td>\n",
       "      <td>25.47</td>\n",
       "      <td>49.96</td>\n",
       "      <td>13</td>\n",
       "      <td>0</td>\n",
       "      <td>0.0</td>\n",
       "      <td>...</td>\n",
       "      <td>4.0</td>\n",
       "      <td>627</td>\n",
       "      <td>Store</td>\n",
       "      <td>17</td>\n",
       "      <td>462</td>\n",
       "      <td>City</td>\n",
       "      <td>North America</td>\n",
       "      <td>Everett</td>\n",
       "      <td>Washington</td>\n",
       "      <td>United States</td>\n",
       "    </tr>\n",
       "    <tr>\n",
       "      <th>22</th>\n",
       "      <td>2008-02-29</td>\n",
       "      <td>1</td>\n",
       "      <td>155</td>\n",
       "      <td>189</td>\n",
       "      <td>11</td>\n",
       "      <td>58.36</td>\n",
       "      <td>126.90</td>\n",
       "      <td>9</td>\n",
       "      <td>0</td>\n",
       "      <td>0.0</td>\n",
       "      <td>...</td>\n",
       "      <td>2.0</td>\n",
       "      <td>832</td>\n",
       "      <td>Store</td>\n",
       "      <td>25</td>\n",
       "      <td>700</td>\n",
       "      <td>City</td>\n",
       "      <td>North America</td>\n",
       "      <td>Framingham</td>\n",
       "      <td>Massachusetts</td>\n",
       "      <td>United States</td>\n",
       "    </tr>\n",
       "    <tr>\n",
       "      <th>33</th>\n",
       "      <td>2009-01-25</td>\n",
       "      <td>1</td>\n",
       "      <td>178</td>\n",
       "      <td>824</td>\n",
       "      <td>20</td>\n",
       "      <td>6.07</td>\n",
       "      <td>11.90</td>\n",
       "      <td>18</td>\n",
       "      <td>0</td>\n",
       "      <td>0.0</td>\n",
       "      <td>...</td>\n",
       "      <td>3.0</td>\n",
       "      <td>864</td>\n",
       "      <td>Store</td>\n",
       "      <td>25</td>\n",
       "      <td>700</td>\n",
       "      <td>City</td>\n",
       "      <td>North America</td>\n",
       "      <td>Litchfield County</td>\n",
       "      <td>Connecticut</td>\n",
       "      <td>United States</td>\n",
       "    </tr>\n",
       "  </tbody>\n",
       "</table>\n",
       "<p>5 rows × 40 columns</p>\n",
       "</div>"
      ],
      "text/plain": [
       "            DateKey  channelKey  StoreKey  ProductKey  PromotionKey  UnitCost  \\\n",
       "SalesKey                                                                        \n",
       "8        2008-04-10           2       307         138            15    229.93   \n",
       "13       2007-07-25           1       171         739             3     78.19   \n",
       "14       2008-12-16           1        16        1269            13     25.47   \n",
       "22       2008-02-29           1       155         189            11     58.36   \n",
       "33       2009-01-25           1       178         824            20      6.07   \n",
       "\n",
       "          UnitPrice  SalesQuantity  ReturnQuantity  ReturnAmount  ...  \\\n",
       "SalesKey                                                          ...   \n",
       "8            499.99              9               0           0.0  ...   \n",
       "13           236.00             12               0           0.0  ...   \n",
       "14            49.96             13               0           0.0  ...   \n",
       "22           126.90              9               0           0.0  ...   \n",
       "33            11.90             18               0           0.0  ...   \n",
       "\n",
       "          ProductCategoryKey  GeographyKey  StoreType EmployeeCount  \\\n",
       "SalesKey                                                              \n",
       "8                        2.0           710     Online             8   \n",
       "13                       3.0           932      Store            25   \n",
       "14                       4.0           627      Store            17   \n",
       "22                       2.0           832      Store            25   \n",
       "33                       3.0           864      Store            25   \n",
       "\n",
       "          SellingAreaSize  GeographyType  ContinentName           CityName  \\\n",
       "SalesKey                                                                     \n",
       "8                   93800           City           Asia            Beijing   \n",
       "13                    700           City  North America     South Portland   \n",
       "14                    462           City  North America            Everett   \n",
       "22                    700           City  North America         Framingham   \n",
       "33                    700           City  North America  Litchfield County   \n",
       "\n",
       "         StateProvinceName RegionCountryName  \n",
       "SalesKey                                      \n",
       "8                  Beijing             China  \n",
       "13                   Maine     United States  \n",
       "14              Washington     United States  \n",
       "22           Massachusetts     United States  \n",
       "33             Connecticut     United States  \n",
       "\n",
       "[5 rows x 40 columns]"
      ]
     },
     "execution_count": 22,
     "metadata": {},
     "output_type": "execute_result"
    }
   ],
   "source": [
    "### For now, let's work with the dataset prepared by Nishi\n",
    "data = pd.read_csv(\"../merged_data/data_ml_merged.csv\", header = 0, skiprows = skipindices)\n",
    "\n",
    "data.set_index(['SalesKey'], inplace=True)\n",
    "data['DateKey'] = pd.to_datetime(data['DateKey'], infer_datetime_format=True)\n",
    "\n",
    "print(data.shape)\n",
    "data.head()"
   ]
  },
  {
   "cell_type": "code",
   "execution_count": 45,
   "id": "c0aa9128-94b3-44c7-a5db-83adcc3a8b16",
   "metadata": {
    "execution": {
     "iopub.execute_input": "2025-06-07T19:46:24.985811Z",
     "iopub.status.busy": "2025-06-07T19:46:24.985086Z",
     "iopub.status.idle": "2025-06-07T19:46:27.523496Z",
     "shell.execute_reply": "2025-06-07T19:46:27.521934Z",
     "shell.execute_reply.started": "2025-06-07T19:46:24.985776Z"
    }
   },
   "outputs": [],
   "source": [
    "X = data.drop(columns = [\"SalesAmount\"])\n",
    "y = data[\"SalesAmount\"]"
   ]
  },
  {
   "cell_type": "code",
   "execution_count": 58,
   "id": "9105705c-73aa-4029-a652-4722ff5f7e7b",
   "metadata": {
    "execution": {
     "iopub.execute_input": "2025-06-07T19:49:07.586911Z",
     "iopub.status.busy": "2025-06-07T19:49:07.585869Z",
     "iopub.status.idle": "2025-06-07T19:49:09.553250Z",
     "shell.execute_reply": "2025-06-07T19:49:09.551746Z",
     "shell.execute_reply.started": "2025-06-07T19:49:07.586855Z"
    }
   },
   "outputs": [
    {
     "data": {
      "text/html": [
       "<div>\n",
       "<style scoped>\n",
       "    .dataframe tbody tr th:only-of-type {\n",
       "        vertical-align: middle;\n",
       "    }\n",
       "\n",
       "    .dataframe tbody tr th {\n",
       "        vertical-align: top;\n",
       "    }\n",
       "\n",
       "    .dataframe thead th {\n",
       "        text-align: right;\n",
       "    }\n",
       "</style>\n",
       "<table border=\"1\" class=\"dataframe\">\n",
       "  <thead>\n",
       "    <tr style=\"text-align: right;\">\n",
       "      <th></th>\n",
       "      <th>DateKey</th>\n",
       "      <th>PromotionKey</th>\n",
       "      <th>DiscountPercent</th>\n",
       "      <th>CalendarYear</th>\n",
       "      <th>CalendarQuarterLabel</th>\n",
       "      <th>CalendarWeekLabel</th>\n",
       "      <th>IsWorkDay</th>\n",
       "      <th>MonthNumber</th>\n",
       "      <th>CalendarDayOfWeekNumber</th>\n",
       "    </tr>\n",
       "    <tr>\n",
       "      <th>SalesKey</th>\n",
       "      <th></th>\n",
       "      <th></th>\n",
       "      <th></th>\n",
       "      <th></th>\n",
       "      <th></th>\n",
       "      <th></th>\n",
       "      <th></th>\n",
       "      <th></th>\n",
       "      <th></th>\n",
       "    </tr>\n",
       "  </thead>\n",
       "  <tbody>\n",
       "    <tr>\n",
       "      <th>8</th>\n",
       "      <td>2008-04-10</td>\n",
       "      <td>15</td>\n",
       "      <td>0.20</td>\n",
       "      <td>2008</td>\n",
       "      <td>Q2</td>\n",
       "      <td>Week 15</td>\n",
       "      <td>WorkDay</td>\n",
       "      <td>4</td>\n",
       "      <td>4</td>\n",
       "    </tr>\n",
       "    <tr>\n",
       "      <th>13</th>\n",
       "      <td>2007-07-25</td>\n",
       "      <td>3</td>\n",
       "      <td>0.10</td>\n",
       "      <td>2007</td>\n",
       "      <td>Q3</td>\n",
       "      <td>Week 30</td>\n",
       "      <td>WorkDay</td>\n",
       "      <td>7</td>\n",
       "      <td>3</td>\n",
       "    </tr>\n",
       "    <tr>\n",
       "      <th>14</th>\n",
       "      <td>2008-12-16</td>\n",
       "      <td>13</td>\n",
       "      <td>0.20</td>\n",
       "      <td>2008</td>\n",
       "      <td>Q4</td>\n",
       "      <td>Week 51</td>\n",
       "      <td>WorkDay</td>\n",
       "      <td>12</td>\n",
       "      <td>2</td>\n",
       "    </tr>\n",
       "    <tr>\n",
       "      <th>22</th>\n",
       "      <td>2008-02-29</td>\n",
       "      <td>11</td>\n",
       "      <td>0.05</td>\n",
       "      <td>2008</td>\n",
       "      <td>Q1</td>\n",
       "      <td>Week 9</td>\n",
       "      <td>WorkDay</td>\n",
       "      <td>2</td>\n",
       "      <td>5</td>\n",
       "    </tr>\n",
       "    <tr>\n",
       "      <th>33</th>\n",
       "      <td>2009-01-25</td>\n",
       "      <td>20</td>\n",
       "      <td>0.05</td>\n",
       "      <td>2009</td>\n",
       "      <td>Q1</td>\n",
       "      <td>Week 5</td>\n",
       "      <td>WeekEnd</td>\n",
       "      <td>1</td>\n",
       "      <td>7</td>\n",
       "    </tr>\n",
       "  </tbody>\n",
       "</table>\n",
       "</div>"
      ],
      "text/plain": [
       "            DateKey  PromotionKey  DiscountPercent  CalendarYear  \\\n",
       "SalesKey                                                           \n",
       "8        2008-04-10            15             0.20          2008   \n",
       "13       2007-07-25             3             0.10          2007   \n",
       "14       2008-12-16            13             0.20          2008   \n",
       "22       2008-02-29            11             0.05          2008   \n",
       "33       2009-01-25            20             0.05          2009   \n",
       "\n",
       "         CalendarQuarterLabel CalendarWeekLabel IsWorkDay  MonthNumber  \\\n",
       "SalesKey                                                                 \n",
       "8                          Q2           Week 15   WorkDay            4   \n",
       "13                         Q3           Week 30   WorkDay            7   \n",
       "14                         Q4           Week 51   WorkDay           12   \n",
       "22                         Q1            Week 9   WorkDay            2   \n",
       "33                         Q1            Week 5   WeekEnd            1   \n",
       "\n",
       "          CalendarDayOfWeekNumber  \n",
       "SalesKey                           \n",
       "8                               4  \n",
       "13                              3  \n",
       "14                              2  \n",
       "22                              5  \n",
       "33                              7  "
      ]
     },
     "execution_count": 58,
     "metadata": {},
     "output_type": "execute_result"
    }
   ],
   "source": [
    "X_facts = ml.preprocessor.extract_prediction_facts(X)\n",
    "X_facts.head()"
   ]
  },
  {
   "cell_type": "code",
   "execution_count": 59,
   "id": "1c80ae1b-8122-490a-951d-121a1136c1ef",
   "metadata": {
    "execution": {
     "iopub.execute_input": "2025-06-07T19:49:09.556280Z",
     "iopub.status.busy": "2025-06-07T19:49:09.555555Z",
     "iopub.status.idle": "2025-06-07T19:49:09.562580Z",
     "shell.execute_reply": "2025-06-07T19:49:09.561061Z",
     "shell.execute_reply.started": "2025-06-07T19:49:09.556239Z"
    }
   },
   "outputs": [],
   "source": [
    "from sklearn.preprocessing import OneHotEncoder"
   ]
  },
  {
   "cell_type": "code",
   "execution_count": 60,
   "id": "4f1b2f54-2bff-4533-9d45-07c5d2f107e6",
   "metadata": {
    "execution": {
     "iopub.execute_input": "2025-06-07T19:49:09.564918Z",
     "iopub.status.busy": "2025-06-07T19:49:09.564214Z",
     "iopub.status.idle": "2025-06-07T19:49:16.572958Z",
     "shell.execute_reply": "2025-06-07T19:49:16.571527Z",
     "shell.execute_reply.started": "2025-06-07T19:49:09.564879Z"
    }
   },
   "outputs": [
    {
     "data": {
      "text/plain": [
       "<Compressed Sparse Row sparse matrix of dtype 'float64'\n",
       "\twith 5702844 stored elements and shape (681219, 64)>"
      ]
     },
     "execution_count": 60,
     "metadata": {},
     "output_type": "execute_result"
    }
   ],
   "source": [
    "X_facts.reset_index(inplace = True)\n",
    "X_facts.drop(columns = [\"DateKey\"], inplace = True)\n",
    "\n",
    "cat_trans = make_column_transformer([OneHotEncoder(handle_unknown='ignore', drop = \"if_binary\"), [\"CalendarQuarterLabel\", \"CalendarWeekLabel\", \"IsWorkDay\"]], remainder='passthrough')\n",
    "X_facts = cat_trans.fit_transform(X_facts)\n",
    "\n",
    "X_facts"
   ]
  },
  {
   "cell_type": "code",
   "execution_count": 62,
   "id": "a24c3298-5a62-479b-a98c-5a77a471ba37",
   "metadata": {
    "execution": {
     "iopub.execute_input": "2025-06-07T19:50:13.244316Z",
     "iopub.status.busy": "2025-06-07T19:50:13.242665Z",
     "iopub.status.idle": "2025-06-07T19:50:13.315527Z",
     "shell.execute_reply": "2025-06-07T19:50:13.311490Z",
     "shell.execute_reply.started": "2025-06-07T19:50:13.244278Z"
    }
   },
   "outputs": [],
   "source": [
    "X_facts_train, X_facts_test, y_facts_train, y_facts_test = train_test_split(X_facts, y, test_size = 0.3, shuffle = False)"
   ]
  },
  {
   "cell_type": "code",
   "execution_count": 63,
   "id": "e2f69e2f-6350-4042-9a97-7f33a9694f89",
   "metadata": {
    "execution": {
     "iopub.execute_input": "2025-06-07T19:50:13.690150Z",
     "iopub.status.busy": "2025-06-07T19:50:13.688974Z",
     "iopub.status.idle": "2025-06-07T19:50:18.998731Z",
     "shell.execute_reply": "2025-06-07T19:50:18.997322Z",
     "shell.execute_reply.started": "2025-06-07T19:50:13.690115Z"
    }
   },
   "outputs": [
    {
     "name": "stdout",
     "output_type": "stream",
     "text": [
      "[0]\tvalidation_0-rmse:5307.68592\tvalidation_1-rmse:5289.26506\n",
      "[1]\tvalidation_0-rmse:5295.73454\tvalidation_1-rmse:5287.87634\n",
      "[2]\tvalidation_0-rmse:5284.96722\tvalidation_1-rmse:5290.35974\n",
      "[3]\tvalidation_0-rmse:5275.80883\tvalidation_1-rmse:5296.27530\n",
      "[4]\tvalidation_0-rmse:5268.09758\tvalidation_1-rmse:5300.94888\n",
      "[5]\tvalidation_0-rmse:5261.38227\tvalidation_1-rmse:5306.58456\n",
      "[6]\tvalidation_0-rmse:5255.55036\tvalidation_1-rmse:5310.40007\n",
      "[7]\tvalidation_0-rmse:5250.40820\tvalidation_1-rmse:5319.19320\n",
      "[8]\tvalidation_0-rmse:5244.58357\tvalidation_1-rmse:5327.82698\n",
      "[9]\tvalidation_0-rmse:5239.89437\tvalidation_1-rmse:5335.63115\n",
      "[10]\tvalidation_0-rmse:5235.59194\tvalidation_1-rmse:5339.14818\n",
      "[11]\tvalidation_0-rmse:5231.58578\tvalidation_1-rmse:5356.57809\n",
      "[12]\tvalidation_0-rmse:5227.62465\tvalidation_1-rmse:5360.38700\n",
      "[13]\tvalidation_0-rmse:5223.78939\tvalidation_1-rmse:5372.03144\n",
      "[14]\tvalidation_0-rmse:5220.52176\tvalidation_1-rmse:5382.89135\n",
      "[15]\tvalidation_0-rmse:5217.29303\tvalidation_1-rmse:5390.01059\n",
      "[16]\tvalidation_0-rmse:5213.65479\tvalidation_1-rmse:5400.77402\n",
      "[17]\tvalidation_0-rmse:5210.61432\tvalidation_1-rmse:5406.12192\n",
      "[18]\tvalidation_0-rmse:5208.03492\tvalidation_1-rmse:5416.11005\n",
      "[19]\tvalidation_0-rmse:5205.06217\tvalidation_1-rmse:5432.67994\n",
      "[20]\tvalidation_0-rmse:5202.52432\tvalidation_1-rmse:5438.29717\n",
      "[21]\tvalidation_0-rmse:5199.56954\tvalidation_1-rmse:5454.26927\n",
      "[22]\tvalidation_0-rmse:5196.29185\tvalidation_1-rmse:5466.23164\n",
      "[23]\tvalidation_0-rmse:5193.46292\tvalidation_1-rmse:5469.61930\n",
      "[24]\tvalidation_0-rmse:5190.20892\tvalidation_1-rmse:5474.27114\n",
      "[25]\tvalidation_0-rmse:5187.34101\tvalidation_1-rmse:5479.52484\n",
      "[26]\tvalidation_0-rmse:5184.39294\tvalidation_1-rmse:5485.16747\n",
      "[27]\tvalidation_0-rmse:5181.85876\tvalidation_1-rmse:5486.37750\n",
      "[28]\tvalidation_0-rmse:5178.26114\tvalidation_1-rmse:5489.83471\n",
      "[29]\tvalidation_0-rmse:5174.81859\tvalidation_1-rmse:5505.15719\n",
      "[30]\tvalidation_0-rmse:5171.99844\tvalidation_1-rmse:5513.18402\n",
      "[31]\tvalidation_0-rmse:5169.25433\tvalidation_1-rmse:5514.34199\n",
      "[32]\tvalidation_0-rmse:5165.59757\tvalidation_1-rmse:5516.47253\n",
      "[33]\tvalidation_0-rmse:5162.83301\tvalidation_1-rmse:5518.08910\n",
      "[34]\tvalidation_0-rmse:5159.77112\tvalidation_1-rmse:5519.07609\n",
      "[35]\tvalidation_0-rmse:5157.78149\tvalidation_1-rmse:5520.11663\n",
      "[36]\tvalidation_0-rmse:5155.52785\tvalidation_1-rmse:5542.87612\n",
      "[37]\tvalidation_0-rmse:5152.69177\tvalidation_1-rmse:5543.29847\n",
      "[38]\tvalidation_0-rmse:5150.49943\tvalidation_1-rmse:5549.48186\n",
      "[39]\tvalidation_0-rmse:5148.16204\tvalidation_1-rmse:5555.95976\n",
      "[40]\tvalidation_0-rmse:5146.08689\tvalidation_1-rmse:5559.83799\n",
      "[41]\tvalidation_0-rmse:5143.61084\tvalidation_1-rmse:5560.24449\n",
      "[42]\tvalidation_0-rmse:5142.49954\tvalidation_1-rmse:5565.36203\n",
      "[43]\tvalidation_0-rmse:5140.81433\tvalidation_1-rmse:5565.71836\n",
      "[44]\tvalidation_0-rmse:5139.09699\tvalidation_1-rmse:5571.22328\n",
      "[45]\tvalidation_0-rmse:5136.98644\tvalidation_1-rmse:5574.78565\n",
      "[46]\tvalidation_0-rmse:5135.21337\tvalidation_1-rmse:5592.05964\n",
      "[47]\tvalidation_0-rmse:5133.40413\tvalidation_1-rmse:5592.96010\n",
      "[48]\tvalidation_0-rmse:5131.49912\tvalidation_1-rmse:5595.48926\n",
      "[49]\tvalidation_0-rmse:5128.84548\tvalidation_1-rmse:5595.59534\n",
      "[50]\tvalidation_0-rmse:5126.58491\tvalidation_1-rmse:5595.71714\n",
      "[51]\tvalidation_0-rmse:5124.22273\tvalidation_1-rmse:5596.12319\n",
      "[52]\tvalidation_0-rmse:5122.15704\tvalidation_1-rmse:5596.27088\n",
      "[53]\tvalidation_0-rmse:5120.28540\tvalidation_1-rmse:5596.23412\n",
      "[54]\tvalidation_0-rmse:5118.68229\tvalidation_1-rmse:5596.98514\n",
      "[55]\tvalidation_0-rmse:5117.65852\tvalidation_1-rmse:5597.71464\n",
      "[56]\tvalidation_0-rmse:5115.73100\tvalidation_1-rmse:5598.07015\n",
      "[57]\tvalidation_0-rmse:5113.50313\tvalidation_1-rmse:5599.51713\n",
      "[58]\tvalidation_0-rmse:5111.85466\tvalidation_1-rmse:5599.83984\n",
      "[59]\tvalidation_0-rmse:5109.57283\tvalidation_1-rmse:5599.93356\n",
      "[60]\tvalidation_0-rmse:5107.24612\tvalidation_1-rmse:5600.47503\n",
      "[61]\tvalidation_0-rmse:5105.32576\tvalidation_1-rmse:5600.98195\n",
      "[62]\tvalidation_0-rmse:5103.91898\tvalidation_1-rmse:5601.19679\n",
      "[63]\tvalidation_0-rmse:5102.33235\tvalidation_1-rmse:5601.89100\n",
      "[64]\tvalidation_0-rmse:5100.41157\tvalidation_1-rmse:5602.00313\n",
      "[65]\tvalidation_0-rmse:5098.10264\tvalidation_1-rmse:5602.89798\n",
      "[66]\tvalidation_0-rmse:5096.89870\tvalidation_1-rmse:5605.92335\n",
      "[67]\tvalidation_0-rmse:5095.76643\tvalidation_1-rmse:5608.91060\n",
      "[68]\tvalidation_0-rmse:5093.96625\tvalidation_1-rmse:5609.31074\n",
      "[69]\tvalidation_0-rmse:5092.88220\tvalidation_1-rmse:5610.07426\n",
      "[70]\tvalidation_0-rmse:5091.50218\tvalidation_1-rmse:5613.64304\n",
      "[71]\tvalidation_0-rmse:5090.57506\tvalidation_1-rmse:5615.01329\n",
      "[72]\tvalidation_0-rmse:5089.21061\tvalidation_1-rmse:5615.86533\n",
      "[73]\tvalidation_0-rmse:5087.61233\tvalidation_1-rmse:5615.87227\n",
      "[74]\tvalidation_0-rmse:5086.09826\tvalidation_1-rmse:5617.05747\n",
      "[75]\tvalidation_0-rmse:5084.75517\tvalidation_1-rmse:5617.11030\n",
      "[76]\tvalidation_0-rmse:5083.45234\tvalidation_1-rmse:5618.31178\n",
      "[77]\tvalidation_0-rmse:5081.93215\tvalidation_1-rmse:5620.77760\n",
      "[78]\tvalidation_0-rmse:5080.39299\tvalidation_1-rmse:5621.66010\n",
      "[79]\tvalidation_0-rmse:5078.49768\tvalidation_1-rmse:5622.58571\n",
      "[80]\tvalidation_0-rmse:5077.08880\tvalidation_1-rmse:5633.18210\n",
      "[81]\tvalidation_0-rmse:5075.66589\tvalidation_1-rmse:5633.87847\n",
      "[82]\tvalidation_0-rmse:5074.09950\tvalidation_1-rmse:5634.09609\n",
      "[83]\tvalidation_0-rmse:5072.27920\tvalidation_1-rmse:5634.15715\n",
      "[84]\tvalidation_0-rmse:5070.63724\tvalidation_1-rmse:5634.67010\n",
      "[85]\tvalidation_0-rmse:5069.69278\tvalidation_1-rmse:5634.67197\n",
      "[86]\tvalidation_0-rmse:5068.32067\tvalidation_1-rmse:5635.04005\n",
      "[87]\tvalidation_0-rmse:5066.86117\tvalidation_1-rmse:5635.62342\n",
      "[88]\tvalidation_0-rmse:5065.06999\tvalidation_1-rmse:5640.17729\n",
      "[89]\tvalidation_0-rmse:5063.73217\tvalidation_1-rmse:5644.80098\n",
      "[90]\tvalidation_0-rmse:5062.71776\tvalidation_1-rmse:5667.08713\n",
      "[91]\tvalidation_0-rmse:5061.27056\tvalidation_1-rmse:5670.39060\n",
      "[92]\tvalidation_0-rmse:5060.08800\tvalidation_1-rmse:5672.01595\n",
      "[93]\tvalidation_0-rmse:5058.78571\tvalidation_1-rmse:5676.94444\n",
      "[94]\tvalidation_0-rmse:5057.05046\tvalidation_1-rmse:5677.37081\n",
      "[95]\tvalidation_0-rmse:5055.97284\tvalidation_1-rmse:5680.75047\n",
      "[96]\tvalidation_0-rmse:5054.92633\tvalidation_1-rmse:5683.33214\n",
      "[97]\tvalidation_0-rmse:5053.01947\tvalidation_1-rmse:5683.58924\n",
      "[98]\tvalidation_0-rmse:5051.43856\tvalidation_1-rmse:5683.94346\n",
      "[99]\tvalidation_0-rmse:5050.37495\tvalidation_1-rmse:5684.39467\n"
     ]
    },
    {
     "data": {
      "text/html": [
       "<style>#sk-container-id-1 {color: black;}#sk-container-id-1 pre{padding: 0;}#sk-container-id-1 div.sk-toggleable {background-color: white;}#sk-container-id-1 label.sk-toggleable__label {cursor: pointer;display: block;width: 100%;margin-bottom: 0;padding: 0.3em;box-sizing: border-box;text-align: center;}#sk-container-id-1 label.sk-toggleable__label-arrow:before {content: \"▸\";float: left;margin-right: 0.25em;color: #696969;}#sk-container-id-1 label.sk-toggleable__label-arrow:hover:before {color: black;}#sk-container-id-1 div.sk-estimator:hover label.sk-toggleable__label-arrow:before {color: black;}#sk-container-id-1 div.sk-toggleable__content {max-height: 0;max-width: 0;overflow: hidden;text-align: left;background-color: #f0f8ff;}#sk-container-id-1 div.sk-toggleable__content pre {margin: 0.2em;color: black;border-radius: 0.25em;background-color: #f0f8ff;}#sk-container-id-1 input.sk-toggleable__control:checked~div.sk-toggleable__content {max-height: 200px;max-width: 100%;overflow: auto;}#sk-container-id-1 input.sk-toggleable__control:checked~label.sk-toggleable__label-arrow:before {content: \"▾\";}#sk-container-id-1 div.sk-estimator input.sk-toggleable__control:checked~label.sk-toggleable__label {background-color: #d4ebff;}#sk-container-id-1 div.sk-label input.sk-toggleable__control:checked~label.sk-toggleable__label {background-color: #d4ebff;}#sk-container-id-1 input.sk-hidden--visually {border: 0;clip: rect(1px 1px 1px 1px);clip: rect(1px, 1px, 1px, 1px);height: 1px;margin: -1px;overflow: hidden;padding: 0;position: absolute;width: 1px;}#sk-container-id-1 div.sk-estimator {font-family: monospace;background-color: #f0f8ff;border: 1px dotted black;border-radius: 0.25em;box-sizing: border-box;margin-bottom: 0.5em;}#sk-container-id-1 div.sk-estimator:hover {background-color: #d4ebff;}#sk-container-id-1 div.sk-parallel-item::after {content: \"\";width: 100%;border-bottom: 1px solid gray;flex-grow: 1;}#sk-container-id-1 div.sk-label:hover label.sk-toggleable__label {background-color: #d4ebff;}#sk-container-id-1 div.sk-serial::before {content: \"\";position: absolute;border-left: 1px solid gray;box-sizing: border-box;top: 0;bottom: 0;left: 50%;z-index: 0;}#sk-container-id-1 div.sk-serial {display: flex;flex-direction: column;align-items: center;background-color: white;padding-right: 0.2em;padding-left: 0.2em;position: relative;}#sk-container-id-1 div.sk-item {position: relative;z-index: 1;}#sk-container-id-1 div.sk-parallel {display: flex;align-items: stretch;justify-content: center;background-color: white;position: relative;}#sk-container-id-1 div.sk-item::before, #sk-container-id-1 div.sk-parallel-item::before {content: \"\";position: absolute;border-left: 1px solid gray;box-sizing: border-box;top: 0;bottom: 0;left: 50%;z-index: -1;}#sk-container-id-1 div.sk-parallel-item {display: flex;flex-direction: column;z-index: 1;position: relative;background-color: white;}#sk-container-id-1 div.sk-parallel-item:first-child::after {align-self: flex-end;width: 50%;}#sk-container-id-1 div.sk-parallel-item:last-child::after {align-self: flex-start;width: 50%;}#sk-container-id-1 div.sk-parallel-item:only-child::after {width: 0;}#sk-container-id-1 div.sk-dashed-wrapped {border: 1px dashed gray;margin: 0 0.4em 0.5em 0.4em;box-sizing: border-box;padding-bottom: 0.4em;background-color: white;}#sk-container-id-1 div.sk-label label {font-family: monospace;font-weight: bold;display: inline-block;line-height: 1.2em;}#sk-container-id-1 div.sk-label-container {text-align: center;}#sk-container-id-1 div.sk-container {/* jupyter's `normalize.less` sets `[hidden] { display: none; }` but bootstrap.min.css set `[hidden] { display: none !important; }` so we also need the `!important` here to be able to override the default hidden behavior on the sphinx rendered scikit-learn.org. See: https://github.com/scikit-learn/scikit-learn/issues/21755 */display: inline-block !important;position: relative;}#sk-container-id-1 div.sk-text-repr-fallback {display: none;}</style><div id=\"sk-container-id-1\" class=\"sk-top-container\"><div class=\"sk-text-repr-fallback\"><pre>XGBRegressor(base_score=None, booster=None, callbacks=None,\n",
       "             colsample_bylevel=None, colsample_bynode=None,\n",
       "             colsample_bytree=None, device=&#x27;cuda&#x27;, early_stopping_rounds=None,\n",
       "             enable_categorical=True, eval_metric=None, feature_types=None,\n",
       "             feature_weights=None, gamma=None, grow_policy=None,\n",
       "             importance_type=None, interaction_constraints=None,\n",
       "             learning_rate=0.1, max_bin=None, max_cat_threshold=None,\n",
       "             max_cat_to_onehot=None, max_delta_step=None, max_depth=10,\n",
       "             max_leaves=None, min_child_weight=None, missing=nan,\n",
       "             monotone_constraints=None, multi_strategy=None, n_estimators=100,\n",
       "             n_jobs=None, num_parallel_tree=None, ...)</pre><b>In a Jupyter environment, please rerun this cell to show the HTML representation or trust the notebook. <br />On GitHub, the HTML representation is unable to render, please try loading this page with nbviewer.org.</b></div><div class=\"sk-container\" hidden><div class=\"sk-item\"><div class=\"sk-estimator sk-toggleable\"><input class=\"sk-toggleable__control sk-hidden--visually\" id=\"sk-estimator-id-1\" type=\"checkbox\" checked><label for=\"sk-estimator-id-1\" class=\"sk-toggleable__label sk-toggleable__label-arrow\">XGBRegressor</label><div class=\"sk-toggleable__content\"><pre>XGBRegressor(base_score=None, booster=None, callbacks=None,\n",
       "             colsample_bylevel=None, colsample_bynode=None,\n",
       "             colsample_bytree=None, device=&#x27;cuda&#x27;, early_stopping_rounds=None,\n",
       "             enable_categorical=True, eval_metric=None, feature_types=None,\n",
       "             feature_weights=None, gamma=None, grow_policy=None,\n",
       "             importance_type=None, interaction_constraints=None,\n",
       "             learning_rate=0.1, max_bin=None, max_cat_threshold=None,\n",
       "             max_cat_to_onehot=None, max_delta_step=None, max_depth=10,\n",
       "             max_leaves=None, min_child_weight=None, missing=nan,\n",
       "             monotone_constraints=None, multi_strategy=None, n_estimators=100,\n",
       "             n_jobs=None, num_parallel_tree=None, ...)</pre></div></div></div></div></div>"
      ],
      "text/plain": [
       "XGBRegressor(base_score=None, booster=None, callbacks=None,\n",
       "             colsample_bylevel=None, colsample_bynode=None,\n",
       "             colsample_bytree=None, device='cuda', early_stopping_rounds=None,\n",
       "             enable_categorical=True, eval_metric=None, feature_types=None,\n",
       "             feature_weights=None, gamma=None, grow_policy=None,\n",
       "             importance_type=None, interaction_constraints=None,\n",
       "             learning_rate=0.1, max_bin=None, max_cat_threshold=None,\n",
       "             max_cat_to_onehot=None, max_delta_step=None, max_depth=10,\n",
       "             max_leaves=None, min_child_weight=None, missing=nan,\n",
       "             monotone_constraints=None, multi_strategy=None, n_estimators=100,\n",
       "             n_jobs=None, num_parallel_tree=None, ...)"
      ]
     },
     "execution_count": 63,
     "metadata": {},
     "output_type": "execute_result"
    }
   ],
   "source": [
    "xgb_facts = XGBRegressor(max_depth=10, n_estimators=100, learning_rate=0.1, enable_categorical=True, device = \"cuda\")\n",
    "\n",
    "xgb_facts.fit(X_facts_train, y_facts_train,\n",
    "    # evaluate loss at each iteration\n",
    "    eval_set=[(X_facts_train, y_facts_train), (X_facts_test, y_facts_test)]#,  \n",
    "    # stop iterating when eval loss increases 5 times in a row\n",
    "    # early_stopping_rounds=5\n",
    ")"
   ]
  },
  {
   "cell_type": "code",
   "execution_count": 64,
   "id": "90e3f608-fcda-4ebb-bcbb-c1853766bee4",
   "metadata": {
    "execution": {
     "iopub.execute_input": "2025-06-07T19:51:01.001929Z",
     "iopub.status.busy": "2025-06-07T19:51:01.000661Z",
     "iopub.status.idle": "2025-06-07T19:51:01.489818Z",
     "shell.execute_reply": "2025-06-07T19:51:01.488316Z",
     "shell.execute_reply.started": "2025-06-07T19:51:01.001885Z"
    }
   },
   "outputs": [
    {
     "name": "stderr",
     "output_type": "stream",
     "text": [
      "/home/kai/.pyenv/versions/3.10.6/envs/sales-ninja/lib/python3.10/site-packages/xgboost/core.py:729: UserWarning: [21:51:01] WARNING: /workspace/src/common/error_msg.cc:58: Falling back to prediction using DMatrix due to mismatched devices. This might lead to higher memory usage and slower performance. XGBoost is running on: cuda:0, while the input data is on: cpu.\n",
      "Potential solutions:\n",
      "- Use a data structure that matches the device ordinal in the booster.\n",
      "- Set the device for booster before call to inplace_predict.\n",
      "\n",
      "This warning will only be shown once.\n",
      "\n",
      "  return func(**kwargs)\n"
     ]
    },
    {
     "data": {
      "text/plain": [
       "0.09948797455040159"
      ]
     },
     "execution_count": 64,
     "metadata": {},
     "output_type": "execute_result"
    }
   ],
   "source": [
    "xgb_facts.score(X_facts_train, y_facts_train)"
   ]
  },
  {
   "cell_type": "code",
   "execution_count": 66,
   "id": "d266b408-3a0e-409d-b2e8-576166522f16",
   "metadata": {
    "execution": {
     "iopub.execute_input": "2025-06-07T19:53:46.148392Z",
     "iopub.status.busy": "2025-06-07T19:53:46.147104Z",
     "iopub.status.idle": "2025-06-07T19:53:46.440425Z",
     "shell.execute_reply": "2025-06-07T19:53:46.438792Z",
     "shell.execute_reply.started": "2025-06-07T19:53:46.148353Z"
    }
   },
   "outputs": [
    {
     "data": {
      "text/plain": [
       "-0.15197639888148107"
      ]
     },
     "execution_count": 66,
     "metadata": {},
     "output_type": "execute_result"
    }
   ],
   "source": [
    "xgb_facts.score(X_facts_test, y_facts_test)"
   ]
  },
  {
   "cell_type": "code",
   "execution_count": 78,
   "id": "3fbe110b-7e43-4fa8-bcd8-baece170ca73",
   "metadata": {
    "execution": {
     "iopub.execute_input": "2025-06-07T20:05:26.972660Z",
     "iopub.status.busy": "2025-06-07T20:05:26.971476Z",
     "iopub.status.idle": "2025-06-07T20:05:26.978599Z",
     "shell.execute_reply": "2025-06-07T20:05:26.976903Z",
     "shell.execute_reply.started": "2025-06-07T20:05:26.972620Z"
    }
   },
   "outputs": [],
   "source": [
    "from sklearn.metrics import r2_score"
   ]
  },
  {
   "cell_type": "code",
   "execution_count": 67,
   "id": "d1fece23-0527-477c-9aea-f1fe7d95f8e9",
   "metadata": {
    "execution": {
     "iopub.execute_input": "2025-06-07T19:54:02.464957Z",
     "iopub.status.busy": "2025-06-07T19:54:02.463723Z",
     "iopub.status.idle": "2025-06-07T19:54:02.748616Z",
     "shell.execute_reply": "2025-06-07T19:54:02.747163Z",
     "shell.execute_reply.started": "2025-06-07T19:54:02.464918Z"
    }
   },
   "outputs": [],
   "source": [
    "y_pred = xgb_facts.predict(X_facts_test)"
   ]
  },
  {
   "cell_type": "code",
   "execution_count": 81,
   "id": "291a5915-f2dd-4d31-8bf1-ec1d63ac1d57",
   "metadata": {
    "execution": {
     "iopub.execute_input": "2025-06-07T20:06:19.596468Z",
     "iopub.status.busy": "2025-06-07T20:06:19.595304Z",
     "iopub.status.idle": "2025-06-07T20:06:19.606645Z",
     "shell.execute_reply": "2025-06-07T20:06:19.605042Z",
     "shell.execute_reply.started": "2025-06-07T20:06:19.596432Z"
    }
   },
   "outputs": [
    {
     "data": {
      "text/plain": [
       "3634.5616818878875"
      ]
     },
     "execution_count": 81,
     "metadata": {},
     "output_type": "execute_result"
    }
   ],
   "source": [
    "y_baseline = y_facts_test.mean()\n",
    "y_baseline"
   ]
  },
  {
   "cell_type": "code",
   "execution_count": 70,
   "id": "a5f3fe54-a0a4-446e-8e95-3d9249eac8f4",
   "metadata": {
    "execution": {
     "iopub.execute_input": "2025-06-07T19:54:35.494534Z",
     "iopub.status.busy": "2025-06-07T19:54:35.493604Z",
     "iopub.status.idle": "2025-06-07T19:54:35.542413Z",
     "shell.execute_reply": "2025-06-07T19:54:35.541014Z",
     "shell.execute_reply.started": "2025-06-07T19:54:35.494496Z"
    }
   },
   "outputs": [
    {
     "data": {
      "text/plain": [
       "32312344.20834096"
      ]
     },
     "execution_count": 70,
     "metadata": {},
     "output_type": "execute_result"
    }
   ],
   "source": [
    "mean_squared_error(y_facts_test, y_pred)"
   ]
  },
  {
   "cell_type": "code",
   "execution_count": 71,
   "id": "417cd172-073c-4519-a086-39ada9c4cc42",
   "metadata": {
    "execution": {
     "iopub.execute_input": "2025-06-07T19:54:44.081744Z",
     "iopub.status.busy": "2025-06-07T19:54:44.080538Z",
     "iopub.status.idle": "2025-06-07T19:54:44.129459Z",
     "shell.execute_reply": "2025-06-07T19:54:44.127815Z",
     "shell.execute_reply.started": "2025-06-07T19:54:44.081703Z"
    }
   },
   "outputs": [
    {
     "data": {
      "text/plain": [
       "3337.004295194923"
      ]
     },
     "execution_count": 71,
     "metadata": {},
     "output_type": "execute_result"
    }
   ],
   "source": [
    "mean_absolute_error(y_facts_test, y_pred)"
   ]
  },
  {
   "cell_type": "code",
   "execution_count": 82,
   "id": "0c9c5e1e-5e3a-446c-9d41-4c16d967ff51",
   "metadata": {
    "execution": {
     "iopub.execute_input": "2025-06-07T20:06:27.178506Z",
     "iopub.status.busy": "2025-06-07T20:06:27.176807Z",
     "iopub.status.idle": "2025-06-07T20:06:27.225977Z",
     "shell.execute_reply": "2025-06-07T20:06:27.224377Z",
     "shell.execute_reply.started": "2025-06-07T20:06:27.178453Z"
    }
   },
   "outputs": [
    {
     "data": {
      "text/plain": [
       "-0.15197639888148107"
      ]
     },
     "execution_count": 82,
     "metadata": {},
     "output_type": "execute_result"
    }
   ],
   "source": [
    "r2_score(y_facts_test, y_pred)"
   ]
  },
  {
   "cell_type": "code",
   "execution_count": 76,
   "id": "90a69a68-3d2d-44aa-a93a-1806086a2f34",
   "metadata": {
    "execution": {
     "iopub.execute_input": "2025-06-07T19:55:39.831454Z",
     "iopub.status.busy": "2025-06-07T19:55:39.830669Z",
     "iopub.status.idle": "2025-06-07T19:55:39.841185Z",
     "shell.execute_reply": "2025-06-07T19:55:39.839675Z",
     "shell.execute_reply.started": "2025-06-07T19:55:39.831418Z"
    }
   },
   "outputs": [],
   "source": [
    "def plot_prediction(y_pred, y_train, y_test, upper=None, lower=None):\n",
    "        is_confidence_int = isinstance(upper, np.ndarray) and isinstance(lower, np.ndarray)\n",
    "        # Prepare plot series\n",
    "        y_pred_series = pd.Series(y_pred, index = y_test.index)\n",
    "        lower_series = pd.Series(upper, index = y_test.index) if is_confidence_int else None\n",
    "        upper_series = pd.Series(lower, index = y_test.index) if is_confidence_int else None\n",
    "\n",
    "        # Plot\n",
    "        plt.figure(figsize=(10,4), dpi=100)\n",
    "        plt.plot(y_train[::5000], label='training', color='black')\n",
    "        plt.plot(y_test[::5000], label='test data', color='black', ls=':')\n",
    "        if is_confidence_int:\n",
    "            plt.fill_between(lower_series.index, lower_series, upper_series, color='k', alpha=.15)\n",
    "        plt.title('Prediction vs Actual Validation and Test Values')\n",
    "        plt.plot(y_pred_series[::5000], label='test prediction', color='lightblue')\n",
    "        plt.legend(loc='upper left', fontsize=8);"
   ]
  },
  {
   "cell_type": "code",
   "execution_count": 77,
   "id": "d4b5076a-93cf-4652-9e24-10300cfaf0a9",
   "metadata": {
    "execution": {
     "iopub.execute_input": "2025-06-07T19:55:40.411484Z",
     "iopub.status.busy": "2025-06-07T19:55:40.410257Z",
     "iopub.status.idle": "2025-06-07T19:55:41.081798Z",
     "shell.execute_reply": "2025-06-07T19:55:41.079421Z",
     "shell.execute_reply.started": "2025-06-07T19:55:40.411445Z"
    }
   },
   "outputs": [
    {
     "data": {
      "image/png": "[encoded data removed]",
      "text/plain": [
       "<Figure size 1000x400 with 1 Axes>"
      ]
     },
     "metadata": {},
     "output_type": "display_data"
    }
   ],
   "source": [
    "plot_prediction(y_pred, y_facts_train, y_facts_test)"
   ]
  }
 ],
 "metadata": {
  "kernelspec": {
   "display_name": "Python 3 (ipykernel)",
   "language": "python",
   "name": "python3"
  },
  "language_info": {
   "codemirror_mode": {
    "name": "ipython",
    "version": 3
   },
   "file_extension": ".py",
   "mimetype": "text/x-python",
   "name": "python",
   "nbconvert_exporter": "python",
   "pygments_lexer": "ipython3",
   "version": "3.10.6"
  }
 },
 "nbformat": 4,
 "nbformat_minor": 5
}
