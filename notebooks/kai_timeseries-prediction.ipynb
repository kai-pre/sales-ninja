{
 "cells": [
  {
   "cell_type": "markdown",
   "id": "040b326d-0952-4c4f-9fed-24ef2d4b3069",
   "metadata": {},
   "source": [
    "Sketch for prediction of SalesAmount\n",
    "==="
   ]
  },
  {
   "cell_type": "markdown",
   "id": "6b5e1070-fb25-4cca-aff0-1b45f0c2d0cd",
   "metadata": {
    "execution": {
     "iopub.execute_input": "2025-06-03T12:42:11.959680Z",
     "iopub.status.busy": "2025-06-03T12:42:11.959277Z",
     "iopub.status.idle": "2025-06-03T12:42:11.966982Z",
     "shell.execute_reply": "2025-06-03T12:42:11.965488Z",
     "shell.execute_reply.started": "2025-06-03T12:42:11.959644Z"
    }
   },
   "source": [
    "# Setup"
   ]
  },
  {
   "cell_type": "code",
   "execution_count": 1,
   "id": "3e5533cc-55a8-496f-9dc4-5c05f49e0e3f",
   "metadata": {
    "execution": {
     "iopub.execute_input": "2025-06-05T15:36:06.597495Z",
     "iopub.status.busy": "2025-06-05T15:36:06.596607Z",
     "iopub.status.idle": "2025-06-05T15:36:13.062092Z",
     "shell.execute_reply": "2025-06-05T15:36:13.060553Z",
     "shell.execute_reply.started": "2025-06-05T15:36:06.597459Z"
    }
   },
   "outputs": [],
   "source": [
    "##### loads a GPU-accelerated version of pandas, disable if this makes any problems!!\n",
    "\n",
    "%load_ext cudf.pandas"
   ]
  },
  {
   "cell_type": "code",
   "execution_count": 2,
   "id": "30f0cf45-3378-4326-bd87-5d1a6431794d",
   "metadata": {
    "execution": {
     "iopub.execute_input": "2025-06-05T15:36:13.064523Z",
     "iopub.status.busy": "2025-06-05T15:36:13.063858Z",
     "iopub.status.idle": "2025-06-05T15:36:14.602726Z",
     "shell.execute_reply": "2025-06-05T15:36:14.601035Z",
     "shell.execute_reply.started": "2025-06-05T15:36:13.064485Z"
    }
   },
   "outputs": [],
   "source": [
    "import pandas as pd\n",
    "import numpy as np\n",
    "import seaborn as sns\n",
    "import matplotlib.pyplot as plt\n",
    "\n",
    "from sklearn.model_selection import cross_validate, cross_val_score, train_test_split, GridSearchCV, learning_curve, LearningCurveDisplay\n",
    "from sklearn.ensemble import RandomForestRegressor, BaggingClassifier, BaggingRegressor\n",
    "from sklearn.neighbors import KNeighborsRegressor\n",
    "from sklearn.compose import ColumnTransformer, make_column_transformer, make_column_selector\n",
    "from sklearn.pipeline import Pipeline\n",
    "from sklearn.preprocessing import StandardScaler, RobustScaler, MinMaxScaler\n",
    "from sklearn.tree import DecisionTreeRegressor\n",
    "from sklearn.metrics import mean_squared_error, mean_absolute_error\n",
    "\n",
    "from xgboost import XGBRegressor\n",
    "\n",
    "from os import path"
   ]
  },
  {
   "cell_type": "markdown",
   "id": "149d73fb-6545-4687-b7fc-8994580a6d6b",
   "metadata": {},
   "source": [
    "# Loading Data"
   ]
  },
  {
   "cell_type": "code",
   "execution_count": 3,
   "id": "b77d9e8d-9c36-4022-9b15-563aad70643f",
   "metadata": {
    "execution": {
     "iopub.execute_input": "2025-06-05T15:36:14.604624Z",
     "iopub.status.busy": "2025-06-05T15:36:14.604069Z",
     "iopub.status.idle": "2025-06-05T15:36:15.057790Z",
     "shell.execute_reply": "2025-06-05T15:36:15.056229Z",
     "shell.execute_reply.started": "2025-06-05T15:36:14.604587Z"
    }
   },
   "outputs": [
    {
     "data": {
      "text/plain": [
       "array([2751803,  692868, 2509209, ..., 2517122,  296619, 2267523])"
      ]
     },
     "execution_count": 3,
     "metadata": {},
     "output_type": "execute_result"
    }
   ],
   "source": [
    "### Load less data for now to try and avoid crashes\n",
    "skipratio = 0.8 # elements to skip\n",
    "\n",
    "skipsize = int(3406088 * skipratio)\n",
    "skipindices = np.random.choice(np.arange(1,3406088), (skipsize), replace = False)\n",
    "skipindices"
   ]
  },
  {
   "cell_type": "code",
   "execution_count": 4,
   "id": "2b467b51-2f42-4635-a15d-17292005b885",
   "metadata": {
    "execution": {
     "iopub.execute_input": "2025-06-05T15:36:15.060547Z",
     "iopub.status.busy": "2025-06-05T15:36:15.059396Z",
     "iopub.status.idle": "2025-06-05T15:36:42.225933Z",
     "shell.execute_reply": "2025-06-05T15:36:42.223640Z",
     "shell.execute_reply.started": "2025-06-05T15:36:15.060504Z"
    }
   },
   "outputs": [
    {
     "name": "stdout",
     "output_type": "stream",
     "text": [
      "(681219, 40)\n"
     ]
    },
    {
     "data": {
      "text/html": [
       "<div>\n",
       "<style scoped>\n",
       "    .dataframe tbody tr th:only-of-type {\n",
       "        vertical-align: middle;\n",
       "    }\n",
       "\n",
       "    .dataframe tbody tr th {\n",
       "        vertical-align: top;\n",
       "    }\n",
       "\n",
       "    .dataframe thead th {\n",
       "        text-align: right;\n",
       "    }\n",
       "</style>\n",
       "<table border=\"1\" class=\"dataframe\">\n",
       "  <thead>\n",
       "    <tr style=\"text-align: right;\">\n",
       "      <th></th>\n",
       "      <th>DateKey</th>\n",
       "      <th>channelKey</th>\n",
       "      <th>StoreKey</th>\n",
       "      <th>ProductKey</th>\n",
       "      <th>PromotionKey</th>\n",
       "      <th>UnitCost</th>\n",
       "      <th>UnitPrice</th>\n",
       "      <th>SalesQuantity</th>\n",
       "      <th>ReturnQuantity</th>\n",
       "      <th>ReturnAmount</th>\n",
       "      <th>...</th>\n",
       "      <th>ProductCategoryKey</th>\n",
       "      <th>GeographyKey</th>\n",
       "      <th>StoreType</th>\n",
       "      <th>EmployeeCount</th>\n",
       "      <th>SellingAreaSize</th>\n",
       "      <th>GeographyType</th>\n",
       "      <th>ContinentName</th>\n",
       "      <th>CityName</th>\n",
       "      <th>StateProvinceName</th>\n",
       "      <th>RegionCountryName</th>\n",
       "    </tr>\n",
       "    <tr>\n",
       "      <th>SalesKey</th>\n",
       "      <th></th>\n",
       "      <th></th>\n",
       "      <th></th>\n",
       "      <th></th>\n",
       "      <th></th>\n",
       "      <th></th>\n",
       "      <th></th>\n",
       "      <th></th>\n",
       "      <th></th>\n",
       "      <th></th>\n",
       "      <th></th>\n",
       "      <th></th>\n",
       "      <th></th>\n",
       "      <th></th>\n",
       "      <th></th>\n",
       "      <th></th>\n",
       "      <th></th>\n",
       "      <th></th>\n",
       "      <th></th>\n",
       "      <th></th>\n",
       "      <th></th>\n",
       "    </tr>\n",
       "  </thead>\n",
       "  <tbody>\n",
       "    <tr>\n",
       "      <th>3</th>\n",
       "      <td>2008-01-24</td>\n",
       "      <td>1</td>\n",
       "      <td>156</td>\n",
       "      <td>1175</td>\n",
       "      <td>11</td>\n",
       "      <td>209.03</td>\n",
       "      <td>410.00</td>\n",
       "      <td>9</td>\n",
       "      <td>0</td>\n",
       "      <td>0.0</td>\n",
       "      <td>...</td>\n",
       "      <td>4.0</td>\n",
       "      <td>449</td>\n",
       "      <td>Store</td>\n",
       "      <td>26</td>\n",
       "      <td>680</td>\n",
       "      <td>City</td>\n",
       "      <td>Europe</td>\n",
       "      <td>Cambridge</td>\n",
       "      <td>England</td>\n",
       "      <td>United Kingdom</td>\n",
       "    </tr>\n",
       "    <tr>\n",
       "      <th>5</th>\n",
       "      <td>2008-01-22</td>\n",
       "      <td>2</td>\n",
       "      <td>306</td>\n",
       "      <td>1133</td>\n",
       "      <td>10</td>\n",
       "      <td>144.52</td>\n",
       "      <td>436.20</td>\n",
       "      <td>24</td>\n",
       "      <td>0</td>\n",
       "      <td>0.0</td>\n",
       "      <td>...</td>\n",
       "      <td>4.0</td>\n",
       "      <td>586</td>\n",
       "      <td>Online</td>\n",
       "      <td>7</td>\n",
       "      <td>1000</td>\n",
       "      <td>City</td>\n",
       "      <td>Europe</td>\n",
       "      <td>Berlin</td>\n",
       "      <td>Berlin</td>\n",
       "      <td>Germany</td>\n",
       "    </tr>\n",
       "    <tr>\n",
       "      <th>8</th>\n",
       "      <td>2008-04-10</td>\n",
       "      <td>2</td>\n",
       "      <td>307</td>\n",
       "      <td>138</td>\n",
       "      <td>15</td>\n",
       "      <td>229.93</td>\n",
       "      <td>499.99</td>\n",
       "      <td>9</td>\n",
       "      <td>0</td>\n",
       "      <td>0.0</td>\n",
       "      <td>...</td>\n",
       "      <td>2.0</td>\n",
       "      <td>710</td>\n",
       "      <td>Online</td>\n",
       "      <td>8</td>\n",
       "      <td>93800</td>\n",
       "      <td>City</td>\n",
       "      <td>Asia</td>\n",
       "      <td>Beijing</td>\n",
       "      <td>Beijing</td>\n",
       "      <td>China</td>\n",
       "    </tr>\n",
       "    <tr>\n",
       "      <th>9</th>\n",
       "      <td>2008-07-14</td>\n",
       "      <td>2</td>\n",
       "      <td>199</td>\n",
       "      <td>1731</td>\n",
       "      <td>12</td>\n",
       "      <td>33.32</td>\n",
       "      <td>72.45</td>\n",
       "      <td>24</td>\n",
       "      <td>0</td>\n",
       "      <td>0.0</td>\n",
       "      <td>...</td>\n",
       "      <td>NaN</td>\n",
       "      <td>800</td>\n",
       "      <td>Online</td>\n",
       "      <td>325</td>\n",
       "      <td>500</td>\n",
       "      <td>City</td>\n",
       "      <td>North America</td>\n",
       "      <td>Bethesda</td>\n",
       "      <td>Maryland</td>\n",
       "      <td>United States</td>\n",
       "    </tr>\n",
       "    <tr>\n",
       "      <th>25</th>\n",
       "      <td>2007-06-06</td>\n",
       "      <td>1</td>\n",
       "      <td>108</td>\n",
       "      <td>2351</td>\n",
       "      <td>1</td>\n",
       "      <td>183.94</td>\n",
       "      <td>399.99</td>\n",
       "      <td>10</td>\n",
       "      <td>0</td>\n",
       "      <td>0.0</td>\n",
       "      <td>...</td>\n",
       "      <td>8.0</td>\n",
       "      <td>860</td>\n",
       "      <td>Store</td>\n",
       "      <td>17</td>\n",
       "      <td>460</td>\n",
       "      <td>City</td>\n",
       "      <td>North America</td>\n",
       "      <td>Lakeland</td>\n",
       "      <td>Florida</td>\n",
       "      <td>United States</td>\n",
       "    </tr>\n",
       "  </tbody>\n",
       "</table>\n",
       "<p>5 rows × 40 columns</p>\n",
       "</div>"
      ],
      "text/plain": [
       "            DateKey  channelKey  StoreKey  ProductKey  PromotionKey  UnitCost  \\\n",
       "SalesKey                                                                        \n",
       "3        2008-01-24           1       156        1175            11    209.03   \n",
       "5        2008-01-22           2       306        1133            10    144.52   \n",
       "8        2008-04-10           2       307         138            15    229.93   \n",
       "9        2008-07-14           2       199        1731            12     33.32   \n",
       "25       2007-06-06           1       108        2351             1    183.94   \n",
       "\n",
       "          UnitPrice  SalesQuantity  ReturnQuantity  ReturnAmount  ...  \\\n",
       "SalesKey                                                          ...   \n",
       "3            410.00              9               0           0.0  ...   \n",
       "5            436.20             24               0           0.0  ...   \n",
       "8            499.99              9               0           0.0  ...   \n",
       "9             72.45             24               0           0.0  ...   \n",
       "25           399.99             10               0           0.0  ...   \n",
       "\n",
       "          ProductCategoryKey  GeographyKey  StoreType  EmployeeCount  \\\n",
       "SalesKey                                                               \n",
       "3                        4.0           449      Store             26   \n",
       "5                        4.0           586     Online              7   \n",
       "8                        2.0           710     Online              8   \n",
       "9                        NaN           800     Online            325   \n",
       "25                       8.0           860      Store             17   \n",
       "\n",
       "          SellingAreaSize  GeographyType  ContinentName   CityName  \\\n",
       "SalesKey                                                             \n",
       "3                     680           City         Europe  Cambridge   \n",
       "5                    1000           City         Europe     Berlin   \n",
       "8                   93800           City           Asia    Beijing   \n",
       "9                     500           City  North America   Bethesda   \n",
       "25                    460           City  North America   Lakeland   \n",
       "\n",
       "         StateProvinceName RegionCountryName  \n",
       "SalesKey                                      \n",
       "3                  England    United Kingdom  \n",
       "5                   Berlin           Germany  \n",
       "8                  Beijing             China  \n",
       "9                 Maryland     United States  \n",
       "25                 Florida     United States  \n",
       "\n",
       "[5 rows x 40 columns]"
      ]
     },
     "execution_count": 4,
     "metadata": {},
     "output_type": "execute_result"
    }
   ],
   "source": [
    "### For now, let's work with the dataset prepared by Nishi\n",
    "data = pd.read_csv(\"../merged_data/data_ml_merged.csv\", header = 0, skiprows = skipindices)\n",
    "\n",
    "data.set_index(['SalesKey'], inplace=True)\n",
    "data['DateKey'] = pd.to_datetime(data['DateKey'], infer_datetime_format=True)\n",
    "\n",
    "print(data.shape)\n",
    "data.head()"
   ]
  },
  {
   "cell_type": "code",
   "execution_count": 5,
   "id": "841bb9eb-90e1-4dc9-ba68-aeeba29e67fc",
   "metadata": {
    "execution": {
     "iopub.execute_input": "2025-06-05T15:36:42.228925Z",
     "iopub.status.busy": "2025-06-05T15:36:42.227703Z",
     "iopub.status.idle": "2025-06-05T15:36:43.949350Z",
     "shell.execute_reply": "2025-06-05T15:36:43.947748Z",
     "shell.execute_reply.started": "2025-06-05T15:36:42.228855Z"
    }
   },
   "outputs": [
    {
     "data": {
      "text/plain": [
       "array(['Q1', 'Q2', 'Q3', 'Q4'], dtype=object)"
      ]
     },
     "execution_count": 5,
     "metadata": {},
     "output_type": "execute_result"
    }
   ],
   "source": [
    "data.CalendarQuarterLabel.unique()"
   ]
  },
  {
   "cell_type": "code",
   "execution_count": 6,
   "id": "0b508303-7d46-444a-93bc-92bdfec03274",
   "metadata": {
    "execution": {
     "iopub.execute_input": "2025-06-05T15:36:43.954345Z",
     "iopub.status.busy": "2025-06-05T15:36:43.953519Z",
     "iopub.status.idle": "2025-06-05T15:36:45.209439Z",
     "shell.execute_reply": "2025-06-05T15:36:45.207905Z",
     "shell.execute_reply.started": "2025-06-05T15:36:43.954300Z"
    }
   },
   "outputs": [
    {
     "data": {
      "text/plain": [
       "<bound method Series.min of SalesKey\n",
       "3         2008-01-24\n",
       "5         2008-01-22\n",
       "8         2008-04-10\n",
       "9         2008-07-14\n",
       "25        2007-06-06\n",
       "             ...    \n",
       "3406072   2008-11-02\n",
       "3406074   2009-09-29\n",
       "3406085   2007-10-09\n",
       "3406088   2007-02-04\n",
       "3406089   2009-08-05\n",
       "Name: DateKey, Length: 681219, dtype: datetime64[ns]>"
      ]
     },
     "execution_count": 6,
     "metadata": {},
     "output_type": "execute_result"
    }
   ],
   "source": [
    "data.DateKey.min"
   ]
  },
  {
   "cell_type": "code",
   "execution_count": 7,
   "id": "a36d7560-8461-428a-82d7-a37b4f996f35",
   "metadata": {
    "execution": {
     "iopub.execute_input": "2025-06-05T15:36:45.217834Z",
     "iopub.status.busy": "2025-06-05T15:36:45.210949Z",
     "iopub.status.idle": "2025-06-05T15:36:46.467847Z",
     "shell.execute_reply": "2025-06-05T15:36:46.466267Z",
     "shell.execute_reply.started": "2025-06-05T15:36:45.217712Z"
    }
   },
   "outputs": [
    {
     "data": {
      "text/plain": [
       "Index(['DateKey', 'channelKey', 'StoreKey', 'ProductKey', 'PromotionKey',\n",
       "       'UnitCost', 'UnitPrice', 'SalesQuantity', 'ReturnQuantity',\n",
       "       'ReturnAmount', 'DiscountQuantity', 'DiscountAmount', 'TotalCost',\n",
       "       'SalesAmount', 'DiscountPercent', 'CalendarYear',\n",
       "       'CalendarQuarterLabel', 'CalendarWeekLabel', 'IsWorkDay', 'IsHoliday',\n",
       "       'MonthNumber', 'CalendarDayOfWeekNumber', 'ProductSubcategoryKey',\n",
       "       'BrandName', 'ClassID', 'StyleID', 'ColorID', 'Weight',\n",
       "       'WeightUnitMeasureID', 'StockTypeID', 'ProductCategoryKey',\n",
       "       'GeographyKey', 'StoreType', 'EmployeeCount', 'SellingAreaSize',\n",
       "       'GeographyType', 'ContinentName', 'CityName', 'StateProvinceName',\n",
       "       'RegionCountryName'],\n",
       "      dtype='object')"
      ]
     },
     "execution_count": 7,
     "metadata": {},
     "output_type": "execute_result"
    }
   ],
   "source": [
    "data.columns"
   ]
  },
  {
   "cell_type": "markdown",
   "id": "0de646ee-0b7a-4631-a59e-2d0169f156b5",
   "metadata": {},
   "source": [
    "# Pre-processing"
   ]
  },
  {
   "cell_type": "markdown",
   "id": "d5be343a-51a8-4161-b429-b852b5253dc3",
   "metadata": {},
   "source": [
    "## Transform select features (i.e., unify weight feature with WeightUnitMeasureID information)"
   ]
  },
  {
   "cell_type": "markdown",
   "id": "d86ffe39-ee7e-42f6-a09a-b2d1a3d67ccb",
   "metadata": {},
   "source": [
    "## Scaling and Encoding of select scales"
   ]
  },
  {
   "cell_type": "code",
   "execution_count": 9,
   "id": "7db2e81c-1bd2-4d7c-950a-e88e70ac2077",
   "metadata": {
    "execution": {
     "iopub.execute_input": "2025-06-05T15:37:56.648673Z",
     "iopub.status.busy": "2025-06-05T15:37:56.647676Z",
     "iopub.status.idle": "2025-06-05T15:38:16.413550Z",
     "shell.execute_reply": "2025-06-05T15:38:16.411929Z",
     "shell.execute_reply.started": "2025-06-05T15:37:56.648637Z"
    }
   },
   "outputs": [
    {
     "name": "stdout",
     "output_type": "stream",
     "text": [
      "(300587, 26) (128823, 26) (184034, 26) (300587,) (128823,) (184034,)\n"
     ]
    },
    {
     "name": "stderr",
     "output_type": "stream",
     "text": [
      "/home/kai/.pyenv/versions/3.10.6/envs/sales-ninja/lib/python3.10/site-packages/sklearn/utils/validation.py:2732: UserWarning: X has feature names, but RobustScaler was fitted without feature names\n",
      "  warnings.warn(\n",
      "/home/kai/.pyenv/versions/3.10.6/envs/sales-ninja/lib/python3.10/site-packages/sklearn/utils/validation.py:2732: UserWarning: X has feature names, but RobustScaler was fitted without feature names\n",
      "  warnings.warn(\n"
     ]
    }
   ],
   "source": [
    "##### Dummy preprocessing\n",
    "preprocessor = make_column_transformer([RobustScaler(), make_column_selector(dtype_include = \"number\")])\n",
    "\n",
    "# Only focus on numeric columns for now\n",
    "data = data.dropna()\n",
    "data = data.select_dtypes(include='number')\n",
    "\n",
    "#####\n",
    "\n",
    "X = data.drop(columns = [\"SalesAmount\"])\n",
    "y = data[\"SalesAmount\"]\n",
    "\n",
    "X_train, X_test, y_train, y_test = train_test_split(X, y, test_size = 0.3)\n",
    "X_train, X_val, y_train, y_val = train_test_split(X_train, y_train, test_size = 0.3)\n",
    "\n",
    "print(X_train.shape, X_val.shape, X_test.shape, y_train.shape, y_val.shape, y_test.shape)\n",
    "\n",
    "X_train_proc = preprocessor.fit_transform(X_train)\n",
    "X_val_proc = preprocessor.transform(X_val)\n",
    "X_test_proc = preprocessor.transform(X_test)\n",
    "\n",
    "X_proc = preprocessor.fit_transform(X)"
   ]
  },
  {
   "cell_type": "markdown",
   "id": "6dcfca24-bd57-47ec-b080-fc7bda542b09",
   "metadata": {
    "execution": {
     "iopub.status.busy": "2025-06-03T15:40:46.865132Z",
     "iopub.status.idle": "2025-06-03T15:40:46.866514Z",
     "shell.execute_reply": "2025-06-03T15:40:46.865884Z",
     "shell.execute_reply.started": "2025-06-03T15:40:46.865828Z"
    }
   },
   "source": [
    "## *(moved to timeseries_mvp)* Seasonal data - aggregating by DateKey"
   ]
  },
  {
   "cell_type": "markdown",
   "id": "ad2ccb8f-3af0-4165-9190-5ac400c362a8",
   "metadata": {},
   "source": [
    "# Models"
   ]
  },
  {
   "cell_type": "markdown",
   "id": "e4b32e7b-57ae-4e84-bfe4-7fac9350b837",
   "metadata": {},
   "source": [
    "## Ensemble methods: Decision Tree, XGBoost"
   ]
  },
  {
   "cell_type": "markdown",
   "id": "aa87bfa1-3917-458b-8503-66f43df5c846",
   "metadata": {},
   "source": [
    "### Decision Tree"
   ]
  },
  {
   "cell_type": "code",
   "execution_count": 12,
   "id": "33b2895b-942d-400c-84ad-ec1a46712c89",
   "metadata": {
    "execution": {
     "iopub.execute_input": "2025-06-05T09:09:53.482998Z",
     "iopub.status.busy": "2025-06-05T09:09:53.478970Z",
     "iopub.status.idle": "2025-06-05T09:10:14.175655Z",
     "shell.execute_reply": "2025-06-05T09:10:14.174060Z",
     "shell.execute_reply.started": "2025-06-05T09:09:53.482883Z"
    }
   },
   "outputs": [
    {
     "name": "stdout",
     "output_type": "stream",
     "text": [
      "[0.99483941 0.99822005 0.99794419 0.97914885 0.98580477]\n"
     ]
    },
    {
     "data": {
      "text/plain": [
       "<sklearn.model_selection._plot.LearningCurveDisplay at 0x7d6a876f0070>"
      ]
     },
     "execution_count": 12,
     "metadata": {},
     "output_type": "execute_result"
    },
    {
     "data": {
      "image/png": "[encoded data removed]",
      "text/plain": [
       "<Figure size 640x480 with 1 Axes>"
      ]
     },
     "metadata": {},
     "output_type": "display_data"
    }
   ],
   "source": [
    "tree = DecisionTreeRegressor()\n",
    "\n",
    "cv_score = cross_val_score(tree, X_train_proc, y_train, scoring = \"r2\", cv=5, n_jobs = -1)\n",
    "print(cv_score)\n",
    "\n",
    "LearningCurveDisplay.from_estimator(tree, X_proc, y, train_sizes = [0.1, 0.3, 0.5], scoring = \"r2\", cv=5, n_jobs = -1) "
   ]
  },
  {
   "cell_type": "markdown",
   "id": "6043eaac-76d6-4d4b-b094-b330b40ad761",
   "metadata": {},
   "source": [
    "### Random Forest"
   ]
  },
  {
   "cell_type": "code",
   "execution_count": 31,
   "id": "fdf06c97-0a3e-4869-afc8-79ead855415d",
   "metadata": {
    "execution": {
     "iopub.execute_input": "2025-06-05T08:51:27.415998Z",
     "iopub.status.busy": "2025-06-05T08:51:27.414476Z",
     "iopub.status.idle": "2025-06-05T08:52:39.840770Z",
     "shell.execute_reply": "2025-06-05T08:52:39.835517Z",
     "shell.execute_reply.started": "2025-06-05T08:51:27.415957Z"
    }
   },
   "outputs": [
    {
     "data": {
      "text/plain": [
       "array([0.99833576, 0.99081077, 0.99842768, 0.99843371, 0.99896083])"
      ]
     },
     "execution_count": 31,
     "metadata": {},
     "output_type": "execute_result"
    }
   ],
   "source": [
    "forest = RandomForestRegressor(n_estimators=10)\n",
    "\n",
    "cv_score = cross_val_score(forest, X_train_proc, y_train, scoring = \"r2\", cv=5, n_jobs = -1)\n",
    "cv_score"
   ]
  },
  {
   "cell_type": "markdown",
   "id": "056ffd09-2a85-4bc3-a172-fe8355456ba9",
   "metadata": {},
   "source": [
    "### Bagging Regressor"
   ]
  },
  {
   "cell_type": "code",
   "execution_count": 14,
   "id": "eb974429-5e17-46df-b3df-bbbfdc54053d",
   "metadata": {
    "execution": {
     "iopub.execute_input": "2025-06-05T09:31:32.945790Z",
     "iopub.status.busy": "2025-06-05T09:31:32.944535Z",
     "iopub.status.idle": "2025-06-05T09:46:00.291810Z",
     "shell.execute_reply": "2025-06-05T09:46:00.290247Z",
     "shell.execute_reply.started": "2025-06-05T09:31:32.945685Z"
    }
   },
   "outputs": [
    {
     "data": {
      "text/plain": [
       "<sklearn.model_selection._plot.LearningCurveDisplay at 0x7d6a871151b0>"
      ]
     },
     "execution_count": 14,
     "metadata": {},
     "output_type": "execute_result"
    },
    {
     "data": {
      "image/png": "[encoded data removed]",
      "text/plain": [
       "<Figure size 640x480 with 1 Axes>"
      ]
     },
     "metadata": {},
     "output_type": "display_data"
    }
   ],
   "source": [
    "kneighbors = KNeighborsRegressor(n_neighbors = 5)\n",
    "bagged_kn = BaggingRegressor(kneighbors, n_estimators = 3)\n",
    "\n",
    "# cv_score = cross_val_score(bagged_kn, X_train_proc, y_train, scoring = \"r2\", cv=5, n_jobs = -1)\n",
    "# cv_score\n",
    "\n",
    "LearningCurveDisplay.from_estimator(bagged_kn, X_proc, y, train_sizes = [0.1, 0.3], scoring = \"r2\", cv=5, n_jobs = -1) "
   ]
  },
  {
   "cell_type": "markdown",
   "id": "0d707b82-3e09-4b2e-8c3b-b024800ad1b6",
   "metadata": {},
   "source": [
    "### XGBoost"
   ]
  },
  {
   "cell_type": "code",
   "execution_count": 23,
   "id": "9c9a7946-0b0b-4c5a-9343-593f9ebf133e",
   "metadata": {
    "execution": {
     "iopub.execute_input": "2025-06-05T15:46:54.895497Z",
     "iopub.status.busy": "2025-06-05T15:46:54.894404Z",
     "iopub.status.idle": "2025-06-05T15:46:54.901910Z",
     "shell.execute_reply": "2025-06-05T15:46:54.900115Z",
     "shell.execute_reply.started": "2025-06-05T15:46:54.895454Z"
    }
   },
   "outputs": [],
   "source": [
    "# xgb_cpu = XGBRegressor(max_depth=10, n_estimators=100, learning_rate=0.1)"
   ]
  },
  {
   "cell_type": "code",
   "execution_count": 21,
   "id": "9f88f419-ab5d-42b2-b6c4-6a58d62ff3f4",
   "metadata": {
    "execution": {
     "iopub.execute_input": "2025-06-05T15:46:40.633226Z",
     "iopub.status.busy": "2025-06-05T15:46:40.631960Z",
     "iopub.status.idle": "2025-06-05T15:46:40.639714Z",
     "shell.execute_reply": "2025-06-05T15:46:40.638179Z",
     "shell.execute_reply.started": "2025-06-05T15:46:40.633183Z"
    }
   },
   "outputs": [],
   "source": [
    "xgb = XGBRegressor(max_depth=10, n_estimators=100, learning_rate=0.1, device = \"cuda\")"
   ]
  },
  {
   "cell_type": "code",
   "execution_count": 12,
   "id": "f4853e0f-8cf2-4725-9dd0-6276b588479a",
   "metadata": {
    "execution": {
     "iopub.execute_input": "2025-06-05T10:34:55.235493Z",
     "iopub.status.busy": "2025-06-05T10:34:55.234349Z",
     "iopub.status.idle": "2025-06-05T10:34:55.249761Z",
     "shell.execute_reply": "2025-06-05T10:34:55.246177Z",
     "shell.execute_reply.started": "2025-06-05T10:34:55.235454Z"
    }
   },
   "outputs": [],
   "source": [
    "# cv_score = cross_val_score(bagged_kn, X_train_proc, y_train, scoring = \"r2\", cv=5, n_jobs = -1)\n",
    "# cv_score"
   ]
  },
  {
   "cell_type": "code",
   "execution_count": 24,
   "id": "5748bc91-7a01-4f5d-b6bd-1910b84ab0bf",
   "metadata": {
    "execution": {
     "iopub.execute_input": "2025-06-05T15:46:58.022080Z",
     "iopub.status.busy": "2025-06-05T15:46:58.020834Z",
     "iopub.status.idle": "2025-06-05T15:47:05.574064Z",
     "shell.execute_reply": "2025-06-05T15:47:05.572228Z",
     "shell.execute_reply.started": "2025-06-05T15:46:58.022043Z"
    },
    "scrolled": true
   },
   "outputs": [
    {
     "name": "stdout",
     "output_type": "stream",
     "text": [
      "[0]\tvalidation_0-rmse:4864.75613\tvalidation_1-rmse:4790.70907\n",
      "[1]\tvalidation_0-rmse:4389.16731\tvalidation_1-rmse:4325.74279\n",
      "[2]\tvalidation_0-rmse:3960.58828\tvalidation_1-rmse:3907.12950\n",
      "[3]\tvalidation_0-rmse:3574.90610\tvalidation_1-rmse:3529.45795\n",
      "[4]\tvalidation_0-rmse:3227.26942\tvalidation_1-rmse:3189.72687\n",
      "[5]\tvalidation_0-rmse:2914.36248\tvalidation_1-rmse:2884.86118\n",
      "[6]\tvalidation_0-rmse:2631.97920\tvalidation_1-rmse:2610.34740\n",
      "[7]\tvalidation_0-rmse:2377.87631\tvalidation_1-rmse:2363.56055\n",
      "[8]\tvalidation_0-rmse:2149.12617\tvalidation_1-rmse:2142.33033\n",
      "[9]\tvalidation_0-rmse:1943.09642\tvalidation_1-rmse:1942.74726\n",
      "[10]\tvalidation_0-rmse:1757.17966\tvalidation_1-rmse:1761.52191\n",
      "[11]\tvalidation_0-rmse:1590.03178\tvalidation_1-rmse:1599.57127\n",
      "[12]\tvalidation_0-rmse:1439.28795\tvalidation_1-rmse:1454.02212\n",
      "[13]\tvalidation_0-rmse:1303.28350\tvalidation_1-rmse:1322.68700\n",
      "[14]\tvalidation_0-rmse:1181.11602\tvalidation_1-rmse:1205.94603\n",
      "[15]\tvalidation_0-rmse:1070.46006\tvalidation_1-rmse:1099.97204\n",
      "[16]\tvalidation_0-rmse:970.65745\tvalidation_1-rmse:1006.77867\n",
      "[17]\tvalidation_0-rmse:880.92051\tvalidation_1-rmse:923.26930\n",
      "[18]\tvalidation_0-rmse:799.90006\tvalidation_1-rmse:847.71633\n",
      "[19]\tvalidation_0-rmse:727.06362\tvalidation_1-rmse:781.04310\n",
      "[20]\tvalidation_0-rmse:661.59162\tvalidation_1-rmse:722.04157\n",
      "[21]\tvalidation_0-rmse:602.36729\tvalidation_1-rmse:669.05741\n",
      "[22]\tvalidation_0-rmse:549.02887\tvalidation_1-rmse:621.82234\n",
      "[23]\tvalidation_0-rmse:501.09133\tvalidation_1-rmse:579.94969\n",
      "[24]\tvalidation_0-rmse:457.96745\tvalidation_1-rmse:543.16677\n",
      "[25]\tvalidation_0-rmse:419.03447\tvalidation_1-rmse:510.38504\n",
      "[26]\tvalidation_0-rmse:384.05984\tvalidation_1-rmse:481.91417\n",
      "[27]\tvalidation_0-rmse:352.00590\tvalidation_1-rmse:457.06306\n",
      "[28]\tvalidation_0-rmse:323.42012\tvalidation_1-rmse:435.49210\n",
      "[29]\tvalidation_0-rmse:297.45998\tvalidation_1-rmse:415.80378\n",
      "[30]\tvalidation_0-rmse:274.25887\tvalidation_1-rmse:399.44972\n",
      "[31]\tvalidation_0-rmse:253.37302\tvalidation_1-rmse:384.01141\n",
      "[32]\tvalidation_0-rmse:234.55726\tvalidation_1-rmse:370.71478\n",
      "[33]\tvalidation_0-rmse:217.65636\tvalidation_1-rmse:359.73972\n",
      "[34]\tvalidation_0-rmse:201.98523\tvalidation_1-rmse:349.55813\n",
      "[35]\tvalidation_0-rmse:188.10779\tvalidation_1-rmse:341.64492\n",
      "[36]\tvalidation_0-rmse:175.59971\tvalidation_1-rmse:334.33757\n",
      "[37]\tvalidation_0-rmse:164.18532\tvalidation_1-rmse:328.01825\n",
      "[38]\tvalidation_0-rmse:153.77588\tvalidation_1-rmse:322.17513\n",
      "[39]\tvalidation_0-rmse:144.55232\tvalidation_1-rmse:317.22271\n",
      "[40]\tvalidation_0-rmse:136.32914\tvalidation_1-rmse:312.32534\n",
      "[41]\tvalidation_0-rmse:129.03914\tvalidation_1-rmse:308.54194\n",
      "[42]\tvalidation_0-rmse:122.05928\tvalidation_1-rmse:304.92942\n",
      "[43]\tvalidation_0-rmse:116.02848\tvalidation_1-rmse:301.93012\n",
      "[44]\tvalidation_0-rmse:110.59406\tvalidation_1-rmse:299.35757\n",
      "[45]\tvalidation_0-rmse:105.55684\tvalidation_1-rmse:296.87355\n",
      "[46]\tvalidation_0-rmse:100.88001\tvalidation_1-rmse:294.77105\n",
      "[47]\tvalidation_0-rmse:96.83314\tvalidation_1-rmse:292.95033\n",
      "[48]\tvalidation_0-rmse:92.89044\tvalidation_1-rmse:290.80848\n",
      "[49]\tvalidation_0-rmse:89.33117\tvalidation_1-rmse:289.20971\n",
      "[50]\tvalidation_0-rmse:86.29887\tvalidation_1-rmse:287.97967\n",
      "[51]\tvalidation_0-rmse:83.38033\tvalidation_1-rmse:286.84780\n",
      "[52]\tvalidation_0-rmse:80.91297\tvalidation_1-rmse:285.97387\n",
      "[53]\tvalidation_0-rmse:78.47898\tvalidation_1-rmse:285.02381\n",
      "[54]\tvalidation_0-rmse:76.47627\tvalidation_1-rmse:284.34822\n",
      "[55]\tvalidation_0-rmse:74.46269\tvalidation_1-rmse:283.61367\n",
      "[56]\tvalidation_0-rmse:72.10705\tvalidation_1-rmse:282.85653\n",
      "[57]\tvalidation_0-rmse:69.93230\tvalidation_1-rmse:282.01010\n",
      "[58]\tvalidation_0-rmse:67.83845\tvalidation_1-rmse:281.25120\n",
      "[59]\tvalidation_0-rmse:66.07733\tvalidation_1-rmse:280.37433\n",
      "[60]\tvalidation_0-rmse:64.25603\tvalidation_1-rmse:279.83316\n",
      "[61]\tvalidation_0-rmse:62.76179\tvalidation_1-rmse:279.04615\n",
      "[62]\tvalidation_0-rmse:61.21404\tvalidation_1-rmse:278.52135\n",
      "[63]\tvalidation_0-rmse:59.87921\tvalidation_1-rmse:278.16174\n",
      "[64]\tvalidation_0-rmse:58.79184\tvalidation_1-rmse:277.80412\n",
      "[65]\tvalidation_0-rmse:57.70887\tvalidation_1-rmse:277.52791\n",
      "[66]\tvalidation_0-rmse:56.77436\tvalidation_1-rmse:277.29951\n",
      "[67]\tvalidation_0-rmse:55.72879\tvalidation_1-rmse:276.85591\n",
      "[68]\tvalidation_0-rmse:54.53808\tvalidation_1-rmse:276.45964\n",
      "[69]\tvalidation_0-rmse:53.73380\tvalidation_1-rmse:276.14033\n",
      "[70]\tvalidation_0-rmse:52.77562\tvalidation_1-rmse:275.85422\n",
      "[71]\tvalidation_0-rmse:51.85616\tvalidation_1-rmse:275.60551\n",
      "[72]\tvalidation_0-rmse:50.83577\tvalidation_1-rmse:275.41134\n",
      "[73]\tvalidation_0-rmse:50.03785\tvalidation_1-rmse:275.15731\n",
      "[74]\tvalidation_0-rmse:49.22852\tvalidation_1-rmse:274.81273\n",
      "[75]\tvalidation_0-rmse:48.58480\tvalidation_1-rmse:274.62840\n",
      "[76]\tvalidation_0-rmse:48.04037\tvalidation_1-rmse:274.28333\n",
      "[77]\tvalidation_0-rmse:47.37375\tvalidation_1-rmse:274.14793\n",
      "[78]\tvalidation_0-rmse:46.93116\tvalidation_1-rmse:273.83748\n",
      "[79]\tvalidation_0-rmse:46.43902\tvalidation_1-rmse:273.60559\n",
      "[80]\tvalidation_0-rmse:45.95096\tvalidation_1-rmse:273.37491\n",
      "[81]\tvalidation_0-rmse:45.43889\tvalidation_1-rmse:273.22409\n",
      "[82]\tvalidation_0-rmse:45.02949\tvalidation_1-rmse:273.06983\n",
      "[83]\tvalidation_0-rmse:44.56969\tvalidation_1-rmse:272.97328\n",
      "[84]\tvalidation_0-rmse:44.04324\tvalidation_1-rmse:272.78314\n",
      "[85]\tvalidation_0-rmse:43.64646\tvalidation_1-rmse:272.65449\n",
      "[86]\tvalidation_0-rmse:43.22123\tvalidation_1-rmse:272.46016\n",
      "[87]\tvalidation_0-rmse:42.81408\tvalidation_1-rmse:272.23778\n",
      "[88]\tvalidation_0-rmse:42.39137\tvalidation_1-rmse:272.04539\n",
      "[89]\tvalidation_0-rmse:41.83652\tvalidation_1-rmse:271.92738\n",
      "[90]\tvalidation_0-rmse:41.52993\tvalidation_1-rmse:271.80159\n",
      "[91]\tvalidation_0-rmse:41.16082\tvalidation_1-rmse:271.74828\n",
      "[92]\tvalidation_0-rmse:40.80061\tvalidation_1-rmse:271.66134\n",
      "[93]\tvalidation_0-rmse:40.31422\tvalidation_1-rmse:271.53079\n",
      "[94]\tvalidation_0-rmse:39.98380\tvalidation_1-rmse:271.42337\n",
      "[95]\tvalidation_0-rmse:39.60216\tvalidation_1-rmse:271.35248\n",
      "[96]\tvalidation_0-rmse:39.40968\tvalidation_1-rmse:271.31851\n",
      "[97]\tvalidation_0-rmse:39.21117\tvalidation_1-rmse:271.26185\n",
      "[98]\tvalidation_0-rmse:38.85034\tvalidation_1-rmse:271.19172\n",
      "[99]\tvalidation_0-rmse:38.49704\tvalidation_1-rmse:271.07258\n"
     ]
    },
    {
     "data": {
      "text/html": [
       "<style>#sk-container-id-3 {\n",
       "  /* Definition of color scheme common for light and dark mode */\n",
       "  --sklearn-color-text: #000;\n",
       "  --sklearn-color-text-muted: #666;\n",
       "  --sklearn-color-line: gray;\n",
       "  /* Definition of color scheme for unfitted estimators */\n",
       "  --sklearn-color-unfitted-level-0: #fff5e6;\n",
       "  --sklearn-color-unfitted-level-1: #f6e4d2;\n",
       "  --sklearn-color-unfitted-level-2: #ffe0b3;\n",
       "  --sklearn-color-unfitted-level-3: chocolate;\n",
       "  /* Definition of color scheme for fitted estimators */\n",
       "  --sklearn-color-fitted-level-0: #f0f8ff;\n",
       "  --sklearn-color-fitted-level-1: #d4ebff;\n",
       "  --sklearn-color-fitted-level-2: #b3dbfd;\n",
       "  --sklearn-color-fitted-level-3: cornflowerblue;\n",
       "\n",
       "  /* Specific color for light theme */\n",
       "  --sklearn-color-text-on-default-background: var(--sg-text-color, var(--theme-code-foreground, var(--jp-content-font-color1, black)));\n",
       "  --sklearn-color-background: var(--sg-background-color, var(--theme-background, var(--jp-layout-color0, white)));\n",
       "  --sklearn-color-border-box: var(--sg-text-color, var(--theme-code-foreground, var(--jp-content-font-color1, black)));\n",
       "  --sklearn-color-icon: #696969;\n",
       "\n",
       "  @media (prefers-color-scheme: dark) {\n",
       "    /* Redefinition of color scheme for dark theme */\n",
       "    --sklearn-color-text-on-default-background: var(--sg-text-color, var(--theme-code-foreground, var(--jp-content-font-color1, white)));\n",
       "    --sklearn-color-background: var(--sg-background-color, var(--theme-background, var(--jp-layout-color0, #111)));\n",
       "    --sklearn-color-border-box: var(--sg-text-color, var(--theme-code-foreground, var(--jp-content-font-color1, white)));\n",
       "    --sklearn-color-icon: #878787;\n",
       "  }\n",
       "}\n",
       "\n",
       "#sk-container-id-3 {\n",
       "  color: var(--sklearn-color-text);\n",
       "}\n",
       "\n",
       "#sk-container-id-3 pre {\n",
       "  padding: 0;\n",
       "}\n",
       "\n",
       "#sk-container-id-3 input.sk-hidden--visually {\n",
       "  border: 0;\n",
       "  clip: rect(1px 1px 1px 1px);\n",
       "  clip: rect(1px, 1px, 1px, 1px);\n",
       "  height: 1px;\n",
       "  margin: -1px;\n",
       "  overflow: hidden;\n",
       "  padding: 0;\n",
       "  position: absolute;\n",
       "  width: 1px;\n",
       "}\n",
       "\n",
       "#sk-container-id-3 div.sk-dashed-wrapped {\n",
       "  border: 1px dashed var(--sklearn-color-line);\n",
       "  margin: 0 0.4em 0.5em 0.4em;\n",
       "  box-sizing: border-box;\n",
       "  padding-bottom: 0.4em;\n",
       "  background-color: var(--sklearn-color-background);\n",
       "}\n",
       "\n",
       "#sk-container-id-3 div.sk-container {\n",
       "  /* jupyter's `normalize.less` sets `[hidden] { display: none; }`\n",
       "     but bootstrap.min.css set `[hidden] { display: none !important; }`\n",
       "     so we also need the `!important` here to be able to override the\n",
       "     default hidden behavior on the sphinx rendered scikit-learn.org.\n",
       "     See: https://github.com/scikit-learn/scikit-learn/issues/21755 */\n",
       "  display: inline-block !important;\n",
       "  position: relative;\n",
       "}\n",
       "\n",
       "#sk-container-id-3 div.sk-text-repr-fallback {\n",
       "  display: none;\n",
       "}\n",
       "\n",
       "div.sk-parallel-item,\n",
       "div.sk-serial,\n",
       "div.sk-item {\n",
       "  /* draw centered vertical line to link estimators */\n",
       "  background-image: linear-gradient(var(--sklearn-color-text-on-default-background), var(--sklearn-color-text-on-default-background));\n",
       "  background-size: 2px 100%;\n",
       "  background-repeat: no-repeat;\n",
       "  background-position: center center;\n",
       "}\n",
       "\n",
       "/* Parallel-specific style estimator block */\n",
       "\n",
       "#sk-container-id-3 div.sk-parallel-item::after {\n",
       "  content: \"\";\n",
       "  width: 100%;\n",
       "  border-bottom: 2px solid var(--sklearn-color-text-on-default-background);\n",
       "  flex-grow: 1;\n",
       "}\n",
       "\n",
       "#sk-container-id-3 div.sk-parallel {\n",
       "  display: flex;\n",
       "  align-items: stretch;\n",
       "  justify-content: center;\n",
       "  background-color: var(--sklearn-color-background);\n",
       "  position: relative;\n",
       "}\n",
       "\n",
       "#sk-container-id-3 div.sk-parallel-item {\n",
       "  display: flex;\n",
       "  flex-direction: column;\n",
       "}\n",
       "\n",
       "#sk-container-id-3 div.sk-parallel-item:first-child::after {\n",
       "  align-self: flex-end;\n",
       "  width: 50%;\n",
       "}\n",
       "\n",
       "#sk-container-id-3 div.sk-parallel-item:last-child::after {\n",
       "  align-self: flex-start;\n",
       "  width: 50%;\n",
       "}\n",
       "\n",
       "#sk-container-id-3 div.sk-parallel-item:only-child::after {\n",
       "  width: 0;\n",
       "}\n",
       "\n",
       "/* Serial-specific style estimator block */\n",
       "\n",
       "#sk-container-id-3 div.sk-serial {\n",
       "  display: flex;\n",
       "  flex-direction: column;\n",
       "  align-items: center;\n",
       "  background-color: var(--sklearn-color-background);\n",
       "  padding-right: 1em;\n",
       "  padding-left: 1em;\n",
       "}\n",
       "\n",
       "\n",
       "/* Toggleable style: style used for estimator/Pipeline/ColumnTransformer box that is\n",
       "clickable and can be expanded/collapsed.\n",
       "- Pipeline and ColumnTransformer use this feature and define the default style\n",
       "- Estimators will overwrite some part of the style using the `sk-estimator` class\n",
       "*/\n",
       "\n",
       "/* Pipeline and ColumnTransformer style (default) */\n",
       "\n",
       "#sk-container-id-3 div.sk-toggleable {\n",
       "  /* Default theme specific background. It is overwritten whether we have a\n",
       "  specific estimator or a Pipeline/ColumnTransformer */\n",
       "  background-color: var(--sklearn-color-background);\n",
       "}\n",
       "\n",
       "/* Toggleable label */\n",
       "#sk-container-id-3 label.sk-toggleable__label {\n",
       "  cursor: pointer;\n",
       "  display: flex;\n",
       "  width: 100%;\n",
       "  margin-bottom: 0;\n",
       "  padding: 0.5em;\n",
       "  box-sizing: border-box;\n",
       "  text-align: center;\n",
       "  align-items: start;\n",
       "  justify-content: space-between;\n",
       "  gap: 0.5em;\n",
       "}\n",
       "\n",
       "#sk-container-id-3 label.sk-toggleable__label .caption {\n",
       "  font-size: 0.6rem;\n",
       "  font-weight: lighter;\n",
       "  color: var(--sklearn-color-text-muted);\n",
       "}\n",
       "\n",
       "#sk-container-id-3 label.sk-toggleable__label-arrow:before {\n",
       "  /* Arrow on the left of the label */\n",
       "  content: \"▸\";\n",
       "  float: left;\n",
       "  margin-right: 0.25em;\n",
       "  color: var(--sklearn-color-icon);\n",
       "}\n",
       "\n",
       "#sk-container-id-3 label.sk-toggleable__label-arrow:hover:before {\n",
       "  color: var(--sklearn-color-text);\n",
       "}\n",
       "\n",
       "/* Toggleable content - dropdown */\n",
       "\n",
       "#sk-container-id-3 div.sk-toggleable__content {\n",
       "  max-height: 0;\n",
       "  max-width: 0;\n",
       "  overflow: hidden;\n",
       "  text-align: left;\n",
       "  /* unfitted */\n",
       "  background-color: var(--sklearn-color-unfitted-level-0);\n",
       "}\n",
       "\n",
       "#sk-container-id-3 div.sk-toggleable__content.fitted {\n",
       "  /* fitted */\n",
       "  background-color: var(--sklearn-color-fitted-level-0);\n",
       "}\n",
       "\n",
       "#sk-container-id-3 div.sk-toggleable__content pre {\n",
       "  margin: 0.2em;\n",
       "  border-radius: 0.25em;\n",
       "  color: var(--sklearn-color-text);\n",
       "  /* unfitted */\n",
       "  background-color: var(--sklearn-color-unfitted-level-0);\n",
       "}\n",
       "\n",
       "#sk-container-id-3 div.sk-toggleable__content.fitted pre {\n",
       "  /* unfitted */\n",
       "  background-color: var(--sklearn-color-fitted-level-0);\n",
       "}\n",
       "\n",
       "#sk-container-id-3 input.sk-toggleable__control:checked~div.sk-toggleable__content {\n",
       "  /* Expand drop-down */\n",
       "  max-height: 200px;\n",
       "  max-width: 100%;\n",
       "  overflow: auto;\n",
       "}\n",
       "\n",
       "#sk-container-id-3 input.sk-toggleable__control:checked~label.sk-toggleable__label-arrow:before {\n",
       "  content: \"▾\";\n",
       "}\n",
       "\n",
       "/* Pipeline/ColumnTransformer-specific style */\n",
       "\n",
       "#sk-container-id-3 div.sk-label input.sk-toggleable__control:checked~label.sk-toggleable__label {\n",
       "  color: var(--sklearn-color-text);\n",
       "  background-color: var(--sklearn-color-unfitted-level-2);\n",
       "}\n",
       "\n",
       "#sk-container-id-3 div.sk-label.fitted input.sk-toggleable__control:checked~label.sk-toggleable__label {\n",
       "  background-color: var(--sklearn-color-fitted-level-2);\n",
       "}\n",
       "\n",
       "/* Estimator-specific style */\n",
       "\n",
       "/* Colorize estimator box */\n",
       "#sk-container-id-3 div.sk-estimator input.sk-toggleable__control:checked~label.sk-toggleable__label {\n",
       "  /* unfitted */\n",
       "  background-color: var(--sklearn-color-unfitted-level-2);\n",
       "}\n",
       "\n",
       "#sk-container-id-3 div.sk-estimator.fitted input.sk-toggleable__control:checked~label.sk-toggleable__label {\n",
       "  /* fitted */\n",
       "  background-color: var(--sklearn-color-fitted-level-2);\n",
       "}\n",
       "\n",
       "#sk-container-id-3 div.sk-label label.sk-toggleable__label,\n",
       "#sk-container-id-3 div.sk-label label {\n",
       "  /* The background is the default theme color */\n",
       "  color: var(--sklearn-color-text-on-default-background);\n",
       "}\n",
       "\n",
       "/* On hover, darken the color of the background */\n",
       "#sk-container-id-3 div.sk-label:hover label.sk-toggleable__label {\n",
       "  color: var(--sklearn-color-text);\n",
       "  background-color: var(--sklearn-color-unfitted-level-2);\n",
       "}\n",
       "\n",
       "/* Label box, darken color on hover, fitted */\n",
       "#sk-container-id-3 div.sk-label.fitted:hover label.sk-toggleable__label.fitted {\n",
       "  color: var(--sklearn-color-text);\n",
       "  background-color: var(--sklearn-color-fitted-level-2);\n",
       "}\n",
       "\n",
       "/* Estimator label */\n",
       "\n",
       "#sk-container-id-3 div.sk-label label {\n",
       "  font-family: monospace;\n",
       "  font-weight: bold;\n",
       "  display: inline-block;\n",
       "  line-height: 1.2em;\n",
       "}\n",
       "\n",
       "#sk-container-id-3 div.sk-label-container {\n",
       "  text-align: center;\n",
       "}\n",
       "\n",
       "/* Estimator-specific */\n",
       "#sk-container-id-3 div.sk-estimator {\n",
       "  font-family: monospace;\n",
       "  border: 1px dotted var(--sklearn-color-border-box);\n",
       "  border-radius: 0.25em;\n",
       "  box-sizing: border-box;\n",
       "  margin-bottom: 0.5em;\n",
       "  /* unfitted */\n",
       "  background-color: var(--sklearn-color-unfitted-level-0);\n",
       "}\n",
       "\n",
       "#sk-container-id-3 div.sk-estimator.fitted {\n",
       "  /* fitted */\n",
       "  background-color: var(--sklearn-color-fitted-level-0);\n",
       "}\n",
       "\n",
       "/* on hover */\n",
       "#sk-container-id-3 div.sk-estimator:hover {\n",
       "  /* unfitted */\n",
       "  background-color: var(--sklearn-color-unfitted-level-2);\n",
       "}\n",
       "\n",
       "#sk-container-id-3 div.sk-estimator.fitted:hover {\n",
       "  /* fitted */\n",
       "  background-color: var(--sklearn-color-fitted-level-2);\n",
       "}\n",
       "\n",
       "/* Specification for estimator info (e.g. \"i\" and \"?\") */\n",
       "\n",
       "/* Common style for \"i\" and \"?\" */\n",
       "\n",
       ".sk-estimator-doc-link,\n",
       "a:link.sk-estimator-doc-link,\n",
       "a:visited.sk-estimator-doc-link {\n",
       "  float: right;\n",
       "  font-size: smaller;\n",
       "  line-height: 1em;\n",
       "  font-family: monospace;\n",
       "  background-color: var(--sklearn-color-background);\n",
       "  border-radius: 1em;\n",
       "  height: 1em;\n",
       "  width: 1em;\n",
       "  text-decoration: none !important;\n",
       "  margin-left: 0.5em;\n",
       "  text-align: center;\n",
       "  /* unfitted */\n",
       "  border: var(--sklearn-color-unfitted-level-1) 1pt solid;\n",
       "  color: var(--sklearn-color-unfitted-level-1);\n",
       "}\n",
       "\n",
       ".sk-estimator-doc-link.fitted,\n",
       "a:link.sk-estimator-doc-link.fitted,\n",
       "a:visited.sk-estimator-doc-link.fitted {\n",
       "  /* fitted */\n",
       "  border: var(--sklearn-color-fitted-level-1) 1pt solid;\n",
       "  color: var(--sklearn-color-fitted-level-1);\n",
       "}\n",
       "\n",
       "/* On hover */\n",
       "div.sk-estimator:hover .sk-estimator-doc-link:hover,\n",
       ".sk-estimator-doc-link:hover,\n",
       "div.sk-label-container:hover .sk-estimator-doc-link:hover,\n",
       ".sk-estimator-doc-link:hover {\n",
       "  /* unfitted */\n",
       "  background-color: var(--sklearn-color-unfitted-level-3);\n",
       "  color: var(--sklearn-color-background);\n",
       "  text-decoration: none;\n",
       "}\n",
       "\n",
       "div.sk-estimator.fitted:hover .sk-estimator-doc-link.fitted:hover,\n",
       ".sk-estimator-doc-link.fitted:hover,\n",
       "div.sk-label-container:hover .sk-estimator-doc-link.fitted:hover,\n",
       ".sk-estimator-doc-link.fitted:hover {\n",
       "  /* fitted */\n",
       "  background-color: var(--sklearn-color-fitted-level-3);\n",
       "  color: var(--sklearn-color-background);\n",
       "  text-decoration: none;\n",
       "}\n",
       "\n",
       "/* Span, style for the box shown on hovering the info icon */\n",
       ".sk-estimator-doc-link span {\n",
       "  display: none;\n",
       "  z-index: 9999;\n",
       "  position: relative;\n",
       "  font-weight: normal;\n",
       "  right: .2ex;\n",
       "  padding: .5ex;\n",
       "  margin: .5ex;\n",
       "  width: min-content;\n",
       "  min-width: 20ex;\n",
       "  max-width: 50ex;\n",
       "  color: var(--sklearn-color-text);\n",
       "  box-shadow: 2pt 2pt 4pt #999;\n",
       "  /* unfitted */\n",
       "  background: var(--sklearn-color-unfitted-level-0);\n",
       "  border: .5pt solid var(--sklearn-color-unfitted-level-3);\n",
       "}\n",
       "\n",
       ".sk-estimator-doc-link.fitted span {\n",
       "  /* fitted */\n",
       "  background: var(--sklearn-color-fitted-level-0);\n",
       "  border: var(--sklearn-color-fitted-level-3);\n",
       "}\n",
       "\n",
       ".sk-estimator-doc-link:hover span {\n",
       "  display: block;\n",
       "}\n",
       "\n",
       "/* \"?\"-specific style due to the `<a>` HTML tag */\n",
       "\n",
       "#sk-container-id-3 a.estimator_doc_link {\n",
       "  float: right;\n",
       "  font-size: 1rem;\n",
       "  line-height: 1em;\n",
       "  font-family: monospace;\n",
       "  background-color: var(--sklearn-color-background);\n",
       "  border-radius: 1rem;\n",
       "  height: 1rem;\n",
       "  width: 1rem;\n",
       "  text-decoration: none;\n",
       "  /* unfitted */\n",
       "  color: var(--sklearn-color-unfitted-level-1);\n",
       "  border: var(--sklearn-color-unfitted-level-1) 1pt solid;\n",
       "}\n",
       "\n",
       "#sk-container-id-3 a.estimator_doc_link.fitted {\n",
       "  /* fitted */\n",
       "  border: var(--sklearn-color-fitted-level-1) 1pt solid;\n",
       "  color: var(--sklearn-color-fitted-level-1);\n",
       "}\n",
       "\n",
       "/* On hover */\n",
       "#sk-container-id-3 a.estimator_doc_link:hover {\n",
       "  /* unfitted */\n",
       "  background-color: var(--sklearn-color-unfitted-level-3);\n",
       "  color: var(--sklearn-color-background);\n",
       "  text-decoration: none;\n",
       "}\n",
       "\n",
       "#sk-container-id-3 a.estimator_doc_link.fitted:hover {\n",
       "  /* fitted */\n",
       "  background-color: var(--sklearn-color-fitted-level-3);\n",
       "}\n",
       "</style><div id=\"sk-container-id-3\" class=\"sk-top-container\"><div class=\"sk-text-repr-fallback\"><pre>XGBRegressor(base_score=None, booster=None, callbacks=None,\n",
       "             colsample_bylevel=None, colsample_bynode=None,\n",
       "             colsample_bytree=None, device=None, early_stopping_rounds=None,\n",
       "             enable_categorical=False, eval_metric=None, feature_types=None,\n",
       "             feature_weights=None, gamma=None, grow_policy=None,\n",
       "             importance_type=None, interaction_constraints=None,\n",
       "             learning_rate=0.1, max_bin=None, max_cat_threshold=None,\n",
       "             max_cat_to_onehot=None, max_delta_step=None, max_depth=10,\n",
       "             max_leaves=None, min_child_weight=None, missing=nan,\n",
       "             monotone_constraints=None, multi_strategy=None, n_estimators=100,\n",
       "             n_jobs=None, num_parallel_tree=None, ...)</pre><b>In a Jupyter environment, please rerun this cell to show the HTML representation or trust the notebook. <br />On GitHub, the HTML representation is unable to render, please try loading this page with nbviewer.org.</b></div><div class=\"sk-container\" hidden><div class=\"sk-item\"><div class=\"sk-estimator fitted sk-toggleable\"><input class=\"sk-toggleable__control sk-hidden--visually\" id=\"sk-estimator-id-3\" type=\"checkbox\" checked><label for=\"sk-estimator-id-3\" class=\"sk-toggleable__label fitted sk-toggleable__label-arrow\"><div><div>XGBRegressor</div></div><div><a class=\"sk-estimator-doc-link fitted\" rel=\"noreferrer\" target=\"_blank\" href=\"https://xgboost.readthedocs.io/en/release_3.0.0/python/python_api.html#xgboost.XGBRegressor\">?<span>Documentation for XGBRegressor</span></a><span class=\"sk-estimator-doc-link fitted\">i<span>Fitted</span></span></div></label><div class=\"sk-toggleable__content fitted\"><pre>XGBRegressor(base_score=None, booster=None, callbacks=None,\n",
       "             colsample_bylevel=None, colsample_bynode=None,\n",
       "             colsample_bytree=None, device=None, early_stopping_rounds=None,\n",
       "             enable_categorical=False, eval_metric=None, feature_types=None,\n",
       "             feature_weights=None, gamma=None, grow_policy=None,\n",
       "             importance_type=None, interaction_constraints=None,\n",
       "             learning_rate=0.1, max_bin=None, max_cat_threshold=None,\n",
       "             max_cat_to_onehot=None, max_delta_step=None, max_depth=10,\n",
       "             max_leaves=None, min_child_weight=None, missing=nan,\n",
       "             monotone_constraints=None, multi_strategy=None, n_estimators=100,\n",
       "             n_jobs=None, num_parallel_tree=None, ...)</pre></div> </div></div></div></div>"
      ],
      "text/plain": [
       "XGBRegressor(base_score=None, booster=None, callbacks=None,\n",
       "             colsample_bylevel=None, colsample_bynode=None,\n",
       "             colsample_bytree=None, device=None, early_stopping_rounds=None,\n",
       "             enable_categorical=False, eval_metric=None, feature_types=None,\n",
       "             feature_weights=None, gamma=None, grow_policy=None,\n",
       "             importance_type=None, interaction_constraints=None,\n",
       "             learning_rate=0.1, max_bin=None, max_cat_threshold=None,\n",
       "             max_cat_to_onehot=None, max_delta_step=None, max_depth=10,\n",
       "             max_leaves=None, min_child_weight=None, missing=nan,\n",
       "             monotone_constraints=None, multi_strategy=None, n_estimators=100,\n",
       "             n_jobs=None, num_parallel_tree=None, ...)"
      ]
     },
     "execution_count": 24,
     "metadata": {},
     "output_type": "execute_result"
    }
   ],
   "source": [
    "# xgb_cpu.fit(X_train, y_train,\n",
    "#     # evaluate loss at each iteration\n",
    "#     eval_set=[(X_train, y_train), (X_val, y_val)]#,  \n",
    "#     # stop iterating when eval loss increases 5 times in a row\n",
    "#     # early_stopping_rounds=5\n",
    "# )"
   ]
  },
  {
   "cell_type": "code",
   "execution_count": 22,
   "id": "1e34e401-86e0-46d0-87d3-0b987bcff838",
   "metadata": {
    "execution": {
     "iopub.execute_input": "2025-06-05T15:46:43.919284Z",
     "iopub.status.busy": "2025-06-05T15:46:43.917897Z",
     "iopub.status.idle": "2025-06-05T15:46:47.435092Z",
     "shell.execute_reply": "2025-06-05T15:46:47.433434Z",
     "shell.execute_reply.started": "2025-06-05T15:46:43.919244Z"
    },
    "scrolled": true
   },
   "outputs": [
    {
     "name": "stdout",
     "output_type": "stream",
     "text": [
      "[0]\tvalidation_0-rmse:4864.75613\tvalidation_1-rmse:4790.70907\n",
      "[1]\tvalidation_0-rmse:4389.16730\tvalidation_1-rmse:4325.74389\n",
      "[2]\tvalidation_0-rmse:3960.58826\tvalidation_1-rmse:3907.13059\n",
      "[3]\tvalidation_0-rmse:3574.90608\tvalidation_1-rmse:3529.45904\n",
      "[4]\tvalidation_0-rmse:3227.26939\tvalidation_1-rmse:3189.72797\n",
      "[5]\tvalidation_0-rmse:2914.36143\tvalidation_1-rmse:2884.86388\n",
      "[6]\tvalidation_0-rmse:2631.97842\tvalidation_1-rmse:2610.35022\n",
      "[7]\tvalidation_0-rmse:2377.87564\tvalidation_1-rmse:2363.55854\n",
      "[8]\tvalidation_0-rmse:2149.12576\tvalidation_1-rmse:2142.32900\n",
      "[9]\tvalidation_0-rmse:1943.09573\tvalidation_1-rmse:1942.74632\n",
      "[10]\tvalidation_0-rmse:1757.17874\tvalidation_1-rmse:1761.52189\n",
      "[11]\tvalidation_0-rmse:1590.03146\tvalidation_1-rmse:1599.56860\n",
      "[12]\tvalidation_0-rmse:1439.28760\tvalidation_1-rmse:1454.01887\n",
      "[13]\tvalidation_0-rmse:1303.28418\tvalidation_1-rmse:1322.68953\n",
      "[14]\tvalidation_0-rmse:1181.11645\tvalidation_1-rmse:1205.94500\n",
      "[15]\tvalidation_0-rmse:1070.45987\tvalidation_1-rmse:1099.97317\n",
      "[16]\tvalidation_0-rmse:970.65953\tvalidation_1-rmse:1006.78425\n",
      "[17]\tvalidation_0-rmse:880.92013\tvalidation_1-rmse:923.27189\n",
      "[18]\tvalidation_0-rmse:799.88430\tvalidation_1-rmse:847.70405\n",
      "[19]\tvalidation_0-rmse:727.05972\tvalidation_1-rmse:781.05078\n",
      "[20]\tvalidation_0-rmse:661.58948\tvalidation_1-rmse:722.04211\n",
      "[21]\tvalidation_0-rmse:602.30398\tvalidation_1-rmse:669.01252\n",
      "[22]\tvalidation_0-rmse:549.05563\tvalidation_1-rmse:621.86454\n",
      "[23]\tvalidation_0-rmse:501.19605\tvalidation_1-rmse:579.97361\n",
      "[24]\tvalidation_0-rmse:458.27307\tvalidation_1-rmse:543.34752\n",
      "[25]\tvalidation_0-rmse:419.07245\tvalidation_1-rmse:510.36059\n",
      "[26]\tvalidation_0-rmse:383.91457\tvalidation_1-rmse:481.72275\n",
      "[27]\tvalidation_0-rmse:351.93817\tvalidation_1-rmse:456.97430\n",
      "[28]\tvalidation_0-rmse:323.31858\tvalidation_1-rmse:435.31628\n",
      "[29]\tvalidation_0-rmse:297.61168\tvalidation_1-rmse:415.77348\n",
      "[30]\tvalidation_0-rmse:274.27796\tvalidation_1-rmse:399.33868\n",
      "[31]\tvalidation_0-rmse:253.44350\tvalidation_1-rmse:383.98551\n",
      "[32]\tvalidation_0-rmse:234.47314\tvalidation_1-rmse:370.62072\n",
      "[33]\tvalidation_0-rmse:217.54478\tvalidation_1-rmse:359.68793\n",
      "[34]\tvalidation_0-rmse:201.86394\tvalidation_1-rmse:349.46932\n",
      "[35]\tvalidation_0-rmse:188.11557\tvalidation_1-rmse:341.57616\n",
      "[36]\tvalidation_0-rmse:175.67788\tvalidation_1-rmse:334.08300\n",
      "[37]\tvalidation_0-rmse:164.24849\tvalidation_1-rmse:327.87325\n",
      "[38]\tvalidation_0-rmse:153.86762\tvalidation_1-rmse:322.01374\n",
      "[39]\tvalidation_0-rmse:144.74262\tvalidation_1-rmse:317.04086\n",
      "[40]\tvalidation_0-rmse:136.40494\tvalidation_1-rmse:311.96252\n",
      "[41]\tvalidation_0-rmse:128.86641\tvalidation_1-rmse:308.09511\n",
      "[42]\tvalidation_0-rmse:122.05878\tvalidation_1-rmse:304.55251\n",
      "[43]\tvalidation_0-rmse:116.03359\tvalidation_1-rmse:301.59947\n",
      "[44]\tvalidation_0-rmse:110.48557\tvalidation_1-rmse:299.00926\n",
      "[45]\tvalidation_0-rmse:105.37611\tvalidation_1-rmse:296.56920\n",
      "[46]\tvalidation_0-rmse:101.00573\tvalidation_1-rmse:294.57141\n",
      "[47]\tvalidation_0-rmse:96.65223\tvalidation_1-rmse:292.64394\n",
      "[48]\tvalidation_0-rmse:92.96294\tvalidation_1-rmse:290.70130\n",
      "[49]\tvalidation_0-rmse:89.37630\tvalidation_1-rmse:289.10755\n",
      "[50]\tvalidation_0-rmse:86.38266\tvalidation_1-rmse:287.97817\n",
      "[51]\tvalidation_0-rmse:83.51692\tvalidation_1-rmse:286.95175\n",
      "[52]\tvalidation_0-rmse:80.91209\tvalidation_1-rmse:286.02387\n",
      "[53]\tvalidation_0-rmse:78.49826\tvalidation_1-rmse:285.16179\n",
      "[54]\tvalidation_0-rmse:76.19282\tvalidation_1-rmse:284.43211\n",
      "[55]\tvalidation_0-rmse:73.88269\tvalidation_1-rmse:283.61022\n",
      "[56]\tvalidation_0-rmse:71.96784\tvalidation_1-rmse:282.95823\n",
      "[57]\tvalidation_0-rmse:69.69729\tvalidation_1-rmse:282.03142\n",
      "[58]\tvalidation_0-rmse:67.69711\tvalidation_1-rmse:281.30544\n",
      "[59]\tvalidation_0-rmse:65.67952\tvalidation_1-rmse:280.31105\n",
      "[60]\tvalidation_0-rmse:63.95982\tvalidation_1-rmse:279.79136\n",
      "[61]\tvalidation_0-rmse:62.33169\tvalidation_1-rmse:278.96675\n",
      "[62]\tvalidation_0-rmse:60.87403\tvalidation_1-rmse:278.51986\n",
      "[63]\tvalidation_0-rmse:59.34177\tvalidation_1-rmse:278.12266\n",
      "[64]\tvalidation_0-rmse:58.04420\tvalidation_1-rmse:277.69999\n",
      "[65]\tvalidation_0-rmse:56.93861\tvalidation_1-rmse:277.36278\n",
      "[66]\tvalidation_0-rmse:55.93934\tvalidation_1-rmse:277.07267\n",
      "[67]\tvalidation_0-rmse:54.99055\tvalidation_1-rmse:276.68728\n",
      "[68]\tvalidation_0-rmse:54.07513\tvalidation_1-rmse:276.36277\n",
      "[69]\tvalidation_0-rmse:53.18248\tvalidation_1-rmse:276.03333\n",
      "[70]\tvalidation_0-rmse:52.29505\tvalidation_1-rmse:275.47880\n",
      "[71]\tvalidation_0-rmse:51.54306\tvalidation_1-rmse:275.03552\n",
      "[72]\tvalidation_0-rmse:50.84081\tvalidation_1-rmse:274.70276\n",
      "[73]\tvalidation_0-rmse:50.10191\tvalidation_1-rmse:274.44828\n",
      "[74]\tvalidation_0-rmse:49.37682\tvalidation_1-rmse:274.07471\n",
      "[75]\tvalidation_0-rmse:48.88246\tvalidation_1-rmse:273.84145\n",
      "[76]\tvalidation_0-rmse:48.32281\tvalidation_1-rmse:273.59794\n",
      "[77]\tvalidation_0-rmse:47.78914\tvalidation_1-rmse:273.37798\n",
      "[78]\tvalidation_0-rmse:47.27325\tvalidation_1-rmse:273.07132\n",
      "[79]\tvalidation_0-rmse:46.88602\tvalidation_1-rmse:272.83792\n",
      "[80]\tvalidation_0-rmse:46.50851\tvalidation_1-rmse:272.61835\n",
      "[81]\tvalidation_0-rmse:45.92352\tvalidation_1-rmse:272.47693\n",
      "[82]\tvalidation_0-rmse:45.43600\tvalidation_1-rmse:272.37190\n",
      "[83]\tvalidation_0-rmse:44.93873\tvalidation_1-rmse:272.23255\n",
      "[84]\tvalidation_0-rmse:44.49573\tvalidation_1-rmse:272.14434\n",
      "[85]\tvalidation_0-rmse:44.06607\tvalidation_1-rmse:271.99891\n",
      "[86]\tvalidation_0-rmse:43.70569\tvalidation_1-rmse:271.86653\n",
      "[87]\tvalidation_0-rmse:43.17559\tvalidation_1-rmse:271.74949\n",
      "[88]\tvalidation_0-rmse:42.63787\tvalidation_1-rmse:271.45305\n",
      "[89]\tvalidation_0-rmse:42.28866\tvalidation_1-rmse:271.36588\n",
      "[90]\tvalidation_0-rmse:41.87902\tvalidation_1-rmse:271.22013\n",
      "[91]\tvalidation_0-rmse:41.58226\tvalidation_1-rmse:271.07059\n",
      "[92]\tvalidation_0-rmse:41.22792\tvalidation_1-rmse:270.99353\n",
      "[93]\tvalidation_0-rmse:40.97781\tvalidation_1-rmse:270.91000\n",
      "[94]\tvalidation_0-rmse:40.50713\tvalidation_1-rmse:270.84400\n",
      "[95]\tvalidation_0-rmse:40.24102\tvalidation_1-rmse:270.78923\n",
      "[96]\tvalidation_0-rmse:39.87407\tvalidation_1-rmse:270.68808\n",
      "[97]\tvalidation_0-rmse:39.39511\tvalidation_1-rmse:270.59726\n",
      "[98]\tvalidation_0-rmse:39.02364\tvalidation_1-rmse:270.51055\n",
      "[99]\tvalidation_0-rmse:38.68741\tvalidation_1-rmse:270.46215\n"
     ]
    },
    {
     "data": {
      "text/html": [
       "<style>#sk-container-id-2 {\n",
       "  /* Definition of color scheme common for light and dark mode */\n",
       "  --sklearn-color-text: #000;\n",
       "  --sklearn-color-text-muted: #666;\n",
       "  --sklearn-color-line: gray;\n",
       "  /* Definition of color scheme for unfitted estimators */\n",
       "  --sklearn-color-unfitted-level-0: #fff5e6;\n",
       "  --sklearn-color-unfitted-level-1: #f6e4d2;\n",
       "  --sklearn-color-unfitted-level-2: #ffe0b3;\n",
       "  --sklearn-color-unfitted-level-3: chocolate;\n",
       "  /* Definition of color scheme for fitted estimators */\n",
       "  --sklearn-color-fitted-level-0: #f0f8ff;\n",
       "  --sklearn-color-fitted-level-1: #d4ebff;\n",
       "  --sklearn-color-fitted-level-2: #b3dbfd;\n",
       "  --sklearn-color-fitted-level-3: cornflowerblue;\n",
       "\n",
       "  /* Specific color for light theme */\n",
       "  --sklearn-color-text-on-default-background: var(--sg-text-color, var(--theme-code-foreground, var(--jp-content-font-color1, black)));\n",
       "  --sklearn-color-background: var(--sg-background-color, var(--theme-background, var(--jp-layout-color0, white)));\n",
       "  --sklearn-color-border-box: var(--sg-text-color, var(--theme-code-foreground, var(--jp-content-font-color1, black)));\n",
       "  --sklearn-color-icon: #696969;\n",
       "\n",
       "  @media (prefers-color-scheme: dark) {\n",
       "    /* Redefinition of color scheme for dark theme */\n",
       "    --sklearn-color-text-on-default-background: var(--sg-text-color, var(--theme-code-foreground, var(--jp-content-font-color1, white)));\n",
       "    --sklearn-color-background: var(--sg-background-color, var(--theme-background, var(--jp-layout-color0, #111)));\n",
       "    --sklearn-color-border-box: var(--sg-text-color, var(--theme-code-foreground, var(--jp-content-font-color1, white)));\n",
       "    --sklearn-color-icon: #878787;\n",
       "  }\n",
       "}\n",
       "\n",
       "#sk-container-id-2 {\n",
       "  color: var(--sklearn-color-text);\n",
       "}\n",
       "\n",
       "#sk-container-id-2 pre {\n",
       "  padding: 0;\n",
       "}\n",
       "\n",
       "#sk-container-id-2 input.sk-hidden--visually {\n",
       "  border: 0;\n",
       "  clip: rect(1px 1px 1px 1px);\n",
       "  clip: rect(1px, 1px, 1px, 1px);\n",
       "  height: 1px;\n",
       "  margin: -1px;\n",
       "  overflow: hidden;\n",
       "  padding: 0;\n",
       "  position: absolute;\n",
       "  width: 1px;\n",
       "}\n",
       "\n",
       "#sk-container-id-2 div.sk-dashed-wrapped {\n",
       "  border: 1px dashed var(--sklearn-color-line);\n",
       "  margin: 0 0.4em 0.5em 0.4em;\n",
       "  box-sizing: border-box;\n",
       "  padding-bottom: 0.4em;\n",
       "  background-color: var(--sklearn-color-background);\n",
       "}\n",
       "\n",
       "#sk-container-id-2 div.sk-container {\n",
       "  /* jupyter's `normalize.less` sets `[hidden] { display: none; }`\n",
       "     but bootstrap.min.css set `[hidden] { display: none !important; }`\n",
       "     so we also need the `!important` here to be able to override the\n",
       "     default hidden behavior on the sphinx rendered scikit-learn.org.\n",
       "     See: https://github.com/scikit-learn/scikit-learn/issues/21755 */\n",
       "  display: inline-block !important;\n",
       "  position: relative;\n",
       "}\n",
       "\n",
       "#sk-container-id-2 div.sk-text-repr-fallback {\n",
       "  display: none;\n",
       "}\n",
       "\n",
       "div.sk-parallel-item,\n",
       "div.sk-serial,\n",
       "div.sk-item {\n",
       "  /* draw centered vertical line to link estimators */\n",
       "  background-image: linear-gradient(var(--sklearn-color-text-on-default-background), var(--sklearn-color-text-on-default-background));\n",
       "  background-size: 2px 100%;\n",
       "  background-repeat: no-repeat;\n",
       "  background-position: center center;\n",
       "}\n",
       "\n",
       "/* Parallel-specific style estimator block */\n",
       "\n",
       "#sk-container-id-2 div.sk-parallel-item::after {\n",
       "  content: \"\";\n",
       "  width: 100%;\n",
       "  border-bottom: 2px solid var(--sklearn-color-text-on-default-background);\n",
       "  flex-grow: 1;\n",
       "}\n",
       "\n",
       "#sk-container-id-2 div.sk-parallel {\n",
       "  display: flex;\n",
       "  align-items: stretch;\n",
       "  justify-content: center;\n",
       "  background-color: var(--sklearn-color-background);\n",
       "  position: relative;\n",
       "}\n",
       "\n",
       "#sk-container-id-2 div.sk-parallel-item {\n",
       "  display: flex;\n",
       "  flex-direction: column;\n",
       "}\n",
       "\n",
       "#sk-container-id-2 div.sk-parallel-item:first-child::after {\n",
       "  align-self: flex-end;\n",
       "  width: 50%;\n",
       "}\n",
       "\n",
       "#sk-container-id-2 div.sk-parallel-item:last-child::after {\n",
       "  align-self: flex-start;\n",
       "  width: 50%;\n",
       "}\n",
       "\n",
       "#sk-container-id-2 div.sk-parallel-item:only-child::after {\n",
       "  width: 0;\n",
       "}\n",
       "\n",
       "/* Serial-specific style estimator block */\n",
       "\n",
       "#sk-container-id-2 div.sk-serial {\n",
       "  display: flex;\n",
       "  flex-direction: column;\n",
       "  align-items: center;\n",
       "  background-color: var(--sklearn-color-background);\n",
       "  padding-right: 1em;\n",
       "  padding-left: 1em;\n",
       "}\n",
       "\n",
       "\n",
       "/* Toggleable style: style used for estimator/Pipeline/ColumnTransformer box that is\n",
       "clickable and can be expanded/collapsed.\n",
       "- Pipeline and ColumnTransformer use this feature and define the default style\n",
       "- Estimators will overwrite some part of the style using the `sk-estimator` class\n",
       "*/\n",
       "\n",
       "/* Pipeline and ColumnTransformer style (default) */\n",
       "\n",
       "#sk-container-id-2 div.sk-toggleable {\n",
       "  /* Default theme specific background. It is overwritten whether we have a\n",
       "  specific estimator or a Pipeline/ColumnTransformer */\n",
       "  background-color: var(--sklearn-color-background);\n",
       "}\n",
       "\n",
       "/* Toggleable label */\n",
       "#sk-container-id-2 label.sk-toggleable__label {\n",
       "  cursor: pointer;\n",
       "  display: flex;\n",
       "  width: 100%;\n",
       "  margin-bottom: 0;\n",
       "  padding: 0.5em;\n",
       "  box-sizing: border-box;\n",
       "  text-align: center;\n",
       "  align-items: start;\n",
       "  justify-content: space-between;\n",
       "  gap: 0.5em;\n",
       "}\n",
       "\n",
       "#sk-container-id-2 label.sk-toggleable__label .caption {\n",
       "  font-size: 0.6rem;\n",
       "  font-weight: lighter;\n",
       "  color: var(--sklearn-color-text-muted);\n",
       "}\n",
       "\n",
       "#sk-container-id-2 label.sk-toggleable__label-arrow:before {\n",
       "  /* Arrow on the left of the label */\n",
       "  content: \"▸\";\n",
       "  float: left;\n",
       "  margin-right: 0.25em;\n",
       "  color: var(--sklearn-color-icon);\n",
       "}\n",
       "\n",
       "#sk-container-id-2 label.sk-toggleable__label-arrow:hover:before {\n",
       "  color: var(--sklearn-color-text);\n",
       "}\n",
       "\n",
       "/* Toggleable content - dropdown */\n",
       "\n",
       "#sk-container-id-2 div.sk-toggleable__content {\n",
       "  max-height: 0;\n",
       "  max-width: 0;\n",
       "  overflow: hidden;\n",
       "  text-align: left;\n",
       "  /* unfitted */\n",
       "  background-color: var(--sklearn-color-unfitted-level-0);\n",
       "}\n",
       "\n",
       "#sk-container-id-2 div.sk-toggleable__content.fitted {\n",
       "  /* fitted */\n",
       "  background-color: var(--sklearn-color-fitted-level-0);\n",
       "}\n",
       "\n",
       "#sk-container-id-2 div.sk-toggleable__content pre {\n",
       "  margin: 0.2em;\n",
       "  border-radius: 0.25em;\n",
       "  color: var(--sklearn-color-text);\n",
       "  /* unfitted */\n",
       "  background-color: var(--sklearn-color-unfitted-level-0);\n",
       "}\n",
       "\n",
       "#sk-container-id-2 div.sk-toggleable__content.fitted pre {\n",
       "  /* unfitted */\n",
       "  background-color: var(--sklearn-color-fitted-level-0);\n",
       "}\n",
       "\n",
       "#sk-container-id-2 input.sk-toggleable__control:checked~div.sk-toggleable__content {\n",
       "  /* Expand drop-down */\n",
       "  max-height: 200px;\n",
       "  max-width: 100%;\n",
       "  overflow: auto;\n",
       "}\n",
       "\n",
       "#sk-container-id-2 input.sk-toggleable__control:checked~label.sk-toggleable__label-arrow:before {\n",
       "  content: \"▾\";\n",
       "}\n",
       "\n",
       "/* Pipeline/ColumnTransformer-specific style */\n",
       "\n",
       "#sk-container-id-2 div.sk-label input.sk-toggleable__control:checked~label.sk-toggleable__label {\n",
       "  color: var(--sklearn-color-text);\n",
       "  background-color: var(--sklearn-color-unfitted-level-2);\n",
       "}\n",
       "\n",
       "#sk-container-id-2 div.sk-label.fitted input.sk-toggleable__control:checked~label.sk-toggleable__label {\n",
       "  background-color: var(--sklearn-color-fitted-level-2);\n",
       "}\n",
       "\n",
       "/* Estimator-specific style */\n",
       "\n",
       "/* Colorize estimator box */\n",
       "#sk-container-id-2 div.sk-estimator input.sk-toggleable__control:checked~label.sk-toggleable__label {\n",
       "  /* unfitted */\n",
       "  background-color: var(--sklearn-color-unfitted-level-2);\n",
       "}\n",
       "\n",
       "#sk-container-id-2 div.sk-estimator.fitted input.sk-toggleable__control:checked~label.sk-toggleable__label {\n",
       "  /* fitted */\n",
       "  background-color: var(--sklearn-color-fitted-level-2);\n",
       "}\n",
       "\n",
       "#sk-container-id-2 div.sk-label label.sk-toggleable__label,\n",
       "#sk-container-id-2 div.sk-label label {\n",
       "  /* The background is the default theme color */\n",
       "  color: var(--sklearn-color-text-on-default-background);\n",
       "}\n",
       "\n",
       "/* On hover, darken the color of the background */\n",
       "#sk-container-id-2 div.sk-label:hover label.sk-toggleable__label {\n",
       "  color: var(--sklearn-color-text);\n",
       "  background-color: var(--sklearn-color-unfitted-level-2);\n",
       "}\n",
       "\n",
       "/* Label box, darken color on hover, fitted */\n",
       "#sk-container-id-2 div.sk-label.fitted:hover label.sk-toggleable__label.fitted {\n",
       "  color: var(--sklearn-color-text);\n",
       "  background-color: var(--sklearn-color-fitted-level-2);\n",
       "}\n",
       "\n",
       "/* Estimator label */\n",
       "\n",
       "#sk-container-id-2 div.sk-label label {\n",
       "  font-family: monospace;\n",
       "  font-weight: bold;\n",
       "  display: inline-block;\n",
       "  line-height: 1.2em;\n",
       "}\n",
       "\n",
       "#sk-container-id-2 div.sk-label-container {\n",
       "  text-align: center;\n",
       "}\n",
       "\n",
       "/* Estimator-specific */\n",
       "#sk-container-id-2 div.sk-estimator {\n",
       "  font-family: monospace;\n",
       "  border: 1px dotted var(--sklearn-color-border-box);\n",
       "  border-radius: 0.25em;\n",
       "  box-sizing: border-box;\n",
       "  margin-bottom: 0.5em;\n",
       "  /* unfitted */\n",
       "  background-color: var(--sklearn-color-unfitted-level-0);\n",
       "}\n",
       "\n",
       "#sk-container-id-2 div.sk-estimator.fitted {\n",
       "  /* fitted */\n",
       "  background-color: var(--sklearn-color-fitted-level-0);\n",
       "}\n",
       "\n",
       "/* on hover */\n",
       "#sk-container-id-2 div.sk-estimator:hover {\n",
       "  /* unfitted */\n",
       "  background-color: var(--sklearn-color-unfitted-level-2);\n",
       "}\n",
       "\n",
       "#sk-container-id-2 div.sk-estimator.fitted:hover {\n",
       "  /* fitted */\n",
       "  background-color: var(--sklearn-color-fitted-level-2);\n",
       "}\n",
       "\n",
       "/* Specification for estimator info (e.g. \"i\" and \"?\") */\n",
       "\n",
       "/* Common style for \"i\" and \"?\" */\n",
       "\n",
       ".sk-estimator-doc-link,\n",
       "a:link.sk-estimator-doc-link,\n",
       "a:visited.sk-estimator-doc-link {\n",
       "  float: right;\n",
       "  font-size: smaller;\n",
       "  line-height: 1em;\n",
       "  font-family: monospace;\n",
       "  background-color: var(--sklearn-color-background);\n",
       "  border-radius: 1em;\n",
       "  height: 1em;\n",
       "  width: 1em;\n",
       "  text-decoration: none !important;\n",
       "  margin-left: 0.5em;\n",
       "  text-align: center;\n",
       "  /* unfitted */\n",
       "  border: var(--sklearn-color-unfitted-level-1) 1pt solid;\n",
       "  color: var(--sklearn-color-unfitted-level-1);\n",
       "}\n",
       "\n",
       ".sk-estimator-doc-link.fitted,\n",
       "a:link.sk-estimator-doc-link.fitted,\n",
       "a:visited.sk-estimator-doc-link.fitted {\n",
       "  /* fitted */\n",
       "  border: var(--sklearn-color-fitted-level-1) 1pt solid;\n",
       "  color: var(--sklearn-color-fitted-level-1);\n",
       "}\n",
       "\n",
       "/* On hover */\n",
       "div.sk-estimator:hover .sk-estimator-doc-link:hover,\n",
       ".sk-estimator-doc-link:hover,\n",
       "div.sk-label-container:hover .sk-estimator-doc-link:hover,\n",
       ".sk-estimator-doc-link:hover {\n",
       "  /* unfitted */\n",
       "  background-color: var(--sklearn-color-unfitted-level-3);\n",
       "  color: var(--sklearn-color-background);\n",
       "  text-decoration: none;\n",
       "}\n",
       "\n",
       "div.sk-estimator.fitted:hover .sk-estimator-doc-link.fitted:hover,\n",
       ".sk-estimator-doc-link.fitted:hover,\n",
       "div.sk-label-container:hover .sk-estimator-doc-link.fitted:hover,\n",
       ".sk-estimator-doc-link.fitted:hover {\n",
       "  /* fitted */\n",
       "  background-color: var(--sklearn-color-fitted-level-3);\n",
       "  color: var(--sklearn-color-background);\n",
       "  text-decoration: none;\n",
       "}\n",
       "\n",
       "/* Span, style for the box shown on hovering the info icon */\n",
       ".sk-estimator-doc-link span {\n",
       "  display: none;\n",
       "  z-index: 9999;\n",
       "  position: relative;\n",
       "  font-weight: normal;\n",
       "  right: .2ex;\n",
       "  padding: .5ex;\n",
       "  margin: .5ex;\n",
       "  width: min-content;\n",
       "  min-width: 20ex;\n",
       "  max-width: 50ex;\n",
       "  color: var(--sklearn-color-text);\n",
       "  box-shadow: 2pt 2pt 4pt #999;\n",
       "  /* unfitted */\n",
       "  background: var(--sklearn-color-unfitted-level-0);\n",
       "  border: .5pt solid var(--sklearn-color-unfitted-level-3);\n",
       "}\n",
       "\n",
       ".sk-estimator-doc-link.fitted span {\n",
       "  /* fitted */\n",
       "  background: var(--sklearn-color-fitted-level-0);\n",
       "  border: var(--sklearn-color-fitted-level-3);\n",
       "}\n",
       "\n",
       ".sk-estimator-doc-link:hover span {\n",
       "  display: block;\n",
       "}\n",
       "\n",
       "/* \"?\"-specific style due to the `<a>` HTML tag */\n",
       "\n",
       "#sk-container-id-2 a.estimator_doc_link {\n",
       "  float: right;\n",
       "  font-size: 1rem;\n",
       "  line-height: 1em;\n",
       "  font-family: monospace;\n",
       "  background-color: var(--sklearn-color-background);\n",
       "  border-radius: 1rem;\n",
       "  height: 1rem;\n",
       "  width: 1rem;\n",
       "  text-decoration: none;\n",
       "  /* unfitted */\n",
       "  color: var(--sklearn-color-unfitted-level-1);\n",
       "  border: var(--sklearn-color-unfitted-level-1) 1pt solid;\n",
       "}\n",
       "\n",
       "#sk-container-id-2 a.estimator_doc_link.fitted {\n",
       "  /* fitted */\n",
       "  border: var(--sklearn-color-fitted-level-1) 1pt solid;\n",
       "  color: var(--sklearn-color-fitted-level-1);\n",
       "}\n",
       "\n",
       "/* On hover */\n",
       "#sk-container-id-2 a.estimator_doc_link:hover {\n",
       "  /* unfitted */\n",
       "  background-color: var(--sklearn-color-unfitted-level-3);\n",
       "  color: var(--sklearn-color-background);\n",
       "  text-decoration: none;\n",
       "}\n",
       "\n",
       "#sk-container-id-2 a.estimator_doc_link.fitted:hover {\n",
       "  /* fitted */\n",
       "  background-color: var(--sklearn-color-fitted-level-3);\n",
       "}\n",
       "</style><div id=\"sk-container-id-2\" class=\"sk-top-container\"><div class=\"sk-text-repr-fallback\"><pre>XGBRegressor(base_score=None, booster=None, callbacks=None,\n",
       "             colsample_bylevel=None, colsample_bynode=None,\n",
       "             colsample_bytree=None, device=&#x27;cuda&#x27;, early_stopping_rounds=None,\n",
       "             enable_categorical=False, eval_metric=None, feature_types=None,\n",
       "             feature_weights=None, gamma=None, grow_policy=None,\n",
       "             importance_type=None, interaction_constraints=None,\n",
       "             learning_rate=0.1, max_bin=None, max_cat_threshold=None,\n",
       "             max_cat_to_onehot=None, max_delta_step=None, max_depth=10,\n",
       "             max_leaves=None, min_child_weight=None, missing=nan,\n",
       "             monotone_constraints=None, multi_strategy=None, n_estimators=100,\n",
       "             n_jobs=None, num_parallel_tree=None, ...)</pre><b>In a Jupyter environment, please rerun this cell to show the HTML representation or trust the notebook. <br />On GitHub, the HTML representation is unable to render, please try loading this page with nbviewer.org.</b></div><div class=\"sk-container\" hidden><div class=\"sk-item\"><div class=\"sk-estimator fitted sk-toggleable\"><input class=\"sk-toggleable__control sk-hidden--visually\" id=\"sk-estimator-id-2\" type=\"checkbox\" checked><label for=\"sk-estimator-id-2\" class=\"sk-toggleable__label fitted sk-toggleable__label-arrow\"><div><div>XGBRegressor</div></div><div><a class=\"sk-estimator-doc-link fitted\" rel=\"noreferrer\" target=\"_blank\" href=\"https://xgboost.readthedocs.io/en/release_3.0.0/python/python_api.html#xgboost.XGBRegressor\">?<span>Documentation for XGBRegressor</span></a><span class=\"sk-estimator-doc-link fitted\">i<span>Fitted</span></span></div></label><div class=\"sk-toggleable__content fitted\"><pre>XGBRegressor(base_score=None, booster=None, callbacks=None,\n",
       "             colsample_bylevel=None, colsample_bynode=None,\n",
       "             colsample_bytree=None, device=&#x27;cuda&#x27;, early_stopping_rounds=None,\n",
       "             enable_categorical=False, eval_metric=None, feature_types=None,\n",
       "             feature_weights=None, gamma=None, grow_policy=None,\n",
       "             importance_type=None, interaction_constraints=None,\n",
       "             learning_rate=0.1, max_bin=None, max_cat_threshold=None,\n",
       "             max_cat_to_onehot=None, max_delta_step=None, max_depth=10,\n",
       "             max_leaves=None, min_child_weight=None, missing=nan,\n",
       "             monotone_constraints=None, multi_strategy=None, n_estimators=100,\n",
       "             n_jobs=None, num_parallel_tree=None, ...)</pre></div> </div></div></div></div>"
      ],
      "text/plain": [
       "XGBRegressor(base_score=None, booster=None, callbacks=None,\n",
       "             colsample_bylevel=None, colsample_bynode=None,\n",
       "             colsample_bytree=None, device='cuda', early_stopping_rounds=None,\n",
       "             enable_categorical=False, eval_metric=None, feature_types=None,\n",
       "             feature_weights=None, gamma=None, grow_policy=None,\n",
       "             importance_type=None, interaction_constraints=None,\n",
       "             learning_rate=0.1, max_bin=None, max_cat_threshold=None,\n",
       "             max_cat_to_onehot=None, max_delta_step=None, max_depth=10,\n",
       "             max_leaves=None, min_child_weight=None, missing=nan,\n",
       "             monotone_constraints=None, multi_strategy=None, n_estimators=100,\n",
       "             n_jobs=None, num_parallel_tree=None, ...)"
      ]
     },
     "execution_count": 22,
     "metadata": {},
     "output_type": "execute_result"
    }
   ],
   "source": [
    "xgb.fit(X_train, y_train,\n",
    "    # evaluate loss at each iteration\n",
    "    eval_set=[(X_train, y_train), (X_val, y_val)]#,  \n",
    "    # stop iterating when eval loss increases 5 times in a row\n",
    "    # early_stopping_rounds=5\n",
    ")"
   ]
  },
  {
   "cell_type": "markdown",
   "id": "aec0c429-b089-453c-b4d1-af4f434e8178",
   "metadata": {},
   "source": [
    "#### Scoring the XGBoost model"
   ]
  },
  {
   "cell_type": "code",
   "execution_count": 26,
   "id": "a11a612f-be18-4ed5-81ff-262c91b0f827",
   "metadata": {
    "execution": {
     "iopub.execute_input": "2025-06-05T15:47:47.660098Z",
     "iopub.status.busy": "2025-06-05T15:47:47.659198Z",
     "iopub.status.idle": "2025-06-05T15:47:47.815894Z",
     "shell.execute_reply": "2025-06-05T15:47:47.814389Z",
     "shell.execute_reply.started": "2025-06-05T15:47:47.660056Z"
    }
   },
   "outputs": [
    {
     "data": {
      "text/plain": [
       "array([13113.919  ,   503.5569 ,  5305.417  , ...,  1433.9236 ,\n",
       "        4945.7715 ,   194.11377], dtype=float32)"
      ]
     },
     "execution_count": 26,
     "metadata": {},
     "output_type": "execute_result"
    }
   ],
   "source": [
    "y_pred = xgb.predict(X_val)\n",
    "y_pred"
   ]
  },
  {
   "cell_type": "code",
   "execution_count": 14,
   "id": "20699004-f211-4f3d-89eb-20fec84ae7e9",
   "metadata": {
    "execution": {
     "iopub.execute_input": "2025-06-05T15:39:22.078994Z",
     "iopub.status.busy": "2025-06-05T15:39:22.077837Z",
     "iopub.status.idle": "2025-06-05T15:39:22.084759Z",
     "shell.execute_reply": "2025-06-05T15:39:22.083101Z",
     "shell.execute_reply.started": "2025-06-05T15:39:22.078956Z"
    }
   },
   "outputs": [],
   "source": [
    "# xgb_cpu.predict(X_val)"
   ]
  },
  {
   "cell_type": "code",
   "execution_count": 27,
   "id": "94c5135a-65f8-413e-a59b-714c1e6dc81c",
   "metadata": {
    "execution": {
     "iopub.execute_input": "2025-06-05T15:47:50.124353Z",
     "iopub.status.busy": "2025-06-05T15:47:50.123315Z",
     "iopub.status.idle": "2025-06-05T15:47:50.318496Z",
     "shell.execute_reply": "2025-06-05T15:47:50.316889Z",
     "shell.execute_reply.started": "2025-06-05T15:47:50.124314Z"
    }
   },
   "outputs": [
    {
     "data": {
      "text/plain": [
       "0.9974041195355453"
      ]
     },
     "execution_count": 27,
     "metadata": {},
     "output_type": "execute_result"
    }
   ],
   "source": [
    "xgb.score(X_val, y_val)"
   ]
  },
  {
   "cell_type": "code",
   "execution_count": 28,
   "id": "ea300718-d8b3-4aa4-b705-72fc38ba3c97",
   "metadata": {
    "execution": {
     "iopub.execute_input": "2025-06-05T15:48:04.573308Z",
     "iopub.status.busy": "2025-06-05T15:48:04.571957Z",
     "iopub.status.idle": "2025-06-05T15:48:04.810925Z",
     "shell.execute_reply": "2025-06-05T15:48:04.809415Z",
     "shell.execute_reply.started": "2025-06-05T15:48:04.573267Z"
    }
   },
   "outputs": [
    {
     "data": {
      "text/plain": [
       "0.9932577613020622"
      ]
     },
     "execution_count": 28,
     "metadata": {},
     "output_type": "execute_result"
    }
   ],
   "source": [
    "xgb.score(X_test, y_test)"
   ]
  },
  {
   "cell_type": "code",
   "execution_count": 17,
   "id": "056dde03-f485-42ba-8b65-6ad8f959e9b8",
   "metadata": {
    "execution": {
     "iopub.execute_input": "2025-06-05T15:39:24.207189Z",
     "iopub.status.busy": "2025-06-05T15:39:24.206130Z",
     "iopub.status.idle": "2025-06-05T15:39:24.248823Z",
     "shell.execute_reply": "2025-06-05T15:39:24.246958Z",
     "shell.execute_reply.started": "2025-06-05T15:39:24.207146Z"
    }
   },
   "outputs": [
    {
     "data": {
      "text/plain": [
       "73149.76217720877"
      ]
     },
     "execution_count": 17,
     "metadata": {},
     "output_type": "execute_result"
    }
   ],
   "source": [
    "mean_squared_error(y_val, y_pred)"
   ]
  },
  {
   "cell_type": "code",
   "execution_count": 18,
   "id": "52daa463-1043-4227-a85f-739889ca0b49",
   "metadata": {
    "execution": {
     "iopub.execute_input": "2025-06-05T15:39:25.227569Z",
     "iopub.status.busy": "2025-06-05T15:39:25.226795Z",
     "iopub.status.idle": "2025-06-05T15:39:25.277132Z",
     "shell.execute_reply": "2025-06-05T15:39:25.275651Z",
     "shell.execute_reply.started": "2025-06-05T15:39:25.227527Z"
    }
   },
   "outputs": [
    {
     "data": {
      "text/plain": [
       "270.46212706626557"
      ]
     },
     "execution_count": 18,
     "metadata": {},
     "output_type": "execute_result"
    }
   ],
   "source": [
    "np.sqrt(mean_squared_error(y_val, y_pred))"
   ]
  },
  {
   "cell_type": "code",
   "execution_count": 19,
   "id": "61ce1b4c-80ad-4a97-8dbe-9cf9fa9bf14f",
   "metadata": {
    "execution": {
     "iopub.execute_input": "2025-06-05T15:39:26.329781Z",
     "iopub.status.busy": "2025-06-05T15:39:26.328972Z",
     "iopub.status.idle": "2025-06-05T15:39:26.378488Z",
     "shell.execute_reply": "2025-06-05T15:39:26.377012Z",
     "shell.execute_reply.started": "2025-06-05T15:39:26.329743Z"
    }
   },
   "outputs": [
    {
     "data": {
      "text/plain": [
       "27.207790506690255"
      ]
     },
     "execution_count": 19,
     "metadata": {},
     "output_type": "execute_result"
    }
   ],
   "source": [
    "mean_absolute_error(y_val, y_pred)"
   ]
  },
  {
   "cell_type": "code",
   "execution_count": 20,
   "id": "ade2b9e3-82b9-40e0-b97b-b81b8f360337",
   "metadata": {
    "execution": {
     "iopub.execute_input": "2025-06-05T15:39:27.467802Z",
     "iopub.status.busy": "2025-06-05T15:39:27.467017Z",
     "iopub.status.idle": "2025-06-05T15:39:27.536581Z",
     "shell.execute_reply": "2025-06-05T15:39:27.534991Z",
     "shell.execute_reply.started": "2025-06-05T15:39:27.467765Z"
    }
   },
   "outputs": [
    {
     "data": {
      "text/plain": [
       "SalesKey\n",
       "2834903    6487.000\n",
       "888461      527.824\n",
       "1913366      54.905\n",
       "1221603    2539.873\n",
       "1308673    6320.000\n",
       "Name: SalesAmount, dtype: float64"
      ]
     },
     "execution_count": 20,
     "metadata": {},
     "output_type": "execute_result"
    }
   ],
   "source": [
    "y_test.head()"
   ]
  },
  {
   "cell_type": "markdown",
   "id": "c02120a0-459f-476f-9b22-72ed0000e81c",
   "metadata": {},
   "source": [
    "#### Looks pretty good! The model's SalesAmount predictions are on average off by only 27.5 USD!"
   ]
  },
  {
   "cell_type": "markdown",
   "id": "f34b0293-f061-40b8-bbcd-9b8c6c5114fd",
   "metadata": {},
   "source": [
    "#### TO DO: Plot observed and predicted data"
   ]
  },
  {
   "cell_type": "code",
   "execution_count": 30,
   "id": "472d91de-3b5a-4cc7-841a-8991e68873ba",
   "metadata": {
    "execution": {
     "iopub.execute_input": "2025-06-05T15:59:30.697964Z",
     "iopub.status.busy": "2025-06-05T15:59:30.696626Z",
     "iopub.status.idle": "2025-06-05T15:59:30.708952Z",
     "shell.execute_reply": "2025-06-05T15:59:30.707143Z",
     "shell.execute_reply.started": "2025-06-05T15:59:30.697921Z"
    }
   },
   "outputs": [],
   "source": [
    "def plot_prediction(y_pred, X_train, X_test, upper=None, lower=None):\n",
    "        is_confidence_int = isinstance(upper, np.ndarray) and isinstance(lower, np.ndarray)\n",
    "        # Prepare plot series\n",
    "        y_pred_series = pd.Series(y_pred, index = X_test.index)\n",
    "        lower_series = pd.Series(upper, index = X_test.index) if is_confidence_int else None\n",
    "        upper_series = pd.Series(lower, index = X_test.index) if is_confidence_int else None\n",
    "\n",
    "        # Plot\n",
    "        plt.figure(figsize=(10,4), dpi=100)\n",
    "        plt.plot(X_train[\"SalesAmount\"], label='training', color='black')\n",
    "        plt.plot(X_test[\"SalesAmount\"], label='actual', color='black', ls='--')\n",
    "        if is_confidence_int:\n",
    "            plt.fill_between(lower_series.index, lower_series, upper_series, color='k', alpha=.15)\n",
    "        plt.title('Prediction vs Actual Test Values')\n",
    "        plt.plot(y_pred_series, label='prediction', color='orange')\n",
    "        plt.legend(loc='upper left', fontsize=8);"
   ]
  },
  {
   "cell_type": "code",
   "execution_count": 31,
   "id": "56e442c9-267f-4478-b107-813d422ee5bc",
   "metadata": {
    "execution": {
     "iopub.execute_input": "2025-06-05T15:59:43.211841Z",
     "iopub.status.busy": "2025-06-05T15:59:43.210778Z",
     "iopub.status.idle": "2025-06-05T15:59:44.384228Z",
     "shell.execute_reply": "2025-06-05T15:59:44.381475Z",
     "shell.execute_reply.started": "2025-06-05T15:59:43.211796Z"
    }
   },
   "outputs": [
    {
     "ename": "ValueError",
     "evalue": "Length of values (128823) does not match length of index (184034)",
     "output_type": "error",
     "traceback": [
      "\u001b[0;31m---------------------------------------------------------------------------\u001b[0m",
      "\u001b[0;31mValueError\u001b[0m                                Traceback (most recent call last)",
      "File \u001b[0;32m~/.pyenv/versions/3.10.6/envs/sales-ninja/lib/python3.10/site-packages/cudf/pandas/fast_slow_proxy.py:997\u001b[0m, in \u001b[0;36m_fast_slow_function_call\u001b[0;34m(func, *args, **kwargs)\u001b[0m\n\u001b[1;32m    996\u001b[0m fast_args, fast_kwargs \u001b[38;5;241m=\u001b[39m _fast_arg(args), _fast_arg(kwargs)\n\u001b[0;32m--> 997\u001b[0m result \u001b[38;5;241m=\u001b[39m \u001b[43mfunc\u001b[49m\u001b[43m(\u001b[49m\u001b[38;5;241;43m*\u001b[39;49m\u001b[43mfast_args\u001b[49m\u001b[43m,\u001b[49m\u001b[43m \u001b[49m\u001b[38;5;241;43m*\u001b[39;49m\u001b[38;5;241;43m*\u001b[39;49m\u001b[43mfast_kwargs\u001b[49m\u001b[43m)\u001b[49m\n\u001b[1;32m    998\u001b[0m \u001b[38;5;28;01mif\u001b[39;00m result \u001b[38;5;129;01mis\u001b[39;00m \u001b[38;5;28mNotImplemented\u001b[39m:\n\u001b[1;32m    999\u001b[0m     \u001b[38;5;66;03m# try slow path\u001b[39;00m\n",
      "File \u001b[0;32m~/.pyenv/versions/3.10.6/envs/sales-ninja/lib/python3.10/site-packages/cudf/pandas/fast_slow_proxy.py:176\u001b[0m, in \u001b[0;36mmake_final_proxy_type.<locals>.__init__.<locals>.<lambda>\u001b[0;34m(cls, args, kwargs)\u001b[0m\n\u001b[1;32m    173\u001b[0m \u001b[38;5;28;01mdef\u001b[39;00m\u001b[38;5;250m \u001b[39m\u001b[38;5;21m__init__\u001b[39m(\u001b[38;5;28mself\u001b[39m, \u001b[38;5;241m*\u001b[39margs, \u001b[38;5;241m*\u001b[39m\u001b[38;5;241m*\u001b[39mkwargs):\n\u001b[1;32m    174\u001b[0m     _fast_slow_function_call(\n\u001b[1;32m    175\u001b[0m         \u001b[38;5;28;01mlambda\u001b[39;00m \u001b[38;5;28mcls\u001b[39m, args, kwargs: \u001b[38;5;28msetattr\u001b[39m(\n\u001b[0;32m--> 176\u001b[0m             \u001b[38;5;28mself\u001b[39m, \u001b[38;5;124m\"\u001b[39m\u001b[38;5;124m_fsproxy_wrapped\u001b[39m\u001b[38;5;124m\"\u001b[39m, \u001b[38;5;28;43mcls\u001b[39;49m\u001b[43m(\u001b[49m\u001b[38;5;241;43m*\u001b[39;49m\u001b[43margs\u001b[49m\u001b[43m,\u001b[49m\u001b[43m \u001b[49m\u001b[38;5;241;43m*\u001b[39;49m\u001b[38;5;241;43m*\u001b[39;49m\u001b[43mkwargs\u001b[49m\u001b[43m)\u001b[49m\n\u001b[1;32m    177\u001b[0m         ),\n\u001b[1;32m    178\u001b[0m         \u001b[38;5;28mtype\u001b[39m(\u001b[38;5;28mself\u001b[39m),\n\u001b[1;32m    179\u001b[0m         args,\n\u001b[1;32m    180\u001b[0m         kwargs,\n\u001b[1;32m    181\u001b[0m     )\n",
      "File \u001b[0;32m~/.pyenv/versions/3.10.6/envs/sales-ninja/lib/python3.10/site-packages/cudf/pandas/_wrappers/pandas.py:1897\u001b[0m, in \u001b[0;36mwrap_init.<locals>.wrapped_init\u001b[0;34m(self, data, *args, **kwargs)\u001b[0m\n\u001b[1;32m   1896\u001b[0m         \u001b[38;5;28;01mreturn\u001b[39;00m\n\u001b[0;32m-> 1897\u001b[0m \u001b[43moriginal_init\u001b[49m\u001b[43m(\u001b[49m\u001b[38;5;28;43mself\u001b[39;49m\u001b[43m,\u001b[49m\u001b[43m \u001b[49m\u001b[43mdata\u001b[49m\u001b[43m,\u001b[49m\u001b[43m \u001b[49m\u001b[38;5;241;43m*\u001b[39;49m\u001b[43margs\u001b[49m\u001b[43m,\u001b[49m\u001b[43m \u001b[49m\u001b[38;5;241;43m*\u001b[39;49m\u001b[38;5;241;43m*\u001b[39;49m\u001b[43mkwargs\u001b[49m\u001b[43m)\u001b[49m\n",
      "File \u001b[0;32m~/.pyenv/versions/3.10.6/envs/sales-ninja/lib/python3.10/site-packages/cudf/utils/performance_tracking.py:51\u001b[0m, in \u001b[0;36m_performance_tracking.<locals>.wrapper\u001b[0;34m(*args, **kwargs)\u001b[0m\n\u001b[1;32m     44\u001b[0m     stack\u001b[38;5;241m.\u001b[39menter_context(\n\u001b[1;32m     45\u001b[0m         nvtx\u001b[38;5;241m.\u001b[39mannotate(\n\u001b[1;32m     46\u001b[0m             message\u001b[38;5;241m=\u001b[39mfunc\u001b[38;5;241m.\u001b[39m\u001b[38;5;18m__qualname__\u001b[39m,\n\u001b[0;32m   (...)\u001b[0m\n\u001b[1;32m     49\u001b[0m         )\n\u001b[1;32m     50\u001b[0m     )\n\u001b[0;32m---> 51\u001b[0m \u001b[38;5;28;01mreturn\u001b[39;00m \u001b[43mfunc\u001b[49m\u001b[43m(\u001b[49m\u001b[38;5;241;43m*\u001b[39;49m\u001b[43margs\u001b[49m\u001b[43m,\u001b[49m\u001b[43m \u001b[49m\u001b[38;5;241;43m*\u001b[39;49m\u001b[38;5;241;43m*\u001b[39;49m\u001b[43mkwargs\u001b[49m\u001b[43m)\u001b[49m\n",
      "File \u001b[0;32m~/.pyenv/versions/3.10.6/envs/sales-ninja/lib/python3.10/site-packages/cudf/core/series.py:716\u001b[0m, in \u001b[0;36mSeries.__init__\u001b[0;34m(self, data, index, dtype, name, copy, nan_as_null)\u001b[0m\n\u001b[1;32m    715\u001b[0m     \u001b[38;5;28mself\u001b[39m\u001b[38;5;241m.\u001b[39m_index \u001b[38;5;241m=\u001b[39m second_index\n\u001b[0;32m--> 716\u001b[0m \u001b[38;5;28;43mself\u001b[39;49m\u001b[38;5;241;43m.\u001b[39;49m\u001b[43m_check_data_index_length_match\u001b[49m\u001b[43m(\u001b[49m\u001b[43m)\u001b[49m\n",
      "File \u001b[0;32m~/.pyenv/versions/3.10.6/envs/sales-ninja/lib/python3.10/site-packages/cudf/core/indexed_frame.py:443\u001b[0m, in \u001b[0;36mIndexedFrame._check_data_index_length_match\u001b[0;34m(self)\u001b[0m\n\u001b[1;32m    442\u001b[0m \u001b[38;5;28;01mif\u001b[39;00m \u001b[38;5;28mself\u001b[39m\u001b[38;5;241m.\u001b[39m_data\u001b[38;5;241m.\u001b[39mnrows \u001b[38;5;241m>\u001b[39m \u001b[38;5;241m0\u001b[39m \u001b[38;5;129;01mand\u001b[39;00m \u001b[38;5;28mself\u001b[39m\u001b[38;5;241m.\u001b[39m_data\u001b[38;5;241m.\u001b[39mnrows \u001b[38;5;241m!=\u001b[39m \u001b[38;5;28mlen\u001b[39m(\u001b[38;5;28mself\u001b[39m\u001b[38;5;241m.\u001b[39mindex):\n\u001b[0;32m--> 443\u001b[0m     \u001b[38;5;28;01mraise\u001b[39;00m \u001b[38;5;167;01mValueError\u001b[39;00m(\n\u001b[1;32m    444\u001b[0m         \u001b[38;5;124mf\u001b[39m\u001b[38;5;124m\"\u001b[39m\u001b[38;5;124mLength of values (\u001b[39m\u001b[38;5;132;01m{\u001b[39;00m\u001b[38;5;28mself\u001b[39m\u001b[38;5;241m.\u001b[39m_data\u001b[38;5;241m.\u001b[39mnrows\u001b[38;5;132;01m}\u001b[39;00m\u001b[38;5;124m) does not \u001b[39m\u001b[38;5;124m\"\u001b[39m\n\u001b[1;32m    445\u001b[0m         \u001b[38;5;124mf\u001b[39m\u001b[38;5;124m\"\u001b[39m\u001b[38;5;124mmatch length of index (\u001b[39m\u001b[38;5;132;01m{\u001b[39;00m\u001b[38;5;28mlen\u001b[39m(\u001b[38;5;28mself\u001b[39m\u001b[38;5;241m.\u001b[39mindex)\u001b[38;5;132;01m}\u001b[39;00m\u001b[38;5;124m)\u001b[39m\u001b[38;5;124m\"\u001b[39m\n\u001b[1;32m    446\u001b[0m     )\n",
      "\u001b[0;31mValueError\u001b[0m: Length of values (128823) does not match length of index (184034)",
      "\nDuring handling of the above exception, another exception occurred:\n",
      "\u001b[0;31mValueError\u001b[0m                                Traceback (most recent call last)",
      "Cell \u001b[0;32mIn[31], line 1\u001b[0m\n\u001b[0;32m----> 1\u001b[0m \u001b[43mplot_prediction\u001b[49m\u001b[43m(\u001b[49m\u001b[43my_pred\u001b[49m\u001b[43m,\u001b[49m\u001b[43m \u001b[49m\u001b[43mX_train\u001b[49m\u001b[43m,\u001b[49m\u001b[43m \u001b[49m\u001b[43mX_test\u001b[49m\u001b[43m)\u001b[49m\n",
      "Cell \u001b[0;32mIn[30], line 4\u001b[0m, in \u001b[0;36mplot_prediction\u001b[0;34m(y_pred, X_train, X_test, upper, lower)\u001b[0m\n\u001b[1;32m      2\u001b[0m is_confidence_int \u001b[38;5;241m=\u001b[39m \u001b[38;5;28misinstance\u001b[39m(upper, np\u001b[38;5;241m.\u001b[39mndarray) \u001b[38;5;129;01mand\u001b[39;00m \u001b[38;5;28misinstance\u001b[39m(lower, np\u001b[38;5;241m.\u001b[39mndarray)\n\u001b[1;32m      3\u001b[0m \u001b[38;5;66;03m# Prepare plot series\u001b[39;00m\n\u001b[0;32m----> 4\u001b[0m y_pred_series \u001b[38;5;241m=\u001b[39m \u001b[43mpd\u001b[49m\u001b[38;5;241;43m.\u001b[39;49m\u001b[43mSeries\u001b[49m\u001b[43m(\u001b[49m\u001b[43my_pred\u001b[49m\u001b[43m,\u001b[49m\u001b[43m \u001b[49m\u001b[43mindex\u001b[49m\u001b[43m \u001b[49m\u001b[38;5;241;43m=\u001b[39;49m\u001b[43m \u001b[49m\u001b[43mX_test\u001b[49m\u001b[38;5;241;43m.\u001b[39;49m\u001b[43mindex\u001b[49m\u001b[43m)\u001b[49m\n\u001b[1;32m      5\u001b[0m lower_series \u001b[38;5;241m=\u001b[39m pd\u001b[38;5;241m.\u001b[39mSeries(upper, index \u001b[38;5;241m=\u001b[39m X_test\u001b[38;5;241m.\u001b[39mindex) \u001b[38;5;28;01mif\u001b[39;00m is_confidence_int \u001b[38;5;28;01melse\u001b[39;00m \u001b[38;5;28;01mNone\u001b[39;00m\n\u001b[1;32m      6\u001b[0m upper_series \u001b[38;5;241m=\u001b[39m pd\u001b[38;5;241m.\u001b[39mSeries(lower, index \u001b[38;5;241m=\u001b[39m X_test\u001b[38;5;241m.\u001b[39mindex) \u001b[38;5;28;01mif\u001b[39;00m is_confidence_int \u001b[38;5;28;01melse\u001b[39;00m \u001b[38;5;28;01mNone\u001b[39;00m\n",
      "File \u001b[0;32m~/.pyenv/versions/3.10.6/envs/sales-ninja/lib/python3.10/site-packages/cudf/pandas/fast_slow_proxy.py:174\u001b[0m, in \u001b[0;36mmake_final_proxy_type.<locals>.__init__\u001b[0;34m(self, *args, **kwargs)\u001b[0m\n\u001b[1;32m    173\u001b[0m \u001b[38;5;28;01mdef\u001b[39;00m\u001b[38;5;250m \u001b[39m\u001b[38;5;21m__init__\u001b[39m(\u001b[38;5;28mself\u001b[39m, \u001b[38;5;241m*\u001b[39margs, \u001b[38;5;241m*\u001b[39m\u001b[38;5;241m*\u001b[39mkwargs):\n\u001b[0;32m--> 174\u001b[0m     \u001b[43m_fast_slow_function_call\u001b[49m\u001b[43m(\u001b[49m\n\u001b[1;32m    175\u001b[0m \u001b[43m        \u001b[49m\u001b[38;5;28;43;01mlambda\u001b[39;49;00m\u001b[43m \u001b[49m\u001b[38;5;28;43mcls\u001b[39;49m\u001b[43m,\u001b[49m\u001b[43m \u001b[49m\u001b[43margs\u001b[49m\u001b[43m,\u001b[49m\u001b[43m \u001b[49m\u001b[43mkwargs\u001b[49m\u001b[43m:\u001b[49m\u001b[43m \u001b[49m\u001b[38;5;28;43msetattr\u001b[39;49m\u001b[43m(\u001b[49m\n\u001b[1;32m    176\u001b[0m \u001b[43m            \u001b[49m\u001b[38;5;28;43mself\u001b[39;49m\u001b[43m,\u001b[49m\u001b[43m \u001b[49m\u001b[38;5;124;43m\"\u001b[39;49m\u001b[38;5;124;43m_fsproxy_wrapped\u001b[39;49m\u001b[38;5;124;43m\"\u001b[39;49m\u001b[43m,\u001b[49m\u001b[43m \u001b[49m\u001b[38;5;28;43mcls\u001b[39;49m\u001b[43m(\u001b[49m\u001b[38;5;241;43m*\u001b[39;49m\u001b[43margs\u001b[49m\u001b[43m,\u001b[49m\u001b[43m \u001b[49m\u001b[38;5;241;43m*\u001b[39;49m\u001b[38;5;241;43m*\u001b[39;49m\u001b[43mkwargs\u001b[49m\u001b[43m)\u001b[49m\n\u001b[1;32m    177\u001b[0m \u001b[43m        \u001b[49m\u001b[43m)\u001b[49m\u001b[43m,\u001b[49m\n\u001b[1;32m    178\u001b[0m \u001b[43m        \u001b[49m\u001b[38;5;28;43mtype\u001b[39;49m\u001b[43m(\u001b[49m\u001b[38;5;28;43mself\u001b[39;49m\u001b[43m)\u001b[49m\u001b[43m,\u001b[49m\n\u001b[1;32m    179\u001b[0m \u001b[43m        \u001b[49m\u001b[43margs\u001b[49m\u001b[43m,\u001b[49m\n\u001b[1;32m    180\u001b[0m \u001b[43m        \u001b[49m\u001b[43mkwargs\u001b[49m\u001b[43m,\u001b[49m\n\u001b[1;32m    181\u001b[0m \u001b[43m    \u001b[49m\u001b[43m)\u001b[49m\n",
      "File \u001b[0;32m~/.pyenv/versions/3.10.6/envs/sales-ninja/lib/python3.10/site-packages/cudf/pandas/fast_slow_proxy.py:1049\u001b[0m, in \u001b[0;36m_fast_slow_function_call\u001b[0;34m(func, *args, **kwargs)\u001b[0m\n\u001b[1;32m   1047\u001b[0m         _slow_function_call()\n\u001b[1;32m   1048\u001b[0m         \u001b[38;5;28;01mwith\u001b[39;00m disable_module_accelerator():\n\u001b[0;32m-> 1049\u001b[0m             result \u001b[38;5;241m=\u001b[39m \u001b[43mfunc\u001b[49m\u001b[43m(\u001b[49m\u001b[38;5;241;43m*\u001b[39;49m\u001b[43mslow_args\u001b[49m\u001b[43m,\u001b[49m\u001b[43m \u001b[49m\u001b[38;5;241;43m*\u001b[39;49m\u001b[38;5;241;43m*\u001b[39;49m\u001b[43mslow_kwargs\u001b[49m\u001b[43m)\u001b[49m\n\u001b[1;32m   1050\u001b[0m \u001b[38;5;28;01mreturn\u001b[39;00m _maybe_wrap_result(result, func, \u001b[38;5;241m*\u001b[39margs, \u001b[38;5;241m*\u001b[39m\u001b[38;5;241m*\u001b[39mkwargs), fast\n",
      "File \u001b[0;32m~/.pyenv/versions/3.10.6/envs/sales-ninja/lib/python3.10/site-packages/cudf/pandas/fast_slow_proxy.py:176\u001b[0m, in \u001b[0;36mmake_final_proxy_type.<locals>.__init__.<locals>.<lambda>\u001b[0;34m(cls, args, kwargs)\u001b[0m\n\u001b[1;32m    173\u001b[0m \u001b[38;5;28;01mdef\u001b[39;00m\u001b[38;5;250m \u001b[39m\u001b[38;5;21m__init__\u001b[39m(\u001b[38;5;28mself\u001b[39m, \u001b[38;5;241m*\u001b[39margs, \u001b[38;5;241m*\u001b[39m\u001b[38;5;241m*\u001b[39mkwargs):\n\u001b[1;32m    174\u001b[0m     _fast_slow_function_call(\n\u001b[1;32m    175\u001b[0m         \u001b[38;5;28;01mlambda\u001b[39;00m \u001b[38;5;28mcls\u001b[39m, args, kwargs: \u001b[38;5;28msetattr\u001b[39m(\n\u001b[0;32m--> 176\u001b[0m             \u001b[38;5;28mself\u001b[39m, \u001b[38;5;124m\"\u001b[39m\u001b[38;5;124m_fsproxy_wrapped\u001b[39m\u001b[38;5;124m\"\u001b[39m, \u001b[38;5;28;43mcls\u001b[39;49m\u001b[43m(\u001b[49m\u001b[38;5;241;43m*\u001b[39;49m\u001b[43margs\u001b[49m\u001b[43m,\u001b[49m\u001b[43m \u001b[49m\u001b[38;5;241;43m*\u001b[39;49m\u001b[38;5;241;43m*\u001b[39;49m\u001b[43mkwargs\u001b[49m\u001b[43m)\u001b[49m\n\u001b[1;32m    177\u001b[0m         ),\n\u001b[1;32m    178\u001b[0m         \u001b[38;5;28mtype\u001b[39m(\u001b[38;5;28mself\u001b[39m),\n\u001b[1;32m    179\u001b[0m         args,\n\u001b[1;32m    180\u001b[0m         kwargs,\n\u001b[1;32m    181\u001b[0m     )\n",
      "File \u001b[0;32m~/.pyenv/versions/3.10.6/envs/sales-ninja/lib/python3.10/site-packages/pandas/core/series.py:575\u001b[0m, in \u001b[0;36mSeries.__init__\u001b[0;34m(self, data, index, dtype, name, copy, fastpath)\u001b[0m\n\u001b[1;32m    573\u001b[0m     index \u001b[38;5;241m=\u001b[39m default_index(\u001b[38;5;28mlen\u001b[39m(data))\n\u001b[1;32m    574\u001b[0m \u001b[38;5;28;01melif\u001b[39;00m is_list_like(data):\n\u001b[0;32m--> 575\u001b[0m     \u001b[43mcom\u001b[49m\u001b[38;5;241;43m.\u001b[39;49m\u001b[43mrequire_length_match\u001b[49m\u001b[43m(\u001b[49m\u001b[43mdata\u001b[49m\u001b[43m,\u001b[49m\u001b[43m \u001b[49m\u001b[43mindex\u001b[49m\u001b[43m)\u001b[49m\n\u001b[1;32m    577\u001b[0m \u001b[38;5;66;03m# create/copy the manager\u001b[39;00m\n\u001b[1;32m    578\u001b[0m \u001b[38;5;28;01mif\u001b[39;00m \u001b[38;5;28misinstance\u001b[39m(data, (SingleBlockManager, SingleArrayManager)):\n",
      "File \u001b[0;32m~/.pyenv/versions/3.10.6/envs/sales-ninja/lib/python3.10/site-packages/pandas/core/common.py:573\u001b[0m, in \u001b[0;36mrequire_length_match\u001b[0;34m(data, index)\u001b[0m\n\u001b[1;32m    569\u001b[0m \u001b[38;5;250m\u001b[39m\u001b[38;5;124;03m\"\"\"\u001b[39;00m\n\u001b[1;32m    570\u001b[0m \u001b[38;5;124;03mCheck the length of data matches the length of the index.\u001b[39;00m\n\u001b[1;32m    571\u001b[0m \u001b[38;5;124;03m\"\"\"\u001b[39;00m\n\u001b[1;32m    572\u001b[0m \u001b[38;5;28;01mif\u001b[39;00m \u001b[38;5;28mlen\u001b[39m(data) \u001b[38;5;241m!=\u001b[39m \u001b[38;5;28mlen\u001b[39m(index):\n\u001b[0;32m--> 573\u001b[0m     \u001b[38;5;28;01mraise\u001b[39;00m \u001b[38;5;167;01mValueError\u001b[39;00m(\n\u001b[1;32m    574\u001b[0m         \u001b[38;5;124m\"\u001b[39m\u001b[38;5;124mLength of values \u001b[39m\u001b[38;5;124m\"\u001b[39m\n\u001b[1;32m    575\u001b[0m         \u001b[38;5;124mf\u001b[39m\u001b[38;5;124m\"\u001b[39m\u001b[38;5;124m(\u001b[39m\u001b[38;5;132;01m{\u001b[39;00m\u001b[38;5;28mlen\u001b[39m(data)\u001b[38;5;132;01m}\u001b[39;00m\u001b[38;5;124m) \u001b[39m\u001b[38;5;124m\"\u001b[39m\n\u001b[1;32m    576\u001b[0m         \u001b[38;5;124m\"\u001b[39m\u001b[38;5;124mdoes not match length of index \u001b[39m\u001b[38;5;124m\"\u001b[39m\n\u001b[1;32m    577\u001b[0m         \u001b[38;5;124mf\u001b[39m\u001b[38;5;124m\"\u001b[39m\u001b[38;5;124m(\u001b[39m\u001b[38;5;132;01m{\u001b[39;00m\u001b[38;5;28mlen\u001b[39m(index)\u001b[38;5;132;01m}\u001b[39;00m\u001b[38;5;124m)\u001b[39m\u001b[38;5;124m\"\u001b[39m\n\u001b[1;32m    578\u001b[0m     )\n",
      "\u001b[0;31mValueError\u001b[0m: Length of values (128823) does not match length of index (184034)"
     ]
    }
   ],
   "source": [
    "plot_prediction(y_pred, X_train, X_test)"
   ]
  },
  {
   "cell_type": "code",
   "execution_count": null,
   "id": "b18e6736-6ba1-4c3d-8b80-3bfa07fa6997",
   "metadata": {},
   "outputs": [],
   "source": []
  }
 ],
 "metadata": {
  "kernelspec": {
   "display_name": "Python 3 (ipykernel)",
   "language": "python",
   "name": "python3"
  },
  "language_info": {
   "codemirror_mode": {
    "name": "ipython",
    "version": 3
   },
   "file_extension": ".py",
   "mimetype": "text/x-python",
   "name": "python",
   "nbconvert_exporter": "python",
   "pygments_lexer": "ipython3",
   "version": "3.10.6"
  }
 },
 "nbformat": 4,
 "nbformat_minor": 5
}
