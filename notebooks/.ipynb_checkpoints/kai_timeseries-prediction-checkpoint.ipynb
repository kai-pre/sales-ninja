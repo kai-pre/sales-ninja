{
 "cells": [
  {
   "cell_type": "markdown",
   "id": "040b326d-0952-4c4f-9fed-24ef2d4b3069",
   "metadata": {},
   "source": [
    "Sketch for prediction of SalesAmount\n",
    "==="
   ]
  },
  {
   "cell_type": "markdown",
   "id": "6b5e1070-fb25-4cca-aff0-1b45f0c2d0cd",
   "metadata": {
    "execution": {
     "iopub.execute_input": "2025-06-03T12:42:11.959680Z",
     "iopub.status.busy": "2025-06-03T12:42:11.959277Z",
     "iopub.status.idle": "2025-06-03T12:42:11.966982Z",
     "shell.execute_reply": "2025-06-03T12:42:11.965488Z",
     "shell.execute_reply.started": "2025-06-03T12:42:11.959644Z"
    }
   },
   "source": [
    "# Setup"
   ]
  },
  {
   "cell_type": "code",
   "execution_count": 3,
   "id": "30f0cf45-3378-4326-bd87-5d1a6431794d",
   "metadata": {
    "execution": {
     "iopub.execute_input": "2025-06-03T12:42:41.986372Z",
     "iopub.status.busy": "2025-06-03T12:42:41.985404Z",
     "iopub.status.idle": "2025-06-03T12:42:44.722794Z",
     "shell.execute_reply": "2025-06-03T12:42:44.721005Z",
     "shell.execute_reply.started": "2025-06-03T12:42:41.986296Z"
    }
   },
   "outputs": [],
   "source": [
    "import pandas as pd\n",
    "import numpy as np\n",
    "import seaborn as sns\n",
    "import matplotlib.pyplot as plt\n",
    "\n",
    "from sklearn\n",
    "\n",
    "from os import path"
   ]
  },
  {
   "cell_type": "markdown",
   "id": "149d73fb-6545-4687-b7fc-8994580a6d6b",
   "metadata": {},
   "source": [
    "# Loading Data"
   ]
  },
  {
   "cell_type": "code",
   "execution_count": 5,
   "id": "2b467b51-2f42-4635-a15d-17292005b885",
   "metadata": {
    "execution": {
     "iopub.execute_input": "2025-06-03T12:43:02.442487Z",
     "iopub.status.busy": "2025-06-03T12:43:02.441415Z",
     "iopub.status.idle": "2025-06-03T12:43:08.981711Z",
     "shell.execute_reply": "2025-06-03T12:43:08.980231Z",
     "shell.execute_reply.started": "2025-06-03T12:43:02.442401Z"
    }
   },
   "outputs": [
    {
     "data": {
      "text/html": [
       "<div>\n",
       "<style scoped>\n",
       "    .dataframe tbody tr th:only-of-type {\n",
       "        vertical-align: middle;\n",
       "    }\n",
       "\n",
       "    .dataframe tbody tr th {\n",
       "        vertical-align: top;\n",
       "    }\n",
       "\n",
       "    .dataframe thead th {\n",
       "        text-align: right;\n",
       "    }\n",
       "</style>\n",
       "<table border=\"1\" class=\"dataframe\">\n",
       "  <thead>\n",
       "    <tr style=\"text-align: right;\">\n",
       "      <th></th>\n",
       "      <th>DateKey</th>\n",
       "      <th>channelKey</th>\n",
       "      <th>StoreKey</th>\n",
       "      <th>ProductKey</th>\n",
       "      <th>PromotionKey</th>\n",
       "      <th>CurrencyKey</th>\n",
       "      <th>UnitCost</th>\n",
       "      <th>UnitPrice</th>\n",
       "      <th>SalesQuantity</th>\n",
       "      <th>ReturnQuantity</th>\n",
       "      <th>ReturnAmount</th>\n",
       "      <th>DiscountQuantity</th>\n",
       "      <th>DiscountAmount</th>\n",
       "      <th>TotalCost</th>\n",
       "      <th>SalesAmount</th>\n",
       "    </tr>\n",
       "    <tr>\n",
       "      <th>SalesKey</th>\n",
       "      <th></th>\n",
       "      <th></th>\n",
       "      <th></th>\n",
       "      <th></th>\n",
       "      <th></th>\n",
       "      <th></th>\n",
       "      <th></th>\n",
       "      <th></th>\n",
       "      <th></th>\n",
       "      <th></th>\n",
       "      <th></th>\n",
       "      <th></th>\n",
       "      <th></th>\n",
       "      <th></th>\n",
       "      <th></th>\n",
       "    </tr>\n",
       "  </thead>\n",
       "  <tbody>\n",
       "    <tr>\n",
       "      <th>1</th>\n",
       "      <td>2007-01-02</td>\n",
       "      <td>1</td>\n",
       "      <td>209</td>\n",
       "      <td>956</td>\n",
       "      <td>10</td>\n",
       "      <td>1</td>\n",
       "      <td>91.05</td>\n",
       "      <td>198.0</td>\n",
       "      <td>8</td>\n",
       "      <td>0</td>\n",
       "      <td>0.0</td>\n",
       "      <td>1</td>\n",
       "      <td>39.600</td>\n",
       "      <td>728.40</td>\n",
       "      <td>1544.400</td>\n",
       "    </tr>\n",
       "    <tr>\n",
       "      <th>2</th>\n",
       "      <td>2007-02-12</td>\n",
       "      <td>4</td>\n",
       "      <td>308</td>\n",
       "      <td>766</td>\n",
       "      <td>2</td>\n",
       "      <td>1</td>\n",
       "      <td>10.15</td>\n",
       "      <td>19.9</td>\n",
       "      <td>4</td>\n",
       "      <td>0</td>\n",
       "      <td>0.0</td>\n",
       "      <td>1</td>\n",
       "      <td>0.995</td>\n",
       "      <td>40.60</td>\n",
       "      <td>78.605</td>\n",
       "    </tr>\n",
       "    <tr>\n",
       "      <th>3</th>\n",
       "      <td>2008-01-24</td>\n",
       "      <td>1</td>\n",
       "      <td>156</td>\n",
       "      <td>1175</td>\n",
       "      <td>11</td>\n",
       "      <td>1</td>\n",
       "      <td>209.03</td>\n",
       "      <td>410.0</td>\n",
       "      <td>9</td>\n",
       "      <td>0</td>\n",
       "      <td>0.0</td>\n",
       "      <td>3</td>\n",
       "      <td>61.500</td>\n",
       "      <td>1881.27</td>\n",
       "      <td>3628.500</td>\n",
       "    </tr>\n",
       "    <tr>\n",
       "      <th>4</th>\n",
       "      <td>2008-01-13</td>\n",
       "      <td>2</td>\n",
       "      <td>306</td>\n",
       "      <td>1429</td>\n",
       "      <td>10</td>\n",
       "      <td>1</td>\n",
       "      <td>132.90</td>\n",
       "      <td>289.0</td>\n",
       "      <td>8</td>\n",
       "      <td>0</td>\n",
       "      <td>0.0</td>\n",
       "      <td>1</td>\n",
       "      <td>57.800</td>\n",
       "      <td>1063.20</td>\n",
       "      <td>2254.200</td>\n",
       "    </tr>\n",
       "    <tr>\n",
       "      <th>5</th>\n",
       "      <td>2008-01-22</td>\n",
       "      <td>2</td>\n",
       "      <td>306</td>\n",
       "      <td>1133</td>\n",
       "      <td>10</td>\n",
       "      <td>1</td>\n",
       "      <td>144.52</td>\n",
       "      <td>436.2</td>\n",
       "      <td>24</td>\n",
       "      <td>0</td>\n",
       "      <td>0.0</td>\n",
       "      <td>3</td>\n",
       "      <td>261.720</td>\n",
       "      <td>3468.48</td>\n",
       "      <td>10207.080</td>\n",
       "    </tr>\n",
       "  </tbody>\n",
       "</table>\n",
       "</div>"
      ],
      "text/plain": [
       "            DateKey  channelKey  StoreKey  ProductKey  PromotionKey  \\\n",
       "SalesKey                                                              \n",
       "1        2007-01-02           1       209         956            10   \n",
       "2        2007-02-12           4       308         766             2   \n",
       "3        2008-01-24           1       156        1175            11   \n",
       "4        2008-01-13           2       306        1429            10   \n",
       "5        2008-01-22           2       306        1133            10   \n",
       "\n",
       "          CurrencyKey  UnitCost  UnitPrice  SalesQuantity  ReturnQuantity  \\\n",
       "SalesKey                                                                    \n",
       "1                   1     91.05      198.0              8               0   \n",
       "2                   1     10.15       19.9              4               0   \n",
       "3                   1    209.03      410.0              9               0   \n",
       "4                   1    132.90      289.0              8               0   \n",
       "5                   1    144.52      436.2             24               0   \n",
       "\n",
       "          ReturnAmount  DiscountQuantity  DiscountAmount  TotalCost  \\\n",
       "SalesKey                                                              \n",
       "1                  0.0                 1          39.600     728.40   \n",
       "2                  0.0                 1           0.995      40.60   \n",
       "3                  0.0                 3          61.500    1881.27   \n",
       "4                  0.0                 1          57.800    1063.20   \n",
       "5                  0.0                 3         261.720    3468.48   \n",
       "\n",
       "          SalesAmount  \n",
       "SalesKey               \n",
       "1            1544.400  \n",
       "2              78.605  \n",
       "3            3628.500  \n",
       "4            2254.200  \n",
       "5           10207.080  "
      ]
     },
     "execution_count": 5,
     "metadata": {},
     "output_type": "execute_result"
    }
   ],
   "source": [
    "### For now, let's just work with the main table FactSales\n",
    "data = pd.read_csv(\"../raw_data/FactSales.csv\")\n",
    "\n",
    "data.set_index(['SalesKey'], inplace=True)\n",
    "data['DateKey'] = pd.to_datetime(data['DateKey'], infer_datetime_format=True)\n",
    "\n",
    "data.head()"
   ]
  },
  {
   "cell_type": "markdown",
   "id": "8c4bd9f1-174c-46dc-b14e-ada136d480c8",
   "metadata": {},
   "source": [
    "## Merging with other tables for additional features"
   ]
  },
  {
   "cell_type": "code",
   "execution_count": 6,
   "id": "e47d3a75-d268-4cda-ac66-ba5cdb61eb47",
   "metadata": {
    "execution": {
     "iopub.execute_input": "2025-06-03T12:46:07.715307Z",
     "iopub.status.busy": "2025-06-03T12:46:07.714151Z",
     "iopub.status.idle": "2025-06-03T12:46:07.730682Z",
     "shell.execute_reply": "2025-06-03T12:46:07.727593Z",
     "shell.execute_reply.started": "2025-06-03T12:46:07.715213Z"
    }
   },
   "outputs": [],
   "source": [
    "##### TBD"
   ]
  },
  {
   "cell_type": "markdown",
   "id": "0de646ee-0b7a-4631-a59e-2d0169f156b5",
   "metadata": {},
   "source": [
    "# Pre-processing"
   ]
  },
  {
   "cell_type": "code",
   "execution_count": null,
   "id": "48505552-ddd3-4b4a-afa4-469970f815f9",
   "metadata": {},
   "outputs": [],
   "source": [
    "## Seasonal data - aggregating by days (DateKey)"
   ]
  }
 ],
 "metadata": {
  "kernelspec": {
   "display_name": "Python 3 (ipykernel)",
   "language": "python",
   "name": "python3"
  },
  "language_info": {
   "codemirror_mode": {
    "name": "ipython",
    "version": 3
   },
   "file_extension": ".py",
   "mimetype": "text/x-python",
   "name": "python",
   "nbconvert_exporter": "python",
   "pygments_lexer": "ipython3",
   "version": "3.10.6"
  }
 },
 "nbformat": 4,
 "nbformat_minor": 5
}
