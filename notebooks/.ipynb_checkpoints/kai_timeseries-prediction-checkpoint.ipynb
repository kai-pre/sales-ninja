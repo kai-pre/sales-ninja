{
 "cells": [
  {
   "cell_type": "markdown",
   "id": "040b326d-0952-4c4f-9fed-24ef2d4b3069",
   "metadata": {},
   "source": [
    "Sketch for prediction of SalesAmount\n",
    "==="
   ]
  },
  {
   "cell_type": "markdown",
   "id": "6b5e1070-fb25-4cca-aff0-1b45f0c2d0cd",
   "metadata": {
    "execution": {
     "iopub.execute_input": "2025-06-03T12:42:11.959680Z",
     "iopub.status.busy": "2025-06-03T12:42:11.959277Z",
     "iopub.status.idle": "2025-06-03T12:42:11.966982Z",
     "shell.execute_reply": "2025-06-03T12:42:11.965488Z",
     "shell.execute_reply.started": "2025-06-03T12:42:11.959644Z"
    }
   },
   "source": [
    "# Setup"
   ]
  },
  {
   "cell_type": "code",
   "execution_count": 2,
   "id": "30f0cf45-3378-4326-bd87-5d1a6431794d",
   "metadata": {
    "execution": {
     "iopub.execute_input": "2025-06-04T12:29:12.186636Z",
     "iopub.status.busy": "2025-06-04T12:29:12.185470Z",
     "iopub.status.idle": "2025-06-04T12:29:16.374381Z",
     "shell.execute_reply": "2025-06-04T12:29:16.372831Z",
     "shell.execute_reply.started": "2025-06-04T12:29:12.186554Z"
    }
   },
   "outputs": [],
   "source": [
    "import pandas as pd\n",
    "import numpy as np\n",
    "import seaborn as sns\n",
    "import matplotlib.pyplot as plt\n",
    "\n",
    "from sklearn.model_selection import cross_validate, train_test_split\n",
    "from sklearn.ensemble import RandomForestRegressor, BaggingClassifier, BaggingRegressor\n",
    "from sklearn.neighbors import KNeighborsClassifier\n",
    "from sklearn.preprocessing import StandardScaler, RobustScaler, MinMaxScaler\n",
    "\n",
    "from os import path"
   ]
  },
  {
   "cell_type": "markdown",
   "id": "149d73fb-6545-4687-b7fc-8994580a6d6b",
   "metadata": {},
   "source": [
    "# Loading Data"
   ]
  },
  {
   "cell_type": "code",
   "execution_count": 3,
   "id": "2b467b51-2f42-4635-a15d-17292005b885",
   "metadata": {
    "execution": {
     "iopub.execute_input": "2025-06-04T12:29:16.376340Z",
     "iopub.status.busy": "2025-06-04T12:29:16.375909Z",
     "iopub.status.idle": "2025-06-04T12:29:39.408352Z",
     "shell.execute_reply": "2025-06-04T12:29:39.405803Z",
     "shell.execute_reply.started": "2025-06-04T12:29:16.376310Z"
    }
   },
   "outputs": [
    {
     "name": "stdout",
     "output_type": "stream",
     "text": [
      "(3406089, 43)\n"
     ]
    },
    {
     "data": {
      "text/html": [
       "<div>\n",
       "<style scoped>\n",
       "    .dataframe tbody tr th:only-of-type {\n",
       "        vertical-align: middle;\n",
       "    }\n",
       "\n",
       "    .dataframe tbody tr th {\n",
       "        vertical-align: top;\n",
       "    }\n",
       "\n",
       "    .dataframe thead th {\n",
       "        text-align: right;\n",
       "    }\n",
       "</style>\n",
       "<table border=\"1\" class=\"dataframe\">\n",
       "  <thead>\n",
       "    <tr style=\"text-align: right;\">\n",
       "      <th></th>\n",
       "      <th>DateKey</th>\n",
       "      <th>channelKey</th>\n",
       "      <th>StoreKey</th>\n",
       "      <th>ProductKey</th>\n",
       "      <th>PromotionKey</th>\n",
       "      <th>CurrencyKey</th>\n",
       "      <th>UnitCost</th>\n",
       "      <th>UnitPrice</th>\n",
       "      <th>SalesQuantity</th>\n",
       "      <th>ReturnQuantity</th>\n",
       "      <th>...</th>\n",
       "      <th>GeographyKey</th>\n",
       "      <th>StoreType</th>\n",
       "      <th>Status_y</th>\n",
       "      <th>EmployeeCount</th>\n",
       "      <th>SellingAreaSize</th>\n",
       "      <th>GeographyType</th>\n",
       "      <th>ContinentName</th>\n",
       "      <th>CityName</th>\n",
       "      <th>StateProvinceName</th>\n",
       "      <th>RegionCountryName</th>\n",
       "    </tr>\n",
       "    <tr>\n",
       "      <th>SalesKey</th>\n",
       "      <th></th>\n",
       "      <th></th>\n",
       "      <th></th>\n",
       "      <th></th>\n",
       "      <th></th>\n",
       "      <th></th>\n",
       "      <th></th>\n",
       "      <th></th>\n",
       "      <th></th>\n",
       "      <th></th>\n",
       "      <th></th>\n",
       "      <th></th>\n",
       "      <th></th>\n",
       "      <th></th>\n",
       "      <th></th>\n",
       "      <th></th>\n",
       "      <th></th>\n",
       "      <th></th>\n",
       "      <th></th>\n",
       "      <th></th>\n",
       "      <th></th>\n",
       "    </tr>\n",
       "  </thead>\n",
       "  <tbody>\n",
       "    <tr>\n",
       "      <th>1</th>\n",
       "      <td>2007-01-02</td>\n",
       "      <td>1</td>\n",
       "      <td>209</td>\n",
       "      <td>956</td>\n",
       "      <td>10</td>\n",
       "      <td>1</td>\n",
       "      <td>91.05</td>\n",
       "      <td>198.0</td>\n",
       "      <td>8</td>\n",
       "      <td>0</td>\n",
       "      <td>...</td>\n",
       "      <td>738</td>\n",
       "      <td>Store</td>\n",
       "      <td>On</td>\n",
       "      <td>32</td>\n",
       "      <td>680</td>\n",
       "      <td>City</td>\n",
       "      <td>Europe</td>\n",
       "      <td>Baildon</td>\n",
       "      <td>England</td>\n",
       "      <td>United Kingdom</td>\n",
       "    </tr>\n",
       "    <tr>\n",
       "      <th>2</th>\n",
       "      <td>2007-02-12</td>\n",
       "      <td>4</td>\n",
       "      <td>308</td>\n",
       "      <td>766</td>\n",
       "      <td>2</td>\n",
       "      <td>1</td>\n",
       "      <td>10.15</td>\n",
       "      <td>19.9</td>\n",
       "      <td>4</td>\n",
       "      <td>0</td>\n",
       "      <td>...</td>\n",
       "      <td>693</td>\n",
       "      <td>Reseller</td>\n",
       "      <td>On</td>\n",
       "      <td>15</td>\n",
       "      <td>450</td>\n",
       "      <td>City</td>\n",
       "      <td>North America</td>\n",
       "      <td>Seattle</td>\n",
       "      <td>Washington</td>\n",
       "      <td>United States</td>\n",
       "    </tr>\n",
       "    <tr>\n",
       "      <th>3</th>\n",
       "      <td>2008-01-24</td>\n",
       "      <td>1</td>\n",
       "      <td>156</td>\n",
       "      <td>1175</td>\n",
       "      <td>11</td>\n",
       "      <td>1</td>\n",
       "      <td>209.03</td>\n",
       "      <td>410.0</td>\n",
       "      <td>9</td>\n",
       "      <td>0</td>\n",
       "      <td>...</td>\n",
       "      <td>449</td>\n",
       "      <td>Store</td>\n",
       "      <td>On</td>\n",
       "      <td>26</td>\n",
       "      <td>680</td>\n",
       "      <td>City</td>\n",
       "      <td>Europe</td>\n",
       "      <td>Cambridge</td>\n",
       "      <td>England</td>\n",
       "      <td>United Kingdom</td>\n",
       "    </tr>\n",
       "    <tr>\n",
       "      <th>4</th>\n",
       "      <td>2008-01-13</td>\n",
       "      <td>2</td>\n",
       "      <td>306</td>\n",
       "      <td>1429</td>\n",
       "      <td>10</td>\n",
       "      <td>1</td>\n",
       "      <td>132.90</td>\n",
       "      <td>289.0</td>\n",
       "      <td>8</td>\n",
       "      <td>0</td>\n",
       "      <td>...</td>\n",
       "      <td>586</td>\n",
       "      <td>Online</td>\n",
       "      <td>On</td>\n",
       "      <td>7</td>\n",
       "      <td>1000</td>\n",
       "      <td>City</td>\n",
       "      <td>Europe</td>\n",
       "      <td>Berlin</td>\n",
       "      <td>Berlin</td>\n",
       "      <td>Germany</td>\n",
       "    </tr>\n",
       "    <tr>\n",
       "      <th>5</th>\n",
       "      <td>2008-01-22</td>\n",
       "      <td>2</td>\n",
       "      <td>306</td>\n",
       "      <td>1133</td>\n",
       "      <td>10</td>\n",
       "      <td>1</td>\n",
       "      <td>144.52</td>\n",
       "      <td>436.2</td>\n",
       "      <td>24</td>\n",
       "      <td>0</td>\n",
       "      <td>...</td>\n",
       "      <td>586</td>\n",
       "      <td>Online</td>\n",
       "      <td>On</td>\n",
       "      <td>7</td>\n",
       "      <td>1000</td>\n",
       "      <td>City</td>\n",
       "      <td>Europe</td>\n",
       "      <td>Berlin</td>\n",
       "      <td>Berlin</td>\n",
       "      <td>Germany</td>\n",
       "    </tr>\n",
       "  </tbody>\n",
       "</table>\n",
       "<p>5 rows × 43 columns</p>\n",
       "</div>"
      ],
      "text/plain": [
       "            DateKey  channelKey  StoreKey  ProductKey  PromotionKey  \\\n",
       "SalesKey                                                              \n",
       "1        2007-01-02           1       209         956            10   \n",
       "2        2007-02-12           4       308         766             2   \n",
       "3        2008-01-24           1       156        1175            11   \n",
       "4        2008-01-13           2       306        1429            10   \n",
       "5        2008-01-22           2       306        1133            10   \n",
       "\n",
       "          CurrencyKey  UnitCost  UnitPrice  SalesQuantity  ReturnQuantity  \\\n",
       "SalesKey                                                                    \n",
       "1                   1     91.05      198.0              8               0   \n",
       "2                   1     10.15       19.9              4               0   \n",
       "3                   1    209.03      410.0              9               0   \n",
       "4                   1    132.90      289.0              8               0   \n",
       "5                   1    144.52      436.2             24               0   \n",
       "\n",
       "          ...  GeographyKey  StoreType  Status_y  EmployeeCount  \\\n",
       "SalesKey  ...                                                     \n",
       "1         ...           738      Store        On             32   \n",
       "2         ...           693   Reseller        On             15   \n",
       "3         ...           449      Store        On             26   \n",
       "4         ...           586     Online        On              7   \n",
       "5         ...           586     Online        On              7   \n",
       "\n",
       "          SellingAreaSize  GeographyType  ContinentName   CityName  \\\n",
       "SalesKey                                                             \n",
       "1                     680           City         Europe    Baildon   \n",
       "2                     450           City  North America    Seattle   \n",
       "3                     680           City         Europe  Cambridge   \n",
       "4                    1000           City         Europe     Berlin   \n",
       "5                    1000           City         Europe     Berlin   \n",
       "\n",
       "         StateProvinceName RegionCountryName  \n",
       "SalesKey                                      \n",
       "1                 England     United Kingdom  \n",
       "2               Washington     United States  \n",
       "3                  England    United Kingdom  \n",
       "4                   Berlin           Germany  \n",
       "5                   Berlin           Germany  \n",
       "\n",
       "[5 rows x 43 columns]"
      ]
     },
     "execution_count": 3,
     "metadata": {},
     "output_type": "execute_result"
    }
   ],
   "source": [
    "### For now, let's work with the dataset prepared by Nishi\n",
    "data = pd.read_csv(\"../merged_data/data_ml_merged.csv\")\n",
    "\n",
    "data.set_index(['SalesKey'], inplace=True)\n",
    "data['DateKey'] = pd.to_datetime(data['DateKey'], infer_datetime_format=True)\n",
    "\n",
    "data.drop(columns = [\"CurrencyKey\", \"Status_x\", \"Status_y\"], inplace = True)\n",
    "\n",
    "print(data.shape)\n",
    "data.head()"
   ]
  },
  {
   "cell_type": "code",
   "execution_count": 8,
   "id": "841bb9eb-90e1-4dc9-ba68-aeeba29e67fc",
   "metadata": {
    "execution": {
     "iopub.execute_input": "2025-06-04T13:31:21.207177Z",
     "iopub.status.busy": "2025-06-04T13:31:21.205764Z",
     "iopub.status.idle": "2025-06-04T13:31:21.381283Z",
     "shell.execute_reply": "2025-06-04T13:31:21.379911Z",
     "shell.execute_reply.started": "2025-06-04T13:31:21.207086Z"
    }
   },
   "outputs": [
    {
     "data": {
      "text/plain": [
       "array(['Q1', 'Q3', 'Q4', 'Q2'], dtype=object)"
      ]
     },
     "execution_count": 8,
     "metadata": {},
     "output_type": "execute_result"
    }
   ],
   "source": [
    "data.CalendarQuarterLabel.unique()"
   ]
  },
  {
   "cell_type": "code",
   "execution_count": 4,
   "id": "a36d7560-8461-428a-82d7-a37b4f996f35",
   "metadata": {
    "execution": {
     "iopub.execute_input": "2025-06-04T12:50:55.126415Z",
     "iopub.status.busy": "2025-06-04T12:50:55.124893Z",
     "iopub.status.idle": "2025-06-04T12:50:55.141797Z",
     "shell.execute_reply": "2025-06-04T12:50:55.138570Z",
     "shell.execute_reply.started": "2025-06-04T12:50:55.126362Z"
    }
   },
   "outputs": [
    {
     "data": {
      "text/plain": [
       "Index(['DateKey', 'channelKey', 'StoreKey', 'ProductKey', 'PromotionKey',\n",
       "       'CurrencyKey', 'UnitCost', 'UnitPrice', 'SalesQuantity',\n",
       "       'ReturnQuantity', 'ReturnAmount', 'DiscountQuantity', 'DiscountAmount',\n",
       "       'TotalCost', 'SalesAmount', 'DiscountPercent', 'CalendarYear',\n",
       "       'CalendarQuarterLabel', 'CalendarWeekLabel', 'IsWorkDay', 'IsHoliday',\n",
       "       'MonthNumber', 'CalendarDayOfWeekNumber', 'ProductSubcategoryKey',\n",
       "       'BrandName', 'ClassID', 'StyleID', 'ColorID', 'Weight',\n",
       "       'WeightUnitMeasureID', 'StockTypeID', 'Status_x', 'ProductCategoryKey',\n",
       "       'GeographyKey', 'StoreType', 'Status_y', 'EmployeeCount',\n",
       "       'SellingAreaSize', 'GeographyType', 'ContinentName', 'CityName',\n",
       "       'StateProvinceName', 'RegionCountryName'],\n",
       "      dtype='object')"
      ]
     },
     "execution_count": 4,
     "metadata": {},
     "output_type": "execute_result"
    }
   ],
   "source": [
    "data.columns"
   ]
  },
  {
   "cell_type": "markdown",
   "id": "0de646ee-0b7a-4631-a59e-2d0169f156b5",
   "metadata": {},
   "source": [
    "# Pre-processing"
   ]
  },
  {
   "cell_type": "markdown",
   "id": "d5be343a-51a8-4161-b429-b852b5253dc3",
   "metadata": {},
   "source": [
    "## Transform select features (i.e., unify weight feature with WeightUnitMeasureID information)"
   ]
  },
  {
   "cell_type": "markdown",
   "id": "d86ffe39-ee7e-42f6-a09a-b2d1a3d67ccb",
   "metadata": {},
   "source": [
    "## Scaling and Encoding of select scales"
   ]
  },
  {
   "cell_type": "code",
   "execution_count": null,
   "id": "7db2e81c-1bd2-4d7c-950a-e88e70ac2077",
   "metadata": {},
   "outputs": [],
   "source": [
    "preprocessor = StandardScaler()"
   ]
  },
  {
   "cell_type": "markdown",
   "id": "6dcfca24-bd57-47ec-b080-fc7bda542b09",
   "metadata": {
    "execution": {
     "iopub.status.busy": "2025-06-03T15:40:46.865132Z",
     "iopub.status.idle": "2025-06-03T15:40:46.866514Z",
     "shell.execute_reply": "2025-06-03T15:40:46.865884Z",
     "shell.execute_reply.started": "2025-06-03T15:40:46.865828Z"
    }
   },
   "source": [
    "## Seasonal data - aggregating by DateKey"
   ]
  },
  {
   "cell_type": "code",
   "execution_count": 12,
   "id": "86a32ce2-dc37-463c-8c3e-4bc0de7ce091",
   "metadata": {
    "execution": {
     "iopub.execute_input": "2025-06-04T13:34:53.951940Z",
     "iopub.status.busy": "2025-06-04T13:34:53.950658Z",
     "iopub.status.idle": "2025-06-04T13:34:55.488758Z",
     "shell.execute_reply": "2025-06-04T13:34:55.487367Z",
     "shell.execute_reply.started": "2025-06-04T13:34:53.951870Z"
    }
   },
   "outputs": [
    {
     "name": "stdout",
     "output_type": "stream",
     "text": [
      "(1096, 9)\n",
      "(159, 9)\n",
      "(36, 9)\n",
      "(12, 9)\n",
      "(3, 9)\n"
     ]
    }
   ],
   "source": [
    "### \"full\" feature set expects data to be preprocessed already, otherwise stick with simple feature set\n",
    "\n",
    "aggfeatures_simple = {\"UnitCost\": \"mean\", \"UnitPrice\": \"mean\", \"ReturnQuantity\": \"sum\",\n",
    "                      \"ReturnAmount\": \"sum\", \"DiscountQuantity\": \"sum\", \"DiscountAmount\": \"sum\",\n",
    "                      \"TotalCost\": \"sum\", \"SalesQuantity\": \"sum\", \"SalesAmount\": \"sum\"}\n",
    "aggfeatures = {\"UnitCost\": \"mean\", \"UnitPrice\": \"mean\", \"ReturnQuantity\": \"sum\", \"ReturnAmount\": \"sum\",\n",
    "               \"DiscountQuantity\": \"sum\", \"DiscountAmount\": \"sum\", \"DiscountPercent\": \"mean\", \"IsWorkDay\": \"mean\",\n",
    "               \"IsHoliday\": \"mean\", \"Weight\": \"sum\", \"EmployeeCount\": \"mean\", \"SellingAreaSize\": \"mean\",\n",
    "               \"TotalCost\": \"sum\", \"SalesQuantity\": \"sum\", \"SalesAmount\": \"sum\"}\n",
    "\n",
    "data_daily = data.groupby(\"DateKey\").agg(aggfeatures_simple)\n",
    "print(data_daily.shape)\n",
    "\n",
    "data_weekly = data.groupby([\"CalendarYear\", \"CalendarWeekLabel\"]).agg(aggfeatures_simple)\n",
    "print(data_weekly.shape)\n",
    "\n",
    "data_monthly = data.groupby([\"CalendarYear\", \"MonthNumber\"]).agg(aggfeatures_simple)\n",
    "print(data_monthly.shape)\n",
    "\n",
    "data_quarterly = data.groupby([\"CalendarYear\", \"CalendarQuarterLabel\"]).agg(aggfeatures_simple)\n",
    "print(data_quarterly.shape)\n",
    "\n",
    "data_yearly = data.groupby(\"CalendarYear\").agg(aggfeatures_simple)\n",
    "print(data_yearly.shape)"
   ]
  },
  {
   "cell_type": "code",
   "execution_count": null,
   "id": "fb6492da-b1ad-4a59-820e-b2e4d7deebe3",
   "metadata": {},
   "outputs": [],
   "source": []
  }
 ],
 "metadata": {
  "kernelspec": {
   "display_name": "Python 3 (ipykernel)",
   "language": "python",
   "name": "python3"
  },
  "language_info": {
   "codemirror_mode": {
    "name": "ipython",
    "version": 3
   },
   "file_extension": ".py",
   "mimetype": "text/x-python",
   "name": "python",
   "nbconvert_exporter": "python",
   "pygments_lexer": "ipython3",
   "version": "3.10.6"
  }
 },
 "nbformat": 4,
 "nbformat_minor": 5
}
