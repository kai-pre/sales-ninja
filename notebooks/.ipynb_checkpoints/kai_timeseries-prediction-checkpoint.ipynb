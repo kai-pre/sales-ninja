{
 "cells": [
  {
   "cell_type": "markdown",
   "id": "040b326d-0952-4c4f-9fed-24ef2d4b3069",
   "metadata": {},
   "source": [
    "Sketch for prediction of SalesAmount\n",
    "==="
   ]
  },
  {
   "cell_type": "markdown",
   "id": "6b5e1070-fb25-4cca-aff0-1b45f0c2d0cd",
   "metadata": {
    "execution": {
     "iopub.execute_input": "2025-06-03T12:42:11.959680Z",
     "iopub.status.busy": "2025-06-03T12:42:11.959277Z",
     "iopub.status.idle": "2025-06-03T12:42:11.966982Z",
     "shell.execute_reply": "2025-06-03T12:42:11.965488Z",
     "shell.execute_reply.started": "2025-06-03T12:42:11.959644Z"
    }
   },
   "source": [
    "# Setup"
   ]
  },
  {
   "cell_type": "code",
   "execution_count": 1,
   "id": "3e5533cc-55a8-496f-9dc4-5c05f49e0e3f",
   "metadata": {
    "execution": {
     "iopub.execute_input": "2025-06-06T07:48:55.917758Z",
     "iopub.status.busy": "2025-06-06T07:48:55.917256Z",
     "iopub.status.idle": "2025-06-06T07:49:03.378068Z",
     "shell.execute_reply": "2025-06-06T07:49:03.376426Z",
     "shell.execute_reply.started": "2025-06-06T07:48:55.917719Z"
    }
   },
   "outputs": [],
   "source": [
    "##### loads a GPU-accelerated version of pandas, disable if this makes any problems!!\n",
    "\n",
    "%load_ext cudf.pandas"
   ]
  },
  {
   "cell_type": "code",
   "execution_count": 2,
   "id": "30f0cf45-3378-4326-bd87-5d1a6431794d",
   "metadata": {
    "execution": {
     "iopub.execute_input": "2025-06-06T07:49:03.381668Z",
     "iopub.status.busy": "2025-06-06T07:49:03.380716Z",
     "iopub.status.idle": "2025-06-06T07:49:05.192378Z",
     "shell.execute_reply": "2025-06-06T07:49:05.190581Z",
     "shell.execute_reply.started": "2025-06-06T07:49:03.381629Z"
    }
   },
   "outputs": [],
   "source": [
    "import pandas as pd\n",
    "import numpy as np\n",
    "import seaborn as sns\n",
    "import matplotlib.pyplot as plt\n",
    "\n",
    "from sklearn.model_selection import cross_validate, cross_val_score, train_test_split, GridSearchCV, learning_curve, LearningCurveDisplay\n",
    "from sklearn.ensemble import RandomForestRegressor, BaggingClassifier, BaggingRegressor\n",
    "from sklearn.neighbors import KNeighborsRegressor\n",
    "from sklearn.compose import ColumnTransformer, make_column_transformer, make_column_selector\n",
    "from sklearn.pipeline import Pipeline\n",
    "from sklearn.preprocessing import StandardScaler, RobustScaler, MinMaxScaler\n",
    "from sklearn.tree import DecisionTreeRegressor\n",
    "from sklearn.metrics import mean_squared_error, mean_absolute_error\n",
    "\n",
    "from xgboost import XGBRegressor\n",
    "\n",
    "from os import path"
   ]
  },
  {
   "cell_type": "markdown",
   "id": "149d73fb-6545-4687-b7fc-8994580a6d6b",
   "metadata": {},
   "source": [
    "# Loading Data"
   ]
  },
  {
   "cell_type": "code",
   "execution_count": 26,
   "id": "b77d9e8d-9c36-4022-9b15-563aad70643f",
   "metadata": {
    "execution": {
     "iopub.execute_input": "2025-06-06T07:52:52.252023Z",
     "iopub.status.busy": "2025-06-06T07:52:52.250508Z",
     "iopub.status.idle": "2025-06-06T07:52:52.522124Z",
     "shell.execute_reply": "2025-06-06T07:52:52.520309Z",
     "shell.execute_reply.started": "2025-06-06T07:52:52.251919Z"
    }
   },
   "outputs": [
    {
     "data": {
      "text/plain": [
       "array([3104116, 2141143,   63952, ..., 1808786, 2049461, 1393166])"
      ]
     },
     "execution_count": 26,
     "metadata": {},
     "output_type": "execute_result"
    }
   ],
   "source": [
    "### Load less data for now to try and avoid crashes\n",
    "skipratio = 0.8 # elements to skip\n",
    "\n",
    "skipsize = int(3406088 * skipratio)\n",
    "skipindices = np.random.choice(np.arange(1,3406088), (skipsize), replace = False)\n",
    "skipindices"
   ]
  },
  {
   "cell_type": "code",
   "execution_count": 27,
   "id": "2b467b51-2f42-4635-a15d-17292005b885",
   "metadata": {
    "execution": {
     "iopub.execute_input": "2025-06-06T07:52:53.194587Z",
     "iopub.status.busy": "2025-06-06T07:52:53.193653Z",
     "iopub.status.idle": "2025-06-06T07:53:08.549798Z",
     "shell.execute_reply": "2025-06-06T07:53:08.548369Z",
     "shell.execute_reply.started": "2025-06-06T07:52:53.194403Z"
    }
   },
   "outputs": [
    {
     "name": "stdout",
     "output_type": "stream",
     "text": [
      "(681219, 40)\n"
     ]
    },
    {
     "data": {
      "text/html": [
       "<div>\n",
       "<style scoped>\n",
       "    .dataframe tbody tr th:only-of-type {\n",
       "        vertical-align: middle;\n",
       "    }\n",
       "\n",
       "    .dataframe tbody tr th {\n",
       "        vertical-align: top;\n",
       "    }\n",
       "\n",
       "    .dataframe thead th {\n",
       "        text-align: right;\n",
       "    }\n",
       "</style>\n",
       "<table border=\"1\" class=\"dataframe\">\n",
       "  <thead>\n",
       "    <tr style=\"text-align: right;\">\n",
       "      <th></th>\n",
       "      <th>DateKey</th>\n",
       "      <th>channelKey</th>\n",
       "      <th>StoreKey</th>\n",
       "      <th>ProductKey</th>\n",
       "      <th>PromotionKey</th>\n",
       "      <th>UnitCost</th>\n",
       "      <th>UnitPrice</th>\n",
       "      <th>SalesQuantity</th>\n",
       "      <th>ReturnQuantity</th>\n",
       "      <th>ReturnAmount</th>\n",
       "      <th>...</th>\n",
       "      <th>ProductCategoryKey</th>\n",
       "      <th>GeographyKey</th>\n",
       "      <th>StoreType</th>\n",
       "      <th>EmployeeCount</th>\n",
       "      <th>SellingAreaSize</th>\n",
       "      <th>GeographyType</th>\n",
       "      <th>ContinentName</th>\n",
       "      <th>CityName</th>\n",
       "      <th>StateProvinceName</th>\n",
       "      <th>RegionCountryName</th>\n",
       "    </tr>\n",
       "    <tr>\n",
       "      <th>SalesKey</th>\n",
       "      <th></th>\n",
       "      <th></th>\n",
       "      <th></th>\n",
       "      <th></th>\n",
       "      <th></th>\n",
       "      <th></th>\n",
       "      <th></th>\n",
       "      <th></th>\n",
       "      <th></th>\n",
       "      <th></th>\n",
       "      <th></th>\n",
       "      <th></th>\n",
       "      <th></th>\n",
       "      <th></th>\n",
       "      <th></th>\n",
       "      <th></th>\n",
       "      <th></th>\n",
       "      <th></th>\n",
       "      <th></th>\n",
       "      <th></th>\n",
       "      <th></th>\n",
       "    </tr>\n",
       "  </thead>\n",
       "  <tbody>\n",
       "    <tr>\n",
       "      <th>1</th>\n",
       "      <td>2007-01-02</td>\n",
       "      <td>1</td>\n",
       "      <td>209</td>\n",
       "      <td>956</td>\n",
       "      <td>10</td>\n",
       "      <td>91.05</td>\n",
       "      <td>198.00</td>\n",
       "      <td>8</td>\n",
       "      <td>0</td>\n",
       "      <td>0.0</td>\n",
       "      <td>...</td>\n",
       "      <td>4.0</td>\n",
       "      <td>738</td>\n",
       "      <td>Store</td>\n",
       "      <td>32</td>\n",
       "      <td>680</td>\n",
       "      <td>City</td>\n",
       "      <td>Europe</td>\n",
       "      <td>Baildon</td>\n",
       "      <td>England</td>\n",
       "      <td>United Kingdom</td>\n",
       "    </tr>\n",
       "    <tr>\n",
       "      <th>6</th>\n",
       "      <td>2007-07-02</td>\n",
       "      <td>3</td>\n",
       "      <td>200</td>\n",
       "      <td>2365</td>\n",
       "      <td>3</td>\n",
       "      <td>183.94</td>\n",
       "      <td>399.99</td>\n",
       "      <td>36</td>\n",
       "      <td>0</td>\n",
       "      <td>0.0</td>\n",
       "      <td>...</td>\n",
       "      <td>8.0</td>\n",
       "      <td>894</td>\n",
       "      <td>Catalog</td>\n",
       "      <td>120</td>\n",
       "      <td>462</td>\n",
       "      <td>City</td>\n",
       "      <td>North America</td>\n",
       "      <td>North Harford</td>\n",
       "      <td>Maryland</td>\n",
       "      <td>United States</td>\n",
       "    </tr>\n",
       "    <tr>\n",
       "      <th>7</th>\n",
       "      <td>2007-11-19</td>\n",
       "      <td>4</td>\n",
       "      <td>310</td>\n",
       "      <td>1016</td>\n",
       "      <td>5</td>\n",
       "      <td>68.06</td>\n",
       "      <td>148.00</td>\n",
       "      <td>6</td>\n",
       "      <td>0</td>\n",
       "      <td>0.0</td>\n",
       "      <td>...</td>\n",
       "      <td>4.0</td>\n",
       "      <td>710</td>\n",
       "      <td>Reseller</td>\n",
       "      <td>17</td>\n",
       "      <td>93800</td>\n",
       "      <td>City</td>\n",
       "      <td>Asia</td>\n",
       "      <td>Beijing</td>\n",
       "      <td>Beijing</td>\n",
       "      <td>China</td>\n",
       "    </tr>\n",
       "    <tr>\n",
       "      <th>9</th>\n",
       "      <td>2008-07-14</td>\n",
       "      <td>2</td>\n",
       "      <td>199</td>\n",
       "      <td>1731</td>\n",
       "      <td>12</td>\n",
       "      <td>33.32</td>\n",
       "      <td>72.45</td>\n",
       "      <td>24</td>\n",
       "      <td>0</td>\n",
       "      <td>0.0</td>\n",
       "      <td>...</td>\n",
       "      <td>NaN</td>\n",
       "      <td>800</td>\n",
       "      <td>Online</td>\n",
       "      <td>325</td>\n",
       "      <td>500</td>\n",
       "      <td>City</td>\n",
       "      <td>North America</td>\n",
       "      <td>Bethesda</td>\n",
       "      <td>Maryland</td>\n",
       "      <td>United States</td>\n",
       "    </tr>\n",
       "    <tr>\n",
       "      <th>17</th>\n",
       "      <td>2008-02-19</td>\n",
       "      <td>1</td>\n",
       "      <td>161</td>\n",
       "      <td>1655</td>\n",
       "      <td>11</td>\n",
       "      <td>96.08</td>\n",
       "      <td>289.99</td>\n",
       "      <td>9</td>\n",
       "      <td>0</td>\n",
       "      <td>0.0</td>\n",
       "      <td>...</td>\n",
       "      <td>6.0</td>\n",
       "      <td>848</td>\n",
       "      <td>Store</td>\n",
       "      <td>22</td>\n",
       "      <td>500</td>\n",
       "      <td>City</td>\n",
       "      <td>North America</td>\n",
       "      <td>Holyoke</td>\n",
       "      <td>Massachusetts</td>\n",
       "      <td>United States</td>\n",
       "    </tr>\n",
       "  </tbody>\n",
       "</table>\n",
       "<p>5 rows × 40 columns</p>\n",
       "</div>"
      ],
      "text/plain": [
       "            DateKey  channelKey  StoreKey  ProductKey  PromotionKey  UnitCost  \\\n",
       "SalesKey                                                                        \n",
       "1        2007-01-02           1       209         956            10     91.05   \n",
       "6        2007-07-02           3       200        2365             3    183.94   \n",
       "7        2007-11-19           4       310        1016             5     68.06   \n",
       "9        2008-07-14           2       199        1731            12     33.32   \n",
       "17       2008-02-19           1       161        1655            11     96.08   \n",
       "\n",
       "          UnitPrice  SalesQuantity  ReturnQuantity  ReturnAmount  ...  \\\n",
       "SalesKey                                                          ...   \n",
       "1            198.00              8               0           0.0  ...   \n",
       "6            399.99             36               0           0.0  ...   \n",
       "7            148.00              6               0           0.0  ...   \n",
       "9             72.45             24               0           0.0  ...   \n",
       "17           289.99              9               0           0.0  ...   \n",
       "\n",
       "          ProductCategoryKey  GeographyKey  StoreType  EmployeeCount  \\\n",
       "SalesKey                                                               \n",
       "1                        4.0           738      Store             32   \n",
       "6                        8.0           894    Catalog            120   \n",
       "7                        4.0           710   Reseller             17   \n",
       "9                        NaN           800     Online            325   \n",
       "17                       6.0           848      Store             22   \n",
       "\n",
       "          SellingAreaSize  GeographyType  ContinentName       CityName  \\\n",
       "SalesKey                                                                 \n",
       "1                     680           City         Europe        Baildon   \n",
       "6                     462           City  North America  North Harford   \n",
       "7                   93800           City           Asia        Beijing   \n",
       "9                     500           City  North America       Bethesda   \n",
       "17                    500           City  North America        Holyoke   \n",
       "\n",
       "         StateProvinceName RegionCountryName  \n",
       "SalesKey                                      \n",
       "1                 England     United Kingdom  \n",
       "6                 Maryland     United States  \n",
       "7                  Beijing             China  \n",
       "9                 Maryland     United States  \n",
       "17           Massachusetts     United States  \n",
       "\n",
       "[5 rows x 40 columns]"
      ]
     },
     "execution_count": 27,
     "metadata": {},
     "output_type": "execute_result"
    }
   ],
   "source": [
    "### For now, let's work with the dataset prepared by Nishi\n",
    "data = pd.read_csv(\"../merged_data/data_ml_merged.csv\", header = 0, skiprows = skipindices)\n",
    "\n",
    "data.set_index(['SalesKey'], inplace=True)\n",
    "data['DateKey'] = pd.to_datetime(data['DateKey'], infer_datetime_format=True)\n",
    "\n",
    "\n",
    "print(data.shape)\n",
    "data.head()"
   ]
  },
  {
   "cell_type": "code",
   "execution_count": 28,
   "id": "841bb9eb-90e1-4dc9-ba68-aeeba29e67fc",
   "metadata": {
    "execution": {
     "iopub.execute_input": "2025-06-06T07:53:08.552832Z",
     "iopub.status.busy": "2025-06-06T07:53:08.551948Z",
     "iopub.status.idle": "2025-06-06T07:53:08.136298Z",
     "shell.execute_reply": "2025-06-06T07:53:08.134728Z",
     "shell.execute_reply.started": "2025-06-06T07:53:08.552788Z"
    }
   },
   "outputs": [
    {
     "data": {
      "text/plain": [
       "array(['Q1', 'Q3', 'Q4', 'Q2'], dtype=object)"
      ]
     },
     "execution_count": 28,
     "metadata": {},
     "output_type": "execute_result"
    }
   ],
   "source": [
    "data.CalendarQuarterLabel.unique()"
   ]
  },
  {
   "cell_type": "code",
   "execution_count": 29,
   "id": "0b508303-7d46-444a-93bc-92bdfec03274",
   "metadata": {
    "execution": {
     "iopub.execute_input": "2025-06-06T07:53:08.138027Z",
     "iopub.status.busy": "2025-06-06T07:53:08.137678Z",
     "iopub.status.idle": "2025-06-06T07:53:09.269486Z",
     "shell.execute_reply": "2025-06-06T07:53:09.267917Z",
     "shell.execute_reply.started": "2025-06-06T07:53:08.137995Z"
    }
   },
   "outputs": [
    {
     "data": {
      "text/plain": [
       "<bound method Series.min of SalesKey\n",
       "1         2007-01-02\n",
       "6         2007-07-02\n",
       "7         2007-11-19\n",
       "9         2008-07-14\n",
       "17        2008-02-19\n",
       "             ...    \n",
       "3406075   2007-11-20\n",
       "3406083   2009-11-09\n",
       "3406085   2007-10-09\n",
       "3406088   2007-02-04\n",
       "3406089   2009-08-05\n",
       "Name: DateKey, Length: 681219, dtype: datetime64[ns]>"
      ]
     },
     "execution_count": 29,
     "metadata": {},
     "output_type": "execute_result"
    }
   ],
   "source": [
    "data.DateKey.min"
   ]
  },
  {
   "cell_type": "code",
   "execution_count": 30,
   "id": "a36d7560-8461-428a-82d7-a37b4f996f35",
   "metadata": {
    "execution": {
     "iopub.execute_input": "2025-06-06T07:53:09.272734Z",
     "iopub.status.busy": "2025-06-06T07:53:09.271843Z",
     "iopub.status.idle": "2025-06-06T07:53:10.402916Z",
     "shell.execute_reply": "2025-06-06T07:53:10.400390Z",
     "shell.execute_reply.started": "2025-06-06T07:53:09.272699Z"
    }
   },
   "outputs": [
    {
     "data": {
      "text/plain": [
       "Index(['DateKey', 'channelKey', 'StoreKey', 'ProductKey', 'PromotionKey',\n",
       "       'UnitCost', 'UnitPrice', 'SalesQuantity', 'ReturnQuantity',\n",
       "       'ReturnAmount', 'DiscountQuantity', 'DiscountAmount', 'TotalCost',\n",
       "       'SalesAmount', 'DiscountPercent', 'CalendarYear',\n",
       "       'CalendarQuarterLabel', 'CalendarWeekLabel', 'IsWorkDay', 'IsHoliday',\n",
       "       'MonthNumber', 'CalendarDayOfWeekNumber', 'ProductSubcategoryKey',\n",
       "       'BrandName', 'ClassID', 'StyleID', 'ColorID', 'Weight',\n",
       "       'WeightUnitMeasureID', 'StockTypeID', 'ProductCategoryKey',\n",
       "       'GeographyKey', 'StoreType', 'EmployeeCount', 'SellingAreaSize',\n",
       "       'GeographyType', 'ContinentName', 'CityName', 'StateProvinceName',\n",
       "       'RegionCountryName'],\n",
       "      dtype='object')"
      ]
     },
     "execution_count": 30,
     "metadata": {},
     "output_type": "execute_result"
    }
   ],
   "source": [
    "data.columns"
   ]
  },
  {
   "cell_type": "markdown",
   "id": "0de646ee-0b7a-4631-a59e-2d0169f156b5",
   "metadata": {},
   "source": [
    "# Pre-processing"
   ]
  },
  {
   "cell_type": "markdown",
   "id": "d5be343a-51a8-4161-b429-b852b5253dc3",
   "metadata": {},
   "source": [
    "## Transform select features (i.e., unify weight feature with WeightUnitMeasureID information)"
   ]
  },
  {
   "cell_type": "markdown",
   "id": "d86ffe39-ee7e-42f6-a09a-b2d1a3d67ccb",
   "metadata": {},
   "source": [
    "## Scaling and Encoding of select scales"
   ]
  },
  {
   "cell_type": "code",
   "execution_count": 31,
   "id": "7db2e81c-1bd2-4d7c-950a-e88e70ac2077",
   "metadata": {
    "execution": {
     "iopub.execute_input": "2025-06-06T07:53:10.405574Z",
     "iopub.status.busy": "2025-06-06T07:53:10.404813Z",
     "iopub.status.idle": "2025-06-06T07:53:29.006244Z",
     "shell.execute_reply": "2025-06-06T07:53:29.004715Z",
     "shell.execute_reply.started": "2025-06-06T07:53:10.405533Z"
    }
   },
   "outputs": [
    {
     "name": "stdout",
     "output_type": "stream",
     "text": [
      "(300573, 26) (128817, 26) (184025, 26) (300573,) (128817,) (184025,)\n"
     ]
    },
    {
     "name": "stderr",
     "output_type": "stream",
     "text": [
      "/home/kai/.pyenv/versions/3.10.6/envs/sales-ninja/lib/python3.10/site-packages/sklearn/utils/validation.py:2732: UserWarning: X has feature names, but RobustScaler was fitted without feature names\n",
      "  warnings.warn(\n",
      "/home/kai/.pyenv/versions/3.10.6/envs/sales-ninja/lib/python3.10/site-packages/sklearn/utils/validation.py:2732: UserWarning: X has feature names, but RobustScaler was fitted without feature names\n",
      "  warnings.warn(\n"
     ]
    }
   ],
   "source": [
    "##### Dummy preprocessing\n",
    "preprocessor = make_column_transformer([RobustScaler(), make_column_selector(dtype_include = \"number\")])\n",
    "\n",
    "# Only focus on numeric columns for now\n",
    "data = data.dropna()\n",
    "data = data.select_dtypes(include='number')\n",
    "\n",
    "#####\n",
    "\n",
    "X = data.drop(columns = [\"SalesAmount\"])\n",
    "y = data[\"SalesAmount\"]\n",
    "\n",
    "X_train, X_test, y_train, y_test = train_test_split(X, y, test_size = 0.3, shuffle = False)\n",
    "X_train, X_val, y_train, y_val = train_test_split(X_train, y_train, test_size = 0.3, shuffle = False)\n",
    "\n",
    "print(X_train.shape, X_val.shape, X_test.shape, y_train.shape, y_val.shape, y_test.shape)\n",
    "\n",
    "X_train_proc = preprocessor.fit_transform(X_train)\n",
    "X_val_proc = preprocessor.transform(X_val)\n",
    "X_test_proc = preprocessor.transform(X_test)\n",
    "\n",
    "X_proc = preprocessor.fit_transform(X)"
   ]
  },
  {
   "cell_type": "markdown",
   "id": "6dcfca24-bd57-47ec-b080-fc7bda542b09",
   "metadata": {
    "execution": {
     "iopub.status.busy": "2025-06-03T15:40:46.865132Z",
     "iopub.status.idle": "2025-06-03T15:40:46.866514Z",
     "shell.execute_reply": "2025-06-03T15:40:46.865884Z",
     "shell.execute_reply.started": "2025-06-03T15:40:46.865828Z"
    }
   },
   "source": [
    "## *(moved to timeseries_mvp)* Seasonal data - aggregating by DateKey"
   ]
  },
  {
   "cell_type": "markdown",
   "id": "ad2ccb8f-3af0-4165-9190-5ac400c362a8",
   "metadata": {},
   "source": [
    "# Models"
   ]
  },
  {
   "cell_type": "markdown",
   "id": "e4b32e7b-57ae-4e84-bfe4-7fac9350b837",
   "metadata": {},
   "source": [
    "## Ensemble methods: Decision Tree, XGBoost"
   ]
  },
  {
   "cell_type": "markdown",
   "id": "aa87bfa1-3917-458b-8503-66f43df5c846",
   "metadata": {},
   "source": [
    "### Decision Tree"
   ]
  },
  {
   "cell_type": "code",
   "execution_count": 32,
   "id": "33b2895b-942d-400c-84ad-ec1a46712c89",
   "metadata": {
    "execution": {
     "iopub.execute_input": "2025-06-06T07:53:29.008797Z",
     "iopub.status.busy": "2025-06-06T07:53:29.008109Z",
     "iopub.status.idle": "2025-06-06T07:53:38.964208Z",
     "shell.execute_reply": "2025-06-06T07:53:38.960366Z",
     "shell.execute_reply.started": "2025-06-06T07:53:29.008756Z"
    }
   },
   "outputs": [
    {
     "ename": "AttributeError",
     "evalue": "'Series' object has no attribute '_mgr'",
     "output_type": "error",
     "traceback": [
      "\u001b[0;31m---------------------------------------------------------------------------\u001b[0m",
      "\u001b[0;31m_RemoteTraceback\u001b[0m                          Traceback (most recent call last)",
      "\u001b[0;31m_RemoteTraceback\u001b[0m: \n\"\"\"\nTraceback (most recent call last):\n  File \"/home/kai/.pyenv/versions/3.10.6/envs/sales-ninja/lib/python3.10/site-packages/joblib/externals/loky/process_executor.py\", line 490, in _process_worker\n    r = call_item()\n  File \"/home/kai/.pyenv/versions/3.10.6/envs/sales-ninja/lib/python3.10/site-packages/joblib/externals/loky/process_executor.py\", line 291, in __call__\n    return self.fn(*self.args, **self.kwargs)\n  File \"/home/kai/.pyenv/versions/3.10.6/envs/sales-ninja/lib/python3.10/site-packages/joblib/parallel.py\", line 607, in __call__\n    return [func(*args, **kwargs) for func, args, kwargs in self.items]\n  File \"/home/kai/.pyenv/versions/3.10.6/envs/sales-ninja/lib/python3.10/site-packages/joblib/parallel.py\", line 607, in <listcomp>\n    return [func(*args, **kwargs) for func, args, kwargs in self.items]\n  File \"/home/kai/.pyenv/versions/3.10.6/envs/sales-ninja/lib/python3.10/site-packages/sklearn/utils/parallel.py\", line 139, in __call__\n    return self.function(*args, **kwargs)\n  File \"/home/kai/.pyenv/versions/3.10.6/envs/sales-ninja/lib/python3.10/site-packages/sklearn/model_selection/_validation.py\", line 858, in _fit_and_score\n    X_train, y_train = _safe_split(estimator, X, y, train)\n  File \"/home/kai/.pyenv/versions/3.10.6/envs/sales-ninja/lib/python3.10/site-packages/sklearn/utils/metaestimators.py\", line 159, in _safe_split\n    y_subset = _safe_indexing(y, indices)\n  File \"/home/kai/.pyenv/versions/3.10.6/envs/sales-ninja/lib/python3.10/site-packages/sklearn/utils/_indexing.py\", line 266, in _safe_indexing\n    return _pandas_indexing(X, indices, indices_dtype, axis=axis)\n  File \"/home/kai/.pyenv/versions/3.10.6/envs/sales-ninja/lib/python3.10/site-packages/sklearn/utils/_indexing.py\", line 47, in _pandas_indexing\n    return X.take(key, axis=axis)\n  File \"/home/kai/.pyenv/versions/3.10.6/envs/sales-ninja/lib/python3.10/site-packages/pandas/core/generic.py\", line 4133, in take\n    new_data = self._mgr.take(\n  File \"/home/kai/.pyenv/versions/3.10.6/envs/sales-ninja/lib/python3.10/site-packages/pandas/core/generic.py\", line 6299, in __getattr__\n    return object.__getattribute__(self, name)\nAttributeError: 'Series' object has no attribute '_mgr'\n\"\"\"",
      "\nThe above exception was the direct cause of the following exception:\n",
      "\u001b[0;31mAttributeError\u001b[0m                            Traceback (most recent call last)",
      "Cell \u001b[0;32mIn[32], line 3\u001b[0m\n\u001b[1;32m      1\u001b[0m tree \u001b[38;5;241m=\u001b[39m DecisionTreeRegressor()\n\u001b[0;32m----> 3\u001b[0m cv_score \u001b[38;5;241m=\u001b[39m \u001b[43mcross_val_score\u001b[49m\u001b[43m(\u001b[49m\u001b[43mtree\u001b[49m\u001b[43m,\u001b[49m\u001b[43m \u001b[49m\u001b[43mX_train_proc\u001b[49m\u001b[43m,\u001b[49m\u001b[43m \u001b[49m\u001b[43my_train\u001b[49m\u001b[43m,\u001b[49m\u001b[43m \u001b[49m\u001b[43mscoring\u001b[49m\u001b[43m \u001b[49m\u001b[38;5;241;43m=\u001b[39;49m\u001b[43m \u001b[49m\u001b[38;5;124;43m\"\u001b[39;49m\u001b[38;5;124;43mr2\u001b[39;49m\u001b[38;5;124;43m\"\u001b[39;49m\u001b[43m,\u001b[49m\u001b[43m \u001b[49m\u001b[43mcv\u001b[49m\u001b[38;5;241;43m=\u001b[39;49m\u001b[38;5;241;43m5\u001b[39;49m\u001b[43m,\u001b[49m\u001b[43m \u001b[49m\u001b[43mn_jobs\u001b[49m\u001b[43m \u001b[49m\u001b[38;5;241;43m=\u001b[39;49m\u001b[43m \u001b[49m\u001b[38;5;241;43m-\u001b[39;49m\u001b[38;5;241;43m1\u001b[39;49m\u001b[43m)\u001b[49m\n\u001b[1;32m      4\u001b[0m \u001b[38;5;28mprint\u001b[39m(cv_score)\n\u001b[1;32m      6\u001b[0m LearningCurveDisplay\u001b[38;5;241m.\u001b[39mfrom_estimator(tree, X_proc, y, train_sizes \u001b[38;5;241m=\u001b[39m [\u001b[38;5;241m0.1\u001b[39m, \u001b[38;5;241m0.3\u001b[39m, \u001b[38;5;241m0.5\u001b[39m], scoring \u001b[38;5;241m=\u001b[39m \u001b[38;5;124m\"\u001b[39m\u001b[38;5;124mr2\u001b[39m\u001b[38;5;124m\"\u001b[39m, cv\u001b[38;5;241m=\u001b[39m\u001b[38;5;241m5\u001b[39m, n_jobs \u001b[38;5;241m=\u001b[39m \u001b[38;5;241m-\u001b[39m\u001b[38;5;241m1\u001b[39m) \n",
      "File \u001b[0;32m~/.pyenv/versions/3.10.6/envs/sales-ninja/lib/python3.10/site-packages/sklearn/utils/_param_validation.py:216\u001b[0m, in \u001b[0;36mvalidate_params.<locals>.decorator.<locals>.wrapper\u001b[0;34m(*args, **kwargs)\u001b[0m\n\u001b[1;32m    210\u001b[0m \u001b[38;5;28;01mtry\u001b[39;00m:\n\u001b[1;32m    211\u001b[0m     \u001b[38;5;28;01mwith\u001b[39;00m config_context(\n\u001b[1;32m    212\u001b[0m         skip_parameter_validation\u001b[38;5;241m=\u001b[39m(\n\u001b[1;32m    213\u001b[0m             prefer_skip_nested_validation \u001b[38;5;129;01mor\u001b[39;00m global_skip_validation\n\u001b[1;32m    214\u001b[0m         )\n\u001b[1;32m    215\u001b[0m     ):\n\u001b[0;32m--> 216\u001b[0m         \u001b[38;5;28;01mreturn\u001b[39;00m \u001b[43mfunc\u001b[49m\u001b[43m(\u001b[49m\u001b[38;5;241;43m*\u001b[39;49m\u001b[43margs\u001b[49m\u001b[43m,\u001b[49m\u001b[43m \u001b[49m\u001b[38;5;241;43m*\u001b[39;49m\u001b[38;5;241;43m*\u001b[39;49m\u001b[43mkwargs\u001b[49m\u001b[43m)\u001b[49m\n\u001b[1;32m    217\u001b[0m \u001b[38;5;28;01mexcept\u001b[39;00m InvalidParameterError \u001b[38;5;28;01mas\u001b[39;00m e:\n\u001b[1;32m    218\u001b[0m     \u001b[38;5;66;03m# When the function is just a wrapper around an estimator, we allow\u001b[39;00m\n\u001b[1;32m    219\u001b[0m     \u001b[38;5;66;03m# the function to delegate validation to the estimator, but we replace\u001b[39;00m\n\u001b[1;32m    220\u001b[0m     \u001b[38;5;66;03m# the name of the estimator by the name of the function in the error\u001b[39;00m\n\u001b[1;32m    221\u001b[0m     \u001b[38;5;66;03m# message to avoid confusion.\u001b[39;00m\n\u001b[1;32m    222\u001b[0m     msg \u001b[38;5;241m=\u001b[39m re\u001b[38;5;241m.\u001b[39msub(\n\u001b[1;32m    223\u001b[0m         \u001b[38;5;124mr\u001b[39m\u001b[38;5;124m\"\u001b[39m\u001b[38;5;124mparameter of \u001b[39m\u001b[38;5;124m\\\u001b[39m\u001b[38;5;124mw+ must be\u001b[39m\u001b[38;5;124m\"\u001b[39m,\n\u001b[1;32m    224\u001b[0m         \u001b[38;5;124mf\u001b[39m\u001b[38;5;124m\"\u001b[39m\u001b[38;5;124mparameter of \u001b[39m\u001b[38;5;132;01m{\u001b[39;00mfunc\u001b[38;5;241m.\u001b[39m\u001b[38;5;18m__qualname__\u001b[39m\u001b[38;5;132;01m}\u001b[39;00m\u001b[38;5;124m must be\u001b[39m\u001b[38;5;124m\"\u001b[39m,\n\u001b[1;32m    225\u001b[0m         \u001b[38;5;28mstr\u001b[39m(e),\n\u001b[1;32m    226\u001b[0m     )\n",
      "File \u001b[0;32m~/.pyenv/versions/3.10.6/envs/sales-ninja/lib/python3.10/site-packages/sklearn/model_selection/_validation.py:684\u001b[0m, in \u001b[0;36mcross_val_score\u001b[0;34m(estimator, X, y, groups, scoring, cv, n_jobs, verbose, params, pre_dispatch, error_score)\u001b[0m\n\u001b[1;32m    681\u001b[0m \u001b[38;5;66;03m# To ensure multimetric format is not supported\u001b[39;00m\n\u001b[1;32m    682\u001b[0m scorer \u001b[38;5;241m=\u001b[39m check_scoring(estimator, scoring\u001b[38;5;241m=\u001b[39mscoring)\n\u001b[0;32m--> 684\u001b[0m cv_results \u001b[38;5;241m=\u001b[39m \u001b[43mcross_validate\u001b[49m\u001b[43m(\u001b[49m\n\u001b[1;32m    685\u001b[0m \u001b[43m    \u001b[49m\u001b[43mestimator\u001b[49m\u001b[38;5;241;43m=\u001b[39;49m\u001b[43mestimator\u001b[49m\u001b[43m,\u001b[49m\n\u001b[1;32m    686\u001b[0m \u001b[43m    \u001b[49m\u001b[43mX\u001b[49m\u001b[38;5;241;43m=\u001b[39;49m\u001b[43mX\u001b[49m\u001b[43m,\u001b[49m\n\u001b[1;32m    687\u001b[0m \u001b[43m    \u001b[49m\u001b[43my\u001b[49m\u001b[38;5;241;43m=\u001b[39;49m\u001b[43my\u001b[49m\u001b[43m,\u001b[49m\n\u001b[1;32m    688\u001b[0m \u001b[43m    \u001b[49m\u001b[43mgroups\u001b[49m\u001b[38;5;241;43m=\u001b[39;49m\u001b[43mgroups\u001b[49m\u001b[43m,\u001b[49m\n\u001b[1;32m    689\u001b[0m \u001b[43m    \u001b[49m\u001b[43mscoring\u001b[49m\u001b[38;5;241;43m=\u001b[39;49m\u001b[43m{\u001b[49m\u001b[38;5;124;43m\"\u001b[39;49m\u001b[38;5;124;43mscore\u001b[39;49m\u001b[38;5;124;43m\"\u001b[39;49m\u001b[43m:\u001b[49m\u001b[43m \u001b[49m\u001b[43mscorer\u001b[49m\u001b[43m}\u001b[49m\u001b[43m,\u001b[49m\n\u001b[1;32m    690\u001b[0m \u001b[43m    \u001b[49m\u001b[43mcv\u001b[49m\u001b[38;5;241;43m=\u001b[39;49m\u001b[43mcv\u001b[49m\u001b[43m,\u001b[49m\n\u001b[1;32m    691\u001b[0m \u001b[43m    \u001b[49m\u001b[43mn_jobs\u001b[49m\u001b[38;5;241;43m=\u001b[39;49m\u001b[43mn_jobs\u001b[49m\u001b[43m,\u001b[49m\n\u001b[1;32m    692\u001b[0m \u001b[43m    \u001b[49m\u001b[43mverbose\u001b[49m\u001b[38;5;241;43m=\u001b[39;49m\u001b[43mverbose\u001b[49m\u001b[43m,\u001b[49m\n\u001b[1;32m    693\u001b[0m \u001b[43m    \u001b[49m\u001b[43mparams\u001b[49m\u001b[38;5;241;43m=\u001b[39;49m\u001b[43mparams\u001b[49m\u001b[43m,\u001b[49m\n\u001b[1;32m    694\u001b[0m \u001b[43m    \u001b[49m\u001b[43mpre_dispatch\u001b[49m\u001b[38;5;241;43m=\u001b[39;49m\u001b[43mpre_dispatch\u001b[49m\u001b[43m,\u001b[49m\n\u001b[1;32m    695\u001b[0m \u001b[43m    \u001b[49m\u001b[43merror_score\u001b[49m\u001b[38;5;241;43m=\u001b[39;49m\u001b[43merror_score\u001b[49m\u001b[43m,\u001b[49m\n\u001b[1;32m    696\u001b[0m \u001b[43m\u001b[49m\u001b[43m)\u001b[49m\n\u001b[1;32m    697\u001b[0m \u001b[38;5;28;01mreturn\u001b[39;00m cv_results[\u001b[38;5;124m\"\u001b[39m\u001b[38;5;124mtest_score\u001b[39m\u001b[38;5;124m\"\u001b[39m]\n",
      "File \u001b[0;32m~/.pyenv/versions/3.10.6/envs/sales-ninja/lib/python3.10/site-packages/sklearn/utils/_param_validation.py:216\u001b[0m, in \u001b[0;36mvalidate_params.<locals>.decorator.<locals>.wrapper\u001b[0;34m(*args, **kwargs)\u001b[0m\n\u001b[1;32m    210\u001b[0m \u001b[38;5;28;01mtry\u001b[39;00m:\n\u001b[1;32m    211\u001b[0m     \u001b[38;5;28;01mwith\u001b[39;00m config_context(\n\u001b[1;32m    212\u001b[0m         skip_parameter_validation\u001b[38;5;241m=\u001b[39m(\n\u001b[1;32m    213\u001b[0m             prefer_skip_nested_validation \u001b[38;5;129;01mor\u001b[39;00m global_skip_validation\n\u001b[1;32m    214\u001b[0m         )\n\u001b[1;32m    215\u001b[0m     ):\n\u001b[0;32m--> 216\u001b[0m         \u001b[38;5;28;01mreturn\u001b[39;00m \u001b[43mfunc\u001b[49m\u001b[43m(\u001b[49m\u001b[38;5;241;43m*\u001b[39;49m\u001b[43margs\u001b[49m\u001b[43m,\u001b[49m\u001b[43m \u001b[49m\u001b[38;5;241;43m*\u001b[39;49m\u001b[38;5;241;43m*\u001b[39;49m\u001b[43mkwargs\u001b[49m\u001b[43m)\u001b[49m\n\u001b[1;32m    217\u001b[0m \u001b[38;5;28;01mexcept\u001b[39;00m InvalidParameterError \u001b[38;5;28;01mas\u001b[39;00m e:\n\u001b[1;32m    218\u001b[0m     \u001b[38;5;66;03m# When the function is just a wrapper around an estimator, we allow\u001b[39;00m\n\u001b[1;32m    219\u001b[0m     \u001b[38;5;66;03m# the function to delegate validation to the estimator, but we replace\u001b[39;00m\n\u001b[1;32m    220\u001b[0m     \u001b[38;5;66;03m# the name of the estimator by the name of the function in the error\u001b[39;00m\n\u001b[1;32m    221\u001b[0m     \u001b[38;5;66;03m# message to avoid confusion.\u001b[39;00m\n\u001b[1;32m    222\u001b[0m     msg \u001b[38;5;241m=\u001b[39m re\u001b[38;5;241m.\u001b[39msub(\n\u001b[1;32m    223\u001b[0m         \u001b[38;5;124mr\u001b[39m\u001b[38;5;124m\"\u001b[39m\u001b[38;5;124mparameter of \u001b[39m\u001b[38;5;124m\\\u001b[39m\u001b[38;5;124mw+ must be\u001b[39m\u001b[38;5;124m\"\u001b[39m,\n\u001b[1;32m    224\u001b[0m         \u001b[38;5;124mf\u001b[39m\u001b[38;5;124m\"\u001b[39m\u001b[38;5;124mparameter of \u001b[39m\u001b[38;5;132;01m{\u001b[39;00mfunc\u001b[38;5;241m.\u001b[39m\u001b[38;5;18m__qualname__\u001b[39m\u001b[38;5;132;01m}\u001b[39;00m\u001b[38;5;124m must be\u001b[39m\u001b[38;5;124m\"\u001b[39m,\n\u001b[1;32m    225\u001b[0m         \u001b[38;5;28mstr\u001b[39m(e),\n\u001b[1;32m    226\u001b[0m     )\n",
      "File \u001b[0;32m~/.pyenv/versions/3.10.6/envs/sales-ninja/lib/python3.10/site-packages/sklearn/model_selection/_validation.py:411\u001b[0m, in \u001b[0;36mcross_validate\u001b[0;34m(estimator, X, y, groups, scoring, cv, n_jobs, verbose, params, pre_dispatch, return_train_score, return_estimator, return_indices, error_score)\u001b[0m\n\u001b[1;32m    408\u001b[0m \u001b[38;5;66;03m# We clone the estimator to make sure that all the folds are\u001b[39;00m\n\u001b[1;32m    409\u001b[0m \u001b[38;5;66;03m# independent, and that it is pickle-able.\u001b[39;00m\n\u001b[1;32m    410\u001b[0m parallel \u001b[38;5;241m=\u001b[39m Parallel(n_jobs\u001b[38;5;241m=\u001b[39mn_jobs, verbose\u001b[38;5;241m=\u001b[39mverbose, pre_dispatch\u001b[38;5;241m=\u001b[39mpre_dispatch)\n\u001b[0;32m--> 411\u001b[0m results \u001b[38;5;241m=\u001b[39m \u001b[43mparallel\u001b[49m\u001b[43m(\u001b[49m\n\u001b[1;32m    412\u001b[0m \u001b[43m    \u001b[49m\u001b[43mdelayed\u001b[49m\u001b[43m(\u001b[49m\u001b[43m_fit_and_score\u001b[49m\u001b[43m)\u001b[49m\u001b[43m(\u001b[49m\n\u001b[1;32m    413\u001b[0m \u001b[43m        \u001b[49m\u001b[43mclone\u001b[49m\u001b[43m(\u001b[49m\u001b[43mestimator\u001b[49m\u001b[43m)\u001b[49m\u001b[43m,\u001b[49m\n\u001b[1;32m    414\u001b[0m \u001b[43m        \u001b[49m\u001b[43mX\u001b[49m\u001b[43m,\u001b[49m\n\u001b[1;32m    415\u001b[0m \u001b[43m        \u001b[49m\u001b[43my\u001b[49m\u001b[43m,\u001b[49m\n\u001b[1;32m    416\u001b[0m \u001b[43m        \u001b[49m\u001b[43mscorer\u001b[49m\u001b[38;5;241;43m=\u001b[39;49m\u001b[43mscorers\u001b[49m\u001b[43m,\u001b[49m\n\u001b[1;32m    417\u001b[0m \u001b[43m        \u001b[49m\u001b[43mtrain\u001b[49m\u001b[38;5;241;43m=\u001b[39;49m\u001b[43mtrain\u001b[49m\u001b[43m,\u001b[49m\n\u001b[1;32m    418\u001b[0m \u001b[43m        \u001b[49m\u001b[43mtest\u001b[49m\u001b[38;5;241;43m=\u001b[39;49m\u001b[43mtest\u001b[49m\u001b[43m,\u001b[49m\n\u001b[1;32m    419\u001b[0m \u001b[43m        \u001b[49m\u001b[43mverbose\u001b[49m\u001b[38;5;241;43m=\u001b[39;49m\u001b[43mverbose\u001b[49m\u001b[43m,\u001b[49m\n\u001b[1;32m    420\u001b[0m \u001b[43m        \u001b[49m\u001b[43mparameters\u001b[49m\u001b[38;5;241;43m=\u001b[39;49m\u001b[38;5;28;43;01mNone\u001b[39;49;00m\u001b[43m,\u001b[49m\n\u001b[1;32m    421\u001b[0m \u001b[43m        \u001b[49m\u001b[43mfit_params\u001b[49m\u001b[38;5;241;43m=\u001b[39;49m\u001b[43mrouted_params\u001b[49m\u001b[38;5;241;43m.\u001b[39;49m\u001b[43mestimator\u001b[49m\u001b[38;5;241;43m.\u001b[39;49m\u001b[43mfit\u001b[49m\u001b[43m,\u001b[49m\n\u001b[1;32m    422\u001b[0m \u001b[43m        \u001b[49m\u001b[43mscore_params\u001b[49m\u001b[38;5;241;43m=\u001b[39;49m\u001b[43mrouted_params\u001b[49m\u001b[38;5;241;43m.\u001b[39;49m\u001b[43mscorer\u001b[49m\u001b[38;5;241;43m.\u001b[39;49m\u001b[43mscore\u001b[49m\u001b[43m,\u001b[49m\n\u001b[1;32m    423\u001b[0m \u001b[43m        \u001b[49m\u001b[43mreturn_train_score\u001b[49m\u001b[38;5;241;43m=\u001b[39;49m\u001b[43mreturn_train_score\u001b[49m\u001b[43m,\u001b[49m\n\u001b[1;32m    424\u001b[0m \u001b[43m        \u001b[49m\u001b[43mreturn_times\u001b[49m\u001b[38;5;241;43m=\u001b[39;49m\u001b[38;5;28;43;01mTrue\u001b[39;49;00m\u001b[43m,\u001b[49m\n\u001b[1;32m    425\u001b[0m \u001b[43m        \u001b[49m\u001b[43mreturn_estimator\u001b[49m\u001b[38;5;241;43m=\u001b[39;49m\u001b[43mreturn_estimator\u001b[49m\u001b[43m,\u001b[49m\n\u001b[1;32m    426\u001b[0m \u001b[43m        \u001b[49m\u001b[43merror_score\u001b[49m\u001b[38;5;241;43m=\u001b[39;49m\u001b[43merror_score\u001b[49m\u001b[43m,\u001b[49m\n\u001b[1;32m    427\u001b[0m \u001b[43m    \u001b[49m\u001b[43m)\u001b[49m\n\u001b[1;32m    428\u001b[0m \u001b[43m    \u001b[49m\u001b[38;5;28;43;01mfor\u001b[39;49;00m\u001b[43m \u001b[49m\u001b[43mtrain\u001b[49m\u001b[43m,\u001b[49m\u001b[43m \u001b[49m\u001b[43mtest\u001b[49m\u001b[43m \u001b[49m\u001b[38;5;129;43;01min\u001b[39;49;00m\u001b[43m \u001b[49m\u001b[43mindices\u001b[49m\n\u001b[1;32m    429\u001b[0m \u001b[43m\u001b[49m\u001b[43m)\u001b[49m\n\u001b[1;32m    431\u001b[0m _warn_or_raise_about_fit_failures(results, error_score)\n\u001b[1;32m    433\u001b[0m \u001b[38;5;66;03m# For callable scoring, the return type is only know after calling. If the\u001b[39;00m\n\u001b[1;32m    434\u001b[0m \u001b[38;5;66;03m# return type is a dictionary, the error scores can now be inserted with\u001b[39;00m\n\u001b[1;32m    435\u001b[0m \u001b[38;5;66;03m# the correct key.\u001b[39;00m\n",
      "File \u001b[0;32m~/.pyenv/versions/3.10.6/envs/sales-ninja/lib/python3.10/site-packages/sklearn/utils/parallel.py:77\u001b[0m, in \u001b[0;36mParallel.__call__\u001b[0;34m(self, iterable)\u001b[0m\n\u001b[1;32m     72\u001b[0m config \u001b[38;5;241m=\u001b[39m get_config()\n\u001b[1;32m     73\u001b[0m iterable_with_config \u001b[38;5;241m=\u001b[39m (\n\u001b[1;32m     74\u001b[0m     (_with_config(delayed_func, config), args, kwargs)\n\u001b[1;32m     75\u001b[0m     \u001b[38;5;28;01mfor\u001b[39;00m delayed_func, args, kwargs \u001b[38;5;129;01min\u001b[39;00m iterable\n\u001b[1;32m     76\u001b[0m )\n\u001b[0;32m---> 77\u001b[0m \u001b[38;5;28;01mreturn\u001b[39;00m \u001b[38;5;28;43msuper\u001b[39;49m\u001b[43m(\u001b[49m\u001b[43m)\u001b[49m\u001b[38;5;241;43m.\u001b[39;49m\u001b[38;5;21;43m__call__\u001b[39;49m\u001b[43m(\u001b[49m\u001b[43miterable_with_config\u001b[49m\u001b[43m)\u001b[49m\n",
      "File \u001b[0;32m~/.pyenv/versions/3.10.6/envs/sales-ninja/lib/python3.10/site-packages/joblib/parallel.py:2072\u001b[0m, in \u001b[0;36mParallel.__call__\u001b[0;34m(self, iterable)\u001b[0m\n\u001b[1;32m   2066\u001b[0m \u001b[38;5;66;03m# The first item from the output is blank, but it makes the interpreter\u001b[39;00m\n\u001b[1;32m   2067\u001b[0m \u001b[38;5;66;03m# progress until it enters the Try/Except block of the generator and\u001b[39;00m\n\u001b[1;32m   2068\u001b[0m \u001b[38;5;66;03m# reaches the first `yield` statement. This starts the asynchronous\u001b[39;00m\n\u001b[1;32m   2069\u001b[0m \u001b[38;5;66;03m# dispatch of the tasks to the workers.\u001b[39;00m\n\u001b[1;32m   2070\u001b[0m \u001b[38;5;28mnext\u001b[39m(output)\n\u001b[0;32m-> 2072\u001b[0m \u001b[38;5;28;01mreturn\u001b[39;00m output \u001b[38;5;28;01mif\u001b[39;00m \u001b[38;5;28mself\u001b[39m\u001b[38;5;241m.\u001b[39mreturn_generator \u001b[38;5;28;01melse\u001b[39;00m \u001b[38;5;28;43mlist\u001b[39;49m\u001b[43m(\u001b[49m\u001b[43moutput\u001b[49m\u001b[43m)\u001b[49m\n",
      "File \u001b[0;32m~/.pyenv/versions/3.10.6/envs/sales-ninja/lib/python3.10/site-packages/joblib/parallel.py:1682\u001b[0m, in \u001b[0;36mParallel._get_outputs\u001b[0;34m(self, iterator, pre_dispatch)\u001b[0m\n\u001b[1;32m   1679\u001b[0m     \u001b[38;5;28;01myield\u001b[39;00m\n\u001b[1;32m   1681\u001b[0m     \u001b[38;5;28;01mwith\u001b[39;00m \u001b[38;5;28mself\u001b[39m\u001b[38;5;241m.\u001b[39m_backend\u001b[38;5;241m.\u001b[39mretrieval_context():\n\u001b[0;32m-> 1682\u001b[0m         \u001b[38;5;28;01myield from\u001b[39;00m \u001b[38;5;28mself\u001b[39m\u001b[38;5;241m.\u001b[39m_retrieve()\n\u001b[1;32m   1684\u001b[0m \u001b[38;5;28;01mexcept\u001b[39;00m \u001b[38;5;167;01mGeneratorExit\u001b[39;00m:\n\u001b[1;32m   1685\u001b[0m     \u001b[38;5;66;03m# The generator has been garbage collected before being fully\u001b[39;00m\n\u001b[1;32m   1686\u001b[0m     \u001b[38;5;66;03m# consumed. This aborts the remaining tasks if possible and warn\u001b[39;00m\n\u001b[1;32m   1687\u001b[0m     \u001b[38;5;66;03m# the user if necessary.\u001b[39;00m\n\u001b[1;32m   1688\u001b[0m     \u001b[38;5;28mself\u001b[39m\u001b[38;5;241m.\u001b[39m_exception \u001b[38;5;241m=\u001b[39m \u001b[38;5;28;01mTrue\u001b[39;00m\n",
      "File \u001b[0;32m~/.pyenv/versions/3.10.6/envs/sales-ninja/lib/python3.10/site-packages/joblib/parallel.py:1784\u001b[0m, in \u001b[0;36mParallel._retrieve\u001b[0;34m(self)\u001b[0m\n\u001b[1;32m   1778\u001b[0m \u001b[38;5;28;01mwhile\u001b[39;00m \u001b[38;5;28mself\u001b[39m\u001b[38;5;241m.\u001b[39m_wait_retrieval():\n\u001b[1;32m   1779\u001b[0m     \u001b[38;5;66;03m# If the callback thread of a worker has signaled that its task\u001b[39;00m\n\u001b[1;32m   1780\u001b[0m     \u001b[38;5;66;03m# triggered an exception, or if the retrieval loop has raised an\u001b[39;00m\n\u001b[1;32m   1781\u001b[0m     \u001b[38;5;66;03m# exception (e.g. `GeneratorExit`), exit the loop and surface the\u001b[39;00m\n\u001b[1;32m   1782\u001b[0m     \u001b[38;5;66;03m# worker traceback.\u001b[39;00m\n\u001b[1;32m   1783\u001b[0m     \u001b[38;5;28;01mif\u001b[39;00m \u001b[38;5;28mself\u001b[39m\u001b[38;5;241m.\u001b[39m_aborting:\n\u001b[0;32m-> 1784\u001b[0m         \u001b[38;5;28;43mself\u001b[39;49m\u001b[38;5;241;43m.\u001b[39;49m\u001b[43m_raise_error_fast\u001b[49m\u001b[43m(\u001b[49m\u001b[43m)\u001b[49m\n\u001b[1;32m   1785\u001b[0m         \u001b[38;5;28;01mbreak\u001b[39;00m\n\u001b[1;32m   1787\u001b[0m     nb_jobs \u001b[38;5;241m=\u001b[39m \u001b[38;5;28mlen\u001b[39m(\u001b[38;5;28mself\u001b[39m\u001b[38;5;241m.\u001b[39m_jobs)\n",
      "File \u001b[0;32m~/.pyenv/versions/3.10.6/envs/sales-ninja/lib/python3.10/site-packages/joblib/parallel.py:1859\u001b[0m, in \u001b[0;36mParallel._raise_error_fast\u001b[0;34m(self)\u001b[0m\n\u001b[1;32m   1855\u001b[0m \u001b[38;5;66;03m# If this error job exists, immediately raise the error by\u001b[39;00m\n\u001b[1;32m   1856\u001b[0m \u001b[38;5;66;03m# calling get_result. This job might not exists if abort has been\u001b[39;00m\n\u001b[1;32m   1857\u001b[0m \u001b[38;5;66;03m# called directly or if the generator is gc'ed.\u001b[39;00m\n\u001b[1;32m   1858\u001b[0m \u001b[38;5;28;01mif\u001b[39;00m error_job \u001b[38;5;129;01mis\u001b[39;00m \u001b[38;5;129;01mnot\u001b[39;00m \u001b[38;5;28;01mNone\u001b[39;00m:\n\u001b[0;32m-> 1859\u001b[0m     \u001b[43merror_job\u001b[49m\u001b[38;5;241;43m.\u001b[39;49m\u001b[43mget_result\u001b[49m\u001b[43m(\u001b[49m\u001b[38;5;28;43mself\u001b[39;49m\u001b[38;5;241;43m.\u001b[39;49m\u001b[43mtimeout\u001b[49m\u001b[43m)\u001b[49m\n",
      "File \u001b[0;32m~/.pyenv/versions/3.10.6/envs/sales-ninja/lib/python3.10/site-packages/joblib/parallel.py:758\u001b[0m, in \u001b[0;36mBatchCompletionCallBack.get_result\u001b[0;34m(self, timeout)\u001b[0m\n\u001b[1;32m    752\u001b[0m backend \u001b[38;5;241m=\u001b[39m \u001b[38;5;28mself\u001b[39m\u001b[38;5;241m.\u001b[39mparallel\u001b[38;5;241m.\u001b[39m_backend\n\u001b[1;32m    754\u001b[0m \u001b[38;5;28;01mif\u001b[39;00m backend\u001b[38;5;241m.\u001b[39msupports_retrieve_callback:\n\u001b[1;32m    755\u001b[0m     \u001b[38;5;66;03m# We assume that the result has already been retrieved by the\u001b[39;00m\n\u001b[1;32m    756\u001b[0m     \u001b[38;5;66;03m# callback thread, and is stored internally. It's just waiting to\u001b[39;00m\n\u001b[1;32m    757\u001b[0m     \u001b[38;5;66;03m# be returned.\u001b[39;00m\n\u001b[0;32m--> 758\u001b[0m     \u001b[38;5;28;01mreturn\u001b[39;00m \u001b[38;5;28;43mself\u001b[39;49m\u001b[38;5;241;43m.\u001b[39;49m\u001b[43m_return_or_raise\u001b[49m\u001b[43m(\u001b[49m\u001b[43m)\u001b[49m\n\u001b[1;32m    760\u001b[0m \u001b[38;5;66;03m# For other backends, the main thread needs to run the retrieval step.\u001b[39;00m\n\u001b[1;32m    761\u001b[0m \u001b[38;5;28;01mtry\u001b[39;00m:\n",
      "File \u001b[0;32m~/.pyenv/versions/3.10.6/envs/sales-ninja/lib/python3.10/site-packages/joblib/parallel.py:773\u001b[0m, in \u001b[0;36mBatchCompletionCallBack._return_or_raise\u001b[0;34m(self)\u001b[0m\n\u001b[1;32m    771\u001b[0m \u001b[38;5;28;01mtry\u001b[39;00m:\n\u001b[1;32m    772\u001b[0m     \u001b[38;5;28;01mif\u001b[39;00m \u001b[38;5;28mself\u001b[39m\u001b[38;5;241m.\u001b[39mstatus \u001b[38;5;241m==\u001b[39m TASK_ERROR:\n\u001b[0;32m--> 773\u001b[0m         \u001b[38;5;28;01mraise\u001b[39;00m \u001b[38;5;28mself\u001b[39m\u001b[38;5;241m.\u001b[39m_result\n\u001b[1;32m    774\u001b[0m     \u001b[38;5;28;01mreturn\u001b[39;00m \u001b[38;5;28mself\u001b[39m\u001b[38;5;241m.\u001b[39m_result\n\u001b[1;32m    775\u001b[0m \u001b[38;5;28;01mfinally\u001b[39;00m:\n",
      "\u001b[0;31mAttributeError\u001b[0m: 'Series' object has no attribute '_mgr'"
     ]
    }
   ],
   "source": [
    "tree = DecisionTreeRegressor()\n",
    "\n",
    "cv_score = cross_val_score(tree, X_train_proc, y_train, scoring = \"r2\", cv=5, n_jobs = -1)\n",
    "print(cv_score)\n",
    "\n",
    "LearningCurveDisplay.from_estimator(tree, X_proc, y, train_sizes = [0.1, 0.3, 0.5], scoring = \"r2\", cv=5, n_jobs = -1) "
   ]
  },
  {
   "cell_type": "markdown",
   "id": "6043eaac-76d6-4d4b-b094-b330b40ad761",
   "metadata": {},
   "source": [
    "### Random Forest"
   ]
  },
  {
   "cell_type": "code",
   "execution_count": 31,
   "id": "fdf06c97-0a3e-4869-afc8-79ead855415d",
   "metadata": {
    "execution": {
     "iopub.execute_input": "2025-06-05T08:51:27.415998Z",
     "iopub.status.busy": "2025-06-05T08:51:27.414476Z",
     "iopub.status.idle": "2025-06-05T08:52:39.840770Z",
     "shell.execute_reply": "2025-06-05T08:52:39.835517Z",
     "shell.execute_reply.started": "2025-06-05T08:51:27.415957Z"
    }
   },
   "outputs": [
    {
     "data": {
      "text/plain": [
       "array([0.99833576, 0.99081077, 0.99842768, 0.99843371, 0.99896083])"
      ]
     },
     "execution_count": 31,
     "metadata": {},
     "output_type": "execute_result"
    }
   ],
   "source": [
    "forest = RandomForestRegressor(n_estimators=10)\n",
    "\n",
    "cv_score = cross_val_score(forest, X_train_proc, y_train, scoring = \"r2\", cv=5, n_jobs = -1)\n",
    "cv_score"
   ]
  },
  {
   "cell_type": "markdown",
   "id": "056ffd09-2a85-4bc3-a172-fe8355456ba9",
   "metadata": {},
   "source": [
    "### Bagging Regressor"
   ]
  },
  {
   "cell_type": "code",
   "execution_count": 14,
   "id": "eb974429-5e17-46df-b3df-bbbfdc54053d",
   "metadata": {
    "execution": {
     "iopub.execute_input": "2025-06-05T09:31:32.945790Z",
     "iopub.status.busy": "2025-06-05T09:31:32.944535Z",
     "iopub.status.idle": "2025-06-05T09:46:00.291810Z",
     "shell.execute_reply": "2025-06-05T09:46:00.290247Z",
     "shell.execute_reply.started": "2025-06-05T09:31:32.945685Z"
    }
   },
   "outputs": [
    {
     "data": {
      "text/plain": [
       "<sklearn.model_selection._plot.LearningCurveDisplay at 0x7d6a871151b0>"
      ]
     },
     "execution_count": 14,
     "metadata": {},
     "output_type": "execute_result"
    },
    {
     "data": {
      "image/png": "[encoded data removed]",
      "text/plain": [
       "<Figure size 640x480 with 1 Axes>"
      ]
     },
     "metadata": {},
     "output_type": "display_data"
    }
   ],
   "source": [
    "kneighbors = KNeighborsRegressor(n_neighbors = 5)\n",
    "bagged_kn = BaggingRegressor(kneighbors, n_estimators = 3)\n",
    "\n",
    "# cv_score = cross_val_score(bagged_kn, X_train_proc, y_train, scoring = \"r2\", cv=5, n_jobs = -1)\n",
    "# cv_score\n",
    "\n",
    "LearningCurveDisplay.from_estimator(bagged_kn, X_proc, y, train_sizes = [0.1, 0.3], scoring = \"r2\", cv=5, n_jobs = -1) "
   ]
  },
  {
   "cell_type": "markdown",
   "id": "0d707b82-3e09-4b2e-8c3b-b024800ad1b6",
   "metadata": {},
   "source": [
    "### XGBoost"
   ]
  },
  {
   "cell_type": "code",
   "execution_count": 9,
   "id": "9c9a7946-0b0b-4c5a-9343-593f9ebf133e",
   "metadata": {
    "execution": {
     "iopub.execute_input": "2025-06-06T07:34:56.811133Z",
     "iopub.status.busy": "2025-06-06T07:34:56.810247Z",
     "iopub.status.idle": "2025-06-06T07:34:56.817328Z",
     "shell.execute_reply": "2025-06-06T07:34:56.815381Z",
     "shell.execute_reply.started": "2025-06-06T07:34:56.811096Z"
    }
   },
   "outputs": [],
   "source": [
    "# xgb_cpu = XGBRegressor(max_depth=10, n_estimators=100, learning_rate=0.1)"
   ]
  },
  {
   "cell_type": "code",
   "execution_count": 33,
   "id": "9f88f419-ab5d-42b2-b6c4-6a58d62ff3f4",
   "metadata": {
    "execution": {
     "iopub.execute_input": "2025-06-06T07:54:19.908512Z",
     "iopub.status.busy": "2025-06-06T07:54:19.907612Z",
     "iopub.status.idle": "2025-06-06T07:54:19.915594Z",
     "shell.execute_reply": "2025-06-06T07:54:19.914165Z",
     "shell.execute_reply.started": "2025-06-06T07:54:19.908471Z"
    }
   },
   "outputs": [],
   "source": [
    "xgb = XGBRegressor(max_depth=10, n_estimators=100, learning_rate=0.1, device = \"cuda\")"
   ]
  },
  {
   "cell_type": "code",
   "execution_count": 34,
   "id": "f4853e0f-8cf2-4725-9dd0-6276b588479a",
   "metadata": {
    "execution": {
     "iopub.execute_input": "2025-06-06T07:54:20.865354Z",
     "iopub.status.busy": "2025-06-06T07:54:20.864851Z",
     "iopub.status.idle": "2025-06-06T07:54:20.872657Z",
     "shell.execute_reply": "2025-06-06T07:54:20.870787Z",
     "shell.execute_reply.started": "2025-06-06T07:54:20.865314Z"
    }
   },
   "outputs": [],
   "source": [
    "# cv_score = cross_val_score(bagged_kn, X_train_proc, y_train, scoring = \"r2\", cv=5, n_jobs = -1)\n",
    "# cv_score"
   ]
  },
  {
   "cell_type": "code",
   "execution_count": 35,
   "id": "5748bc91-7a01-4f5d-b6bd-1910b84ab0bf",
   "metadata": {
    "execution": {
     "iopub.execute_input": "2025-06-06T07:54:21.102585Z",
     "iopub.status.busy": "2025-06-06T07:54:21.101779Z",
     "iopub.status.idle": "2025-06-06T07:54:21.110064Z",
     "shell.execute_reply": "2025-06-06T07:54:21.107646Z",
     "shell.execute_reply.started": "2025-06-06T07:54:21.102543Z"
    },
    "scrolled": true
   },
   "outputs": [],
   "source": [
    "# xgb_cpu.fit(X_train, y_train,\n",
    "#     # evaluate loss at each iteration\n",
    "#     eval_set=[(X_train, y_train), (X_val, y_val)]#,  \n",
    "#     # stop iterating when eval loss increases 5 times in a row\n",
    "#     # early_stopping_rounds=5\n",
    "# )"
   ]
  },
  {
   "cell_type": "code",
   "execution_count": 36,
   "id": "1e34e401-86e0-46d0-87d3-0b987bcff838",
   "metadata": {
    "execution": {
     "iopub.execute_input": "2025-06-06T07:54:21.355936Z",
     "iopub.status.busy": "2025-06-06T07:54:21.355435Z",
     "iopub.status.idle": "2025-06-06T07:54:26.073273Z",
     "shell.execute_reply": "2025-06-06T07:54:26.071467Z",
     "shell.execute_reply.started": "2025-06-06T07:54:21.355896Z"
    },
    "scrolled": true
   },
   "outputs": [
    {
     "name": "stdout",
     "output_type": "stream",
     "text": [
      "[0]\tvalidation_0-rmse:4912.83545\tvalidation_1-rmse:5010.58079\n",
      "[1]\tvalidation_0-rmse:4435.80423\tvalidation_1-rmse:4523.68378\n",
      "[2]\tvalidation_0-rmse:4006.41217\tvalidation_1-rmse:4084.99561\n",
      "[3]\tvalidation_0-rmse:3619.47028\tvalidation_1-rmse:3691.12375\n",
      "[4]\tvalidation_0-rmse:3270.69043\tvalidation_1-rmse:3336.32968\n",
      "[5]\tvalidation_0-rmse:2956.44194\tvalidation_1-rmse:3015.99362\n",
      "[6]\tvalidation_0-rmse:2673.44874\tvalidation_1-rmse:2730.61721\n",
      "[7]\tvalidation_0-rmse:2418.29680\tvalidation_1-rmse:2470.99765\n",
      "[8]\tvalidation_0-rmse:2187.55525\tvalidation_1-rmse:2236.80697\n",
      "[9]\tvalidation_0-rmse:1980.21284\tvalidation_1-rmse:2026.04554\n",
      "[10]\tvalidation_0-rmse:1792.63882\tvalidation_1-rmse:1837.37639\n",
      "[11]\tvalidation_0-rmse:1623.70179\tvalidation_1-rmse:1662.20232\n",
      "[12]\tvalidation_0-rmse:1471.71495\tvalidation_1-rmse:1510.31235\n",
      "[13]\tvalidation_0-rmse:1334.59861\tvalidation_1-rmse:1370.75029\n",
      "[14]\tvalidation_0-rmse:1209.77406\tvalidation_1-rmse:1246.26900\n",
      "[15]\tvalidation_0-rmse:1096.95621\tvalidation_1-rmse:1131.76767\n",
      "[16]\tvalidation_0-rmse:995.64712\tvalidation_1-rmse:1031.49498\n",
      "[17]\tvalidation_0-rmse:904.08271\tvalidation_1-rmse:940.07406\n",
      "[18]\tvalidation_0-rmse:821.62187\tvalidation_1-rmse:856.95586\n",
      "[19]\tvalidation_0-rmse:747.31754\tvalidation_1-rmse:785.07694\n",
      "[20]\tvalidation_0-rmse:680.15584\tvalidation_1-rmse:719.22911\n",
      "[21]\tvalidation_0-rmse:619.62844\tvalidation_1-rmse:662.83509\n",
      "[22]\tvalidation_0-rmse:565.18127\tvalidation_1-rmse:613.50387\n",
      "[23]\tvalidation_0-rmse:516.05973\tvalidation_1-rmse:569.59829\n",
      "[24]\tvalidation_0-rmse:472.15595\tvalidation_1-rmse:531.80684\n",
      "[25]\tvalidation_0-rmse:432.24830\tvalidation_1-rmse:499.03470\n",
      "[26]\tvalidation_0-rmse:396.15518\tvalidation_1-rmse:468.35781\n",
      "[27]\tvalidation_0-rmse:363.45873\tvalidation_1-rmse:443.25178\n",
      "[28]\tvalidation_0-rmse:334.15405\tvalidation_1-rmse:420.29456\n",
      "[29]\tvalidation_0-rmse:307.90654\tvalidation_1-rmse:401.99850\n",
      "[30]\tvalidation_0-rmse:283.78207\tvalidation_1-rmse:385.17314\n",
      "[31]\tvalidation_0-rmse:262.42578\tvalidation_1-rmse:371.89773\n",
      "[32]\tvalidation_0-rmse:243.03573\tvalidation_1-rmse:359.66630\n",
      "[33]\tvalidation_0-rmse:225.51047\tvalidation_1-rmse:348.77656\n",
      "[34]\tvalidation_0-rmse:209.60311\tvalidation_1-rmse:339.60136\n",
      "[35]\tvalidation_0-rmse:195.38689\tvalidation_1-rmse:331.99121\n",
      "[36]\tvalidation_0-rmse:182.77602\tvalidation_1-rmse:326.87247\n",
      "[37]\tvalidation_0-rmse:171.53686\tvalidation_1-rmse:321.77245\n",
      "[38]\tvalidation_0-rmse:161.15402\tvalidation_1-rmse:317.42657\n",
      "[39]\tvalidation_0-rmse:152.03666\tvalidation_1-rmse:313.91266\n",
      "[40]\tvalidation_0-rmse:143.55988\tvalidation_1-rmse:310.20623\n",
      "[41]\tvalidation_0-rmse:135.60553\tvalidation_1-rmse:307.00339\n",
      "[42]\tvalidation_0-rmse:128.83664\tvalidation_1-rmse:304.44877\n",
      "[43]\tvalidation_0-rmse:122.52756\tvalidation_1-rmse:302.93406\n",
      "[44]\tvalidation_0-rmse:116.86529\tvalidation_1-rmse:301.35362\n",
      "[45]\tvalidation_0-rmse:111.86109\tvalidation_1-rmse:299.94673\n",
      "[46]\tvalidation_0-rmse:107.19794\tvalidation_1-rmse:298.49394\n",
      "[47]\tvalidation_0-rmse:102.92466\tvalidation_1-rmse:297.04192\n",
      "[48]\tvalidation_0-rmse:98.98907\tvalidation_1-rmse:295.70232\n",
      "[49]\tvalidation_0-rmse:95.25643\tvalidation_1-rmse:294.54283\n",
      "[50]\tvalidation_0-rmse:91.65934\tvalidation_1-rmse:293.57350\n",
      "[51]\tvalidation_0-rmse:88.43886\tvalidation_1-rmse:292.66028\n",
      "[52]\tvalidation_0-rmse:85.21054\tvalidation_1-rmse:291.80667\n",
      "[53]\tvalidation_0-rmse:82.49001\tvalidation_1-rmse:290.81790\n",
      "[54]\tvalidation_0-rmse:79.96669\tvalidation_1-rmse:290.03509\n",
      "[55]\tvalidation_0-rmse:77.36808\tvalidation_1-rmse:289.15516\n",
      "[56]\tvalidation_0-rmse:74.66676\tvalidation_1-rmse:288.33428\n",
      "[57]\tvalidation_0-rmse:72.51930\tvalidation_1-rmse:287.77348\n",
      "[58]\tvalidation_0-rmse:70.37380\tvalidation_1-rmse:287.11517\n",
      "[59]\tvalidation_0-rmse:68.58280\tvalidation_1-rmse:286.62593\n",
      "[60]\tvalidation_0-rmse:66.95031\tvalidation_1-rmse:286.21944\n",
      "[61]\tvalidation_0-rmse:65.60051\tvalidation_1-rmse:285.90100\n",
      "[62]\tvalidation_0-rmse:63.89744\tvalidation_1-rmse:285.35702\n",
      "[63]\tvalidation_0-rmse:62.33623\tvalidation_1-rmse:285.05718\n",
      "[64]\tvalidation_0-rmse:61.22169\tvalidation_1-rmse:284.81834\n",
      "[65]\tvalidation_0-rmse:59.91482\tvalidation_1-rmse:284.65774\n",
      "[66]\tvalidation_0-rmse:58.84279\tvalidation_1-rmse:284.40237\n",
      "[67]\tvalidation_0-rmse:57.60688\tvalidation_1-rmse:284.19826\n",
      "[68]\tvalidation_0-rmse:56.58846\tvalidation_1-rmse:283.99988\n",
      "[69]\tvalidation_0-rmse:55.65306\tvalidation_1-rmse:283.85071\n",
      "[70]\tvalidation_0-rmse:54.75525\tvalidation_1-rmse:283.67869\n",
      "[71]\tvalidation_0-rmse:53.70797\tvalidation_1-rmse:283.36062\n",
      "[72]\tvalidation_0-rmse:52.90322\tvalidation_1-rmse:283.11169\n",
      "[73]\tvalidation_0-rmse:52.13066\tvalidation_1-rmse:282.94798\n",
      "[74]\tvalidation_0-rmse:51.46359\tvalidation_1-rmse:282.82971\n",
      "[75]\tvalidation_0-rmse:50.66093\tvalidation_1-rmse:282.68453\n",
      "[76]\tvalidation_0-rmse:49.96200\tvalidation_1-rmse:282.48738\n",
      "[77]\tvalidation_0-rmse:49.29421\tvalidation_1-rmse:282.38007\n",
      "[78]\tvalidation_0-rmse:48.61569\tvalidation_1-rmse:282.26882\n",
      "[79]\tvalidation_0-rmse:48.05589\tvalidation_1-rmse:282.11531\n",
      "[80]\tvalidation_0-rmse:47.46422\tvalidation_1-rmse:281.97454\n",
      "[81]\tvalidation_0-rmse:46.84593\tvalidation_1-rmse:281.81560\n",
      "[82]\tvalidation_0-rmse:46.13816\tvalidation_1-rmse:281.65260\n",
      "[83]\tvalidation_0-rmse:45.47858\tvalidation_1-rmse:281.52076\n",
      "[84]\tvalidation_0-rmse:45.02962\tvalidation_1-rmse:281.42185\n",
      "[85]\tvalidation_0-rmse:44.66218\tvalidation_1-rmse:281.32416\n",
      "[86]\tvalidation_0-rmse:44.13575\tvalidation_1-rmse:281.25783\n",
      "[87]\tvalidation_0-rmse:43.61017\tvalidation_1-rmse:281.11323\n",
      "[88]\tvalidation_0-rmse:43.09188\tvalidation_1-rmse:281.01188\n",
      "[89]\tvalidation_0-rmse:42.61010\tvalidation_1-rmse:280.91852\n",
      "[90]\tvalidation_0-rmse:42.17592\tvalidation_1-rmse:280.83140\n",
      "[91]\tvalidation_0-rmse:41.81159\tvalidation_1-rmse:280.76105\n",
      "[92]\tvalidation_0-rmse:41.39921\tvalidation_1-rmse:280.67190\n",
      "[93]\tvalidation_0-rmse:40.96915\tvalidation_1-rmse:280.62605\n",
      "[94]\tvalidation_0-rmse:40.52179\tvalidation_1-rmse:280.59453\n",
      "[95]\tvalidation_0-rmse:40.24783\tvalidation_1-rmse:280.54795\n",
      "[96]\tvalidation_0-rmse:39.81498\tvalidation_1-rmse:280.42753\n",
      "[97]\tvalidation_0-rmse:39.45354\tvalidation_1-rmse:280.36044\n",
      "[98]\tvalidation_0-rmse:39.16878\tvalidation_1-rmse:280.35321\n",
      "[99]\tvalidation_0-rmse:38.87237\tvalidation_1-rmse:280.28345\n"
     ]
    },
    {
     "data": {
      "text/html": [
       "<style>#sk-container-id-2 {\n",
       "  /* Definition of color scheme common for light and dark mode */\n",
       "  --sklearn-color-text: #000;\n",
       "  --sklearn-color-text-muted: #666;\n",
       "  --sklearn-color-line: gray;\n",
       "  /* Definition of color scheme for unfitted estimators */\n",
       "  --sklearn-color-unfitted-level-0: #fff5e6;\n",
       "  --sklearn-color-unfitted-level-1: #f6e4d2;\n",
       "  --sklearn-color-unfitted-level-2: #ffe0b3;\n",
       "  --sklearn-color-unfitted-level-3: chocolate;\n",
       "  /* Definition of color scheme for fitted estimators */\n",
       "  --sklearn-color-fitted-level-0: #f0f8ff;\n",
       "  --sklearn-color-fitted-level-1: #d4ebff;\n",
       "  --sklearn-color-fitted-level-2: #b3dbfd;\n",
       "  --sklearn-color-fitted-level-3: cornflowerblue;\n",
       "\n",
       "  /* Specific color for light theme */\n",
       "  --sklearn-color-text-on-default-background: var(--sg-text-color, var(--theme-code-foreground, var(--jp-content-font-color1, black)));\n",
       "  --sklearn-color-background: var(--sg-background-color, var(--theme-background, var(--jp-layout-color0, white)));\n",
       "  --sklearn-color-border-box: var(--sg-text-color, var(--theme-code-foreground, var(--jp-content-font-color1, black)));\n",
       "  --sklearn-color-icon: #696969;\n",
       "\n",
       "  @media (prefers-color-scheme: dark) {\n",
       "    /* Redefinition of color scheme for dark theme */\n",
       "    --sklearn-color-text-on-default-background: var(--sg-text-color, var(--theme-code-foreground, var(--jp-content-font-color1, white)));\n",
       "    --sklearn-color-background: var(--sg-background-color, var(--theme-background, var(--jp-layout-color0, #111)));\n",
       "    --sklearn-color-border-box: var(--sg-text-color, var(--theme-code-foreground, var(--jp-content-font-color1, white)));\n",
       "    --sklearn-color-icon: #878787;\n",
       "  }\n",
       "}\n",
       "\n",
       "#sk-container-id-2 {\n",
       "  color: var(--sklearn-color-text);\n",
       "}\n",
       "\n",
       "#sk-container-id-2 pre {\n",
       "  padding: 0;\n",
       "}\n",
       "\n",
       "#sk-container-id-2 input.sk-hidden--visually {\n",
       "  border: 0;\n",
       "  clip: rect(1px 1px 1px 1px);\n",
       "  clip: rect(1px, 1px, 1px, 1px);\n",
       "  height: 1px;\n",
       "  margin: -1px;\n",
       "  overflow: hidden;\n",
       "  padding: 0;\n",
       "  position: absolute;\n",
       "  width: 1px;\n",
       "}\n",
       "\n",
       "#sk-container-id-2 div.sk-dashed-wrapped {\n",
       "  border: 1px dashed var(--sklearn-color-line);\n",
       "  margin: 0 0.4em 0.5em 0.4em;\n",
       "  box-sizing: border-box;\n",
       "  padding-bottom: 0.4em;\n",
       "  background-color: var(--sklearn-color-background);\n",
       "}\n",
       "\n",
       "#sk-container-id-2 div.sk-container {\n",
       "  /* jupyter's `normalize.less` sets `[hidden] { display: none; }`\n",
       "     but bootstrap.min.css set `[hidden] { display: none !important; }`\n",
       "     so we also need the `!important` here to be able to override the\n",
       "     default hidden behavior on the sphinx rendered scikit-learn.org.\n",
       "     See: https://github.com/scikit-learn/scikit-learn/issues/21755 */\n",
       "  display: inline-block !important;\n",
       "  position: relative;\n",
       "}\n",
       "\n",
       "#sk-container-id-2 div.sk-text-repr-fallback {\n",
       "  display: none;\n",
       "}\n",
       "\n",
       "div.sk-parallel-item,\n",
       "div.sk-serial,\n",
       "div.sk-item {\n",
       "  /* draw centered vertical line to link estimators */\n",
       "  background-image: linear-gradient(var(--sklearn-color-text-on-default-background), var(--sklearn-color-text-on-default-background));\n",
       "  background-size: 2px 100%;\n",
       "  background-repeat: no-repeat;\n",
       "  background-position: center center;\n",
       "}\n",
       "\n",
       "/* Parallel-specific style estimator block */\n",
       "\n",
       "#sk-container-id-2 div.sk-parallel-item::after {\n",
       "  content: \"\";\n",
       "  width: 100%;\n",
       "  border-bottom: 2px solid var(--sklearn-color-text-on-default-background);\n",
       "  flex-grow: 1;\n",
       "}\n",
       "\n",
       "#sk-container-id-2 div.sk-parallel {\n",
       "  display: flex;\n",
       "  align-items: stretch;\n",
       "  justify-content: center;\n",
       "  background-color: var(--sklearn-color-background);\n",
       "  position: relative;\n",
       "}\n",
       "\n",
       "#sk-container-id-2 div.sk-parallel-item {\n",
       "  display: flex;\n",
       "  flex-direction: column;\n",
       "}\n",
       "\n",
       "#sk-container-id-2 div.sk-parallel-item:first-child::after {\n",
       "  align-self: flex-end;\n",
       "  width: 50%;\n",
       "}\n",
       "\n",
       "#sk-container-id-2 div.sk-parallel-item:last-child::after {\n",
       "  align-self: flex-start;\n",
       "  width: 50%;\n",
       "}\n",
       "\n",
       "#sk-container-id-2 div.sk-parallel-item:only-child::after {\n",
       "  width: 0;\n",
       "}\n",
       "\n",
       "/* Serial-specific style estimator block */\n",
       "\n",
       "#sk-container-id-2 div.sk-serial {\n",
       "  display: flex;\n",
       "  flex-direction: column;\n",
       "  align-items: center;\n",
       "  background-color: var(--sklearn-color-background);\n",
       "  padding-right: 1em;\n",
       "  padding-left: 1em;\n",
       "}\n",
       "\n",
       "\n",
       "/* Toggleable style: style used for estimator/Pipeline/ColumnTransformer box that is\n",
       "clickable and can be expanded/collapsed.\n",
       "- Pipeline and ColumnTransformer use this feature and define the default style\n",
       "- Estimators will overwrite some part of the style using the `sk-estimator` class\n",
       "*/\n",
       "\n",
       "/* Pipeline and ColumnTransformer style (default) */\n",
       "\n",
       "#sk-container-id-2 div.sk-toggleable {\n",
       "  /* Default theme specific background. It is overwritten whether we have a\n",
       "  specific estimator or a Pipeline/ColumnTransformer */\n",
       "  background-color: var(--sklearn-color-background);\n",
       "}\n",
       "\n",
       "/* Toggleable label */\n",
       "#sk-container-id-2 label.sk-toggleable__label {\n",
       "  cursor: pointer;\n",
       "  display: flex;\n",
       "  width: 100%;\n",
       "  margin-bottom: 0;\n",
       "  padding: 0.5em;\n",
       "  box-sizing: border-box;\n",
       "  text-align: center;\n",
       "  align-items: start;\n",
       "  justify-content: space-between;\n",
       "  gap: 0.5em;\n",
       "}\n",
       "\n",
       "#sk-container-id-2 label.sk-toggleable__label .caption {\n",
       "  font-size: 0.6rem;\n",
       "  font-weight: lighter;\n",
       "  color: var(--sklearn-color-text-muted);\n",
       "}\n",
       "\n",
       "#sk-container-id-2 label.sk-toggleable__label-arrow:before {\n",
       "  /* Arrow on the left of the label */\n",
       "  content: \"▸\";\n",
       "  float: left;\n",
       "  margin-right: 0.25em;\n",
       "  color: var(--sklearn-color-icon);\n",
       "}\n",
       "\n",
       "#sk-container-id-2 label.sk-toggleable__label-arrow:hover:before {\n",
       "  color: var(--sklearn-color-text);\n",
       "}\n",
       "\n",
       "/* Toggleable content - dropdown */\n",
       "\n",
       "#sk-container-id-2 div.sk-toggleable__content {\n",
       "  max-height: 0;\n",
       "  max-width: 0;\n",
       "  overflow: hidden;\n",
       "  text-align: left;\n",
       "  /* unfitted */\n",
       "  background-color: var(--sklearn-color-unfitted-level-0);\n",
       "}\n",
       "\n",
       "#sk-container-id-2 div.sk-toggleable__content.fitted {\n",
       "  /* fitted */\n",
       "  background-color: var(--sklearn-color-fitted-level-0);\n",
       "}\n",
       "\n",
       "#sk-container-id-2 div.sk-toggleable__content pre {\n",
       "  margin: 0.2em;\n",
       "  border-radius: 0.25em;\n",
       "  color: var(--sklearn-color-text);\n",
       "  /* unfitted */\n",
       "  background-color: var(--sklearn-color-unfitted-level-0);\n",
       "}\n",
       "\n",
       "#sk-container-id-2 div.sk-toggleable__content.fitted pre {\n",
       "  /* unfitted */\n",
       "  background-color: var(--sklearn-color-fitted-level-0);\n",
       "}\n",
       "\n",
       "#sk-container-id-2 input.sk-toggleable__control:checked~div.sk-toggleable__content {\n",
       "  /* Expand drop-down */\n",
       "  max-height: 200px;\n",
       "  max-width: 100%;\n",
       "  overflow: auto;\n",
       "}\n",
       "\n",
       "#sk-container-id-2 input.sk-toggleable__control:checked~label.sk-toggleable__label-arrow:before {\n",
       "  content: \"▾\";\n",
       "}\n",
       "\n",
       "/* Pipeline/ColumnTransformer-specific style */\n",
       "\n",
       "#sk-container-id-2 div.sk-label input.sk-toggleable__control:checked~label.sk-toggleable__label {\n",
       "  color: var(--sklearn-color-text);\n",
       "  background-color: var(--sklearn-color-unfitted-level-2);\n",
       "}\n",
       "\n",
       "#sk-container-id-2 div.sk-label.fitted input.sk-toggleable__control:checked~label.sk-toggleable__label {\n",
       "  background-color: var(--sklearn-color-fitted-level-2);\n",
       "}\n",
       "\n",
       "/* Estimator-specific style */\n",
       "\n",
       "/* Colorize estimator box */\n",
       "#sk-container-id-2 div.sk-estimator input.sk-toggleable__control:checked~label.sk-toggleable__label {\n",
       "  /* unfitted */\n",
       "  background-color: var(--sklearn-color-unfitted-level-2);\n",
       "}\n",
       "\n",
       "#sk-container-id-2 div.sk-estimator.fitted input.sk-toggleable__control:checked~label.sk-toggleable__label {\n",
       "  /* fitted */\n",
       "  background-color: var(--sklearn-color-fitted-level-2);\n",
       "}\n",
       "\n",
       "#sk-container-id-2 div.sk-label label.sk-toggleable__label,\n",
       "#sk-container-id-2 div.sk-label label {\n",
       "  /* The background is the default theme color */\n",
       "  color: var(--sklearn-color-text-on-default-background);\n",
       "}\n",
       "\n",
       "/* On hover, darken the color of the background */\n",
       "#sk-container-id-2 div.sk-label:hover label.sk-toggleable__label {\n",
       "  color: var(--sklearn-color-text);\n",
       "  background-color: var(--sklearn-color-unfitted-level-2);\n",
       "}\n",
       "\n",
       "/* Label box, darken color on hover, fitted */\n",
       "#sk-container-id-2 div.sk-label.fitted:hover label.sk-toggleable__label.fitted {\n",
       "  color: var(--sklearn-color-text);\n",
       "  background-color: var(--sklearn-color-fitted-level-2);\n",
       "}\n",
       "\n",
       "/* Estimator label */\n",
       "\n",
       "#sk-container-id-2 div.sk-label label {\n",
       "  font-family: monospace;\n",
       "  font-weight: bold;\n",
       "  display: inline-block;\n",
       "  line-height: 1.2em;\n",
       "}\n",
       "\n",
       "#sk-container-id-2 div.sk-label-container {\n",
       "  text-align: center;\n",
       "}\n",
       "\n",
       "/* Estimator-specific */\n",
       "#sk-container-id-2 div.sk-estimator {\n",
       "  font-family: monospace;\n",
       "  border: 1px dotted var(--sklearn-color-border-box);\n",
       "  border-radius: 0.25em;\n",
       "  box-sizing: border-box;\n",
       "  margin-bottom: 0.5em;\n",
       "  /* unfitted */\n",
       "  background-color: var(--sklearn-color-unfitted-level-0);\n",
       "}\n",
       "\n",
       "#sk-container-id-2 div.sk-estimator.fitted {\n",
       "  /* fitted */\n",
       "  background-color: var(--sklearn-color-fitted-level-0);\n",
       "}\n",
       "\n",
       "/* on hover */\n",
       "#sk-container-id-2 div.sk-estimator:hover {\n",
       "  /* unfitted */\n",
       "  background-color: var(--sklearn-color-unfitted-level-2);\n",
       "}\n",
       "\n",
       "#sk-container-id-2 div.sk-estimator.fitted:hover {\n",
       "  /* fitted */\n",
       "  background-color: var(--sklearn-color-fitted-level-2);\n",
       "}\n",
       "\n",
       "/* Specification for estimator info (e.g. \"i\" and \"?\") */\n",
       "\n",
       "/* Common style for \"i\" and \"?\" */\n",
       "\n",
       ".sk-estimator-doc-link,\n",
       "a:link.sk-estimator-doc-link,\n",
       "a:visited.sk-estimator-doc-link {\n",
       "  float: right;\n",
       "  font-size: smaller;\n",
       "  line-height: 1em;\n",
       "  font-family: monospace;\n",
       "  background-color: var(--sklearn-color-background);\n",
       "  border-radius: 1em;\n",
       "  height: 1em;\n",
       "  width: 1em;\n",
       "  text-decoration: none !important;\n",
       "  margin-left: 0.5em;\n",
       "  text-align: center;\n",
       "  /* unfitted */\n",
       "  border: var(--sklearn-color-unfitted-level-1) 1pt solid;\n",
       "  color: var(--sklearn-color-unfitted-level-1);\n",
       "}\n",
       "\n",
       ".sk-estimator-doc-link.fitted,\n",
       "a:link.sk-estimator-doc-link.fitted,\n",
       "a:visited.sk-estimator-doc-link.fitted {\n",
       "  /* fitted */\n",
       "  border: var(--sklearn-color-fitted-level-1) 1pt solid;\n",
       "  color: var(--sklearn-color-fitted-level-1);\n",
       "}\n",
       "\n",
       "/* On hover */\n",
       "div.sk-estimator:hover .sk-estimator-doc-link:hover,\n",
       ".sk-estimator-doc-link:hover,\n",
       "div.sk-label-container:hover .sk-estimator-doc-link:hover,\n",
       ".sk-estimator-doc-link:hover {\n",
       "  /* unfitted */\n",
       "  background-color: var(--sklearn-color-unfitted-level-3);\n",
       "  color: var(--sklearn-color-background);\n",
       "  text-decoration: none;\n",
       "}\n",
       "\n",
       "div.sk-estimator.fitted:hover .sk-estimator-doc-link.fitted:hover,\n",
       ".sk-estimator-doc-link.fitted:hover,\n",
       "div.sk-label-container:hover .sk-estimator-doc-link.fitted:hover,\n",
       ".sk-estimator-doc-link.fitted:hover {\n",
       "  /* fitted */\n",
       "  background-color: var(--sklearn-color-fitted-level-3);\n",
       "  color: var(--sklearn-color-background);\n",
       "  text-decoration: none;\n",
       "}\n",
       "\n",
       "/* Span, style for the box shown on hovering the info icon */\n",
       ".sk-estimator-doc-link span {\n",
       "  display: none;\n",
       "  z-index: 9999;\n",
       "  position: relative;\n",
       "  font-weight: normal;\n",
       "  right: .2ex;\n",
       "  padding: .5ex;\n",
       "  margin: .5ex;\n",
       "  width: min-content;\n",
       "  min-width: 20ex;\n",
       "  max-width: 50ex;\n",
       "  color: var(--sklearn-color-text);\n",
       "  box-shadow: 2pt 2pt 4pt #999;\n",
       "  /* unfitted */\n",
       "  background: var(--sklearn-color-unfitted-level-0);\n",
       "  border: .5pt solid var(--sklearn-color-unfitted-level-3);\n",
       "}\n",
       "\n",
       ".sk-estimator-doc-link.fitted span {\n",
       "  /* fitted */\n",
       "  background: var(--sklearn-color-fitted-level-0);\n",
       "  border: var(--sklearn-color-fitted-level-3);\n",
       "}\n",
       "\n",
       ".sk-estimator-doc-link:hover span {\n",
       "  display: block;\n",
       "}\n",
       "\n",
       "/* \"?\"-specific style due to the `<a>` HTML tag */\n",
       "\n",
       "#sk-container-id-2 a.estimator_doc_link {\n",
       "  float: right;\n",
       "  font-size: 1rem;\n",
       "  line-height: 1em;\n",
       "  font-family: monospace;\n",
       "  background-color: var(--sklearn-color-background);\n",
       "  border-radius: 1rem;\n",
       "  height: 1rem;\n",
       "  width: 1rem;\n",
       "  text-decoration: none;\n",
       "  /* unfitted */\n",
       "  color: var(--sklearn-color-unfitted-level-1);\n",
       "  border: var(--sklearn-color-unfitted-level-1) 1pt solid;\n",
       "}\n",
       "\n",
       "#sk-container-id-2 a.estimator_doc_link.fitted {\n",
       "  /* fitted */\n",
       "  border: var(--sklearn-color-fitted-level-1) 1pt solid;\n",
       "  color: var(--sklearn-color-fitted-level-1);\n",
       "}\n",
       "\n",
       "/* On hover */\n",
       "#sk-container-id-2 a.estimator_doc_link:hover {\n",
       "  /* unfitted */\n",
       "  background-color: var(--sklearn-color-unfitted-level-3);\n",
       "  color: var(--sklearn-color-background);\n",
       "  text-decoration: none;\n",
       "}\n",
       "\n",
       "#sk-container-id-2 a.estimator_doc_link.fitted:hover {\n",
       "  /* fitted */\n",
       "  background-color: var(--sklearn-color-fitted-level-3);\n",
       "}\n",
       "</style><div id=\"sk-container-id-2\" class=\"sk-top-container\"><div class=\"sk-text-repr-fallback\"><pre>XGBRegressor(base_score=None, booster=None, callbacks=None,\n",
       "             colsample_bylevel=None, colsample_bynode=None,\n",
       "             colsample_bytree=None, device=&#x27;cuda&#x27;, early_stopping_rounds=None,\n",
       "             enable_categorical=False, eval_metric=None, feature_types=None,\n",
       "             feature_weights=None, gamma=None, grow_policy=None,\n",
       "             importance_type=None, interaction_constraints=None,\n",
       "             learning_rate=0.1, max_bin=None, max_cat_threshold=None,\n",
       "             max_cat_to_onehot=None, max_delta_step=None, max_depth=10,\n",
       "             max_leaves=None, min_child_weight=None, missing=nan,\n",
       "             monotone_constraints=None, multi_strategy=None, n_estimators=100,\n",
       "             n_jobs=None, num_parallel_tree=None, ...)</pre><b>In a Jupyter environment, please rerun this cell to show the HTML representation or trust the notebook. <br />On GitHub, the HTML representation is unable to render, please try loading this page with nbviewer.org.</b></div><div class=\"sk-container\" hidden><div class=\"sk-item\"><div class=\"sk-estimator fitted sk-toggleable\"><input class=\"sk-toggleable__control sk-hidden--visually\" id=\"sk-estimator-id-2\" type=\"checkbox\" checked><label for=\"sk-estimator-id-2\" class=\"sk-toggleable__label fitted sk-toggleable__label-arrow\"><div><div>XGBRegressor</div></div><div><a class=\"sk-estimator-doc-link fitted\" rel=\"noreferrer\" target=\"_blank\" href=\"https://xgboost.readthedocs.io/en/release_3.0.0/python/python_api.html#xgboost.XGBRegressor\">?<span>Documentation for XGBRegressor</span></a><span class=\"sk-estimator-doc-link fitted\">i<span>Fitted</span></span></div></label><div class=\"sk-toggleable__content fitted\"><pre>XGBRegressor(base_score=None, booster=None, callbacks=None,\n",
       "             colsample_bylevel=None, colsample_bynode=None,\n",
       "             colsample_bytree=None, device=&#x27;cuda&#x27;, early_stopping_rounds=None,\n",
       "             enable_categorical=False, eval_metric=None, feature_types=None,\n",
       "             feature_weights=None, gamma=None, grow_policy=None,\n",
       "             importance_type=None, interaction_constraints=None,\n",
       "             learning_rate=0.1, max_bin=None, max_cat_threshold=None,\n",
       "             max_cat_to_onehot=None, max_delta_step=None, max_depth=10,\n",
       "             max_leaves=None, min_child_weight=None, missing=nan,\n",
       "             monotone_constraints=None, multi_strategy=None, n_estimators=100,\n",
       "             n_jobs=None, num_parallel_tree=None, ...)</pre></div> </div></div></div></div>"
      ],
      "text/plain": [
       "XGBRegressor(base_score=None, booster=None, callbacks=None,\n",
       "             colsample_bylevel=None, colsample_bynode=None,\n",
       "             colsample_bytree=None, device='cuda', early_stopping_rounds=None,\n",
       "             enable_categorical=False, eval_metric=None, feature_types=None,\n",
       "             feature_weights=None, gamma=None, grow_policy=None,\n",
       "             importance_type=None, interaction_constraints=None,\n",
       "             learning_rate=0.1, max_bin=None, max_cat_threshold=None,\n",
       "             max_cat_to_onehot=None, max_delta_step=None, max_depth=10,\n",
       "             max_leaves=None, min_child_weight=None, missing=nan,\n",
       "             monotone_constraints=None, multi_strategy=None, n_estimators=100,\n",
       "             n_jobs=None, num_parallel_tree=None, ...)"
      ]
     },
     "execution_count": 36,
     "metadata": {},
     "output_type": "execute_result"
    }
   ],
   "source": [
    "xgb.fit(X_train, y_train,\n",
    "    # evaluate loss at each iteration\n",
    "    eval_set=[(X_train, y_train), (X_val, y_val)]#,  \n",
    "    # stop iterating when eval loss increases 5 times in a row\n",
    "    # early_stopping_rounds=5\n",
    ")"
   ]
  },
  {
   "cell_type": "markdown",
   "id": "aec0c429-b089-453c-b4d1-af4f434e8178",
   "metadata": {},
   "source": [
    "#### Scoring the XGBoost model"
   ]
  },
  {
   "cell_type": "code",
   "execution_count": 37,
   "id": "a11a612f-be18-4ed5-81ff-262c91b0f827",
   "metadata": {
    "execution": {
     "iopub.execute_input": "2025-06-06T07:54:28.742273Z",
     "iopub.status.busy": "2025-06-06T07:54:28.739543Z",
     "iopub.status.idle": "2025-06-06T07:54:28.904550Z",
     "shell.execute_reply": "2025-06-06T07:54:28.902946Z",
     "shell.execute_reply.started": "2025-06-06T07:54:28.742148Z"
    }
   },
   "outputs": [
    {
     "data": {
      "text/plain": [
       "array([5550.177  , 1497.0227 , 3943.783  , ..., 3397.4453 ,  297.82983,\n",
       "       8925.183  ], dtype=float32)"
      ]
     },
     "execution_count": 37,
     "metadata": {},
     "output_type": "execute_result"
    }
   ],
   "source": [
    "y_pred_val = xgb.predict(X_val)\n",
    "y_pred_val"
   ]
  },
  {
   "cell_type": "code",
   "execution_count": 38,
   "id": "90c99979-72d8-4442-afb1-a3ec33f10875",
   "metadata": {
    "execution": {
     "iopub.execute_input": "2025-06-06T07:54:29.244353Z",
     "iopub.status.busy": "2025-06-06T07:54:29.240274Z",
     "iopub.status.idle": "2025-06-06T07:54:29.446380Z",
     "shell.execute_reply": "2025-06-06T07:54:29.444679Z",
     "shell.execute_reply.started": "2025-06-06T07:54:29.244127Z"
    }
   },
   "outputs": [
    {
     "data": {
      "text/plain": [
       "array([ 5888.641  , 13447.425  ,   115.00366, ...,  3864.3281 ,\n",
       "       20310.965  ,  1241.8059 ], dtype=float32)"
      ]
     },
     "execution_count": 38,
     "metadata": {},
     "output_type": "execute_result"
    }
   ],
   "source": [
    "y_pred_test = xgb.predict(X_test)\n",
    "y_pred_test"
   ]
  },
  {
   "cell_type": "code",
   "execution_count": 39,
   "id": "20699004-f211-4f3d-89eb-20fec84ae7e9",
   "metadata": {
    "execution": {
     "iopub.execute_input": "2025-06-06T07:54:29.715054Z",
     "iopub.status.busy": "2025-06-06T07:54:29.712855Z",
     "iopub.status.idle": "2025-06-06T07:54:29.731403Z",
     "shell.execute_reply": "2025-06-06T07:54:29.725959Z",
     "shell.execute_reply.started": "2025-06-06T07:54:29.714946Z"
    }
   },
   "outputs": [],
   "source": [
    "# xgb_cpu.predict(X_val)"
   ]
  },
  {
   "cell_type": "code",
   "execution_count": 40,
   "id": "94c5135a-65f8-413e-a59b-714c1e6dc81c",
   "metadata": {
    "execution": {
     "iopub.execute_input": "2025-06-06T07:54:30.068914Z",
     "iopub.status.busy": "2025-06-06T07:54:30.066427Z",
     "iopub.status.idle": "2025-06-06T07:54:30.254816Z",
     "shell.execute_reply": "2025-06-06T07:54:30.253268Z",
     "shell.execute_reply.started": "2025-06-06T07:54:30.068804Z"
    }
   },
   "outputs": [
    {
     "data": {
      "text/plain": [
       "0.9974509462728971"
      ]
     },
     "execution_count": 40,
     "metadata": {},
     "output_type": "execute_result"
    }
   ],
   "source": [
    "xgb.score(X_val, y_val)"
   ]
  },
  {
   "cell_type": "code",
   "execution_count": 41,
   "id": "ea300718-d8b3-4aa4-b705-72fc38ba3c97",
   "metadata": {
    "execution": {
     "iopub.execute_input": "2025-06-06T07:54:30.500108Z",
     "iopub.status.busy": "2025-06-06T07:54:30.498151Z",
     "iopub.status.idle": "2025-06-06T07:54:30.718578Z",
     "shell.execute_reply": "2025-06-06T07:54:30.717017Z",
     "shell.execute_reply.started": "2025-06-06T07:54:30.500009Z"
    }
   },
   "outputs": [
    {
     "data": {
      "text/plain": [
       "0.9980012450004663"
      ]
     },
     "execution_count": 41,
     "metadata": {},
     "output_type": "execute_result"
    }
   ],
   "source": [
    "xgb.score(X_test, y_test)"
   ]
  },
  {
   "cell_type": "code",
   "execution_count": 42,
   "id": "056dde03-f485-42ba-8b65-6ad8f959e9b8",
   "metadata": {
    "execution": {
     "iopub.execute_input": "2025-06-06T07:54:31.442536Z",
     "iopub.status.busy": "2025-06-06T07:54:31.440157Z",
     "iopub.status.idle": "2025-06-06T07:54:31.528274Z",
     "shell.execute_reply": "2025-06-06T07:54:31.526609Z",
     "shell.execute_reply.started": "2025-06-06T07:54:31.442413Z"
    }
   },
   "outputs": [
    {
     "data": {
      "text/plain": [
       "78558.82543294432"
      ]
     },
     "execution_count": 42,
     "metadata": {},
     "output_type": "execute_result"
    }
   ],
   "source": [
    "mean_squared_error(y_val, y_pred_val)"
   ]
  },
  {
   "cell_type": "code",
   "execution_count": 43,
   "id": "52daa463-1043-4227-a85f-739889ca0b49",
   "metadata": {
    "execution": {
     "iopub.execute_input": "2025-06-06T07:54:31.960403Z",
     "iopub.status.busy": "2025-06-06T07:54:31.958278Z",
     "iopub.status.idle": "2025-06-06T07:54:32.046658Z",
     "shell.execute_reply": "2025-06-06T07:54:32.044854Z",
     "shell.execute_reply.started": "2025-06-06T07:54:31.960295Z"
    }
   },
   "outputs": [
    {
     "data": {
      "text/plain": [
       "280.28347334965065"
      ]
     },
     "execution_count": 43,
     "metadata": {},
     "output_type": "execute_result"
    }
   ],
   "source": [
    "np.sqrt(mean_squared_error(y_val, y_pred_val))"
   ]
  },
  {
   "cell_type": "code",
   "execution_count": 44,
   "id": "61ce1b4c-80ad-4a97-8dbe-9cf9fa9bf14f",
   "metadata": {
    "execution": {
     "iopub.execute_input": "2025-06-06T07:54:32.469093Z",
     "iopub.status.busy": "2025-06-06T07:54:32.466971Z",
     "iopub.status.idle": "2025-06-06T07:54:32.559161Z",
     "shell.execute_reply": "2025-06-06T07:54:32.557407Z",
     "shell.execute_reply.started": "2025-06-06T07:54:32.468984Z"
    }
   },
   "outputs": [
    {
     "data": {
      "text/plain": [
       "28.838850101687076"
      ]
     },
     "execution_count": 44,
     "metadata": {},
     "output_type": "execute_result"
    }
   ],
   "source": [
    "mean_absolute_error(y_val, y_pred_val)"
   ]
  },
  {
   "cell_type": "code",
   "execution_count": 45,
   "id": "ade2b9e3-82b9-40e0-b97b-b81b8f360337",
   "metadata": {
    "execution": {
     "iopub.execute_input": "2025-06-06T07:54:35.436371Z",
     "iopub.status.busy": "2025-06-06T07:54:35.433655Z",
     "iopub.status.idle": "2025-06-06T07:54:35.564873Z",
     "shell.execute_reply": "2025-06-06T07:54:35.563316Z",
     "shell.execute_reply.started": "2025-06-06T07:54:35.436262Z"
    }
   },
   "outputs": [
    {
     "data": {
      "text/plain": [
       "SalesKey\n",
       "2384552     5880.0000\n",
       "2384557    13278.6220\n",
       "2384565      115.4615\n",
       "2384572    10887.2000\n",
       "2384585      359.8800\n",
       "Name: SalesAmount, dtype: float64"
      ]
     },
     "execution_count": 45,
     "metadata": {},
     "output_type": "execute_result"
    }
   ],
   "source": [
    "y_test.head()"
   ]
  },
  {
   "cell_type": "markdown",
   "id": "c02120a0-459f-476f-9b22-72ed0000e81c",
   "metadata": {},
   "source": [
    "#### Looks pretty good! The model's SalesAmount predictions are on average off by only 27.5 USD!"
   ]
  },
  {
   "cell_type": "markdown",
   "id": "f34b0293-f061-40b8-bbcd-9b8c6c5114fd",
   "metadata": {},
   "source": [
    "#### TO DO: Plot observed and predicted data"
   ]
  },
  {
   "cell_type": "code",
   "execution_count": 46,
   "id": "5189d7cd-8144-4805-841d-ebb1019f246f",
   "metadata": {
    "execution": {
     "iopub.execute_input": "2025-06-06T07:54:36.596342Z",
     "iopub.status.busy": "2025-06-06T07:54:36.594210Z",
     "iopub.status.idle": "2025-06-06T07:54:36.622607Z",
     "shell.execute_reply": "2025-06-06T07:54:36.617930Z",
     "shell.execute_reply.started": "2025-06-06T07:54:36.596231Z"
    }
   },
   "outputs": [
    {
     "data": {
      "text/plain": [
       "array([ 5888.641  , 13447.425  ,   115.00366, ...,  3864.3281 ,\n",
       "       20310.965  ,  1241.8059 ], dtype=float32)"
      ]
     },
     "execution_count": 46,
     "metadata": {},
     "output_type": "execute_result"
    }
   ],
   "source": [
    "y_pred_test"
   ]
  },
  {
   "cell_type": "code",
   "execution_count": 47,
   "id": "1fc8ffb2-1aa2-457b-8a00-d7ee487f9e5e",
   "metadata": {
    "execution": {
     "iopub.execute_input": "2025-06-06T07:54:37.105163Z",
     "iopub.status.busy": "2025-06-06T07:54:37.103056Z",
     "iopub.status.idle": "2025-06-06T07:54:37.327067Z",
     "shell.execute_reply": "2025-06-06T07:54:37.325348Z",
     "shell.execute_reply.started": "2025-06-06T07:54:37.105055Z"
    }
   },
   "outputs": [
    {
     "data": {
      "text/plain": [
       "SalesKey\n",
       "2384552     5880.0000\n",
       "2384557    13278.6220\n",
       "2384565      115.4615\n",
       "2384572    10887.2000\n",
       "2384585      359.8800\n",
       "              ...    \n",
       "3406074     5235.5240\n",
       "3406075      140.3000\n",
       "3406083     3854.8715\n",
       "3406088    20310.7500\n",
       "3406089     1226.4000\n",
       "Name: SalesAmount, Length: 184025, dtype: float64"
      ]
     },
     "execution_count": 47,
     "metadata": {},
     "output_type": "execute_result"
    }
   ],
   "source": [
    "y_test"
   ]
  },
  {
   "cell_type": "code",
   "execution_count": 48,
   "id": "472d91de-3b5a-4cc7-841a-8991e68873ba",
   "metadata": {
    "execution": {
     "iopub.execute_input": "2025-06-06T07:54:55.464794Z",
     "iopub.status.busy": "2025-06-06T07:54:55.464197Z",
     "iopub.status.idle": "2025-06-06T07:54:55.478759Z",
     "shell.execute_reply": "2025-06-06T07:54:55.476764Z",
     "shell.execute_reply.started": "2025-06-06T07:54:55.464753Z"
    }
   },
   "outputs": [],
   "source": [
    "def plot_prediction(y_pred_val, y_pred_test, y_train, y_val, y_test, upper=None, lower=None):\n",
    "        is_confidence_int = isinstance(upper, np.ndarray) and isinstance(lower, np.ndarray)\n",
    "        # Prepare plot series\n",
    "        y_pred_val_series = pd.Series(y_pred_val, index = y_val.index)\n",
    "        y_pred_test_series = pd.Series(y_pred_test, index = y_test.index)\n",
    "        lower_val_series = pd.Series(upper, index = y_val.index) if is_confidence_int else None\n",
    "        upper_val_series = pd.Series(lower, index = y_val.index) if is_confidence_int else None\n",
    "        lower_test_series = pd.Series(upper, index = y_test.index) if is_confidence_int else None\n",
    "        upper_test_series = pd.Series(lower, index = y_test.index) if is_confidence_int else None\n",
    "\n",
    "        # Plot\n",
    "        plt.figure(figsize=(10,4), dpi=100)\n",
    "        plt.plot(y_train, label='training', color='black')\n",
    "        plt.plot(y_val, label='validation data', color='black', ls='--')\n",
    "        plt.plot(y_test, label='test data', color='black', ls=':')\n",
    "        if is_confidence_int:\n",
    "            plt.fill_between(lower_series.index, lower_series, upper_series, color='k', alpha=.15)\n",
    "        plt.title('Prediction vs Actual Validation and Test Values')\n",
    "        plt.plot(y_pred_val_series, label='val prediction', color='blue')\n",
    "        plt.plot(y_pred_val_series, label='test prediction', color='lightblue')\n",
    "        plt.legend(loc='upper left', fontsize=8);"
   ]
  },
  {
   "cell_type": "code",
   "execution_count": 49,
   "id": "56e442c9-267f-4478-b107-813d422ee5bc",
   "metadata": {
    "execution": {
     "iopub.execute_input": "2025-06-06T07:54:58.995391Z",
     "iopub.status.busy": "2025-06-06T07:54:58.994915Z",
     "iopub.status.idle": "2025-06-06T07:55:00.112099Z",
     "shell.execute_reply": "2025-06-06T07:55:00.110446Z",
     "shell.execute_reply.started": "2025-06-06T07:54:58.995353Z"
    }
   },
   "outputs": [
    {
     "data": {
      "image/png": "[encoded data removed]",
      "text/plain": [
       "<Figure size 1000x400 with 1 Axes>"
      ]
     },
     "metadata": {},
     "output_type": "display_data"
    }
   ],
   "source": [
    "plot_prediction(y_pred_val, y_pred_test, y_train, y_val, y_test)"
   ]
  },
  {
   "cell_type": "code",
   "execution_count": null,
   "id": "b18e6736-6ba1-4c3d-8b80-3bfa07fa6997",
   "metadata": {},
   "outputs": [],
   "source": []
  }
 ],
 "metadata": {
  "kernelspec": {
   "display_name": "Python 3 (ipykernel)",
   "language": "python",
   "name": "python3"
  },
  "language_info": {
   "codemirror_mode": {
    "name": "ipython",
    "version": 3
   },
   "file_extension": ".py",
   "mimetype": "text/x-python",
   "name": "python",
   "nbconvert_exporter": "python",
   "pygments_lexer": "ipython3",
   "version": "3.10.6"
  }
 },
 "nbformat": 4,
 "nbformat_minor": 5
}
