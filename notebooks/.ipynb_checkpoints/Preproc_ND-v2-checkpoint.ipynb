{
 "cells": [
  {
   "cell_type": "markdown",
   "id": "3653e342-1eb2-44fb-995e-64365ee18b47",
   "metadata": {},
   "source": [
    "# Second Effort: Preprocessing Data"
   ]
  },
  {
   "cell_type": "markdown",
   "id": "977cbcf5-fc7d-4565-9655-b5eba63e6e42",
   "metadata": {},
   "source": [
    "# Setup"
   ]
  },
  {
   "cell_type": "markdown",
   "id": "675e22e9-fcb8-451e-ac93-c365b5ef93e1",
   "metadata": {
    "execution": {
     "iopub.execute_input": "2025-06-05T14:09:07.383044Z",
     "iopub.status.busy": "2025-06-05T14:09:07.382642Z",
     "iopub.status.idle": "2025-06-05T14:09:07.396842Z",
     "shell.execute_reply": "2025-06-05T14:09:07.394888Z",
     "shell.execute_reply.started": "2025-06-05T14:09:07.383024Z"
    }
   },
   "source": [
    "##NOTE: Add outliers to preprocessing steps"
   ]
  },
  {
   "cell_type": "code",
   "execution_count": 1,
   "id": "4de8ca9c-89d5-4cb2-8014-2d3710d7d061",
   "metadata": {
    "execution": {
     "iopub.execute_input": "2025-06-05T12:01:01.665885Z",
     "iopub.status.busy": "2025-06-05T12:01:01.665585Z",
     "iopub.status.idle": "2025-06-05T12:01:03.274794Z",
     "shell.execute_reply": "2025-06-05T12:01:03.274051Z",
     "shell.execute_reply.started": "2025-06-05T12:01:01.665856Z"
    }
   },
   "outputs": [
    {
     "ename": "ModuleNotFoundError",
     "evalue": "No module named 'pandas'",
     "output_type": "error",
     "traceback": [
      "\u001b[0;31m---------------------------------------------------------------------------\u001b[0m",
      "\u001b[0;31mModuleNotFoundError\u001b[0m                       Traceback (most recent call last)",
      "Cell \u001b[0;32mIn[1], line 1\u001b[0m\n\u001b[0;32m----> 1\u001b[0m \u001b[38;5;28;01mimport\u001b[39;00m\u001b[38;5;250m \u001b[39m\u001b[38;5;21;01mpandas\u001b[39;00m\u001b[38;5;250m \u001b[39m\u001b[38;5;28;01mas\u001b[39;00m\u001b[38;5;250m \u001b[39m\u001b[38;5;21;01mpd\u001b[39;00m\n\u001b[1;32m      2\u001b[0m \u001b[38;5;28;01mimport\u001b[39;00m\u001b[38;5;250m \u001b[39m\u001b[38;5;21;01mnumpy\u001b[39;00m\u001b[38;5;250m \u001b[39m\u001b[38;5;28;01mas\u001b[39;00m\u001b[38;5;250m \u001b[39m\u001b[38;5;21;01mnp\u001b[39;00m\n\u001b[1;32m      3\u001b[0m \u001b[38;5;28;01mimport\u001b[39;00m\u001b[38;5;250m \u001b[39m\u001b[38;5;21;01mseaborn\u001b[39;00m\u001b[38;5;250m \u001b[39m\u001b[38;5;28;01mas\u001b[39;00m\u001b[38;5;250m \u001b[39m\u001b[38;5;21;01msns\u001b[39;00m\n",
      "\u001b[0;31mModuleNotFoundError\u001b[0m: No module named 'pandas'"
     ]
    }
   ],
   "source": [
    "import pandas as pd\n",
    "import numpy as np\n",
    "import seaborn as sns\n",
    "from os import path\n",
    "\n",
    "from sklearn.impute import SimpleImputer\n",
    "from sklearn.preprocessing import RobustScaler\n",
    "from sklearn.preprocessing import OneHotEncoder\n",
    "from scipy.stats import zscore\n",
    "from scipy import stats"
   ]
  },
  {
   "cell_type": "markdown",
   "id": "3907c580-193e-4503-a0be-f5988d220fb3",
   "metadata": {},
   "source": [
    "# Loading data"
   ]
  },
  {
   "cell_type": "code",
   "execution_count": null,
   "id": "65ffb894-7e30-4339-a9a9-fecd62775847",
   "metadata": {
    "execution": {
     "iopub.execute_input": "2025-06-05T12:01:03.276106Z",
     "iopub.status.busy": "2025-06-05T12:01:03.275630Z",
     "iopub.status.idle": "2025-06-05T12:01:03.415698Z",
     "shell.execute_reply": "2025-06-05T12:01:03.414569Z",
     "shell.execute_reply.started": "2025-06-05T12:01:03.276086Z"
    }
   },
   "outputs": [
    {
     "data": {
      "text/plain": [
       "array([ 108262, 1696894, 2890933, ..., 1255776, 3292159, 1457866],\n",
       "      shape=(2724870,))"
      ]
     },
     "execution_count": 2,
     "metadata": {},
     "output_type": "execute_result"
    }
   ],
   "source": [
    "ind_ratio = 0.8\n",
    "\n",
    "ind_size = int(3406088 * ind_ratio)\n",
    "sampleindices = np.random.choice(np.arange(1,3406088), (ind_size), replace = False)\n",
    "sampleindices"
   ]
  },
  {
   "cell_type": "code",
   "execution_count": null,
   "id": "d6f00edd-cdf7-42c0-8efa-5223d128931e",
   "metadata": {
    "execution": {
     "iopub.execute_input": "2025-06-05T12:01:03.416556Z",
     "iopub.status.busy": "2025-06-05T12:01:03.416350Z",
     "iopub.status.idle": "2025-06-05T12:01:07.812378Z",
     "shell.execute_reply": "2025-06-05T12:01:07.811297Z",
     "shell.execute_reply.started": "2025-06-05T12:01:03.416539Z"
    }
   },
   "outputs": [
    {
     "data": {
      "text/html": [
       "<div>\n",
       "<style scoped>\n",
       "    .dataframe tbody tr th:only-of-type {\n",
       "        vertical-align: middle;\n",
       "    }\n",
       "\n",
       "    .dataframe tbody tr th {\n",
       "        vertical-align: top;\n",
       "    }\n",
       "\n",
       "    .dataframe thead th {\n",
       "        text-align: right;\n",
       "    }\n",
       "</style>\n",
       "<table border=\"1\" class=\"dataframe\">\n",
       "  <thead>\n",
       "    <tr style=\"text-align: right;\">\n",
       "      <th></th>\n",
       "      <th>SalesKey</th>\n",
       "      <th>DateKey</th>\n",
       "      <th>channelKey</th>\n",
       "      <th>StoreKey</th>\n",
       "      <th>ProductKey</th>\n",
       "      <th>PromotionKey</th>\n",
       "      <th>UnitCost</th>\n",
       "      <th>UnitPrice</th>\n",
       "      <th>SalesQuantity</th>\n",
       "      <th>ReturnQuantity</th>\n",
       "      <th>...</th>\n",
       "      <th>ProductCategoryKey</th>\n",
       "      <th>GeographyKey</th>\n",
       "      <th>StoreType</th>\n",
       "      <th>EmployeeCount</th>\n",
       "      <th>SellingAreaSize</th>\n",
       "      <th>GeographyType</th>\n",
       "      <th>ContinentName</th>\n",
       "      <th>CityName</th>\n",
       "      <th>StateProvinceName</th>\n",
       "      <th>RegionCountryName</th>\n",
       "    </tr>\n",
       "  </thead>\n",
       "  <tbody>\n",
       "    <tr>\n",
       "      <th>0</th>\n",
       "      <td>2</td>\n",
       "      <td>2007-02-12</td>\n",
       "      <td>4</td>\n",
       "      <td>308</td>\n",
       "      <td>766</td>\n",
       "      <td>2</td>\n",
       "      <td>10.15</td>\n",
       "      <td>19.90</td>\n",
       "      <td>4</td>\n",
       "      <td>0</td>\n",
       "      <td>...</td>\n",
       "      <td>3.0</td>\n",
       "      <td>693</td>\n",
       "      <td>Reseller</td>\n",
       "      <td>15</td>\n",
       "      <td>450</td>\n",
       "      <td>City</td>\n",
       "      <td>North America</td>\n",
       "      <td>Seattle</td>\n",
       "      <td>Washington</td>\n",
       "      <td>United States</td>\n",
       "    </tr>\n",
       "    <tr>\n",
       "      <th>1</th>\n",
       "      <td>4</td>\n",
       "      <td>2008-01-13</td>\n",
       "      <td>2</td>\n",
       "      <td>306</td>\n",
       "      <td>1429</td>\n",
       "      <td>10</td>\n",
       "      <td>132.90</td>\n",
       "      <td>289.00</td>\n",
       "      <td>8</td>\n",
       "      <td>0</td>\n",
       "      <td>...</td>\n",
       "      <td>5.0</td>\n",
       "      <td>586</td>\n",
       "      <td>Online</td>\n",
       "      <td>7</td>\n",
       "      <td>1000</td>\n",
       "      <td>City</td>\n",
       "      <td>Europe</td>\n",
       "      <td>Berlin</td>\n",
       "      <td>Berlin</td>\n",
       "      <td>Germany</td>\n",
       "    </tr>\n",
       "    <tr>\n",
       "      <th>2</th>\n",
       "      <td>9</td>\n",
       "      <td>2008-07-14</td>\n",
       "      <td>2</td>\n",
       "      <td>199</td>\n",
       "      <td>1731</td>\n",
       "      <td>12</td>\n",
       "      <td>33.32</td>\n",
       "      <td>72.45</td>\n",
       "      <td>24</td>\n",
       "      <td>0</td>\n",
       "      <td>...</td>\n",
       "      <td>NaN</td>\n",
       "      <td>800</td>\n",
       "      <td>Online</td>\n",
       "      <td>325</td>\n",
       "      <td>500</td>\n",
       "      <td>City</td>\n",
       "      <td>North America</td>\n",
       "      <td>Bethesda</td>\n",
       "      <td>Maryland</td>\n",
       "      <td>United States</td>\n",
       "    </tr>\n",
       "    <tr>\n",
       "      <th>3</th>\n",
       "      <td>28</td>\n",
       "      <td>2009-12-23</td>\n",
       "      <td>1</td>\n",
       "      <td>4</td>\n",
       "      <td>1368</td>\n",
       "      <td>22</td>\n",
       "      <td>18.48</td>\n",
       "      <td>40.19</td>\n",
       "      <td>13</td>\n",
       "      <td>0</td>\n",
       "      <td>...</td>\n",
       "      <td>5.0</td>\n",
       "      <td>424</td>\n",
       "      <td>Store</td>\n",
       "      <td>19</td>\n",
       "      <td>455</td>\n",
       "      <td>City</td>\n",
       "      <td>North America</td>\n",
       "      <td>Bellevue</td>\n",
       "      <td>Washington</td>\n",
       "      <td>United States</td>\n",
       "    </tr>\n",
       "    <tr>\n",
       "      <th>4</th>\n",
       "      <td>32</td>\n",
       "      <td>2007-12-27</td>\n",
       "      <td>1</td>\n",
       "      <td>225</td>\n",
       "      <td>346</td>\n",
       "      <td>10</td>\n",
       "      <td>303.05</td>\n",
       "      <td>659.00</td>\n",
       "      <td>8</td>\n",
       "      <td>0</td>\n",
       "      <td>...</td>\n",
       "      <td>3.0</td>\n",
       "      <td>776</td>\n",
       "      <td>Store</td>\n",
       "      <td>24</td>\n",
       "      <td>500</td>\n",
       "      <td>City</td>\n",
       "      <td>Europe</td>\n",
       "      <td>Torino</td>\n",
       "      <td>Province of Turin</td>\n",
       "      <td>Italy</td>\n",
       "    </tr>\n",
       "  </tbody>\n",
       "</table>\n",
       "<p>5 rows × 41 columns</p>\n",
       "</div>"
      ],
      "text/plain": [
       "   SalesKey     DateKey  channelKey  StoreKey  ProductKey  PromotionKey  \\\n",
       "0         2  2007-02-12           4       308         766             2   \n",
       "1         4  2008-01-13           2       306        1429            10   \n",
       "2         9  2008-07-14           2       199        1731            12   \n",
       "3        28  2009-12-23           1         4        1368            22   \n",
       "4        32  2007-12-27           1       225         346            10   \n",
       "\n",
       "   UnitCost  UnitPrice  SalesQuantity  ReturnQuantity  ...  \\\n",
       "0     10.15      19.90              4               0  ...   \n",
       "1    132.90     289.00              8               0  ...   \n",
       "2     33.32      72.45             24               0  ...   \n",
       "3     18.48      40.19             13               0  ...   \n",
       "4    303.05     659.00              8               0  ...   \n",
       "\n",
       "   ProductCategoryKey  GeographyKey  StoreType  EmployeeCount  \\\n",
       "0                 3.0           693   Reseller             15   \n",
       "1                 5.0           586     Online              7   \n",
       "2                 NaN           800     Online            325   \n",
       "3                 5.0           424      Store             19   \n",
       "4                 3.0           776      Store             24   \n",
       "\n",
       "   SellingAreaSize  GeographyType  ContinentName  CityName  StateProvinceName  \\\n",
       "0              450           City  North America   Seattle         Washington   \n",
       "1             1000           City         Europe    Berlin             Berlin   \n",
       "2              500           City  North America  Bethesda           Maryland   \n",
       "3              455           City  North America  Bellevue         Washington   \n",
       "4              500           City         Europe    Torino  Province of Turin   \n",
       "\n",
       "  RegionCountryName  \n",
       "0     United States  \n",
       "1           Germany  \n",
       "2     United States  \n",
       "3     United States  \n",
       "4         Italy      \n",
       "\n",
       "[5 rows x 41 columns]"
      ]
     },
     "execution_count": 3,
     "metadata": {},
     "output_type": "execute_result"
    }
   ],
   "source": [
    "df = pd.read_csv(\"../preprocessed_data/data_ml_merged_v2.csv\", skiprows=sampleindices, header = 0)\n",
    "\n",
    "df.head()"
   ]
  },
  {
   "cell_type": "code",
   "execution_count": null,
   "id": "57461b27-ebbd-4deb-9ab1-5d02db2d06d9",
   "metadata": {
    "execution": {
     "iopub.execute_input": "2025-06-05T12:01:07.813848Z",
     "iopub.status.busy": "2025-06-05T12:01:07.813638Z",
     "iopub.status.idle": "2025-06-05T12:01:08.366034Z",
     "shell.execute_reply": "2025-06-05T12:01:08.364962Z",
     "shell.execute_reply.started": "2025-06-05T12:01:07.813831Z"
    }
   },
   "outputs": [
    {
     "data": {
      "text/html": [
       "<div>\n",
       "<style scoped>\n",
       "    .dataframe tbody tr th:only-of-type {\n",
       "        vertical-align: middle;\n",
       "    }\n",
       "\n",
       "    .dataframe tbody tr th {\n",
       "        vertical-align: top;\n",
       "    }\n",
       "\n",
       "    .dataframe thead th {\n",
       "        text-align: right;\n",
       "    }\n",
       "</style>\n",
       "<table border=\"1\" class=\"dataframe\">\n",
       "  <thead>\n",
       "    <tr style=\"text-align: right;\">\n",
       "      <th></th>\n",
       "      <th>SalesKey</th>\n",
       "      <th>channelKey</th>\n",
       "      <th>StoreKey</th>\n",
       "      <th>ProductKey</th>\n",
       "      <th>PromotionKey</th>\n",
       "      <th>UnitCost</th>\n",
       "      <th>UnitPrice</th>\n",
       "      <th>SalesQuantity</th>\n",
       "      <th>ReturnQuantity</th>\n",
       "      <th>ReturnAmount</th>\n",
       "      <th>...</th>\n",
       "      <th>ProductSubcategoryKey</th>\n",
       "      <th>ClassID</th>\n",
       "      <th>StyleID</th>\n",
       "      <th>ColorID</th>\n",
       "      <th>Weight</th>\n",
       "      <th>StockTypeID</th>\n",
       "      <th>ProductCategoryKey</th>\n",
       "      <th>GeographyKey</th>\n",
       "      <th>EmployeeCount</th>\n",
       "      <th>SellingAreaSize</th>\n",
       "    </tr>\n",
       "  </thead>\n",
       "  <tbody>\n",
       "    <tr>\n",
       "      <th>count</th>\n",
       "      <td>6.812190e+05</td>\n",
       "      <td>681219.000000</td>\n",
       "      <td>681219.000000</td>\n",
       "      <td>681219.000000</td>\n",
       "      <td>681219.000000</td>\n",
       "      <td>681219.000000</td>\n",
       "      <td>681219.000000</td>\n",
       "      <td>681219.000000</td>\n",
       "      <td>681219.00000</td>\n",
       "      <td>681219.000000</td>\n",
       "      <td>...</td>\n",
       "      <td>613273.000000</td>\n",
       "      <td>613273.000000</td>\n",
       "      <td>613273.000000</td>\n",
       "      <td>613273.000000</td>\n",
       "      <td>613273.000000</td>\n",
       "      <td>613273.000000</td>\n",
       "      <td>613273.000000</td>\n",
       "      <td>681219.000000</td>\n",
       "      <td>681219.000000</td>\n",
       "      <td>681219.000000</td>\n",
       "    </tr>\n",
       "    <tr>\n",
       "      <th>mean</th>\n",
       "      <td>1.704044e+06</td>\n",
       "      <td>1.659242</td>\n",
       "      <td>198.898764</td>\n",
       "      <td>1275.273621</td>\n",
       "      <td>8.478017</td>\n",
       "      <td>136.798218</td>\n",
       "      <td>319.982863</td>\n",
       "      <td>15.675821</td>\n",
       "      <td>0.14467</td>\n",
       "      <td>46.169063</td>\n",
       "      <td>...</td>\n",
       "      <td>28.950480</td>\n",
       "      <td>1.750256</td>\n",
       "      <td>2.235807</td>\n",
       "      <td>6.672267</td>\n",
       "      <td>21.936726</td>\n",
       "      <td>1.528376</td>\n",
       "      <td>4.967732</td>\n",
       "      <td>772.877534</td>\n",
       "      <td>55.726003</td>\n",
       "      <td>9444.915841</td>\n",
       "    </tr>\n",
       "    <tr>\n",
       "      <th>std</th>\n",
       "      <td>9.829872e+05</td>\n",
       "      <td>1.028928</td>\n",
       "      <td>94.838379</td>\n",
       "      <td>711.422118</td>\n",
       "      <td>8.225050</td>\n",
       "      <td>167.496413</td>\n",
       "      <td>428.335856</td>\n",
       "      <td>34.123103</td>\n",
       "      <td>0.36267</td>\n",
       "      <td>203.639391</td>\n",
       "      <td>...</td>\n",
       "      <td>12.534814</td>\n",
       "      <td>0.654144</td>\n",
       "      <td>1.582536</td>\n",
       "      <td>3.689219</td>\n",
       "      <td>37.556243</td>\n",
       "      <td>0.706699</td>\n",
       "      <td>2.290808</td>\n",
       "      <td>114.214409</td>\n",
       "      <td>79.858223</td>\n",
       "      <td>27313.268953</td>\n",
       "    </tr>\n",
       "    <tr>\n",
       "      <th>min</th>\n",
       "      <td>2.000000e+00</td>\n",
       "      <td>1.000000</td>\n",
       "      <td>1.000000</td>\n",
       "      <td>1.000000</td>\n",
       "      <td>1.000000</td>\n",
       "      <td>0.480000</td>\n",
       "      <td>0.950000</td>\n",
       "      <td>2.000000</td>\n",
       "      <td>0.00000</td>\n",
       "      <td>0.000000</td>\n",
       "      <td>...</td>\n",
       "      <td>1.000000</td>\n",
       "      <td>1.000000</td>\n",
       "      <td>1.000000</td>\n",
       "      <td>1.000000</td>\n",
       "      <td>0.170000</td>\n",
       "      <td>1.000000</td>\n",
       "      <td>1.000000</td>\n",
       "      <td>424.000000</td>\n",
       "      <td>7.000000</td>\n",
       "      <td>450.000000</td>\n",
       "    </tr>\n",
       "    <tr>\n",
       "      <th>25%</th>\n",
       "      <td>8.534140e+05</td>\n",
       "      <td>1.000000</td>\n",
       "      <td>126.000000</td>\n",
       "      <td>664.000000</td>\n",
       "      <td>1.000000</td>\n",
       "      <td>32.190000</td>\n",
       "      <td>68.000000</td>\n",
       "      <td>9.000000</td>\n",
       "      <td>0.00000</td>\n",
       "      <td>0.000000</td>\n",
       "      <td>...</td>\n",
       "      <td>20.000000</td>\n",
       "      <td>1.000000</td>\n",
       "      <td>1.000000</td>\n",
       "      <td>2.000000</td>\n",
       "      <td>4.000000</td>\n",
       "      <td>1.000000</td>\n",
       "      <td>3.000000</td>\n",
       "      <td>710.000000</td>\n",
       "      <td>17.000000</td>\n",
       "      <td>480.000000</td>\n",
       "    </tr>\n",
       "    <tr>\n",
       "      <th>50%</th>\n",
       "      <td>1.705714e+06</td>\n",
       "      <td>1.000000</td>\n",
       "      <td>200.000000</td>\n",
       "      <td>1268.000000</td>\n",
       "      <td>5.000000</td>\n",
       "      <td>84.120000</td>\n",
       "      <td>189.000000</td>\n",
       "      <td>10.000000</td>\n",
       "      <td>0.00000</td>\n",
       "      <td>0.000000</td>\n",
       "      <td>...</td>\n",
       "      <td>28.000000</td>\n",
       "      <td>2.000000</td>\n",
       "      <td>1.000000</td>\n",
       "      <td>7.000000</td>\n",
       "      <td>6.900000</td>\n",
       "      <td>1.000000</td>\n",
       "      <td>4.000000</td>\n",
       "      <td>790.000000</td>\n",
       "      <td>25.000000</td>\n",
       "      <td>500.000000</td>\n",
       "    </tr>\n",
       "    <tr>\n",
       "      <th>75%</th>\n",
       "      <td>2.555076e+06</td>\n",
       "      <td>2.000000</td>\n",
       "      <td>300.000000</td>\n",
       "      <td>1903.000000</td>\n",
       "      <td>14.000000</td>\n",
       "      <td>164.630000</td>\n",
       "      <td>369.000000</td>\n",
       "      <td>13.000000</td>\n",
       "      <td>0.00000</td>\n",
       "      <td>0.000000</td>\n",
       "      <td>...</td>\n",
       "      <td>42.000000</td>\n",
       "      <td>2.000000</td>\n",
       "      <td>3.000000</td>\n",
       "      <td>8.000000</td>\n",
       "      <td>23.200000</td>\n",
       "      <td>2.000000</td>\n",
       "      <td>8.000000</td>\n",
       "      <td>871.000000</td>\n",
       "      <td>47.000000</td>\n",
       "      <td>700.000000</td>\n",
       "    </tr>\n",
       "    <tr>\n",
       "      <th>max</th>\n",
       "      <td>3.406089e+06</td>\n",
       "      <td>4.000000</td>\n",
       "      <td>310.000000</td>\n",
       "      <td>2517.000000</td>\n",
       "      <td>28.000000</td>\n",
       "      <td>1060.220000</td>\n",
       "      <td>3199.990000</td>\n",
       "      <td>2880.000000</td>\n",
       "      <td>4.00000</td>\n",
       "      <td>7959.600000</td>\n",
       "      <td>...</td>\n",
       "      <td>48.000000</td>\n",
       "      <td>3.000000</td>\n",
       "      <td>16.000000</td>\n",
       "      <td>16.000000</td>\n",
       "      <td>239.000000</td>\n",
       "      <td>3.000000</td>\n",
       "      <td>8.000000</td>\n",
       "      <td>952.000000</td>\n",
       "      <td>325.000000</td>\n",
       "      <td>93800.000000</td>\n",
       "    </tr>\n",
       "  </tbody>\n",
       "</table>\n",
       "<p>8 rows × 28 columns</p>\n",
       "</div>"
      ],
      "text/plain": [
       "           SalesKey     channelKey       StoreKey     ProductKey  \\\n",
       "count  6.812190e+05  681219.000000  681219.000000  681219.000000   \n",
       "mean   1.704044e+06       1.659242     198.898764    1275.273621   \n",
       "std    9.829872e+05       1.028928      94.838379     711.422118   \n",
       "min    2.000000e+00       1.000000       1.000000       1.000000   \n",
       "25%    8.534140e+05       1.000000     126.000000     664.000000   \n",
       "50%    1.705714e+06       1.000000     200.000000    1268.000000   \n",
       "75%    2.555076e+06       2.000000     300.000000    1903.000000   \n",
       "max    3.406089e+06       4.000000     310.000000    2517.000000   \n",
       "\n",
       "        PromotionKey       UnitCost      UnitPrice  SalesQuantity  \\\n",
       "count  681219.000000  681219.000000  681219.000000  681219.000000   \n",
       "mean        8.478017     136.798218     319.982863      15.675821   \n",
       "std         8.225050     167.496413     428.335856      34.123103   \n",
       "min         1.000000       0.480000       0.950000       2.000000   \n",
       "25%         1.000000      32.190000      68.000000       9.000000   \n",
       "50%         5.000000      84.120000     189.000000      10.000000   \n",
       "75%        14.000000     164.630000     369.000000      13.000000   \n",
       "max        28.000000    1060.220000    3199.990000    2880.000000   \n",
       "\n",
       "       ReturnQuantity   ReturnAmount  ...  ProductSubcategoryKey  \\\n",
       "count    681219.00000  681219.000000  ...          613273.000000   \n",
       "mean          0.14467      46.169063  ...              28.950480   \n",
       "std           0.36267     203.639391  ...              12.534814   \n",
       "min           0.00000       0.000000  ...               1.000000   \n",
       "25%           0.00000       0.000000  ...              20.000000   \n",
       "50%           0.00000       0.000000  ...              28.000000   \n",
       "75%           0.00000       0.000000  ...              42.000000   \n",
       "max           4.00000    7959.600000  ...              48.000000   \n",
       "\n",
       "             ClassID        StyleID        ColorID         Weight  \\\n",
       "count  613273.000000  613273.000000  613273.000000  613273.000000   \n",
       "mean        1.750256       2.235807       6.672267      21.936726   \n",
       "std         0.654144       1.582536       3.689219      37.556243   \n",
       "min         1.000000       1.000000       1.000000       0.170000   \n",
       "25%         1.000000       1.000000       2.000000       4.000000   \n",
       "50%         2.000000       1.000000       7.000000       6.900000   \n",
       "75%         2.000000       3.000000       8.000000      23.200000   \n",
       "max         3.000000      16.000000      16.000000     239.000000   \n",
       "\n",
       "         StockTypeID  ProductCategoryKey   GeographyKey  EmployeeCount  \\\n",
       "count  613273.000000       613273.000000  681219.000000  681219.000000   \n",
       "mean        1.528376            4.967732     772.877534      55.726003   \n",
       "std         0.706699            2.290808     114.214409      79.858223   \n",
       "min         1.000000            1.000000     424.000000       7.000000   \n",
       "25%         1.000000            3.000000     710.000000      17.000000   \n",
       "50%         1.000000            4.000000     790.000000      25.000000   \n",
       "75%         2.000000            8.000000     871.000000      47.000000   \n",
       "max         3.000000            8.000000     952.000000     325.000000   \n",
       "\n",
       "       SellingAreaSize  \n",
       "count    681219.000000  \n",
       "mean       9444.915841  \n",
       "std       27313.268953  \n",
       "min         450.000000  \n",
       "25%         480.000000  \n",
       "50%         500.000000  \n",
       "75%         700.000000  \n",
       "max       93800.000000  \n",
       "\n",
       "[8 rows x 28 columns]"
      ]
     },
     "execution_count": 4,
     "metadata": {},
     "output_type": "execute_result"
    }
   ],
   "source": [
    "df.describe()"
   ]
  },
  {
   "cell_type": "code",
   "execution_count": null,
   "id": "e42d94e8-b2e6-4b83-8b6f-fff12271ae5b",
   "metadata": {
    "execution": {
     "iopub.execute_input": "2025-06-05T12:01:08.367133Z",
     "iopub.status.busy": "2025-06-05T12:01:08.366977Z",
     "iopub.status.idle": "2025-06-05T12:01:08.371621Z",
     "shell.execute_reply": "2025-06-05T12:01:08.371134Z",
     "shell.execute_reply.started": "2025-06-05T12:01:08.367119Z"
    }
   },
   "outputs": [
    {
     "data": {
      "text/plain": [
       "(681219, 41)"
      ]
     },
     "execution_count": 5,
     "metadata": {},
     "output_type": "execute_result"
    }
   ],
   "source": [
    "df.shape"
   ]
  },
  {
   "cell_type": "code",
   "execution_count": null,
   "id": "cba0122b-039d-4423-9fb9-cc57cffcea75",
   "metadata": {
    "execution": {
     "iopub.execute_input": "2025-06-05T12:01:08.374370Z",
     "iopub.status.busy": "2025-06-05T12:01:08.374054Z",
     "iopub.status.idle": "2025-06-05T12:01:08.666645Z",
     "shell.execute_reply": "2025-06-05T12:01:08.665877Z",
     "shell.execute_reply.started": "2025-06-05T12:01:08.374349Z"
    }
   },
   "outputs": [
    {
     "data": {
      "text/plain": [
       "SalesKey                       0\n",
       "DateKey                        0\n",
       "channelKey                     0\n",
       "StoreKey                       0\n",
       "ProductKey                     0\n",
       "PromotionKey                   0\n",
       "UnitCost                       0\n",
       "UnitPrice                      0\n",
       "SalesQuantity                  0\n",
       "ReturnQuantity                 0\n",
       "ReturnAmount                   0\n",
       "DiscountQuantity               0\n",
       "DiscountAmount                 0\n",
       "TotalCost                      0\n",
       "SalesAmount                    0\n",
       "DiscountPercent                0\n",
       "CalendarYear                   0\n",
       "CalendarQuarterLabel           0\n",
       "CalendarWeekLabel              0\n",
       "IsWorkDay                      0\n",
       "IsHoliday                      0\n",
       "MonthNumber                    0\n",
       "CalendarDayOfWeekNumber        0\n",
       "ProductSubcategoryKey      67946\n",
       "BrandName                  67946\n",
       "ClassID                    67946\n",
       "StyleID                    67946\n",
       "ColorID                    67946\n",
       "Weight                     67946\n",
       "WeightUnitMeasureID        67946\n",
       "StockTypeID                67946\n",
       "ProductCategoryKey         67946\n",
       "GeographyKey                   0\n",
       "StoreType                      0\n",
       "EmployeeCount                  0\n",
       "SellingAreaSize                0\n",
       "GeographyType                  0\n",
       "ContinentName                  0\n",
       "CityName                       0\n",
       "StateProvinceName              0\n",
       "RegionCountryName              0\n",
       "dtype: int64"
      ]
     },
     "execution_count": 6,
     "metadata": {},
     "output_type": "execute_result"
    }
   ],
   "source": [
    "df.isna().sum()"
   ]
  },
  {
   "cell_type": "code",
   "execution_count": null,
   "id": "ce8ae2a7-1795-4159-8542-d7627286b5b0",
   "metadata": {
    "execution": {
     "iopub.execute_input": "2025-06-05T12:01:08.667704Z",
     "iopub.status.busy": "2025-06-05T12:01:08.667428Z",
     "iopub.status.idle": "2025-06-05T12:01:08.981158Z",
     "shell.execute_reply": "2025-06-05T12:01:08.980182Z",
     "shell.execute_reply.started": "2025-06-05T12:01:08.667680Z"
    }
   },
   "outputs": [
    {
     "name": "stdout",
     "output_type": "stream",
     "text": [
      "<class 'pandas.core.frame.DataFrame'>\n",
      "RangeIndex: 681219 entries, 0 to 681218\n",
      "Data columns (total 41 columns):\n",
      " #   Column                   Non-Null Count   Dtype  \n",
      "---  ------                   --------------   -----  \n",
      " 0   SalesKey                 681219 non-null  int64  \n",
      " 1   DateKey                  681219 non-null  object \n",
      " 2   channelKey               681219 non-null  int64  \n",
      " 3   StoreKey                 681219 non-null  int64  \n",
      " 4   ProductKey               681219 non-null  int64  \n",
      " 5   PromotionKey             681219 non-null  int64  \n",
      " 6   UnitCost                 681219 non-null  float64\n",
      " 7   UnitPrice                681219 non-null  float64\n",
      " 8   SalesQuantity            681219 non-null  int64  \n",
      " 9   ReturnQuantity           681219 non-null  int64  \n",
      " 10  ReturnAmount             681219 non-null  float64\n",
      " 11  DiscountQuantity         681219 non-null  int64  \n",
      " 12  DiscountAmount           681219 non-null  float64\n",
      " 13  TotalCost                681219 non-null  float64\n",
      " 14  SalesAmount              681219 non-null  float64\n",
      " 15  DiscountPercent          681219 non-null  float64\n",
      " 16  CalendarYear             681219 non-null  int64  \n",
      " 17  CalendarQuarterLabel     681219 non-null  object \n",
      " 18  CalendarWeekLabel        681219 non-null  object \n",
      " 19  IsWorkDay                681219 non-null  object \n",
      " 20  IsHoliday                681219 non-null  object \n",
      " 21  MonthNumber              681219 non-null  int64  \n",
      " 22  CalendarDayOfWeekNumber  681219 non-null  int64  \n",
      " 23  ProductSubcategoryKey    613273 non-null  float64\n",
      " 24  BrandName                613273 non-null  object \n",
      " 25  ClassID                  613273 non-null  float64\n",
      " 26  StyleID                  613273 non-null  float64\n",
      " 27  ColorID                  613273 non-null  float64\n",
      " 28  Weight                   613273 non-null  float64\n",
      " 29  WeightUnitMeasureID      613273 non-null  object \n",
      " 30  StockTypeID              613273 non-null  float64\n",
      " 31  ProductCategoryKey       613273 non-null  float64\n",
      " 32  GeographyKey             681219 non-null  int64  \n",
      " 33  StoreType                681219 non-null  object \n",
      " 34  EmployeeCount            681219 non-null  int64  \n",
      " 35  SellingAreaSize          681219 non-null  int64  \n",
      " 36  GeographyType            681219 non-null  object \n",
      " 37  ContinentName            681219 non-null  object \n",
      " 38  CityName                 681219 non-null  object \n",
      " 39  StateProvinceName        681219 non-null  object \n",
      " 40  RegionCountryName        681219 non-null  object \n",
      "dtypes: float64(14), int64(14), object(13)\n",
      "memory usage: 213.1+ MB\n"
     ]
    }
   ],
   "source": [
    "df.info()"
   ]
  },
  {
   "cell_type": "code",
   "execution_count": null,
   "id": "afe3e3cb-cfef-42b2-9d33-19da3316f5ee",
   "metadata": {
    "execution": {
     "iopub.execute_input": "2025-06-05T12:01:08.982197Z",
     "iopub.status.busy": "2025-06-05T12:01:08.982009Z",
     "iopub.status.idle": "2025-06-05T12:01:09.271966Z",
     "shell.execute_reply": "2025-06-05T12:01:09.271317Z",
     "shell.execute_reply.started": "2025-06-05T12:01:08.982182Z"
    }
   },
   "outputs": [
    {
     "data": {
      "text/plain": [
       "SalesKey                       0\n",
       "DateKey                        0\n",
       "channelKey                     0\n",
       "StoreKey                       0\n",
       "ProductKey                     0\n",
       "PromotionKey                   0\n",
       "UnitCost                       0\n",
       "UnitPrice                      0\n",
       "SalesQuantity                  0\n",
       "ReturnQuantity                 0\n",
       "ReturnAmount                   0\n",
       "DiscountQuantity               0\n",
       "DiscountAmount                 0\n",
       "TotalCost                      0\n",
       "SalesAmount                    0\n",
       "DiscountPercent                0\n",
       "CalendarYear                   0\n",
       "CalendarQuarterLabel           0\n",
       "CalendarWeekLabel              0\n",
       "IsWorkDay                      0\n",
       "IsHoliday                      0\n",
       "MonthNumber                    0\n",
       "CalendarDayOfWeekNumber        0\n",
       "ProductSubcategoryKey      67946\n",
       "BrandName                  67946\n",
       "ClassID                    67946\n",
       "StyleID                    67946\n",
       "ColorID                    67946\n",
       "Weight                     67946\n",
       "WeightUnitMeasureID        67946\n",
       "StockTypeID                67946\n",
       "ProductCategoryKey         67946\n",
       "GeographyKey                   0\n",
       "StoreType                      0\n",
       "EmployeeCount                  0\n",
       "SellingAreaSize                0\n",
       "GeographyType                  0\n",
       "ContinentName                  0\n",
       "CityName                       0\n",
       "StateProvinceName              0\n",
       "RegionCountryName              0\n",
       "dtype: int64"
      ]
     },
     "execution_count": 8,
     "metadata": {},
     "output_type": "execute_result"
    }
   ],
   "source": [
    "df.isnull().sum()"
   ]
  },
  {
   "cell_type": "code",
   "execution_count": null,
   "id": "3b7e0497-6c69-448d-a594-f9874ee3d8db",
   "metadata": {
    "execution": {
     "iopub.execute_input": "2025-06-05T12:01:09.272768Z",
     "iopub.status.busy": "2025-06-05T12:01:09.272591Z",
     "iopub.status.idle": "2025-06-05T12:01:09.279477Z",
     "shell.execute_reply": "2025-06-05T12:01:09.278174Z",
     "shell.execute_reply.started": "2025-06-05T12:01:09.272753Z"
    }
   },
   "outputs": [
    {
     "data": {
      "text/plain": [
       "SalesKey                     int64\n",
       "DateKey                     object\n",
       "channelKey                   int64\n",
       "StoreKey                     int64\n",
       "ProductKey                   int64\n",
       "PromotionKey                 int64\n",
       "UnitCost                   float64\n",
       "UnitPrice                  float64\n",
       "SalesQuantity                int64\n",
       "ReturnQuantity               int64\n",
       "ReturnAmount               float64\n",
       "DiscountQuantity             int64\n",
       "DiscountAmount             float64\n",
       "TotalCost                  float64\n",
       "SalesAmount                float64\n",
       "DiscountPercent            float64\n",
       "CalendarYear                 int64\n",
       "CalendarQuarterLabel        object\n",
       "CalendarWeekLabel           object\n",
       "IsWorkDay                   object\n",
       "IsHoliday                   object\n",
       "MonthNumber                  int64\n",
       "CalendarDayOfWeekNumber      int64\n",
       "ProductSubcategoryKey      float64\n",
       "BrandName                   object\n",
       "ClassID                    float64\n",
       "StyleID                    float64\n",
       "ColorID                    float64\n",
       "Weight                     float64\n",
       "WeightUnitMeasureID         object\n",
       "StockTypeID                float64\n",
       "ProductCategoryKey         float64\n",
       "GeographyKey                 int64\n",
       "StoreType                   object\n",
       "EmployeeCount                int64\n",
       "SellingAreaSize              int64\n",
       "GeographyType               object\n",
       "ContinentName               object\n",
       "CityName                    object\n",
       "StateProvinceName           object\n",
       "RegionCountryName           object\n",
       "dtype: object"
      ]
     },
     "execution_count": 9,
     "metadata": {},
     "output_type": "execute_result"
    }
   ],
   "source": [
    "df.dtypes"
   ]
  },
  {
   "cell_type": "code",
   "execution_count": null,
   "id": "e7d2e56b-f351-44c1-afb6-6250bd5903e7",
   "metadata": {
    "execution": {
     "iopub.execute_input": "2025-06-05T12:01:09.280443Z",
     "iopub.status.busy": "2025-06-05T12:01:09.280258Z",
     "iopub.status.idle": "2025-06-05T12:01:09.359066Z",
     "shell.execute_reply": "2025-06-05T12:01:09.358213Z",
     "shell.execute_reply.started": "2025-06-05T12:01:09.280427Z"
    }
   },
   "outputs": [],
   "source": [
    "# Instantiate a SimpleImputer object with your strategy of choice\n",
    "imputer = SimpleImputer(strategy=\"constant\", fill_value=0)\n",
    "# Call the \"fit\" method on the object\n",
    "imputer.fit(df[['ProductSubcategoryKey']])\n",
    "df['ProductSubcategoryKey'] = imputer.transform(df[['ProductSubcategoryKey']])\n",
    "imputer.fit(df[['ClassID']])\n",
    "df['ClassID'] = imputer.transform(df[['ClassID']])\n",
    "imputer.fit(df[['StyleID']])\n",
    "df['StyleID'] = imputer.transform(df[['StyleID']])  # Fixed this line\n",
    "imputer.fit(df[['ColorID']])\n",
    "df['ColorID'] = imputer.transform(df[['ColorID']])\n",
    "\n",
    "imputer.fit(df[['Weight']])\n",
    "df['Weight'] = imputer.transform(df[['Weight']])\n",
    "imputer.fit(df[['StockTypeID']])\n",
    "df['StockTypeID'] = imputer.transform(df[['StockTypeID']])\n",
    "imputer.fit(df[['ProductCategoryKey']])\n",
    "df['ProductCategoryKey'] = imputer.transform(df[['ProductCategoryKey']])"
   ]
  },
  {
   "cell_type": "code",
   "execution_count": null,
   "id": "70165271-5298-413e-9e19-0b96947e1c00",
   "metadata": {
    "execution": {
     "iopub.execute_input": "2025-06-05T12:01:09.360090Z",
     "iopub.status.busy": "2025-06-05T12:01:09.359842Z",
     "iopub.status.idle": "2025-06-05T12:01:09.397612Z",
     "shell.execute_reply": "2025-06-05T12:01:09.396742Z",
     "shell.execute_reply.started": "2025-06-05T12:01:09.360074Z"
    }
   },
   "outputs": [],
   "source": [
    "df['BrandName'] = df['BrandName'].fillna('N/A')"
   ]
  },
  {
   "cell_type": "code",
   "execution_count": null,
   "id": "66a0f834-700c-47f4-b6ed-ea1c85710759",
   "metadata": {
    "execution": {
     "iopub.execute_input": "2025-06-05T12:01:09.398451Z",
     "iopub.status.busy": "2025-06-05T12:01:09.398281Z",
     "iopub.status.idle": "2025-06-05T12:01:11.049999Z",
     "shell.execute_reply": "2025-06-05T12:01:11.049117Z",
     "shell.execute_reply.started": "2025-06-05T12:01:09.398437Z"
    }
   },
   "outputs": [
    {
     "name": "stderr",
     "output_type": "stream",
     "text": [
      "<>:32: SyntaxWarning: invalid escape sequence '\\d'\n",
      "<>:32: SyntaxWarning: invalid escape sequence '\\d'\n",
      "/tmp/ipykernel_1650/2705375494.py:32: SyntaxWarning: invalid escape sequence '\\d'\n",
      "  df['CalendarQuarterLabel'] = df['CalendarQuarterLabel'].str.extract('(\\d+)').astype(int)\n"
     ]
    }
   ],
   "source": [
    "#Basic column transforms\n",
    "#1. Promo key 1 means no discount. ALl other promo keys indicate some discount. We change promo keys to 1 and 0. 1 means no disc, 0 means disc\n",
    "#2. Stock type ID 1 means High, 3 means low. THis is opposite of how the ML model learns. So, we switch\n",
    "#3. Weights are in different units. Convert all to grams.\n",
    "#4. Convert quarter values from Q1, Q2...to 1,2...This is neeeded for cyclical engg. later\n",
    "#5. Set Sales Key as index of dataframe\n",
    "#6. Ensure DateKey column is in DateTime format\n",
    "0\n",
    "#1. \n",
    "df['PromotionKey'] = np.where(df['PromotionKey'] == 1, 1, 0)\n",
    "\n",
    "#2. \n",
    "df['StockTypeID'] = df['StockTypeID'].replace({1: 3, 3: 1})\n",
    "\n",
    "#3. \n",
    "conversion_factors = {\n",
    "    'pounds': 453.592,    \n",
    "    'ounces': 28.3495,   \n",
    "    'grams': 1.0        \n",
    "}\n",
    "\n",
    "# Convert weights to grams\n",
    "df['Weight'] = df['Weight'] * df['WeightUnitMeasureID'].map(conversion_factors)\n",
    "\n",
    "# Rename the Weight column\n",
    "df = df.rename(columns={'Weight': 'Weight(grams)'})\n",
    "\n",
    "# Delete the WeightUnitMeasureID column\n",
    "df = df.drop('WeightUnitMeasureID', axis=1)\n",
    "\n",
    "#4.\n",
    "df['CalendarQuarterLabel'] = df['CalendarQuarterLabel'].str.extract('(\\d+)').astype(int)\n",
    "\n",
    "#5.\n",
    "df = df.set_index('SalesKey')\n",
    "\n",
    "#6.\n",
    "df['DateKey'] = pd.to_datetime(df['DateKey'])"
   ]
  },
  {
   "cell_type": "code",
   "execution_count": null,
   "id": "218ad1fe-5273-4310-944c-8fa4f7e798d7",
   "metadata": {
    "execution": {
     "iopub.execute_input": "2025-06-05T12:01:11.051081Z",
     "iopub.status.busy": "2025-06-05T12:01:11.050910Z",
     "iopub.status.idle": "2025-06-05T12:01:11.160126Z",
     "shell.execute_reply": "2025-06-05T12:01:11.159257Z",
     "shell.execute_reply.started": "2025-06-05T12:01:11.051067Z"
    }
   },
   "outputs": [
    {
     "data": {
      "text/plain": [
       "Index(['DateKey', 'channelKey', 'StoreKey', 'ProductKey', 'PromotionKey',\n",
       "       'UnitCost', 'UnitPrice', 'SalesQuantity', 'ReturnQuantity',\n",
       "       'ReturnAmount', 'DiscountQuantity', 'DiscountAmount', 'TotalCost',\n",
       "       'SalesAmount', 'DiscountPercent', 'CalendarYear',\n",
       "       'CalendarQuarterLabel', 'CalendarWeekLabel', 'IsWorkDay', 'IsHoliday',\n",
       "       'CalendarDayOfWeekNumber', 'ProductSubcategoryKey', 'BrandName',\n",
       "       'ClassID', 'StyleID', 'ColorID', 'Weight(grams)', 'StockTypeID',\n",
       "       'ProductCategoryKey', 'GeographyKey', 'StoreType', 'EmployeeCount',\n",
       "       'SellingAreaSize', 'GeographyType', 'ContinentName', 'CityName',\n",
       "       'StateProvinceName', 'RegionCountryName', 'sin_MonthNumber',\n",
       "       'cos_MonthNumber'],\n",
       "      dtype='object')"
      ]
     },
     "execution_count": 13,
     "metadata": {},
     "output_type": "execute_result"
    }
   ],
   "source": [
    "#Cyclical engineering to ensure proximity of dec to jan usw.\n",
    "months_in_year = 12\n",
    "df['sin_MonthNumber'] = np.sin(2*np.pi*df.MonthNumber/months_in_year)\n",
    "df['cos_MonthNumber'] = np.cos(2*np.pi*df.MonthNumber/months_in_year)\n",
    "df.drop(columns=['MonthNumber'], inplace=True)\n",
    "df.columns"
   ]
  },
  {
   "cell_type": "code",
   "execution_count": null,
   "id": "9dc1c0d6-e29c-4a73-9719-5543a17acdd4",
   "metadata": {
    "execution": {
     "iopub.execute_input": "2025-06-05T12:01:11.161084Z",
     "iopub.status.busy": "2025-06-05T12:01:11.160899Z",
     "iopub.status.idle": "2025-06-05T12:01:11.276145Z",
     "shell.execute_reply": "2025-06-05T12:01:11.275232Z",
     "shell.execute_reply.started": "2025-06-05T12:01:11.161070Z"
    }
   },
   "outputs": [
    {
     "data": {
      "text/plain": [
       "Index(['DateKey', 'channelKey', 'StoreKey', 'ProductKey', 'PromotionKey',\n",
       "       'UnitCost', 'UnitPrice', 'SalesQuantity', 'ReturnQuantity',\n",
       "       'ReturnAmount', 'DiscountQuantity', 'DiscountAmount', 'TotalCost',\n",
       "       'SalesAmount', 'DiscountPercent', 'CalendarYear',\n",
       "       'CalendarQuarterLabel', 'IsWorkDay', 'IsHoliday',\n",
       "       'ProductSubcategoryKey', 'BrandName', 'ClassID', 'StyleID', 'ColorID',\n",
       "       'Weight(grams)', 'StockTypeID', 'ProductCategoryKey', 'GeographyKey',\n",
       "       'StoreType', 'EmployeeCount', 'SellingAreaSize', 'GeographyType',\n",
       "       'ContinentName', 'CityName', 'StateProvinceName', 'RegionCountryName',\n",
       "       'sin_MonthNumber', 'cos_MonthNumber', 'sin_CalendarDayOfWeekNumber',\n",
       "       'cos_CalendarDayOfWeekNumber'],\n",
       "      dtype='object')"
      ]
     },
     "execution_count": 14,
     "metadata": {},
     "output_type": "execute_result"
    }
   ],
   "source": [
    "#Cyclical engineering to ensure proximity of sat to sun usw.\n",
    "#calendarweeklabel dropped as its impact is same as cyclical engg.\n",
    "days_in_week = 7\n",
    "df['sin_CalendarDayOfWeekNumber'] = np.sin(2*np.pi*df.CalendarDayOfWeekNumber/days_in_week)\n",
    "df['cos_CalendarDayOfWeekNumber'] = np.cos(2*np.pi*df.CalendarDayOfWeekNumber/days_in_week)\n",
    "df.drop(columns=['CalendarDayOfWeekNumber','CalendarWeekLabel'], inplace=True)\n",
    "df.columns"
   ]
  },
  {
   "cell_type": "code",
   "execution_count": null,
   "id": "d5746191-04af-4985-85ac-38d3e69148bd",
   "metadata": {
    "execution": {
     "iopub.execute_input": "2025-06-05T12:01:11.277125Z",
     "iopub.status.busy": "2025-06-05T12:01:11.276959Z",
     "iopub.status.idle": "2025-06-05T12:01:11.363918Z",
     "shell.execute_reply": "2025-06-05T12:01:11.362548Z",
     "shell.execute_reply.started": "2025-06-05T12:01:11.277111Z"
    }
   },
   "outputs": [
    {
     "data": {
      "text/plain": [
       "Index(['DateKey', 'channelKey', 'StoreKey', 'ProductKey', 'PromotionKey',\n",
       "       'UnitCost', 'UnitPrice', 'SalesQuantity', 'ReturnQuantity',\n",
       "       'ReturnAmount', 'DiscountQuantity', 'DiscountAmount', 'TotalCost',\n",
       "       'SalesAmount', 'DiscountPercent', 'CalendarYear', 'IsWorkDay',\n",
       "       'IsHoliday', 'ProductSubcategoryKey', 'BrandName', 'ClassID', 'StyleID',\n",
       "       'ColorID', 'Weight(grams)', 'StockTypeID', 'ProductCategoryKey',\n",
       "       'GeographyKey', 'StoreType', 'EmployeeCount', 'SellingAreaSize',\n",
       "       'GeographyType', 'ContinentName', 'CityName', 'StateProvinceName',\n",
       "       'RegionCountryName', 'sin_MonthNumber', 'cos_MonthNumber',\n",
       "       'sin_CalendarDayOfWeekNumber', 'cos_CalendarDayOfWeekNumber',\n",
       "       'sin_CalendarQuarterLabel', 'cos_CalendarQuarterLabel'],\n",
       "      dtype='object')"
      ]
     },
     "execution_count": 15,
     "metadata": {},
     "output_type": "execute_result"
    }
   ],
   "source": [
    "#Cyclical engineering to ensure proximity of Q1 to Q4 usw.\n",
    "quarters_in_year = 4\n",
    "df['sin_CalendarQuarterLabel'] = np.sin(2*np.pi*df.CalendarQuarterLabel/quarters_in_year)\n",
    "df['cos_CalendarQuarterLabel'] = np.cos(2*np.pi*df.CalendarQuarterLabel/quarters_in_year)\n",
    "df.drop(columns=['CalendarQuarterLabel'], inplace=True)\n",
    "df.columns"
   ]
  },
  {
   "cell_type": "code",
   "execution_count": null,
   "id": "6ac39da7-e250-408f-9b76-708ed6d90dfb",
   "metadata": {
    "execution": {
     "iopub.execute_input": "2025-06-05T12:01:11.364796Z",
     "iopub.status.busy": "2025-06-05T12:01:11.364620Z",
     "iopub.status.idle": "2025-06-05T12:01:11.369781Z",
     "shell.execute_reply": "2025-06-05T12:01:11.368438Z",
     "shell.execute_reply.started": "2025-06-05T12:01:11.364773Z"
    }
   },
   "outputs": [
    {
     "name": "stdout",
     "output_type": "stream",
     "text": [
      "Index(['DateKey', 'channelKey', 'StoreKey', 'ProductKey', 'PromotionKey',\n",
      "       'UnitCost', 'UnitPrice', 'SalesQuantity', 'ReturnQuantity',\n",
      "       'ReturnAmount', 'DiscountQuantity', 'DiscountAmount', 'TotalCost',\n",
      "       'SalesAmount', 'DiscountPercent', 'CalendarYear', 'IsWorkDay',\n",
      "       'IsHoliday', 'ProductSubcategoryKey', 'BrandName', 'ClassID', 'StyleID',\n",
      "       'ColorID', 'Weight(grams)', 'StockTypeID', 'ProductCategoryKey',\n",
      "       'GeographyKey', 'StoreType', 'EmployeeCount', 'SellingAreaSize',\n",
      "       'GeographyType', 'ContinentName', 'CityName', 'StateProvinceName',\n",
      "       'RegionCountryName', 'sin_MonthNumber', 'cos_MonthNumber',\n",
      "       'sin_CalendarDayOfWeekNumber', 'cos_CalendarDayOfWeekNumber',\n",
      "       'sin_CalendarQuarterLabel', 'cos_CalendarQuarterLabel'],\n",
      "      dtype='object')\n"
     ]
    }
   ],
   "source": [
    "print(df.columns)"
   ]
  },
  {
   "cell_type": "code",
   "execution_count": null,
   "id": "02e54b63-dcdb-4719-acef-0af82f14b380",
   "metadata": {
    "execution": {
     "iopub.execute_input": "2025-06-05T12:01:11.371343Z",
     "iopub.status.busy": "2025-06-05T12:01:11.371122Z",
     "iopub.status.idle": "2025-06-05T12:01:11.378736Z",
     "shell.execute_reply": "2025-06-05T12:01:11.377845Z",
     "shell.execute_reply.started": "2025-06-05T12:01:11.371322Z"
    }
   },
   "outputs": [
    {
     "name": "stdout",
     "output_type": "stream",
     "text": [
      "SalesKey\n",
      "2     8.660254e-01\n",
      "4     5.000000e-01\n",
      "9    -5.000000e-01\n",
      "28   -2.449294e-16\n",
      "32   -2.449294e-16\n",
      "34    5.000000e-01\n",
      "49    5.000000e-01\n",
      "50    1.224647e-16\n",
      "58    5.000000e-01\n",
      "62    5.000000e-01\n",
      "Name: sin_MonthNumber, dtype: float64\n"
     ]
    }
   ],
   "source": [
    "print(df['sin_MonthNumber'].head(10))"
   ]
  },
  {
   "cell_type": "code",
   "execution_count": null,
   "id": "5c20a069-5fde-4c1a-8ad9-484bd7a3c38a",
   "metadata": {
    "execution": {
     "iopub.execute_input": "2025-06-05T12:01:11.379937Z",
     "iopub.status.busy": "2025-06-05T12:01:11.379368Z",
     "iopub.status.idle": "2025-06-05T12:01:11.384271Z",
     "shell.execute_reply": "2025-06-05T12:01:11.383543Z",
     "shell.execute_reply.started": "2025-06-05T12:01:11.379918Z"
    }
   },
   "outputs": [
    {
     "data": {
      "text/plain": [
       "\"\\nNumerical:'channelKey', 'StoreKey', 'ProductKey', 'PromotionKey', 'UnitCost', 'UnitPrice', 'TotalCost',\\n'ReturnQuantity','ReturnAmount', 'DiscountQuantity', 'DiscountAmount',\\n'DiscountPercent', 'CalendarYear', 'ProductSubcategoryKey', 'ClassID', 'StyleID', 'ColorID', 'Weight(grams)', \\n'StockTypeID', 'ProductCategoryKey', 'GeographyKey',  'EmployeeCount', 'SellingAreaSize',\\n'sin_MonthNumber', 'cos_MonthNumber', 'sin_CalendarDayOfWeekNumber','cos_CalendarDayOfWeekNumber', 'sin_CalendarQuarterLabel',\\n'cos_CalendarQuarterLabel'\\n\\n\\n\\n\\nText:\\nCategories: 'IsWorkDay', 'IsHoliday', 'BrandName', 'StoreType', 'GeographyType', 'ContinentName', \\n'CityName', 'StateProvinceName', 'RegionCountryName'\\n\\n\""
      ]
     },
     "execution_count": 18,
     "metadata": {},
     "output_type": "execute_result"
    }
   ],
   "source": [
    "#List of columns divided by numerical and text so that I know whether to scale or encode\n",
    "\n",
    "'''\n",
    "Numerical:'channelKey', 'StoreKey', 'ProductKey', 'PromotionKey', 'UnitCost', 'UnitPrice', 'TotalCost',\n",
    "'ReturnQuantity','ReturnAmount', 'DiscountQuantity', 'DiscountAmount',\n",
    "'DiscountPercent', 'CalendarYear', 'ProductSubcategoryKey', 'ClassID', 'StyleID', 'ColorID', 'Weight(grams)', \n",
    "'StockTypeID', 'ProductCategoryKey', 'GeographyKey',  'EmployeeCount', 'SellingAreaSize',\n",
    "'sin_MonthNumber', 'cos_MonthNumber', 'sin_CalendarDayOfWeekNumber','cos_CalendarDayOfWeekNumber', 'sin_CalendarQuarterLabel',\n",
    "'cos_CalendarQuarterLabel'\n",
    "\n",
    "\n",
    "\n",
    "\n",
    "Text:\n",
    "Categories: 'IsWorkDay', 'IsHoliday', 'BrandName', 'StoreType', 'GeographyType', 'ContinentName', \n",
    "'CityName', 'StateProvinceName', 'RegionCountryName'\n",
    "\n",
    "'''"
   ]
  },
  {
   "cell_type": "code",
   "execution_count": null,
   "id": "a58740f8-b6cf-419e-ab71-7429cfb6db03",
   "metadata": {
    "execution": {
     "iopub.execute_input": "2025-06-05T12:01:11.384933Z",
     "iopub.status.busy": "2025-06-05T12:01:11.384781Z",
     "iopub.status.idle": "2025-06-05T12:01:12.132773Z",
     "shell.execute_reply": "2025-06-05T12:01:12.131960Z",
     "shell.execute_reply.started": "2025-06-05T12:01:11.384919Z"
    }
   },
   "outputs": [
    {
     "ename": "",
     "evalue": "",
     "output_type": "error",
     "traceback": [
      "\u001b[1;31mThe Kernel crashed while executing code in the current cell or a previous cell. \n",
      "\u001b[1;31mPlease review the code in the cell(s) to identify a possible cause of the failure. \n",
      "\u001b[1;31mClick <a href='https://aka.ms/vscodeJupyterKernelCrash'>here</a> for more info. \n",
      "\u001b[1;31mView Jupyter <a href='command:jupyter.viewOutput'>log</a> for further details."
     ]
    }
   ],
   "source": [
    "rb_scaler = RobustScaler()\n",
    "\n",
    "cols_to_scale = [\n",
    "    'channelKey', 'StoreKey', 'ProductKey', 'PromotionKey','StockTypeID',\n",
    "    'UnitCost', 'UnitPrice', 'TotalCost', 'ReturnQuantity', 'ReturnAmount', \n",
    "    'DiscountQuantity', 'DiscountAmount', 'DiscountPercent', 'CalendarYear', \n",
    "    'ProductSubcategoryKey', 'ClassID', 'StyleID', 'ColorID', 'Weight(grams)', \n",
    "    'ProductCategoryKey', 'GeographyKey', 'EmployeeCount', \n",
    "    'SellingAreaSize', 'sin_MonthNumber', 'cos_MonthNumber', \n",
    "    'sin_CalendarDayOfWeekNumber', 'cos_CalendarDayOfWeekNumber', \n",
    "    'sin_CalendarQuarterLabel', 'cos_CalendarQuarterLabel'\n",
    "]\n",
    "\n",
    "rb_scaler = RobustScaler()\n",
    "df[cols_to_scale] = rb_scaler.fit_transform(df[cols_to_scale])"
   ]
  },
  {
   "cell_type": "code",
   "execution_count": null,
   "id": "521a3dde-75b4-4cec-a6d9-97c830564463",
   "metadata": {
    "execution": {
     "iopub.execute_input": "2025-06-05T12:01:12.133404Z",
     "iopub.status.busy": "2025-06-05T12:01:12.133248Z"
    }
   },
   "outputs": [],
   "source": [
    "ohe = OneHotEncoder(sparse_output=False)\n",
    "\n",
    "cols_to_encode = [\n",
    "   'IsWorkDay','IsHoliday','BrandName','StoreType','GeographyType','RegionCountryName'\n",
    "]\n",
    "ohe.fit(df[cols_to_encode])\n",
    "df[ohe.get_feature_names_out()] = ohe.transform(df[cols_to_encode])\n",
    "df = df.drop(columns=cols_to_encode)"
   ]
  },
  {
   "cell_type": "markdown",
   "id": "ef90a5cd",
   "metadata": {},
   "source": [
    "***Inspect the distribution of Sales Amount***"
   ]
  },
  {
   "cell_type": "code",
   "execution_count": null,
   "id": "cd87d14a",
   "metadata": {},
   "outputs": [
    {
     "name": "stdout",
     "output_type": "stream",
     "text": [
      "Percentage of outliers: 3.49%\n"
     ]
    }
   ],
   "source": [
    "#Check 1: What %age of sales amount transactions are outliers?\n",
    "from scipy.stats import zscore\n",
    "\n",
    "# Calculate z-scores\n",
    "z_scores = zscore(df['SalesAmount'])\n",
    "\n",
    "# Identify outliers (absolute z-score > 2.5)\n",
    "is_outlier = (abs(z_scores) > 2.5)\n",
    "\n",
    "# Count outliers\n",
    "num_outliers = sum(is_outlier)\n",
    "\n",
    "# Total number of data points\n",
    "total = len(df['SalesAmount'])\n",
    "\n",
    "# Calculate percentage\n",
    "percentage_outliers = (num_outliers / total) * 100\n",
    "\n",
    "print(f\"Percentage of outliers: {percentage_outliers:.2f}%\")\n",
    "\n"
   ]
  },
  {
   "cell_type": "code",
   "execution_count": null,
   "id": "07155eb2",
   "metadata": {},
   "outputs": [
    {
     "name": "stdout",
     "output_type": "stream",
     "text": [
      "Anderson-Darling Test for Normality:\n",
      "Test Statistic: 30159.749\n",
      "\n",
      "Critical Values and Interpretation:\n",
      "15.0%: 0.576, data does not look normal (reject H0)\n",
      "10.0%: 0.656, data does not look normal (reject H0)\n",
      "5.0%: 0.787, data does not look normal (reject H0)\n",
      "2.5%: 0.918, data does not look normal (reject H0)\n",
      "1.0%: 1.092, data does not look normal (reject H0)\n",
      "\n",
      "What is a Critical Value?\n",
      "A critical value is a threshold used to decide whether to reject the null hypothesis.\n",
      "For the Anderson-Darling test, if your test statistic is greater than the critical value,\n",
      "you reject the hypothesis that your data comes from a normal distribution.\n",
      "Critical values depend on your sample size and the chosen significance level.\n",
      "They are tabulated and provided by statistical software for each distribution being tested[1][2][5].\n",
      "\n",
      "Interpretation:\n",
      "Your test statistic is much larger than all critical values.\n",
      "This means your data is NOT normally distributed.\n",
      "Consider using robust statistical methods that do not assume normality.\n"
     ]
    }
   ],
   "source": [
    "#Check2: How Gaussian is the distribution of Sales Amount?\n",
    "\n",
    "from scipy.stats import anderson\n",
    "\n",
    "# Perform the Anderson-Darling test for normality\n",
    "result = anderson(df['SalesAmount'], dist='norm')\n",
    "\n",
    "print(\"Anderson-Darling Test for Normality:\")\n",
    "print(f\"Test Statistic: {result.statistic:.3f}\\n\")\n",
    "\n",
    "print(\"Critical Values and Interpretation:\")\n",
    "for i in range(len(result.critical_values)):\n",
    "    sl, cv = result.significance_level[i], result.critical_values[i]\n",
    "    if result.statistic < cv:\n",
    "        print(f\"{sl}%: {cv:.3f}, data looks normal (fail to reject H0)\")\n",
    "    else:\n",
    "        print(f\"{sl}%: {cv:.3f}, data does not look normal (reject H0)\")\n",
    "\n",
    "print(\"\\nWhat is a Critical Value?\")\n",
    "print(\"A critical value is a threshold used to decide whether to reject the null hypothesis.\")\n",
    "print(\"For the Anderson-Darling test, if your test statistic is greater than the critical value,\")\n",
    "print(\"you reject the hypothesis that your data comes from a normal distribution.\")\n",
    "print(\"Critical values depend on your sample size and the chosen significance level.\")\n",
    "print(\"They are tabulated and provided by statistical software for each distribution being tested[1][2][5].\")\n",
    "\n",
    "print(\"\\nInterpretation:\")\n",
    "print(\"Your test statistic is much larger than all critical values.\")\n",
    "print(\"This means your data is NOT normally distributed.\")\n",
    "print(\"Consider using robust statistical methods that do not assume normality.\")\n",
    "\n"
   ]
  },
  {
   "cell_type": "code",
   "execution_count": null,
   "id": "8b66e2c6",
   "metadata": {},
   "outputs": [
    {
     "name": "stdout",
     "output_type": "stream",
     "text": [
      "\n",
      "Outliers by IQR:\n",
      "SalesKey\n",
      "49         22366.05\n",
      "80         21462.50\n",
      "94         28875.00\n",
      "188        18009.60\n",
      "215        12737.25\n",
      "             ...   \n",
      "3405787    18240.00\n",
      "3405814    16367.40\n",
      "3405914    29835.00\n",
      "3406019    11888.10\n",
      "3406088    20310.75\n",
      "Name: SalesAmount, Length: 44046, dtype: float64\n"
     ]
    }
   ],
   "source": [
    "Q1 = df['SalesAmount'].quantile(0.25)\n",
    "Q3 = df['SalesAmount'].quantile(0.75)\n",
    "IQR = Q3 - Q1\n",
    "\n",
    "# Identify outliers (beyond 1.5*IQR from Q1/Q3)\n",
    "outliers_iqr = df[\n",
    "    (df['SalesAmount'] < Q1 - 1.5 * IQR) |\n",
    "    (df['SalesAmount'] > Q3 + 1.5 * IQR)\n",
    "]['SalesAmount']\n",
    "print(\"\\nOutliers by IQR:\")\n",
    "print(outliers_iqr)\n",
    "\n"
   ]
  },
  {
   "cell_type": "code",
   "execution_count": null,
   "id": "deff88d6",
   "metadata": {},
   "outputs": [
    {
     "data": {
      "image/png": "[encoded data removed]",
      "text/plain": [
       "<Figure size 640x480 with 1 Axes>"
      ]
     },
     "metadata": {},
     "output_type": "display_data"
    }
   ],
   "source": [
    "import matplotlib.pyplot as plt\n",
    "\n",
    "plt.boxplot(df['SalesAmount'])\n",
    "plt.title(\"Box Plot of SalesAmount\")\n",
    "plt.ylabel(\"SalesAmount\")\n",
    "plt.show()\n",
    "\n"
   ]
  },
  {
   "cell_type": "code",
   "execution_count": null,
   "id": "e4e071ad",
   "metadata": {},
   "outputs": [
    {
     "data": {
      "image/png": "[encoded data removed]",
      "text/plain": [
       "<Figure size 640x480 with 1 Axes>"
      ]
     },
     "metadata": {},
     "output_type": "display_data"
    },
    {
     "name": "stdout",
     "output_type": "stream",
     "text": [
      "Bin edges: [3.04000000e+00 1.36034727e+04 2.72039053e+04 4.08043380e+04\n",
      " 5.44047707e+04 6.80052033e+04 8.16056360e+04 9.52060687e+04\n",
      " 1.08806501e+05 1.22406934e+05 1.36007367e+05 1.49607799e+05\n",
      " 1.63208232e+05 1.76808665e+05 1.90409097e+05 2.04009530e+05\n",
      " 2.17609963e+05 2.31210395e+05 2.44810828e+05 2.58411261e+05\n",
      " 2.72011693e+05 2.85612126e+05 2.99212559e+05 3.12812991e+05\n",
      " 3.26413424e+05 3.40013857e+05 3.53614289e+05 3.67214722e+05\n",
      " 3.80815155e+05 3.94415587e+05 4.08016020e+05]\n",
      "Range of bin 1: (np.float64(3.04), np.float64(13603.472666666668))\n"
     ]
    }
   ],
   "source": [
    "import matplotlib.pyplot as plt\n",
    "\n",
    "# Get the bin edges\n",
    "counts, bin_edges, _ = plt.hist(df['SalesAmount'], bins=30)\n",
    "plt.title(\"Histogram of SalesAmount\")\n",
    "plt.xlabel(\"SalesAmount\")\n",
    "plt.ylabel(\"Frequency\")\n",
    "plt.show()\n",
    "\n",
    "# Print the bin edges and the range of bin 1\n",
    "print(\"Bin edges:\", bin_edges)\n",
    "print(\"Range of bin 1:\", (bin_edges[0], bin_edges[1]))\n"
   ]
  },
  {
   "cell_type": "code",
   "execution_count": null,
   "id": "2ee85f19",
   "metadata": {},
   "outputs": [
    {
     "name": "stdout",
     "output_type": "stream",
     "text": [
      "\n",
      "Summary statistics:\n",
      "count    681219.000000\n",
      "mean       3632.734566\n",
      "std        5302.053682\n",
      "min           3.040000\n",
      "25%         609.900000\n",
      "50%        2090.000000\n",
      "75%        4538.850000\n",
      "max      408016.020000\n",
      "Name: SalesAmount, dtype: float64\n"
     ]
    }
   ],
   "source": [
    "print(\"\\nSummary statistics:\")\n",
    "print(df['SalesAmount'].describe())\n"
   ]
  },
  {
   "cell_type": "code",
   "execution_count": null,
   "id": "0b354804",
   "metadata": {},
   "outputs": [
    {
     "name": "stdout",
     "output_type": "stream",
     "text": [
      "\n",
      "Outliers by quantile (1% and 99%):\n",
      "            DateKey  channelKey  StoreKey  ProductKey  PromotionKey  UnitCost  \\\n",
      "SalesKey                                                                        \n",
      "94       2009-09-01         1.0  0.612717    0.715093           0.0  3.475705   \n",
      "117      2007-03-21         0.0  0.560694   -1.020178           0.0 -0.573935   \n",
      "263      2007-12-03         1.0  0.618497    0.661017           0.0  3.040942   \n",
      "445      2007-08-23         1.0  0.618497    0.301049           1.0 -0.585408   \n",
      "496      2007-11-25         1.0 -0.005780    0.617433           0.0  1.030894   \n",
      "...             ...         ...       ...         ...           ...       ...   \n",
      "3405103  2007-06-25         1.0 -0.005780   -0.577078           1.0  5.078134   \n",
      "3405701  2007-02-12         0.0 -1.057803    0.946731           0.0 -0.585408   \n",
      "3405746  2007-06-09         3.0  0.624277   -0.615012           1.0  1.535393   \n",
      "3405904  2009-02-03         1.0 -0.005780   -0.279257           0.0 -0.619976   \n",
      "3405914  2007-12-16         3.0  0.624277   -0.586764           0.0  5.078134   \n",
      "\n",
      "          UnitPrice  SalesQuantity  ReturnQuantity  ReturnAmount  ...  \\\n",
      "SalesKey                                                          ...   \n",
      "94         4.844164             18             0.0          0.00  ...   \n",
      "117       -0.583588              4             0.0          0.00  ...   \n",
      "263        4.263926             52             0.0          0.00  ...   \n",
      "445       -0.593534              5             0.0          0.00  ...   \n",
      "496        1.581366             39             1.0        665.94  ...   \n",
      "...             ...            ...             ...           ...  ...   \n",
      "3405103    6.982759             30             0.0          0.00  ...   \n",
      "3405701   -0.593534              4             0.0          0.00  ...   \n",
      "3405746    2.254642             30             0.0          0.00  ...   \n",
      "3405904   -0.623508             36             0.0          0.00  ...   \n",
      "3405914    6.982759             13             1.0       2295.00  ...   \n",
      "\n",
      "          RegionCountryName_Spain  RegionCountryName_Sweden   \\\n",
      "SalesKey                                                       \n",
      "94                            0.0                        0.0   \n",
      "117                           0.0                        0.0   \n",
      "263                           0.0                        0.0   \n",
      "445                           0.0                        0.0   \n",
      "496                           0.0                        0.0   \n",
      "...                           ...                        ...   \n",
      "3405103                       0.0                        0.0   \n",
      "3405701                       0.0                        0.0   \n",
      "3405746                       0.0                        0.0   \n",
      "3405904                       0.0                        0.0   \n",
      "3405914                       0.0                        0.0   \n",
      "\n",
      "          RegionCountryName_Switzerland   RegionCountryName_Syria  \\\n",
      "SalesKey                                                            \n",
      "94                                   0.0                      0.0   \n",
      "117                                  0.0                      0.0   \n",
      "263                                  0.0                      0.0   \n",
      "445                                  0.0                      0.0   \n",
      "496                                  0.0                      0.0   \n",
      "...                                  ...                      ...   \n",
      "3405103                              0.0                      0.0   \n",
      "3405701                              0.0                      0.0   \n",
      "3405746                              0.0                      0.0   \n",
      "3405904                              0.0                      0.0   \n",
      "3405914                              0.0                      0.0   \n",
      "\n",
      "          RegionCountryName_Taiwan  RegionCountryName_Thailand  \\\n",
      "SalesKey                                                         \n",
      "94                             0.0                         0.0   \n",
      "117                            0.0                         0.0   \n",
      "263                            0.0                         0.0   \n",
      "445                            0.0                         0.0   \n",
      "496                            0.0                         0.0   \n",
      "...                            ...                         ...   \n",
      "3405103                        0.0                         0.0   \n",
      "3405701                        0.0                         0.0   \n",
      "3405746                        0.0                         0.0   \n",
      "3405904                        0.0                         0.0   \n",
      "3405914                        0.0                         0.0   \n",
      "\n",
      "          RegionCountryName_Turkmenistan  RegionCountryName_United Kingdom  \\\n",
      "SalesKey                                                                     \n",
      "94                                   0.0                               0.0   \n",
      "117                                  0.0                               0.0   \n",
      "263                                  0.0                               0.0   \n",
      "445                                  0.0                               0.0   \n",
      "496                                  0.0                               0.0   \n",
      "...                                  ...                               ...   \n",
      "3405103                              0.0                               0.0   \n",
      "3405701                              0.0                               0.0   \n",
      "3405746                              0.0                               0.0   \n",
      "3405904                              0.0                               0.0   \n",
      "3405914                              0.0                               0.0   \n",
      "\n",
      "          RegionCountryName_United States  RegionCountryName_the Netherlands  \n",
      "SalesKey                                                                      \n",
      "94                                    0.0                                0.0  \n",
      "117                                   0.0                                0.0  \n",
      "263                                   0.0                                0.0  \n",
      "445                                   0.0                                0.0  \n",
      "496                                   1.0                                0.0  \n",
      "...                                   ...                                ...  \n",
      "3405103                               1.0                                0.0  \n",
      "3405701                               1.0                                0.0  \n",
      "3405746                               1.0                                0.0  \n",
      "3405904                               1.0                                0.0  \n",
      "3405914                               1.0                                0.0  \n",
      "\n",
      "[13519 rows x 95 columns]\n"
     ]
    }
   ],
   "source": [
    "# Outliers as values outside 1% and 99% quantiles\n",
    "outliers_quantile = df[\n",
    "    (df['SalesAmount'] < df['SalesAmount'].quantile(0.01)) |\n",
    "    (df['SalesAmount'] > df['SalesAmount'].quantile(0.99))\n",
    "]\n",
    "print(\"\\nOutliers by quantile (1% and 99%):\")\n",
    "print(outliers_quantile)\n"
   ]
  },
  {
   "cell_type": "code",
   "execution_count": null,
   "id": "9cdae435",
   "metadata": {},
   "outputs": [
    {
     "name": "stdout",
     "output_type": "stream",
     "text": [
      "2474687808.4677005\n",
      "5302.053681814964\n",
      "13255.13420453741\n"
     ]
    }
   ],
   "source": [
    "#Boolean mask to remove outliers based on SalesAmount\n",
    "\n",
    "total_sales = df['SalesAmount'].sum()\n",
    "\n",
    "#Find the standard deviation of 'SalesAmount'\n",
    "std_sales = df['SalesAmount'].std()\n",
    "\n",
    "#Find 2.5 times the standard deviation\n",
    "threshold = 2.5 * std_sales\n",
    "\n",
    "#Create a boolean mask (True for values above threshold, False otherwise)\n",
    "boolean_mask = (df['SalesAmount']<=threshold)\n",
    "\n",
    "# Apply the boolean filtering\n",
    "df = df[boolean_mask].reset_index(drop=True)\n",
    "\n",
    "print(total_sales)\n",
    "print(std_sales)\n",
    "print(threshold)"
   ]
  },
  {
   "cell_type": "code",
   "execution_count": null,
   "id": "a2e47ee3",
   "metadata": {},
   "outputs": [
    {
     "data": {
      "text/plain": [
       "(652960, 95)"
      ]
     },
     "execution_count": 65,
     "metadata": {},
     "output_type": "execute_result"
    }
   ],
   "source": [
    "df.shape"
   ]
  }
 ],
 "metadata": {
  "kernelspec": {
   "display_name": "Python 3",
   "language": "python",
   "name": "python3"
  },
  "language_info": {
   "codemirror_mode": {
    "name": "ipython",
    "version": 3
   },
   "file_extension": ".py",
   "mimetype": "text/x-python",
   "name": "python",
   "nbconvert_exporter": "python",
   "pygments_lexer": "ipython3",
   "version": "3.12.1"
  }
 },
 "nbformat": 4,
 "nbformat_minor": 5
}
